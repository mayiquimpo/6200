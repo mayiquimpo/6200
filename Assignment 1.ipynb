{
 "cells": [
  {
   "cell_type": "markdown",
   "id": "3c7dd1c9-17d6-409a-91a9-e2be26f379ac",
   "metadata": {},
   "source": [
    "# Assignment 1"
   ]
  },
  {
   "cell_type": "markdown",
   "id": "b57c648c-d8e5-4ac8-a0b8-be7e4fac798d",
   "metadata": {},
   "source": [
    "Mathia Quimpo, Matthew Chin, Wanqiu Zhang"
   ]
  },
  {
   "cell_type": "markdown",
   "id": "4ec6d23a-c13b-4cf5-85a5-9d127a9bb086",
   "metadata": {},
   "source": [
    "## Exploration and Preprocessing"
   ]
  },
  {
   "cell_type": "code",
   "execution_count": 4,
   "id": "b00fc5b3",
   "metadata": {},
   "outputs": [],
   "source": [
    "import pandas as pd\n",
    "import numpy as np\n",
    "import re\n",
    "import os\n",
    "import requests\n",
    "import string\n",
    "import nltk\n",
    "from bs4 import BeautifulSoup\n",
    "from nltk.corpus import stopwords\n",
    "from nltk.tokenize import word_tokenize\n",
    "from nltk.stem import WordNetLemmatizer\n",
    "from vaderSentiment.vaderSentiment import SentimentIntensityAnalyzer\n",
    "from textblob import TextBlob\n",
    "import matplotlib.pyplot as plt"
   ]
  },
  {
   "cell_type": "code",
   "execution_count": 5,
   "id": "7e96cdc0",
   "metadata": {},
   "outputs": [
    {
     "name": "stderr",
     "output_type": "stream",
     "text": [
      "[nltk_data] Downloading package stopwords to\n",
      "[nltk_data]     C:\\Users\\matth\\AppData\\Roaming\\nltk_data...\n",
      "[nltk_data]   Package stopwords is already up-to-date!\n",
      "[nltk_data] Downloading package punkt to\n",
      "[nltk_data]     C:\\Users\\matth\\AppData\\Roaming\\nltk_data...\n",
      "[nltk_data]   Package punkt is already up-to-date!\n",
      "[nltk_data] Downloading package punkt_tab to\n",
      "[nltk_data]     C:\\Users\\matth\\AppData\\Roaming\\nltk_data...\n",
      "[nltk_data]   Package punkt_tab is already up-to-date!\n",
      "[nltk_data] Downloading package wordnet to\n",
      "[nltk_data]     C:\\Users\\matth\\AppData\\Roaming\\nltk_data...\n",
      "[nltk_data]   Package wordnet is already up-to-date!\n"
     ]
    },
    {
     "data": {
      "text/plain": [
       "True"
      ]
     },
     "execution_count": 5,
     "metadata": {},
     "output_type": "execute_result"
    }
   ],
   "source": [
    "# Download necessary resources\n",
    "nltk.download(\"stopwords\")\n",
    "nltk.download(\"punkt\")\n",
    "nltk.download(\"punkt_tab\")\n",
    "nltk.download(\"wordnet\")"
   ]
  },
  {
   "cell_type": "code",
   "execution_count": 6,
   "id": "0e314200",
   "metadata": {},
   "outputs": [
    {
     "name": "stdout",
     "output_type": "stream",
     "text": [
      "   Id   ProductId          UserId                      ProfileName  \\\n",
      "0   1  B001E4KFG0  A3SGXH7AUHU8GW                       delmartian   \n",
      "1   2  B00813GRG4  A1D87F6ZCVE5NK                           dll pa   \n",
      "2   3  B000LQOCH0   ABXLMWJIXXAIN  Natalia Corres \"Natalia Corres\"   \n",
      "3   4  B000UA0QIQ  A395BORC6FGVXV                             Karl   \n",
      "4   5  B006K2ZZ7K  A1UQRSCLF8GW1T    Michael D. Bigham \"M. Wassir\"   \n",
      "\n",
      "   HelpfulnessNumerator  HelpfulnessDenominator  Score        Time  \\\n",
      "0                     1                       1      5  1303862400   \n",
      "1                     0                       0      1  1346976000   \n",
      "2                     1                       1      4  1219017600   \n",
      "3                     3                       3      2  1307923200   \n",
      "4                     0                       0      5  1350777600   \n",
      "\n",
      "                 Summary                                               Text  \n",
      "0  Good Quality Dog Food  I have bought several of the Vitality canned d...  \n",
      "1      Not as Advertised  Product arrived labeled as Jumbo Salted Peanut...  \n",
      "2  \"Delight\" says it all  This is a confection that has been around a fe...  \n",
      "3         Cough Medicine  If you are looking for the secret ingredient i...  \n",
      "4            Great taffy  Great taffy at a great price.  There was a wid...  \n"
     ]
    }
   ],
   "source": [
    "# Load dataset\n",
    "df = pd.read_csv(r\"C:\\Users\\matth\\Desktop\\MSBA\\BSAN 6200\\Reviews.csv\")\n",
    "\n",
    "print(df.head())"
   ]
  },
  {
   "cell_type": "code",
   "execution_count": 7,
   "id": "07dd9dd4",
   "metadata": {},
   "outputs": [
    {
     "name": "stdout",
     "output_type": "stream",
     "text": [
      "Columns in the dataset:\n",
      " Index(['Id', 'ProductId', 'UserId', 'ProfileName', 'HelpfulnessNumerator',\n",
      "       'HelpfulnessDenominator', 'Score', 'Time', 'Summary', 'Text'],\n",
      "      dtype='object')\n"
     ]
    }
   ],
   "source": [
    "# Display column names\n",
    "print(\"Columns in the dataset:\\n\", df.columns)"
   ]
  },
  {
   "cell_type": "code",
   "execution_count": 8,
   "id": "00480cae",
   "metadata": {},
   "outputs": [
    {
     "name": "stdout",
     "output_type": "stream",
     "text": [
      "<class 'pandas.core.frame.DataFrame'>\n",
      "RangeIndex: 568454 entries, 0 to 568453\n",
      "Data columns (total 10 columns):\n",
      " #   Column                  Non-Null Count   Dtype \n",
      "---  ------                  --------------   ----- \n",
      " 0   Id                      568454 non-null  int64 \n",
      " 1   ProductId               568454 non-null  object\n",
      " 2   UserId                  568454 non-null  object\n",
      " 3   ProfileName             568428 non-null  object\n",
      " 4   HelpfulnessNumerator    568454 non-null  int64 \n",
      " 5   HelpfulnessDenominator  568454 non-null  int64 \n",
      " 6   Score                   568454 non-null  int64 \n",
      " 7   Time                    568454 non-null  int64 \n",
      " 8   Summary                 568427 non-null  object\n",
      " 9   Text                    568454 non-null  object\n",
      "dtypes: int64(5), object(5)\n",
      "memory usage: 43.4+ MB\n",
      "None\n",
      "                  Id  HelpfulnessNumerator  HelpfulnessDenominator  \\\n",
      "count  568454.000000         568454.000000            568454.00000   \n",
      "mean   284227.500000              1.743817                 2.22881   \n",
      "std    164098.679298              7.636513                 8.28974   \n",
      "min         1.000000              0.000000                 0.00000   \n",
      "25%    142114.250000              0.000000                 0.00000   \n",
      "50%    284227.500000              0.000000                 1.00000   \n",
      "75%    426340.750000              2.000000                 2.00000   \n",
      "max    568454.000000            866.000000               923.00000   \n",
      "\n",
      "               Score          Time  \n",
      "count  568454.000000  5.684540e+05  \n",
      "mean        4.183199  1.296257e+09  \n",
      "std         1.310436  4.804331e+07  \n",
      "min         1.000000  9.393408e+08  \n",
      "25%         4.000000  1.271290e+09  \n",
      "50%         5.000000  1.311120e+09  \n",
      "75%         5.000000  1.332720e+09  \n",
      "max         5.000000  1.351210e+09  \n",
      "Id                         0\n",
      "ProductId                  0\n",
      "UserId                     0\n",
      "ProfileName               26\n",
      "HelpfulnessNumerator       0\n",
      "HelpfulnessDenominator     0\n",
      "Score                      0\n",
      "Time                       0\n",
      "Summary                   27\n",
      "Text                       0\n",
      "dtype: int64\n"
     ]
    }
   ],
   "source": [
    "# Get general info\n",
    "print(df.info())\n",
    "\n",
    "# Descriptive statistics\n",
    "print(df.describe())\n",
    "\n",
    "# Check for missing values\n",
    "print(df.isnull().sum())"
   ]
  },
  {
   "cell_type": "code",
   "execution_count": 9,
   "id": "3606380b",
   "metadata": {},
   "outputs": [],
   "source": [
    "# Display the entire review text \n",
    "pd.set_option('display.max_colwidth', None)"
   ]
  },
  {
   "cell_type": "code",
   "execution_count": 10,
   "id": "6ad5af05",
   "metadata": {
    "scrolled": true
   },
   "outputs": [
    {
     "name": "stdout",
     "output_type": "stream",
     "text": [
      "count    568454.000000\n",
      "mean        436.222083\n",
      "std         445.339741\n",
      "min          12.000000\n",
      "25%         179.000000\n",
      "50%         302.000000\n",
      "75%         527.000000\n",
      "max       21409.000000\n",
      "Name: Text_Length, dtype: float64\n"
     ]
    }
   ],
   "source": [
    "# Add a new column for text length\n",
    "df[\"Text_Length\"] = df[\"Text\"].astype(str).apply(len)\n",
    "\n",
    "# Display descriptive statistics for text length\n",
    "print(df[\"Text_Length\"].describe())"
   ]
  },
  {
   "cell_type": "code",
   "execution_count": 11,
   "id": "244d7ad1",
   "metadata": {
    "scrolled": true
   },
   "outputs": [
    {
     "name": "stdout",
     "output_type": "stream",
     "text": [
      "300665                                                                                                                                                                                                                                                                                                                                                                                                                                                                                                                                                                                                        I have used this product before and found it to be the best product for jerk chicken. I could not find this product anywhere until my sister suggested I look on Amazon. There is nothing like it. It has a very unique taste.  I have tried other products out there and nothing compares to Busha Brownes Authentic Jerk Seasoning. I find myself wanting to go to jamaica and drink some rum and have jerk chicken.\n",
      "167485                                                                                                                                                                                                                                                                                                                                                                                                                                                                                                                                                                                                                                                                                                                                                                                                                                                                                                                               The product arrived a bit later than expected but it arrived in good shape and I love the taste\n",
      "313460                                                                                                                                                                                                                                                                                                                                                                                                                                                                                                                                                                                                      I never eat this stuff, usually but Walmart had them sitting right out there with a very attractive price tag, $1.24 each. Hmmm, microwavable and ready in a minute and the package screamed out go for it! So I bought 3 thinking I would like them and after all there was 6 grams of protein per serving, too.<br /><br />They are really good and they are homemade too, kinda. Will definitely try all the flavors.\n",
      "7589                                                                                                                                                                                                                                                                                                                                                                                                                                                                                                                                                                                                                                                                                                                It's all natural, no artificial color, no weird ingredients . . . but it also has no taste. The sauce is thin and runny and doesn't have much flavor. If you need a boxed dinner in a pinch, then by all means use a product with natural ingredients. But if you want good mac and cheese, stick with homemade.\n",
      "48968                                                                                                                                                                                                                                                                                                                                                                                                                                                                                                                                                                                                                                                                                                                                                                                                                                                              I've not actually used any other filter paper so I can't make a comparison to another brand. I use this in my Melitta One Cup Cone and it does the job just fine.\n",
      "146982                                                                                                                                                                                                                                                                                                                                                                                                                                                                                                                                                                                                                                                                                                                                                                                       I ordered pack of 4. I've been expected good coffee, but I was very disappointed.<br /><br />One of 4 cut its packing, and just messed coffee up in the box.<br /><br />I had to throw away one. Now, honestly, I don't want to try it.\n",
      "538997    I try to avoid artificial sweeteners, but I love Mountain Dew and Diet Mountain Dew. I've enjoyed Zevia Root Beer and Cola in the past (though only when poured into a glass - it is nasty straight from the can.)<br /><br />When I saw Mountain Zevia at the Sunflower Market I thought I would give it a try. Uhm, you know how Mountain Dew looks like anti-freeze? This looks more like pee. I can get past that, but it tastes like Airborne - you know the Vitamin/Cold treatment? I would say half orange/half lemon lime Airborne. Not the worst taste, but I don't take Airborne for the flavor, and when I take it I usually mix it with a small amount of water and drink it like a shot.<br /><br />I don't regret trying it, but I won't buy it again. Mountain Dew is incredibly artificial tasting, and I imagine that is hard to duplicate with only natural flavors. Thanks for trying Zevia!<br /><br />I don't recommend this flavor - but I do recommend the Cola and Ginger Root Beer. Those are yum\n",
      "296558                                                                                                                                                                                                                                                                                                                                                                                                                                                                                                                                                                                                            Timothy's World is your \"average, but nothing amazing\" company when it comes to K-Cup products.  This green tea is not much of a change.<br /><br />The flavor is there, but it tastes along the lines of your Bigelow and other cheaper greens.  I would definitely pick Gloria Jeans over this on my personal scale, but it's a nice change in pace if you constantly drink greens and want to add some variety.\n",
      "81877                                                                                                                                                                                                                                                                                                                                       Imagine doggie treat flavored underarm deodorant.... have to squeeze just a bit to get the roller wet, then turn upside down and let the dog lick it. Unique idea.  Would probably be useful as a training tool. Our dog definitely likes it.  I imagine this works best as a daily treat. I shudder to think what would happen if you let the roller dry out, dog ends up with a tounge rash trying to push the roller past the dried out spot... or worse, squeeze to hard and drip doggie treat juice all over!! I'm just saying...  :)<br /><br />All in all, worth a try for the dog that has everything or just needs a change of taste...<br /><br />All the best,<br /><br />Jay\n",
      "413831                                                                                                                                                                                                                                                                                                                                                                                                                                                                                                                                                                                                                                                                                                                                                                                                                                                                                                     For WW, this is great. Don't get me wrong, I still enjoy regular chips the best, but this is a close second. Great price!\n",
      "Name: Text, dtype: object\n"
     ]
    }
   ],
   "source": [
    "# Read a few random review samples\n",
    "print(df[\"Text\"].sample(10, random_state=45))"
   ]
  },
  {
   "cell_type": "code",
   "execution_count": 12,
   "id": "de6b5f1a",
   "metadata": {},
   "outputs": [],
   "source": [
    "# Initialize lemmatizer\n",
    "lemmatizer = WordNetLemmatizer()\n",
    "stop_words = set(stopwords.words(\"english\"))"
   ]
  },
  {
   "cell_type": "code",
   "execution_count": 13,
   "id": "a83a62dd",
   "metadata": {},
   "outputs": [],
   "source": [
    "# Text cleaning function\n",
    "def clean_text(text):\n",
    "    if not isinstance(text, str):\n",
    "        return \"\"  # Handle missing values\n",
    "    \n",
    "    # 1. Remove HTML tags using a regex pattern\n",
    "    text = re.sub(r\"<.*?>\", \"\", text)  # Remove HTML tags\n",
    "\n",
    "    # 2. Replace URLs with a placeholder \"URL\"\n",
    "    text = re.sub(r'http[s]?://\\S+', 'URL', text)\n",
    "\n",
    "    # 3. Convert to lowercase\n",
    "    text = text.lower()\n",
    "\n",
    "    # 4. Normalize whitespace (remove any leftover <br /> or extra spaces)\n",
    "    text = re.sub(r\"\\s+\", \" \", text).strip()\n",
    "\n",
    "    # 5. Remove special characters, numbers, and punctuation\n",
    "    text = re.sub(r\"[^a-z\\s]\", \"\", text)\n",
    "\n",
    "    # 6. Tokenize the text into words\n",
    "    words = word_tokenize(text)\n",
    "\n",
    "    # 7. Remove stopwords\n",
    "    words = [word for word in words if word not in stop_words]\n",
    "    \n",
    "    # 8. Lemmatize the tokens\n",
    "    cleaned_text = [lemmatizer.lemmatize(word) for word in words]\n",
    "\n",
    "    # 9. Replace multiple spaces with a single space\n",
    "    cleaned_text = \" \".join(cleaned_text)\n",
    "    cleaned_text = re.sub(r'\\s+', ' ', cleaned_text).strip()\n",
    "\n",
    "    return cleaned_text"
   ]
  },
  {
   "cell_type": "code",
   "execution_count": 14,
   "id": "33dba9d0-56cd-4dde-b74b-4646814cc44a",
   "metadata": {},
   "outputs": [],
   "source": [
    "# Select 100 random rows\n",
    "random_sample = df.sample(100)"
   ]
  },
  {
   "cell_type": "code",
   "execution_count": 15,
   "id": "67025b8f",
   "metadata": {
    "scrolled": true
   },
   "outputs": [],
   "source": [
    "# Apply the updated cleaning function to the Text column\n",
    "random_sample[\"Cleaned_Text\"] = random_sample[\"Text\"].apply(clean_text)"
   ]
  },
  {
   "cell_type": "code",
   "execution_count": 16,
   "id": "dd87b560",
   "metadata": {
    "scrolled": true
   },
   "outputs": [
    {
     "name": "stdout",
     "output_type": "stream",
     "text": [
      "                                                                                                                                                                                                                                                                                                                                                                                                                                 Text  \\\n",
      "40441                                                                                                                                                                                                                                                                                     I was very excited to receive this tea but was disappointed by the blossoms.  Don't buy this large size if you have never tried this brand.   \n",
      "42809                                                                                                                                                                   This organic chocolate is absolutely delicious...so smooth and creamy.  There is a rich, deep chocolate taste and excellent texture...not waxey or grainy at all, with just the right amount of sweetness.  Chocoholics...this is the one for you.  Fabulous!   \n",
      "43515   This flavor is the best of the bunch by far.  I am reluctantly on a diet that allows for a few almonds as a snack.  I tried these and I was hooked.  Unfortunately, most stores do not carry this flavor.  My first case went very quickly, as every co-worker who tried them wanted a can of their own.  I recommend them to anyone, not only those of us trying to stick to a diet that deprives us of less healthy snacks.   \n",
      "456047                                         My son has life threatening allergies to milk, eggs, and peanuts. He also cannot eat wheat. These cookies are great for snacks and he really enjoys them. I don't have allergies, and I think these have a bit of a grainy texture, but they aren't bad. Perfect for kids with allergies, especially since they look similar to the teddy or animal snacks kids without allergies eat.   \n",
      "97762                                                                                                                        I saw these in a local grocery and picked them up because I thought they were cute.  Once I tried them I had to share them with everyone!  They aren't too sweet but will hit the spot if that's what you're craving.  Every time I send a care package to my sister, I make sure to pack some of these!   \n",
      "\n",
      "                                                                                                                                                                                                                                    Cleaned_Text  \n",
      "40441                                                                                                                                                             excited receive tea disappointed blossom dont buy large size never tried brand  \n",
      "42809                                                                     organic chocolate absolutely deliciousso smooth creamy rich deep chocolate taste excellent texturenot waxey grainy right amount sweetness chocoholicsthis one fabulous  \n",
      "43515            flavor best bunch far reluctantly diet allows almond snack tried hooked unfortunately store carry flavor first case went quickly every coworker tried wanted recommend anyone u trying stick diet deprives u less healthy snack  \n",
      "456047  son life threatening allergy milk egg peanut also eat wheat cooky great snack really enjoys dont allergy think bit grainy texture arent bad perfect kid allergy especially since look similar teddy animal snack kid without allergy eat  \n",
      "97762                                                                                     saw local grocery picked thought cute tried share everyone arent sweet hit spot thats youre craving every time send care package sister make sure pack  \n"
     ]
    }
   ],
   "source": [
    "# Spot-checking\n",
    "spotcheck_sample = random_sample[[\"Text\", \"Cleaned_Text\"]].sample(5, random_state=45)\n",
    "print(spotcheck_sample)"
   ]
  },
  {
   "cell_type": "markdown",
   "id": "7fb14eb0-b67c-4a46-a83f-c567d7f50a7a",
   "metadata": {},
   "source": [
    "## VADER"
   ]
  },
  {
   "cell_type": "code",
   "execution_count": 18,
   "id": "35cc4ff2",
   "metadata": {},
   "outputs": [],
   "source": [
    "# Initialize VADER Sentiment Analyzer\n",
    "analyzer = SentimentIntensityAnalyzer()"
   ]
  },
  {
   "cell_type": "code",
   "execution_count": 19,
   "id": "e936246b",
   "metadata": {},
   "outputs": [],
   "source": [
    "# Add negative words or phrases\n",
    "custom_lexicon = {\n",
    "    \"meh\": -0.5,\n",
    "    \"could be better\": -0.3,\n",
    "    \"not great\": -0.6,\n",
    "    \"disappointed\": -0.8,\n",
    "    \"not happy\": -0.7,\n",
    "    \"good product\": 0.6,\n",
    "    \"love it\": 0.8,\n",
    "    \"great taste\": 0.7,\n",
    "    \"highly recommend\": 0.9,\n",
    "    \"would buy again\": 0.7,\n",
    "    \"favorite\": 0.8,\n",
    "    \"best product\": 0.9,\n",
    "    \"delicious\": 0.8,\n",
    "    \"wonderful\": 0.75,\n",
    "    \"impressed\": 0.7,\n",
    "    \"good quality\": 0.7,\n",
    "    \"pleasantly surprised\": 0.6,\n",
    "    \"better than expected\": 0.7,\n",
    "    \"amazing\": 0.9,\n",
    "    \"perfect\": 1.0,\n",
    "    \"satisfied\": 0.6,\n",
    "    \"tasty\": 0.7,\n",
    "    \"excited to try\": 0.7,\n",
    "    \"nice texture\": 0.6,\n",
    "    \"will buy again\": 0.7\n",
    "}\n",
    "\n",
    "# Extend the lexicon\n",
    "analyzer.lexicon.update(custom_lexicon)"
   ]
  },
  {
   "cell_type": "code",
   "execution_count": 20,
   "id": "dff934f6-2ab3-49b6-9f69-15b8ba2e190a",
   "metadata": {},
   "outputs": [],
   "source": [
    "# Tokenize the Cleaned_Text once and store it in a new column 'Tokens'\n",
    "random_sample['Tokens'] = random_sample['Cleaned_Text'].apply(word_tokenize)"
   ]
  },
  {
   "cell_type": "code",
   "execution_count": 21,
   "id": "4afabd5e",
   "metadata": {},
   "outputs": [
    {
     "name": "stdout",
     "output_type": "stream",
     "text": [
      "                                                                                                                                                                                                                                                                                                                                                                                                                                                                                                                                                                                                                                                                                                                                                                                                                                                                                                                                                                                                                                                                                                                                                                                                                                                                                                                                                                                                                                                                                                                                                                                                                                                                                                 Text  \\\n",
      "40441                                                                                                                                                                                                                                                                                                                                                                                                                                                                                                                                                                                                                                                                                                                                                                                                                                                                                                                                                                                                                                                                                                                                                                                                                                                                                                                                                                                                                                                                                                                                                     I was very excited to receive this tea but was disappointed by the blossoms.  Don't buy this large size if you have never tried this brand.   \n",
      "42809                                                                                                                                                                                                                                                                                                                                                                                                                                                                                                                                                                                                                                                                                                                                                                                                                                                                                                                                                                                                                                                                                                                                                                                                                                                                                                                                                                                                                                   This organic chocolate is absolutely delicious...so smooth and creamy.  There is a rich, deep chocolate taste and excellent texture...not waxey or grainy at all, with just the right amount of sweetness.  Chocoholics...this is the one for you.  Fabulous!   \n",
      "401512  The Clif Kids Twisted Fruit rope is a great product.  It can replace those nasty \"fruit flavored\" roll ups and \"fruit snacks\" that are made primarily of corn syrup and artificial color and usually no fruit at all.  The twisted fruit rope is made out of actual furit, and even provides one serving per rope.  The ingredients are simple: apple puree, apple juice concentrate (makes it sweet), flavors, pectin, and fruit and vegetable colorings.  None of the chemicals from those bright \"fruit flavored\" concoctions, and everything is organic!<br /><br />The taste is great, too.  It's a bit tart, but with a nice berry flavor.  The texture is chewy, and it looks, tastes, and feels like a big Twizzler.  The ropes are packaged individually to throw in lunch boxes or backpacks, but I found myself reaching for at least 2 at a time.<br /><br />There are a couple of things I didn't like.  The strips are a little sticky;  it helps if you hold them by the wrapper instead of taking them out.  The sugar is also still fairly high.  There are 9 grams of sugar, a whopping 45% out of each 20 gram rope.  It's not added refined sugar, but the sugar comes from apple juice concentrate, which is much sweeter than natural apple juice.  Combine that with the sticky nature of the product and it's probably a good idea to have your kids rinse their teeth after eating one.<br /><br />Those drawbacks aside, these snacks remain far superior to candy or those gooey little \"fruit snacks\" as a tasty treat for kids (or adults!).  Keep in mind actual fruit is always a better choice, but if you need something portable, these are a great option.   \n",
      "384274                                                                                                                                                                                                                                                                                                                                                                                                                                                                                                                                                                                                                                                                                                                                                                                                                                                                            I have bought hot pepper oil in Italy and brought it home. That oil had great flavor as well as heat and was ridiculously expensive (about 3 euros for 1oz). This oil unfortunately has very little flavor and is mostly heat. Furthermore it does not taste fresh at all. It has that stale, old, olive oil taste. Possible that it was not stored properly It also has a bit of a chemical taste as well that I think is coming from the rubber seal on the stopper.<br /><br />I will not be using the oil on pizzas or other food because the staleness of the flavor will be too pronounced. I plan on mostly using this to mix with dipping spices and balsamic to dip bread with as that will mask the stale flavor. All in all, It's not awful but I'm pretty disappointed because I had high hopes for it.   \n",
      "456502                                                                                                                                                                                                                                                                                                                                                                                                                                                                                                                                                                                                                                                                                                                                                                                                                                                                                                                                                                                                                                                                                                                                                                                                                                                                                                                                                                                                                                                                                             not much to say except that this taste's the same as the Campbell's Tomato that I remember as a kid...mixed with skim milk it comes out thick and tasty...a GREAT treat on a cold winter's day..!!   \n",
      "\n",
      "                                                                                                                                                                                                                                                                                                                                                                                                                                                                                                                                                                                                                                                                                                                                                                                                                                                                                                                                                                                                                                                                               Cleaned_Text  \\\n",
      "40441                                                                                                                                                                                                                                                                                                                                                                                                                                                                                                                                                                                                                                                                                                                                                                                                                                                                                                                                                                                                        excited receive tea disappointed blossom dont buy large size never tried brand   \n",
      "42809                                                                                                                                                                                                                                                                                                                                                                                                                                                                                                                                                                                                                                                                                                                                                                                                                                                                                                                organic chocolate absolutely deliciousso smooth creamy rich deep chocolate taste excellent texturenot waxey grainy right amount sweetness chocoholicsthis one fabulous   \n",
      "401512  clif kid twisted fruit rope great product replace nasty fruit flavored roll ups fruit snack made primarily corn syrup artificial color usually fruit twisted fruit rope made actual furit even provides one serving per rope ingredient simple apple puree apple juice concentrate make sweet flavor pectin fruit vegetable coloring none chemical bright fruit flavored concoction everything organicthe taste great bit tart nice berry flavor texture chewy look taste feel like big twizzler rope packaged individually throw lunch box backpack found reaching least timethere couple thing didnt like strip little sticky help hold wrapper instead taking sugar also still fairly high gram sugar whopping gram rope added refined sugar sugar come apple juice concentrate much sweeter natural apple juice combine sticky nature product probably good idea kid rinse teeth eating onethose drawback aside snack remain far superior candy gooey little fruit snack tasty treat kid adult keep mind actual fruit always better choice need something portable great option   \n",
      "384274                                                                                                                                                                                                                                                                                                                                                                                                                                                                                                                                                                                                                            bought hot pepper oil italy brought home oil great flavor well heat ridiculously expensive euro oz oil unfortunately little flavor mostly heat furthermore taste fresh stale old olive oil taste possible stored properly also bit chemical taste well think coming rubber seal stopperi using oil pizza food staleness flavor pronounced plan mostly using mix dipping spice balsamic dip bread mask stale flavor awful im pretty disappointed high hope   \n",
      "456502                                                                                                                                                                                                                                                                                                                                                                                                                                                                                                                                                                                                                                                                                                                                                                                                                                                                                                                                                                      much say except taste campbell tomato remember kidmixed skim milk come thick tastya great treat cold winter day   \n",
      "\n",
      "                                                                                                                                                                                                                                                                                                                                                                                                                                                                                                                                                                                                                                                                                                                                                                                                         Tokens  \\\n",
      "40441                                                                                                                                                                                                                                                                                                                                                                                                                                                                                                                                                                                                                                                                                                               [excited, receive, tea, disappointed, blossom, dont, buy, large, size, never, tried, brand]   \n",
      "42809                                                                                                                                                                                                                                                                                                                                                                                                                                                                                                                                                                                                               [organic, chocolate, absolutely, deliciousso, smooth, creamy, rich, deep, chocolate, taste, excellent, texturenot, waxey, grainy, right, amount, sweetness, chocoholicsthis, one, fabulous]   \n",
      "401512  [clif, kid, twisted, fruit, rope, great, product, replace, nasty, fruit, flavored, roll, ups, fruit, snack, made, primarily, corn, syrup, artificial, color, usually, fruit, twisted, fruit, rope, made, actual, furit, even, provides, one, serving, per, rope, ingredient, simple, apple, puree, apple, juice, concentrate, make, sweet, flavor, pectin, fruit, vegetable, coloring, none, chemical, bright, fruit, flavored, concoction, everything, organicthe, taste, great, bit, tart, nice, berry, flavor, texture, chewy, look, taste, feel, like, big, twizzler, rope, packaged, individually, throw, lunch, box, backpack, found, reaching, least, timethere, couple, thing, didnt, like, strip, little, sticky, help, hold, wrapper, instead, taking, sugar, also, still, fairly, high, ...]   \n",
      "384274                                                                                                                                                                                                                                                                           [bought, hot, pepper, oil, italy, brought, home, oil, great, flavor, well, heat, ridiculously, expensive, euro, oz, oil, unfortunately, little, flavor, mostly, heat, furthermore, taste, fresh, stale, old, olive, oil, taste, possible, stored, properly, also, bit, chemical, taste, well, think, coming, rubber, seal, stopperi, using, oil, pizza, food, staleness, flavor, pronounced, plan, mostly, using, mix, dipping, spice, balsamic, dip, bread, mask, stale, flavor, awful, im, pretty, disappointed, high, hope]   \n",
      "456502                                                                                                                                                                                                                                                                                                                                                                                                                                                                                                                                                                                                                                                                       [much, say, except, taste, campbell, tomato, remember, kidmixed, skim, milk, come, thick, tastya, great, treat, cold, winter, day]   \n",
      "\n",
      "        Word_Count  Unique_Word_Count  Avg_Word_Length  Sentiment_Score  \n",
      "40441         12.0               12.0         5.583333           0.1531  \n",
      "42809         20.0               19.0         7.350000           0.9313  \n",
      "401512       157.0              119.0         5.649682           0.9844  \n",
      "384274        68.0               54.0         5.500000           0.7964  \n",
      "456502        18.0               18.0         5.222222           0.7783  \n"
     ]
    }
   ],
   "source": [
    "# Apply Feature Engineering on the pre-tokenized text\n",
    "def extract_features_from_tokens(tokens):\n",
    "    word_count = len(tokens)\n",
    "    unique_word_count = len(set(tokens))\n",
    "    avg_word_length = sum(len(word) for word in tokens) / word_count if word_count else 0\n",
    "\n",
    "    # Sentiment analysis with VADER\n",
    "    sentiment = analyzer.polarity_scores(\" \".join(tokens))  # VADER expects a string, not tokens\n",
    "\n",
    "    return [word_count, unique_word_count, avg_word_length, sentiment['compound']]\n",
    "\n",
    "# Now apply the feature extraction on the 'Tokens' column (pre-tokenized)\n",
    "random_sample[['Word_Count', 'Unique_Word_Count', 'Avg_Word_Length', 'Sentiment_Score']] = random_sample['Tokens'].apply(\n",
    "    lambda x: pd.Series(extract_features_from_tokens(x)))\n",
    "\n",
    "# Spot-check the results\n",
    "print(random_sample[['Text', 'Cleaned_Text', 'Tokens', 'Word_Count', 'Unique_Word_Count', 'Avg_Word_Length', 'Sentiment_Score']].head())\n"
   ]
  },
  {
   "cell_type": "code",
   "execution_count": 22,
   "id": "afb58b37",
   "metadata": {
    "scrolled": true
   },
   "outputs": [
    {
     "name": "stdout",
     "output_type": "stream",
     "text": [
      "                                                                                                                                                                                                                                                                                                                                                                                                                                                                                                                                                                                                                                                                                                                                                                                                                                                                                                                                                                                                                                                                               Cleaned_Text  \\\n",
      "40441                                                                                                                                                                                                                                                                                                                                                                                                                                                                                                                                                                                                                                                                                                                                                                                                                                                                                                                                                                                                        excited receive tea disappointed blossom dont buy large size never tried brand   \n",
      "42809                                                                                                                                                                                                                                                                                                                                                                                                                                                                                                                                                                                                                                                                                                                                                                                                                                                                                                                organic chocolate absolutely deliciousso smooth creamy rich deep chocolate taste excellent texturenot waxey grainy right amount sweetness chocoholicsthis one fabulous   \n",
      "401512  clif kid twisted fruit rope great product replace nasty fruit flavored roll ups fruit snack made primarily corn syrup artificial color usually fruit twisted fruit rope made actual furit even provides one serving per rope ingredient simple apple puree apple juice concentrate make sweet flavor pectin fruit vegetable coloring none chemical bright fruit flavored concoction everything organicthe taste great bit tart nice berry flavor texture chewy look taste feel like big twizzler rope packaged individually throw lunch box backpack found reaching least timethere couple thing didnt like strip little sticky help hold wrapper instead taking sugar also still fairly high gram sugar whopping gram rope added refined sugar sugar come apple juice concentrate much sweeter natural apple juice combine sticky nature product probably good idea kid rinse teeth eating onethose drawback aside snack remain far superior candy gooey little fruit snack tasty treat kid adult keep mind actual fruit always better choice need something portable great option   \n",
      "384274                                                                                                                                                                                                                                                                                                                                                                                                                                                                                                                                                                                                                            bought hot pepper oil italy brought home oil great flavor well heat ridiculously expensive euro oz oil unfortunately little flavor mostly heat furthermore taste fresh stale old olive oil taste possible stored properly also bit chemical taste well think coming rubber seal stopperi using oil pizza food staleness flavor pronounced plan mostly using mix dipping spice balsamic dip bread mask stale flavor awful im pretty disappointed high hope   \n",
      "456502                                                                                                                                                                                                                                                                                                                                                                                                                                                                                                                                                                                                                                                                                                                                                                                                                                                                                                                                                                      much say except taste campbell tomato remember kidmixed skim milk come thick tastya great treat cold winter day   \n",
      "\n",
      "        Sentiment_Score Sentiment_Label  \n",
      "40441            0.1531        Positive  \n",
      "42809            0.9313        Positive  \n",
      "401512           0.9844        Positive  \n",
      "384274           0.7964        Positive  \n",
      "456502           0.7783        Positive  \n"
     ]
    }
   ],
   "source": [
    "def classify_sentiment(sentiment_score):\n",
    "    if sentiment_score > 0.1:\n",
    "        return \"Positive\"\n",
    "    elif sentiment_score < -0.1:\n",
    "        return \"Negative\"\n",
    "    else:\n",
    "        return \"Neutral\"\n",
    "\n",
    "# Apply sentiment classification based on VADER sentiment score\n",
    "random_sample['Sentiment_Label'] = random_sample['Sentiment_Score'].apply(classify_sentiment)\n",
    "\n",
    "# Show some of the classified sentiments\n",
    "print(random_sample[['Cleaned_Text', 'Sentiment_Score', 'Sentiment_Label']].head())"
   ]
  },
  {
   "cell_type": "code",
   "execution_count": 23,
   "id": "71ca08b8",
   "metadata": {},
   "outputs": [],
   "source": [
    "# Extract sentiment predictions from VADER\n",
    "random_sample['VADER_Sentiment'] = random_sample['Sentiment_Score'].apply(\n",
    "    lambda score: 'Positive' if score > 0 else 'Negative' if score < 0 else 'Neutral'\n",
    ")"
   ]
  },
  {
   "cell_type": "code",
   "execution_count": 24,
   "id": "d0613884",
   "metadata": {},
   "outputs": [
    {
     "name": "stdout",
     "output_type": "stream",
     "text": [
      "                                                                                                                                                                                                                                                                                                                                                                                                                                 Text  \\\n",
      "40441                                                                                                                                                                                                                                                                                     I was very excited to receive this tea but was disappointed by the blossoms.  Don't buy this large size if you have never tried this brand.   \n",
      "42809                                                                                                                                                                   This organic chocolate is absolutely delicious...so smooth and creamy.  There is a rich, deep chocolate taste and excellent texture...not waxey or grainy at all, with just the right amount of sweetness.  Chocoholics...this is the one for you.  Fabulous!   \n",
      "43515   This flavor is the best of the bunch by far.  I am reluctantly on a diet that allows for a few almonds as a snack.  I tried these and I was hooked.  Unfortunately, most stores do not carry this flavor.  My first case went very quickly, as every co-worker who tried them wanted a can of their own.  I recommend them to anyone, not only those of us trying to stick to a diet that deprives us of less healthy snacks.   \n",
      "456047                                         My son has life threatening allergies to milk, eggs, and peanuts. He also cannot eat wheat. These cookies are great for snacks and he really enjoys them. I don't have allergies, and I think these have a bit of a grainy texture, but they aren't bad. Perfect for kids with allergies, especially since they look similar to the teddy or animal snacks kids without allergies eat.   \n",
      "97762                                                                                                                        I saw these in a local grocery and picked them up because I thought they were cute.  Once I tried them I had to share them with everyone!  They aren't too sweet but will hit the spot if that's what you're craving.  Every time I send a care package to my sister, I make sure to pack some of these!   \n",
      "\n",
      "       VADER_Sentiment  \n",
      "40441         Positive  \n",
      "42809         Positive  \n",
      "43515         Positive  \n",
      "456047        Positive  \n",
      "97762         Positive  \n"
     ]
    }
   ],
   "source": [
    "# Spot-check several examples\n",
    "spotcheck_sample = random_sample[['Text', 'VADER_Sentiment']].sample(5, random_state=45)\n",
    "\n",
    "print(spotcheck_sample)"
   ]
  },
  {
   "cell_type": "code",
   "execution_count": 25,
   "id": "1762082e",
   "metadata": {
    "scrolled": true
   },
   "outputs": [
    {
     "name": "stdout",
     "output_type": "stream",
     "text": [
      "Review Text: I was very excited to receive this tea but was disappointed by the blossoms.  Don't buy this large size if you have never tried this brand.\n",
      "VADER Sentiment: Positive\n",
      "--------------------------------------------------\n",
      "Review Text: This organic chocolate is absolutely delicious...so smooth and creamy.  There is a rich, deep chocolate taste and excellent texture...not waxey or grainy at all, with just the right amount of sweetness.  Chocoholics...this is the one for you.  Fabulous!\n",
      "VADER Sentiment: Positive\n",
      "--------------------------------------------------\n",
      "Review Text: This flavor is the best of the bunch by far.  I am reluctantly on a diet that allows for a few almonds as a snack.  I tried these and I was hooked.  Unfortunately, most stores do not carry this flavor.  My first case went very quickly, as every co-worker who tried them wanted a can of their own.  I recommend them to anyone, not only those of us trying to stick to a diet that deprives us of less healthy snacks.\n",
      "VADER Sentiment: Positive\n",
      "--------------------------------------------------\n",
      "Review Text: My son has life threatening allergies to milk, eggs, and peanuts. He also cannot eat wheat. These cookies are great for snacks and he really enjoys them. I don't have allergies, and I think these have a bit of a grainy texture, but they aren't bad. Perfect for kids with allergies, especially since they look similar to the teddy or animal snacks kids without allergies eat.\n",
      "VADER Sentiment: Positive\n",
      "--------------------------------------------------\n",
      "Review Text: I saw these in a local grocery and picked them up because I thought they were cute.  Once I tried them I had to share them with everyone!  They aren't too sweet but will hit the spot if that's what you're craving.  Every time I send a care package to my sister, I make sure to pack some of these!\n",
      "VADER Sentiment: Positive\n",
      "--------------------------------------------------\n"
     ]
    }
   ],
   "source": [
    "# To manually review the sentiment, you can check the first few examples\n",
    "for idx, row in spotcheck_sample.iterrows():\n",
    "    print(f\"Review Text: {row['Text']}\")\n",
    "    print(f\"VADER Sentiment: {row['VADER_Sentiment']}\")\n",
    "    print(\"-\" * 50)"
   ]
  },
  {
   "cell_type": "markdown",
   "id": "8fe8007e-80ac-48dc-8c6d-a2a753d144d7",
   "metadata": {},
   "source": [
    "## TextBlob"
   ]
  },
  {
   "cell_type": "code",
   "execution_count": 27,
   "id": "14af215f-1f19-46da-99ab-6b66c6b9a481",
   "metadata": {
    "scrolled": true
   },
   "outputs": [
    {
     "data": {
      "text/html": [
       "<div>\n",
       "<style scoped>\n",
       "    .dataframe tbody tr th:only-of-type {\n",
       "        vertical-align: middle;\n",
       "    }\n",
       "\n",
       "    .dataframe tbody tr th {\n",
       "        vertical-align: top;\n",
       "    }\n",
       "\n",
       "    .dataframe thead th {\n",
       "        text-align: right;\n",
       "    }\n",
       "</style>\n",
       "<table border=\"1\" class=\"dataframe\">\n",
       "  <thead>\n",
       "    <tr style=\"text-align: right;\">\n",
       "      <th></th>\n",
       "      <th>Id</th>\n",
       "      <th>ProductId</th>\n",
       "      <th>UserId</th>\n",
       "      <th>ProfileName</th>\n",
       "      <th>HelpfulnessNumerator</th>\n",
       "      <th>HelpfulnessDenominator</th>\n",
       "      <th>Score</th>\n",
       "      <th>Time</th>\n",
       "      <th>Summary</th>\n",
       "      <th>Text</th>\n",
       "      <th>...</th>\n",
       "      <th>Tokens</th>\n",
       "      <th>Word_Count</th>\n",
       "      <th>Unique_Word_Count</th>\n",
       "      <th>Avg_Word_Length</th>\n",
       "      <th>Sentiment_Score</th>\n",
       "      <th>Sentiment_Label</th>\n",
       "      <th>VADER_Sentiment</th>\n",
       "      <th>TextBlob_Polarity</th>\n",
       "      <th>TextBlob_Subjectivity</th>\n",
       "      <th>TextBlob_Sentiment</th>\n",
       "    </tr>\n",
       "  </thead>\n",
       "  <tbody>\n",
       "    <tr>\n",
       "      <th>40441</th>\n",
       "      <td>40442</td>\n",
       "      <td>B000FFS0CA</td>\n",
       "      <td>A1M5D0DG09UGVM</td>\n",
       "      <td>Bonne Maman</td>\n",
       "      <td>1</td>\n",
       "      <td>2</td>\n",
       "      <td>2</td>\n",
       "      <td>1185494400</td>\n",
       "      <td>Not Pretty</td>\n",
       "      <td>I was very excited to receive this tea but was disappointed by the blossoms.  Don't buy this large size if you have never tried this brand.</td>\n",
       "      <td>...</td>\n",
       "      <td>[excited, receive, tea, disappointed, blossom, dont, buy, large, size, never, tried, brand]</td>\n",
       "      <td>12.0</td>\n",
       "      <td>12.0</td>\n",
       "      <td>5.583333</td>\n",
       "      <td>0.1531</td>\n",
       "      <td>Positive</td>\n",
       "      <td>Positive</td>\n",
       "      <td>-0.053571</td>\n",
       "      <td>0.642857</td>\n",
       "      <td>Negative</td>\n",
       "    </tr>\n",
       "    <tr>\n",
       "      <th>42809</th>\n",
       "      <td>42810</td>\n",
       "      <td>B002NHYQAS</td>\n",
       "      <td>A3SFLH7RUH873G</td>\n",
       "      <td>Amazon Fan \"AF\"</td>\n",
       "      <td>0</td>\n",
       "      <td>0</td>\n",
       "      <td>5</td>\n",
       "      <td>1298419200</td>\n",
       "      <td>Delicious, Smooth Chocolate!</td>\n",
       "      <td>This organic chocolate is absolutely delicious...so smooth and creamy.  There is a rich, deep chocolate taste and excellent texture...not waxey or grainy at all, with just the right amount of sweetness.  Chocoholics...this is the one for you.  Fabulous!</td>\n",
       "      <td>...</td>\n",
       "      <td>[organic, chocolate, absolutely, deliciousso, smooth, creamy, rich, deep, chocolate, taste, excellent, texturenot, waxey, grainy, right, amount, sweetness, chocoholicsthis, one, fabulous]</td>\n",
       "      <td>20.0</td>\n",
       "      <td>19.0</td>\n",
       "      <td>7.350000</td>\n",
       "      <td>0.9313</td>\n",
       "      <td>Positive</td>\n",
       "      <td>Positive</td>\n",
       "      <td>0.380102</td>\n",
       "      <td>0.726531</td>\n",
       "      <td>Positive</td>\n",
       "    </tr>\n",
       "    <tr>\n",
       "      <th>401512</th>\n",
       "      <td>401513</td>\n",
       "      <td>B000Q611U6</td>\n",
       "      <td>A3KZCNV1N8R9GC</td>\n",
       "      <td>diljs</td>\n",
       "      <td>0</td>\n",
       "      <td>0</td>\n",
       "      <td>4</td>\n",
       "      <td>1222646400</td>\n",
       "      <td>Like a Tasty Organic Twizzler, way better than other so called \"Fruit Snacks\"</td>\n",
       "      <td>The Clif Kids Twisted Fruit rope is a great product.  It can replace those nasty \"fruit flavored\" roll ups and \"fruit snacks\" that are made primarily of corn syrup and artificial color and usually no fruit at all.  The twisted fruit rope is made out of actual furit, and even provides one serving per rope.  The ingredients are simple: apple puree, apple juice concentrate (makes it sweet), flavors, pectin, and fruit and vegetable colorings.  None of the chemicals from those bright \"fruit flavored\" concoctions, and everything is organic!&lt;br /&gt;&lt;br /&gt;The taste is great, too.  It's a bit tart, but with a nice berry flavor.  The texture is chewy, and it looks, tastes, and feels like a big Twizzler.  The ropes are packaged individually to throw in lunch boxes or backpacks, but I found myself reaching for at least 2 at a time.&lt;br /&gt;&lt;br /&gt;There are a couple of things I didn't like.  The strips are a little sticky;  it helps if you hold them by the wrapper instead of taking them out.  The sugar is also still fairly high.  There are 9 grams of sugar, a whopping 45% out of each 20 gram rope.  It's not added refined sugar, but the sugar comes from apple juice concentrate, which is much sweeter than natural apple juice.  Combine that with the sticky nature of the product and it's probably a good idea to have your kids rinse their teeth after eating one.&lt;br /&gt;&lt;br /&gt;Those drawbacks aside, these snacks remain far superior to candy or those gooey little \"fruit snacks\" as a tasty treat for kids (or adults!).  Keep in mind actual fruit is always a better choice, but if you need something portable, these are a great option.</td>\n",
       "      <td>...</td>\n",
       "      <td>[clif, kid, twisted, fruit, rope, great, product, replace, nasty, fruit, flavored, roll, ups, fruit, snack, made, primarily, corn, syrup, artificial, color, usually, fruit, twisted, fruit, rope, made, actual, furit, even, provides, one, serving, per, rope, ingredient, simple, apple, puree, apple, juice, concentrate, make, sweet, flavor, pectin, fruit, vegetable, coloring, none, chemical, bright, fruit, flavored, concoction, everything, organicthe, taste, great, bit, tart, nice, berry, flavor, texture, chewy, look, taste, feel, like, big, twizzler, rope, packaged, individually, throw, lunch, box, backpack, found, reaching, least, timethere, couple, thing, didnt, like, strip, little, sticky, help, hold, wrapper, instead, taking, sugar, also, still, fairly, high, ...]</td>\n",
       "      <td>157.0</td>\n",
       "      <td>119.0</td>\n",
       "      <td>5.649682</td>\n",
       "      <td>0.9844</td>\n",
       "      <td>Positive</td>\n",
       "      <td>Positive</td>\n",
       "      <td>0.124464</td>\n",
       "      <td>0.583827</td>\n",
       "      <td>Positive</td>\n",
       "    </tr>\n",
       "    <tr>\n",
       "      <th>384274</th>\n",
       "      <td>384275</td>\n",
       "      <td>B0018LB76Q</td>\n",
       "      <td>A2GPP8QIF8HHKO</td>\n",
       "      <td>TC</td>\n",
       "      <td>0</td>\n",
       "      <td>0</td>\n",
       "      <td>2</td>\n",
       "      <td>1326672000</td>\n",
       "      <td>Dissapointed</td>\n",
       "      <td>I have bought hot pepper oil in Italy and brought it home. That oil had great flavor as well as heat and was ridiculously expensive (about 3 euros for 1oz). This oil unfortunately has very little flavor and is mostly heat. Furthermore it does not taste fresh at all. It has that stale, old, olive oil taste. Possible that it was not stored properly It also has a bit of a chemical taste as well that I think is coming from the rubber seal on the stopper.&lt;br /&gt;&lt;br /&gt;I will not be using the oil on pizzas or other food because the staleness of the flavor will be too pronounced. I plan on mostly using this to mix with dipping spices and balsamic to dip bread with as that will mask the stale flavor. All in all, It's not awful but I'm pretty disappointed because I had high hopes for it.</td>\n",
       "      <td>...</td>\n",
       "      <td>[bought, hot, pepper, oil, italy, brought, home, oil, great, flavor, well, heat, ridiculously, expensive, euro, oz, oil, unfortunately, little, flavor, mostly, heat, furthermore, taste, fresh, stale, old, olive, oil, taste, possible, stored, properly, also, bit, chemical, taste, well, think, coming, rubber, seal, stopperi, using, oil, pizza, food, staleness, flavor, pronounced, plan, mostly, using, mix, dipping, spice, balsamic, dip, bread, mask, stale, flavor, awful, im, pretty, disappointed, high, hope]</td>\n",
       "      <td>68.0</td>\n",
       "      <td>54.0</td>\n",
       "      <td>5.500000</td>\n",
       "      <td>0.7964</td>\n",
       "      <td>Positive</td>\n",
       "      <td>Positive</td>\n",
       "      <td>-0.036094</td>\n",
       "      <td>0.618125</td>\n",
       "      <td>Negative</td>\n",
       "    </tr>\n",
       "    <tr>\n",
       "      <th>456502</th>\n",
       "      <td>456503</td>\n",
       "      <td>B0014EW41E</td>\n",
       "      <td>A26N3GLFUNS4NL</td>\n",
       "      <td>Mr. William A. Dispoto \"gorilla-bill\"</td>\n",
       "      <td>8</td>\n",
       "      <td>8</td>\n",
       "      <td>5</td>\n",
       "      <td>1268524800</td>\n",
       "      <td>...same as regular Campbell's Tomato Soup</td>\n",
       "      <td>not much to say except that this taste's the same as the Campbell's Tomato that I remember as a kid...mixed with skim milk it comes out thick and tasty...a GREAT treat on a cold winter's day..!!</td>\n",
       "      <td>...</td>\n",
       "      <td>[much, say, except, taste, campbell, tomato, remember, kidmixed, skim, milk, come, thick, tastya, great, treat, cold, winter, day]</td>\n",
       "      <td>18.0</td>\n",
       "      <td>18.0</td>\n",
       "      <td>5.222222</td>\n",
       "      <td>0.7783</td>\n",
       "      <td>Positive</td>\n",
       "      <td>Positive</td>\n",
       "      <td>0.025000</td>\n",
       "      <td>0.606250</td>\n",
       "      <td>Positive</td>\n",
       "    </tr>\n",
       "    <tr>\n",
       "      <th>...</th>\n",
       "      <td>...</td>\n",
       "      <td>...</td>\n",
       "      <td>...</td>\n",
       "      <td>...</td>\n",
       "      <td>...</td>\n",
       "      <td>...</td>\n",
       "      <td>...</td>\n",
       "      <td>...</td>\n",
       "      <td>...</td>\n",
       "      <td>...</td>\n",
       "      <td>...</td>\n",
       "      <td>...</td>\n",
       "      <td>...</td>\n",
       "      <td>...</td>\n",
       "      <td>...</td>\n",
       "      <td>...</td>\n",
       "      <td>...</td>\n",
       "      <td>...</td>\n",
       "      <td>...</td>\n",
       "      <td>...</td>\n",
       "      <td>...</td>\n",
       "    </tr>\n",
       "    <tr>\n",
       "      <th>10269</th>\n",
       "      <td>10270</td>\n",
       "      <td>B003EML8PM</td>\n",
       "      <td>A38P1V6DBEXIXE</td>\n",
       "      <td>Karen J. Barnes \"Jedi Scum\"</td>\n",
       "      <td>6</td>\n",
       "      <td>7</td>\n",
       "      <td>5</td>\n",
       "      <td>1226534400</td>\n",
       "      <td>great product, bad design</td>\n",
       "      <td>The product itself is great, it's the bag that needs work.  I recommend that instead of microwaving them in the bag, spread them out on a paper plate or a microwave safe plate then popping them in the microwave for about 90 seconds.  You do have to watch these cook though or they will burn on you. I really like the pork rinds themselves and they are a healthy alternative to chips though they are a little salty.</td>\n",
       "      <td>...</td>\n",
       "      <td>[product, great, bag, need, work, recommend, instead, microwaving, bag, spread, paper, plate, microwave, safe, plate, popping, microwave, second, watch, cook, though, burn, really, like, pork, rind, healthy, alternative, chip, though, little, salty]</td>\n",
       "      <td>32.0</td>\n",
       "      <td>28.0</td>\n",
       "      <td>5.781250</td>\n",
       "      <td>0.9324</td>\n",
       "      <td>Positive</td>\n",
       "      <td>Positive</td>\n",
       "      <td>0.302083</td>\n",
       "      <td>0.408333</td>\n",
       "      <td>Positive</td>\n",
       "    </tr>\n",
       "    <tr>\n",
       "      <th>159528</th>\n",
       "      <td>159529</td>\n",
       "      <td>B00284TOOY</td>\n",
       "      <td>A2GL3WLEN1USDG</td>\n",
       "      <td>seakayaker</td>\n",
       "      <td>0</td>\n",
       "      <td>0</td>\n",
       "      <td>4</td>\n",
       "      <td>1326067200</td>\n",
       "      <td>Coffee and Tea creamer</td>\n",
       "      <td>I bought these to try the individual creamers. Found I do not like them. The box had several that had opened and the inside was sticky. I found them to be a messy and pain to open and throw away. I will stick with powder creamer. I also like the flavor of the powder. It is more intense. These have a milder Hazelnut flavor if you prefer milder in your tea or coffee. They are good quality.</td>\n",
       "      <td>...</td>\n",
       "      <td>[bought, try, individual, creamer, found, like, box, several, opened, inside, sticky, found, messy, pain, open, throw, away, stick, powder, creamer, also, like, flavor, powder, intense, milder, hazelnut, flavor, prefer, milder, tea, coffee, good, quality]</td>\n",
       "      <td>34.0</td>\n",
       "      <td>28.0</td>\n",
       "      <td>5.500000</td>\n",
       "      <td>0.3400</td>\n",
       "      <td>Positive</td>\n",
       "      <td>Positive</td>\n",
       "      <td>0.116667</td>\n",
       "      <td>0.483333</td>\n",
       "      <td>Positive</td>\n",
       "    </tr>\n",
       "    <tr>\n",
       "      <th>493312</th>\n",
       "      <td>493313</td>\n",
       "      <td>B004I9SEO8</td>\n",
       "      <td>A1SGAKR5RSU72I</td>\n",
       "      <td>Sisturd01</td>\n",
       "      <td>2</td>\n",
       "      <td>2</td>\n",
       "      <td>5</td>\n",
       "      <td>1330300800</td>\n",
       "      <td>Picky Dogs Love This</td>\n",
       "      <td>We have tried so many treats for our two shi tzus, but they just walk away.  Finally we found Canine Carry-Outs and tney are happy.  If our girls love it, any dog will!</td>\n",
       "      <td>...</td>\n",
       "      <td>[tried, many, treat, two, shi, tzus, walk, away, finally, found, canine, carryouts, tney, happy, girl, love, dog]</td>\n",
       "      <td>17.0</td>\n",
       "      <td>17.0</td>\n",
       "      <td>4.647059</td>\n",
       "      <td>0.8910</td>\n",
       "      <td>Positive</td>\n",
       "      <td>Positive</td>\n",
       "      <td>0.450000</td>\n",
       "      <td>0.775000</td>\n",
       "      <td>Positive</td>\n",
       "    </tr>\n",
       "    <tr>\n",
       "      <th>292929</th>\n",
       "      <td>292930</td>\n",
       "      <td>B001LUQ3WC</td>\n",
       "      <td>AU3MHPR8II6B8</td>\n",
       "      <td>Kelly Lipareli</td>\n",
       "      <td>4</td>\n",
       "      <td>4</td>\n",
       "      <td>5</td>\n",
       "      <td>1297468800</td>\n",
       "      <td>BEST LITTER EVER!</td>\n",
       "      <td>I am sooo happy that I found an affordable way to get this litter!  We used this litter for 2 years before moving from NY to KY.  When we got here a few months ago we found out that there were no vendors for this litter within a few 100 miles, so we switched to fresh step crystals .... WE HATE FRESH STEP, I can not wait for my magical litter pearls to get to my doorstep!  I have opted for the subscription, so we will NEVER be without this amazing stuff again!  &gt;^.^&amp;lt;</td>\n",
       "      <td>...</td>\n",
       "      <td>[sooo, happy, found, affordable, way, get, litter, used, litter, year, moving, ny, ky, got, month, ago, found, vendor, litter, within, mile, switched, fresh, step, crystal, hate, fresh, step, wait, magical, litter, pearl, get, doorstep, opted, subscription, never, without, amazing, stuff, lt]</td>\n",
       "      <td>41.0</td>\n",
       "      <td>34.0</td>\n",
       "      <td>5.146341</td>\n",
       "      <td>0.6240</td>\n",
       "      <td>Positive</td>\n",
       "      <td>Positive</td>\n",
       "      <td>0.283333</td>\n",
       "      <td>0.800000</td>\n",
       "      <td>Positive</td>\n",
       "    </tr>\n",
       "    <tr>\n",
       "      <th>167268</th>\n",
       "      <td>167269</td>\n",
       "      <td>B000OLIXO0</td>\n",
       "      <td>ALBUN365XMU68</td>\n",
       "      <td>michelle \"smart shopper\"</td>\n",
       "      <td>0</td>\n",
       "      <td>0</td>\n",
       "      <td>5</td>\n",
       "      <td>1311292800</td>\n",
       "      <td>Unbelievable!</td>\n",
       "      <td>I will be purchasing this for a very long time. It is so good and the health benefits has my very picky,and health conscious husband wanting more! Please try it and you will totally agree!!!</td>\n",
       "      <td>...</td>\n",
       "      <td>[purchasing, long, time, good, health, benefit, pickyand, health, conscious, husband, wanting, please, try, totally, agree]</td>\n",
       "      <td>15.0</td>\n",
       "      <td>14.0</td>\n",
       "      <td>6.200000</td>\n",
       "      <td>0.8748</td>\n",
       "      <td>Positive</td>\n",
       "      <td>Positive</td>\n",
       "      <td>0.187500</td>\n",
       "      <td>0.562500</td>\n",
       "      <td>Positive</td>\n",
       "    </tr>\n",
       "  </tbody>\n",
       "</table>\n",
       "<p>100 rows × 22 columns</p>\n",
       "</div>"
      ],
      "text/plain": [
       "            Id   ProductId          UserId  \\\n",
       "40441    40442  B000FFS0CA  A1M5D0DG09UGVM   \n",
       "42809    42810  B002NHYQAS  A3SFLH7RUH873G   \n",
       "401512  401513  B000Q611U6  A3KZCNV1N8R9GC   \n",
       "384274  384275  B0018LB76Q  A2GPP8QIF8HHKO   \n",
       "456502  456503  B0014EW41E  A26N3GLFUNS4NL   \n",
       "...        ...         ...             ...   \n",
       "10269    10270  B003EML8PM  A38P1V6DBEXIXE   \n",
       "159528  159529  B00284TOOY  A2GL3WLEN1USDG   \n",
       "493312  493313  B004I9SEO8  A1SGAKR5RSU72I   \n",
       "292929  292930  B001LUQ3WC   AU3MHPR8II6B8   \n",
       "167268  167269  B000OLIXO0   ALBUN365XMU68   \n",
       "\n",
       "                                  ProfileName  HelpfulnessNumerator  \\\n",
       "40441                             Bonne Maman                     1   \n",
       "42809                         Amazon Fan \"AF\"                     0   \n",
       "401512                                  diljs                     0   \n",
       "384274                                     TC                     0   \n",
       "456502  Mr. William A. Dispoto \"gorilla-bill\"                     8   \n",
       "...                                       ...                   ...   \n",
       "10269             Karen J. Barnes \"Jedi Scum\"                     6   \n",
       "159528                             seakayaker                     0   \n",
       "493312                              Sisturd01                     2   \n",
       "292929                         Kelly Lipareli                     4   \n",
       "167268               michelle \"smart shopper\"                     0   \n",
       "\n",
       "        HelpfulnessDenominator  Score        Time  \\\n",
       "40441                        2      2  1185494400   \n",
       "42809                        0      5  1298419200   \n",
       "401512                       0      4  1222646400   \n",
       "384274                       0      2  1326672000   \n",
       "456502                       8      5  1268524800   \n",
       "...                        ...    ...         ...   \n",
       "10269                        7      5  1226534400   \n",
       "159528                       0      4  1326067200   \n",
       "493312                       2      5  1330300800   \n",
       "292929                       4      5  1297468800   \n",
       "167268                       0      5  1311292800   \n",
       "\n",
       "                                                                              Summary  \\\n",
       "40441                                                                      Not Pretty   \n",
       "42809                                                    Delicious, Smooth Chocolate!   \n",
       "401512  Like a Tasty Organic Twizzler, way better than other so called \"Fruit Snacks\"   \n",
       "384274                                                                   Dissapointed   \n",
       "456502                                      ...same as regular Campbell's Tomato Soup   \n",
       "...                                                                               ...   \n",
       "10269                                                       great product, bad design   \n",
       "159528                                                         Coffee and Tea creamer   \n",
       "493312                                                           Picky Dogs Love This   \n",
       "292929                                                              BEST LITTER EVER!   \n",
       "167268                                                                  Unbelievable!   \n",
       "\n",
       "                                                                                                                                                                                                                                                                                                                                                                                                                                                                                                                                                                                                                                                                                                                                                                                                                                                                                                                                                                                                                                                                                                                                                                                                                                                                                                                                                                                                                                                                                                                                                                                                                                                                                                 Text  \\\n",
       "40441                                                                                                                                                                                                                                                                                                                                                                                                                                                                                                                                                                                                                                                                                                                                                                                                                                                                                                                                                                                                                                                                                                                                                                                                                                                                                                                                                                                                                                                                                                                                                     I was very excited to receive this tea but was disappointed by the blossoms.  Don't buy this large size if you have never tried this brand.   \n",
       "42809                                                                                                                                                                                                                                                                                                                                                                                                                                                                                                                                                                                                                                                                                                                                                                                                                                                                                                                                                                                                                                                                                                                                                                                                                                                                                                                                                                                                                                   This organic chocolate is absolutely delicious...so smooth and creamy.  There is a rich, deep chocolate taste and excellent texture...not waxey or grainy at all, with just the right amount of sweetness.  Chocoholics...this is the one for you.  Fabulous!   \n",
       "401512  The Clif Kids Twisted Fruit rope is a great product.  It can replace those nasty \"fruit flavored\" roll ups and \"fruit snacks\" that are made primarily of corn syrup and artificial color and usually no fruit at all.  The twisted fruit rope is made out of actual furit, and even provides one serving per rope.  The ingredients are simple: apple puree, apple juice concentrate (makes it sweet), flavors, pectin, and fruit and vegetable colorings.  None of the chemicals from those bright \"fruit flavored\" concoctions, and everything is organic!<br /><br />The taste is great, too.  It's a bit tart, but with a nice berry flavor.  The texture is chewy, and it looks, tastes, and feels like a big Twizzler.  The ropes are packaged individually to throw in lunch boxes or backpacks, but I found myself reaching for at least 2 at a time.<br /><br />There are a couple of things I didn't like.  The strips are a little sticky;  it helps if you hold them by the wrapper instead of taking them out.  The sugar is also still fairly high.  There are 9 grams of sugar, a whopping 45% out of each 20 gram rope.  It's not added refined sugar, but the sugar comes from apple juice concentrate, which is much sweeter than natural apple juice.  Combine that with the sticky nature of the product and it's probably a good idea to have your kids rinse their teeth after eating one.<br /><br />Those drawbacks aside, these snacks remain far superior to candy or those gooey little \"fruit snacks\" as a tasty treat for kids (or adults!).  Keep in mind actual fruit is always a better choice, but if you need something portable, these are a great option.   \n",
       "384274                                                                                                                                                                                                                                                                                                                                                                                                                                                                                                                                                                                                                                                                                                                                                                                                                                                                            I have bought hot pepper oil in Italy and brought it home. That oil had great flavor as well as heat and was ridiculously expensive (about 3 euros for 1oz). This oil unfortunately has very little flavor and is mostly heat. Furthermore it does not taste fresh at all. It has that stale, old, olive oil taste. Possible that it was not stored properly It also has a bit of a chemical taste as well that I think is coming from the rubber seal on the stopper.<br /><br />I will not be using the oil on pizzas or other food because the staleness of the flavor will be too pronounced. I plan on mostly using this to mix with dipping spices and balsamic to dip bread with as that will mask the stale flavor. All in all, It's not awful but I'm pretty disappointed because I had high hopes for it.   \n",
       "456502                                                                                                                                                                                                                                                                                                                                                                                                                                                                                                                                                                                                                                                                                                                                                                                                                                                                                                                                                                                                                                                                                                                                                                                                                                                                                                                                                                                                                                                                                             not much to say except that this taste's the same as the Campbell's Tomato that I remember as a kid...mixed with skim milk it comes out thick and tasty...a GREAT treat on a cold winter's day..!!   \n",
       "...                                                                                                                                                                                                                                                                                                                                                                                                                                                                                                                                                                                                                                                                                                                                                                                                                                                                                                                                                                                                                                                                                                                                                                                                                                                                                                                                                                                                                                                                                                                                                                                                                                                                                               ...   \n",
       "10269                                                                                                                                                                                                                                                                                                                                                                                                                                                                                                                                                                                                                                                                                                                                                                                                                                                                                                                                                                                                                                                                                                                                                                                                                                                                  The product itself is great, it's the bag that needs work.  I recommend that instead of microwaving them in the bag, spread them out on a paper plate or a microwave safe plate then popping them in the microwave for about 90 seconds.  You do have to watch these cook though or they will burn on you. I really like the pork rinds themselves and they are a healthy alternative to chips though they are a little salty.   \n",
       "159528                                                                                                                                                                                                                                                                                                                                                                                                                                                                                                                                                                                                                                                                                                                                                                                                                                                                                                                                                                                                                                                                                                                                                                                                                                                                                         I bought these to try the individual creamers. Found I do not like them. The box had several that had opened and the inside was sticky. I found them to be a messy and pain to open and throw away. I will stick with powder creamer. I also like the flavor of the powder. It is more intense. These have a milder Hazelnut flavor if you prefer milder in your tea or coffee. They are good quality.   \n",
       "493312                                                                                                                                                                                                                                                                                                                                                                                                                                                                                                                                                                                                                                                                                                                                                                                                                                                                                                                                                                                                                                                                                                                                                                                                                                                                                                                                                                                                                                                                                                                       We have tried so many treats for our two shi tzus, but they just walk away.  Finally we found Canine Carry-Outs and tney are happy.  If our girls love it, any dog will!   \n",
       "292929                                                                                                                                                                                                                                                                                                                                                                                                                                                                                                                                                                                                                                                                                                                                                                                                                                                                                                                                                                                                                                                                                                                                                                                                      I am sooo happy that I found an affordable way to get this litter!  We used this litter for 2 years before moving from NY to KY.  When we got here a few months ago we found out that there were no vendors for this litter within a few 100 miles, so we switched to fresh step crystals .... WE HATE FRESH STEP, I can not wait for my magical litter pearls to get to my doorstep!  I have opted for the subscription, so we will NEVER be without this amazing stuff again!  >^.^&lt;   \n",
       "167268                                                                                                                                                                                                                                                                                                                                                                                                                                                                                                                                                                                                                                                                                                                                                                                                                                                                                                                                                                                                                                                                                                                                                                                                                                                                                                                                                                                                                                                                                                 I will be purchasing this for a very long time. It is so good and the health benefits has my very picky,and health conscious husband wanting more! Please try it and you will totally agree!!!   \n",
       "\n",
       "        ...  \\\n",
       "40441   ...   \n",
       "42809   ...   \n",
       "401512  ...   \n",
       "384274  ...   \n",
       "456502  ...   \n",
       "...     ...   \n",
       "10269   ...   \n",
       "159528  ...   \n",
       "493312  ...   \n",
       "292929  ...   \n",
       "167268  ...   \n",
       "\n",
       "                                                                                                                                                                                                                                                                                                                                                                                                                                                                                                                                                                                                                                                                                                                                                                                                         Tokens  \\\n",
       "40441                                                                                                                                                                                                                                                                                                                                                                                                                                                                                                                                                                                                                                                                                                               [excited, receive, tea, disappointed, blossom, dont, buy, large, size, never, tried, brand]   \n",
       "42809                                                                                                                                                                                                                                                                                                                                                                                                                                                                                                                                                                                                               [organic, chocolate, absolutely, deliciousso, smooth, creamy, rich, deep, chocolate, taste, excellent, texturenot, waxey, grainy, right, amount, sweetness, chocoholicsthis, one, fabulous]   \n",
       "401512  [clif, kid, twisted, fruit, rope, great, product, replace, nasty, fruit, flavored, roll, ups, fruit, snack, made, primarily, corn, syrup, artificial, color, usually, fruit, twisted, fruit, rope, made, actual, furit, even, provides, one, serving, per, rope, ingredient, simple, apple, puree, apple, juice, concentrate, make, sweet, flavor, pectin, fruit, vegetable, coloring, none, chemical, bright, fruit, flavored, concoction, everything, organicthe, taste, great, bit, tart, nice, berry, flavor, texture, chewy, look, taste, feel, like, big, twizzler, rope, packaged, individually, throw, lunch, box, backpack, found, reaching, least, timethere, couple, thing, didnt, like, strip, little, sticky, help, hold, wrapper, instead, taking, sugar, also, still, fairly, high, ...]   \n",
       "384274                                                                                                                                                                                                                                                                           [bought, hot, pepper, oil, italy, brought, home, oil, great, flavor, well, heat, ridiculously, expensive, euro, oz, oil, unfortunately, little, flavor, mostly, heat, furthermore, taste, fresh, stale, old, olive, oil, taste, possible, stored, properly, also, bit, chemical, taste, well, think, coming, rubber, seal, stopperi, using, oil, pizza, food, staleness, flavor, pronounced, plan, mostly, using, mix, dipping, spice, balsamic, dip, bread, mask, stale, flavor, awful, im, pretty, disappointed, high, hope]   \n",
       "456502                                                                                                                                                                                                                                                                                                                                                                                                                                                                                                                                                                                                                                                                       [much, say, except, taste, campbell, tomato, remember, kidmixed, skim, milk, come, thick, tastya, great, treat, cold, winter, day]   \n",
       "...                                                                                                                                                                                                                                                                                                                                                                                                                                                                                                                                                                                                                                                                                                                                                                                                         ...   \n",
       "10269                                                                                                                                                                                                                                                                                                                                                                                                                                                                                                                                                 [product, great, bag, need, work, recommend, instead, microwaving, bag, spread, paper, plate, microwave, safe, plate, popping, microwave, second, watch, cook, though, burn, really, like, pork, rind, healthy, alternative, chip, though, little, salty]   \n",
       "159528                                                                                                                                                                                                                                                                                                                                                                                                                                                                                                                                          [bought, try, individual, creamer, found, like, box, several, opened, inside, sticky, found, messy, pain, open, throw, away, stick, powder, creamer, also, like, flavor, powder, intense, milder, hazelnut, flavor, prefer, milder, tea, coffee, good, quality]   \n",
       "493312                                                                                                                                                                                                                                                                                                                                                                                                                                                                                                                                                                                                                                                                                        [tried, many, treat, two, shi, tzus, walk, away, finally, found, canine, carryouts, tney, happy, girl, love, dog]   \n",
       "292929                                                                                                                                                                                                                                                                                                                                                                                                                                                                                                    [sooo, happy, found, affordable, way, get, litter, used, litter, year, moving, ny, ky, got, month, ago, found, vendor, litter, within, mile, switched, fresh, step, crystal, hate, fresh, step, wait, magical, litter, pearl, get, doorstep, opted, subscription, never, without, amazing, stuff, lt]   \n",
       "167268                                                                                                                                                                                                                                                                                                                                                                                                                                                                                                                                                                                                                                                                              [purchasing, long, time, good, health, benefit, pickyand, health, conscious, husband, wanting, please, try, totally, agree]   \n",
       "\n",
       "       Word_Count Unique_Word_Count  Avg_Word_Length  Sentiment_Score  \\\n",
       "40441        12.0              12.0         5.583333           0.1531   \n",
       "42809        20.0              19.0         7.350000           0.9313   \n",
       "401512      157.0             119.0         5.649682           0.9844   \n",
       "384274       68.0              54.0         5.500000           0.7964   \n",
       "456502       18.0              18.0         5.222222           0.7783   \n",
       "...           ...               ...              ...              ...   \n",
       "10269        32.0              28.0         5.781250           0.9324   \n",
       "159528       34.0              28.0         5.500000           0.3400   \n",
       "493312       17.0              17.0         4.647059           0.8910   \n",
       "292929       41.0              34.0         5.146341           0.6240   \n",
       "167268       15.0              14.0         6.200000           0.8748   \n",
       "\n",
       "        Sentiment_Label  VADER_Sentiment TextBlob_Polarity  \\\n",
       "40441          Positive         Positive         -0.053571   \n",
       "42809          Positive         Positive          0.380102   \n",
       "401512         Positive         Positive          0.124464   \n",
       "384274         Positive         Positive         -0.036094   \n",
       "456502         Positive         Positive          0.025000   \n",
       "...                 ...              ...               ...   \n",
       "10269          Positive         Positive          0.302083   \n",
       "159528         Positive         Positive          0.116667   \n",
       "493312         Positive         Positive          0.450000   \n",
       "292929         Positive         Positive          0.283333   \n",
       "167268         Positive         Positive          0.187500   \n",
       "\n",
       "       TextBlob_Subjectivity  TextBlob_Sentiment  \n",
       "40441               0.642857            Negative  \n",
       "42809               0.726531            Positive  \n",
       "401512              0.583827            Positive  \n",
       "384274              0.618125            Negative  \n",
       "456502              0.606250            Positive  \n",
       "...                      ...                 ...  \n",
       "10269               0.408333            Positive  \n",
       "159528              0.483333            Positive  \n",
       "493312              0.775000            Positive  \n",
       "292929              0.800000            Positive  \n",
       "167268              0.562500            Positive  \n",
       "\n",
       "[100 rows x 22 columns]"
      ]
     },
     "execution_count": 27,
     "metadata": {},
     "output_type": "execute_result"
    }
   ],
   "source": [
    "def analyze_sentiment(text):\n",
    "    blob = TextBlob(text)\n",
    "    return blob.sentiment.polarity, blob.sentiment.subjectivity, 'Positive' if blob.sentiment.polarity > 0 else ('Negative' if blob.sentiment.polarity < 0 else 'Neutral')\n",
    "\n",
    "# Apply the function and append new columns\n",
    "random_sample[['TextBlob_Polarity', 'TextBlob_Subjectivity', 'TextBlob_Sentiment']] = random_sample['Cleaned_Text'].apply(lambda x: pd.Series(analyze_sentiment(x)))\n",
    "\n",
    "# Display the updated DataFrame\n",
    "random_sample"
   ]
  },
  {
   "cell_type": "code",
   "execution_count": 28,
   "id": "046f76ef-a93a-4ad7-bb34-fae0d1f77f04",
   "metadata": {},
   "outputs": [
    {
     "name": "stdout",
     "output_type": "stream",
     "text": [
      "                                                                                                                                                                                                                                                                                                                                                                                                                                                                                                                                                                                                                                                                                                                                                                                                                                                                                                                                                                                                                                                                                                                                                                                                                                                                                                                                                                                                                                                                                                                                                 Text  \\\n",
      "177903  *****<br /><br />Numi Tea's Chinese Breakfast Yunnan Black Tea is a premium Numi tea, both certified organic and kosher. The only ingredient is fair trade certified organic high mountain Yunnan Black Tea FOP (Flowery Orange Pekoe). There is nothing artificial in this or in any Numi tea.<br /><br />On the box, the manufacturer writes: \"This noble tea is grown in the mist covered mountains of Yunnan province. What distinguishes this fine, organic black tea is its perfect sense of balance, exquisite tiger's eye color, and a lean vibrancy which makes it suitable at any time of day. Like a complex wine, it is the perfect tea for food, marrying well with a wide variety of dishes. It has a distant and hard to place floral quality, yet it leaves the mouth tasting as clean as spring water. And it energizes the body and mind more harmoniously than the best of coffees. We are proud to bring you this high grade leaf.\"<br /><br />Although this tea says \"orange pekoe\", it does not taste citrus-y, but has a strong morning black tea taste with flowery overtones. It is like a regular orange pekoe upgraded many, many times, with something delicate, lovely, and flowery added. It's the perfect morning tea, or for anytime you want a high-quality pick-me-up.<br /><br />If you like Numi teas, get it---you won't be sorry. If you are new to Numi but love regular black, this will probably be the best you've ever had, and you'll wonder why you ever drank the \"old stuff\"!<br /><br />*****   \n",
      "355348                                                                                                                                                                                                                                                                                                                                                                                                                                                                                                                                                                                                                                                                                                                                                                                                                                                                                                                                                                                                                                                                                                                                                                    We've tried a few different sugar-free jams, and the ones by Nature's Hollow are head and shoulders above their competition.  Their preserves are thick, sweet, and filled with real strawberries, rather than the gelatinous goop we found in other brands.  Being extremely health conscious, I like seeing Xylitol on the label.  Delicious!  You won't be disappointed.   \n",
      "40441                                                                                                                                                                                                                                                                                                                                                                                                                                                                                                                                                                                                                                                                                                                                                                                                                                                                                                                                                                                                                                                                                                                                                                                                                                                                                                                                                                                                     I was very excited to receive this tea but was disappointed by the blossoms.  Don't buy this large size if you have never tried this brand.   \n",
      "368055                                                                                                                                                                                                           I never write reviews, because I have not had any complaints on any of my products that I have purchased through Amazon.  I understand that its not just about bad reviews but good ones too, but for me the product is always great unless I am writing a review.  Thus here I am writing a review today.  I must state that if the coconut oil had not been missing an entire section of coconut oil from the right side of the jar, I would be giving this product 5 stars.  I love the taste, quality, shipping time etc., but the missing oil in the right side of the jar (the oil is solid) shocked the heck out of me.  I would have written something earlier about this, but I just haven't had the time.  Every time I look in the jar though, it still shocks me.  I wondered if it was due to the way the product was packaged.  Maybe it rolled onto its side and caused the top to be more full and the right side to be empty, however, it wasn't full to the top.  Also it's solid and I didn't order it during the warm months for it to be liquid and change.  So, yes, I feel ripped off.  However, I'm using the coconut oil because I do need it and already have it in my possession.  I will not be buying my now bi-monthly supply again through this dealer though, unless they decide to make this right.   \n",
      "313002                                                                                                                                                                                                                                                                                                                                                                                                                                                                                                                                                                                                                                                                                                                                                                                                                                                                                                                                                                                                                 I bought these at the Indian market across the street for a lot less money than Amazon. Anyways, I love these things- used to getting these at Indian restaurants but now can enjoy at home.<br /><br />Try these instead of the more fattening less nutritious tortilla chips! You will be pleasantly surprised! I love to dip these things in mango chutney and raita for an awesome snack or appetizer. Less fattening than samosas and just as good. Now I just need a tandoor oven and I can make all the Indian goodies.   \n",
      "\n",
      "       VADER_Sentiment TextBlob_Sentiment  \n",
      "177903        Positive           Positive  \n",
      "355348        Positive           Positive  \n",
      "40441         Positive           Negative  \n",
      "368055        Positive           Positive  \n",
      "313002        Positive           Positive  \n"
     ]
    }
   ],
   "source": [
    "# Spot-check several examples\n",
    "spotcheck_sample = random_sample[['Text','VADER_Sentiment', 'TextBlob_Sentiment']].sample(5)\n",
    "print(spotcheck_sample)"
   ]
  },
  {
   "cell_type": "code",
   "execution_count": 29,
   "id": "c51ebd7d-184a-4c92-be17-c23fc0793aa6",
   "metadata": {},
   "outputs": [
    {
     "name": "stdout",
     "output_type": "stream",
     "text": [
      "Review Text: *****<br /><br />Numi Tea's Chinese Breakfast Yunnan Black Tea is a premium Numi tea, both certified organic and kosher. The only ingredient is fair trade certified organic high mountain Yunnan Black Tea FOP (Flowery Orange Pekoe). There is nothing artificial in this or in any Numi tea.<br /><br />On the box, the manufacturer writes: \"This noble tea is grown in the mist covered mountains of Yunnan province. What distinguishes this fine, organic black tea is its perfect sense of balance, exquisite tiger's eye color, and a lean vibrancy which makes it suitable at any time of day. Like a complex wine, it is the perfect tea for food, marrying well with a wide variety of dishes. It has a distant and hard to place floral quality, yet it leaves the mouth tasting as clean as spring water. And it energizes the body and mind more harmoniously than the best of coffees. We are proud to bring you this high grade leaf.\"<br /><br />Although this tea says \"orange pekoe\", it does not taste citrus-y, but has a strong morning black tea taste with flowery overtones. It is like a regular orange pekoe upgraded many, many times, with something delicate, lovely, and flowery added. It's the perfect morning tea, or for anytime you want a high-quality pick-me-up.<br /><br />If you like Numi teas, get it---you won't be sorry. If you are new to Numi but love regular black, this will probably be the best you've ever had, and you'll wonder why you ever drank the \"old stuff\"!<br /><br />*****\n",
      "VADER Sentiment: Positive\n",
      "TextBlob_Sentiment: Positive\n",
      "--------------------------------------------------\n",
      "Review Text: We've tried a few different sugar-free jams, and the ones by Nature's Hollow are head and shoulders above their competition.  Their preserves are thick, sweet, and filled with real strawberries, rather than the gelatinous goop we found in other brands.  Being extremely health conscious, I like seeing Xylitol on the label.  Delicious!  You won't be disappointed.\n",
      "VADER Sentiment: Positive\n",
      "TextBlob_Sentiment: Positive\n",
      "--------------------------------------------------\n",
      "Review Text: I was very excited to receive this tea but was disappointed by the blossoms.  Don't buy this large size if you have never tried this brand.\n",
      "VADER Sentiment: Positive\n",
      "TextBlob_Sentiment: Negative\n",
      "--------------------------------------------------\n",
      "Review Text: I never write reviews, because I have not had any complaints on any of my products that I have purchased through Amazon.  I understand that its not just about bad reviews but good ones too, but for me the product is always great unless I am writing a review.  Thus here I am writing a review today.  I must state that if the coconut oil had not been missing an entire section of coconut oil from the right side of the jar, I would be giving this product 5 stars.  I love the taste, quality, shipping time etc., but the missing oil in the right side of the jar (the oil is solid) shocked the heck out of me.  I would have written something earlier about this, but I just haven't had the time.  Every time I look in the jar though, it still shocks me.  I wondered if it was due to the way the product was packaged.  Maybe it rolled onto its side and caused the top to be more full and the right side to be empty, however, it wasn't full to the top.  Also it's solid and I didn't order it during the warm months for it to be liquid and change.  So, yes, I feel ripped off.  However, I'm using the coconut oil because I do need it and already have it in my possession.  I will not be buying my now bi-monthly supply again through this dealer though, unless they decide to make this right.\n",
      "VADER Sentiment: Positive\n",
      "TextBlob_Sentiment: Positive\n",
      "--------------------------------------------------\n",
      "Review Text: I bought these at the Indian market across the street for a lot less money than Amazon. Anyways, I love these things- used to getting these at Indian restaurants but now can enjoy at home.<br /><br />Try these instead of the more fattening less nutritious tortilla chips! You will be pleasantly surprised! I love to dip these things in mango chutney and raita for an awesome snack or appetizer. Less fattening than samosas and just as good. Now I just need a tandoor oven and I can make all the Indian goodies.\n",
      "VADER Sentiment: Positive\n",
      "TextBlob_Sentiment: Positive\n",
      "--------------------------------------------------\n"
     ]
    }
   ],
   "source": [
    "# To manually review the sentiment, you can check the first few examples\n",
    "for idx, row in spotcheck_sample.iterrows():\n",
    "    print(f\"Review Text: {row['Text']}\")\n",
    "    print(f\"VADER Sentiment: {row['VADER_Sentiment']}\")\n",
    "    print(f\"TextBlob_Sentiment: {row['TextBlob_Sentiment']}\")\n",
    "    print(\"-\" * 50)"
   ]
  },
  {
   "cell_type": "code",
   "execution_count": 30,
   "id": "80ccad71-cc66-44b0-b220-7b5bf5475e66",
   "metadata": {},
   "outputs": [
    {
     "data": {
      "image/png": "[encoded data removed]",
      "text/plain": [
       "<Figure size 1000x600 with 1 Axes>"
      ]
     },
     "metadata": {},
     "output_type": "display_data"
    }
   ],
   "source": [
    "#Draw a histogram that shows the distribution of subjectivity: Count vs. subjectivity\n",
    "num_bins = 50\n",
    "plt.figure(figsize=(10,6))\n",
    "n, bins, patches = plt.hist(random_sample.TextBlob_Subjectivity, num_bins, facecolor='blue', alpha=0.5)\n",
    "plt.xlabel('Subjectivity')\n",
    "plt.ylabel('Count')\n",
    "plt.title('Histogram of Subjectivity')\n",
    "plt.show()"
   ]
  },
  {
   "cell_type": "code",
   "execution_count": 31,
   "id": "a4a63ba5-6c6a-408a-a0b9-b8894c3a79e8",
   "metadata": {},
   "outputs": [
    {
     "data": {
      "image/png": "[encoded data removed]",
      "text/plain": [
       "<Figure size 1000x600 with 1 Axes>"
      ]
     },
     "metadata": {},
     "output_type": "display_data"
    }
   ],
   "source": [
    "#Draw a histogram that shows the distribution of polarity: Count vs. polarity\n",
    "num_bins = 50\n",
    "plt.figure(figsize=(10,6))\n",
    "n, bins, patches = plt.hist(random_sample.TextBlob_Polarity, num_bins, facecolor='blue', alpha=0.5)\n",
    "plt.xlabel('Polarity')\n",
    "plt.ylabel('Count')\n",
    "plt.title('Histogram of Polarity')\n",
    "plt.show()"
   ]
  }
 ],
 "metadata": {
  "kernelspec": {
   "display_name": "Python 3 (ipykernel)",
   "language": "python",
   "name": "python3"
  },
  "language_info": {
   "codemirror_mode": {
    "name": "ipython",
    "version": 3
   },
   "file_extension": ".py",
   "mimetype": "text/x-python",
   "name": "python",
   "nbconvert_exporter": "python",
   "pygments_lexer": "ipython3",
   "version": "3.12.4"
  }
 },
 "nbformat": 4,
 "nbformat_minor": 5
}
