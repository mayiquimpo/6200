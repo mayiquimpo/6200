{
 "cells": [
  {
   "cell_type": "markdown",
   "id": "3c7dd1c9-17d6-409a-91a9-e2be26f379ac",
   "metadata": {},
   "source": [
    "# Assignment 2"
   ]
  },
  {
   "cell_type": "markdown",
   "id": "b57c648c-d8e5-4ac8-a0b8-be7e4fac798d",
   "metadata": {},
   "source": [
    "Mathia Quimpo, Matthew Chin, Wanqiu Zhang"
   ]
  },
  {
   "cell_type": "markdown",
   "id": "4ec6d23a-c13b-4cf5-85a5-9d127a9bb086",
   "metadata": {},
   "source": [
    "## Exploration and Preprocessing"
   ]
  },
  {
   "cell_type": "code",
   "execution_count": 4,
   "id": "b00fc5b3",
   "metadata": {},
   "outputs": [],
   "source": [
    "import pandas as pd\n",
    "import numpy as np\n",
    "import re\n",
    "import os\n",
    "import requests\n",
    "import string\n",
    "import nltk\n",
    "from bs4 import BeautifulSoup\n",
    "from nltk.corpus import stopwords\n",
    "from nltk.util import ngrams\n",
    "from nltk.tokenize import word_tokenize\n",
    "from sklearn.model_selection import train_test_split\n",
    "from sklearn.feature_extraction.text import TfidfVectorizer\n",
    "from sklearn.linear_model import LogisticRegression\n",
    "from sklearn.metrics import classification_report\n",
    "from sklearn.naive_bayes import MultinomialNB\n",
    "from xgboost import XGBClassifier\n",
    "import lightgbm as lgb\n",
    "from sklearn.preprocessing import LabelEncoder\n",
    "from sklearn.tree import DecisionTreeClassifier\n",
    "from sklearn.ensemble import RandomForestClassifier\n",
    "from nltk.stem import WordNetLemmatizer\n",
    "from sklearn.metrics import accuracy_score\n",
    "from vaderSentiment.vaderSentiment import SentimentIntensityAnalyzer\n",
    "from textblob import TextBlob\n",
    "import matplotlib.pyplot as plt"
   ]
  },
  {
   "cell_type": "code",
   "execution_count": 5,
   "id": "0e314200",
   "metadata": {},
   "outputs": [
    {
     "name": "stdout",
     "output_type": "stream",
     "text": [
      "                                              review sentiment\n",
      "0  One of the other reviewers has mentioned that ...  positive\n",
      "1  A wonderful little production. <br /><br />The...  positive\n",
      "2  I thought this was a wonderful way to spend ti...  positive\n",
      "3  Basically there's a family where a little boy ...  negative\n",
      "4  Petter Mattei's \"Love in the Time of Money\" is...  positive\n"
     ]
    }
   ],
   "source": [
    "# Load dataset\n",
    "df = pd.read_csv(r\"C:\\Users\\matth\\Desktop\\MSBA\\BSAN 6200\\Assignments\\Assignment 2\\IMDB Dataset.csv\")\n",
    "\n",
    "print(df.head())"
   ]
  },
  {
   "cell_type": "code",
   "execution_count": 6,
   "id": "07dd9dd4",
   "metadata": {},
   "outputs": [
    {
     "name": "stdout",
     "output_type": "stream",
     "text": [
      "Columns in the dataset:\n",
      " Index(['review', 'sentiment'], dtype='object')\n"
     ]
    }
   ],
   "source": [
    "# Display column names\n",
    "print(\"Columns in the dataset:\\n\", df.columns)"
   ]
  },
  {
   "cell_type": "code",
   "execution_count": 7,
   "id": "00480cae",
   "metadata": {},
   "outputs": [
    {
     "name": "stdout",
     "output_type": "stream",
     "text": [
      "<class 'pandas.core.frame.DataFrame'>\n",
      "RangeIndex: 50000 entries, 0 to 49999\n",
      "Data columns (total 2 columns):\n",
      " #   Column     Non-Null Count  Dtype \n",
      "---  ------     --------------  ----- \n",
      " 0   review     50000 non-null  object\n",
      " 1   sentiment  50000 non-null  object\n",
      "dtypes: object(2)\n",
      "memory usage: 781.4+ KB\n",
      "None\n",
      "                                                   review sentiment\n",
      "count                                               50000     50000\n",
      "unique                                              49582         2\n",
      "top     Loved today's show!!! It was a variety and not...  positive\n",
      "freq                                                    5     25000\n",
      "review       0\n",
      "sentiment    0\n",
      "dtype: int64\n"
     ]
    }
   ],
   "source": [
    "# Get general info\n",
    "print(df.info())\n",
    "\n",
    "# Descriptive statistics\n",
    "print(df.describe())\n",
    "\n",
    "# Check for missing values\n",
    "print(df.isnull().sum())"
   ]
  },
  {
   "cell_type": "code",
   "execution_count": 8,
   "id": "3606380b",
   "metadata": {},
   "outputs": [],
   "source": [
    "# Display the entire review text \n",
    "pd.set_option('display.max_colwidth', None)"
   ]
  },
  {
   "cell_type": "code",
   "execution_count": 9,
   "id": "6ad5af05",
   "metadata": {
    "scrolled": true
   },
   "outputs": [
    {
     "name": "stdout",
     "output_type": "stream",
     "text": [
      "count    50000.000000\n",
      "mean      1309.431020\n",
      "std        989.728014\n",
      "min         32.000000\n",
      "25%        699.000000\n",
      "50%        970.000000\n",
      "75%       1590.250000\n",
      "max      13704.000000\n",
      "Name: Text_Length, dtype: float64\n"
     ]
    }
   ],
   "source": [
    "# Add a new column for text length\n",
    "df[\"Text_Length\"] = df[\"review\"].astype(str).apply(len)\n",
    "\n",
    "# Display descriptive statistics for text length\n",
    "print(df[\"Text_Length\"].describe())"
   ]
  },
  {
   "cell_type": "code",
   "execution_count": 10,
   "id": "244d7ad1",
   "metadata": {
    "scrolled": true
   },
   "outputs": [
    {
     "name": "stdout",
     "output_type": "stream",
     "text": [
      "42462                                                                                                                                                                                                                                                                                                                                                                                                                                                                                   This movie was an absolute waste of time. It's nothing but a wanna-be gangster movie. It contains a very predictable plot. My feelings are unsympathetic to the characters, and the dialogue is mediocre at best. Half the time you are looking for something else to do, because the movie is that boring, since you already know what's going to happen. The other half of the time you're desperately hoping the protagonist grows a pair of balls or just ends his life by jumping off a bridge or something. Also, the secondary characters are for the most part one- dimensional. There's no depth to any of the characters in this movie! No depth!\n",
      "11769                                                                                                                                                                                                                                                                                                                                                                                                                                                                                                                                                                                                                                                                                                                                                                                                                                     This is definitely the worst movie Adam's ever done but at this point in his life, he was just happy to have a movie. There are 3 or 4 laughs in it but I used the fast forward button through some of it. Don't waste your time. I only saw it because I wanted to see all of his movies, but it sucked.\n",
      "32449    Perhaps not Miyazaki's best work, but I couldn't help but love it to death. A five-year old boy finds what he thinks is a goldfish stuck in a bottle. He saves its life and keeps it in a bucket as a pet, but it really is a magical being, the daughter of a human wizard and a sea goddess. Ponyo, as the boy names her, is taken back to the sea by her father, who tries to discourage her from returning to land and becoming human, but she gets into his magic elixirs and does what she wants to do. The story is simple and cute. Where the film really comes alive, though, is in its tremendous artwork. The drawings are more child-like than in any of Miyazaki's other works, but there's beauty in its simplicity. As with all of his films, Miyazaki creates this world of imagination that I was just so in awe of. Seeing it in the theater brought back memories of what it was like when the opening notes of Jo Hisaishi's score for Princess Mononoke washed over me and gave me goosebumps just short of a decade ago (the score here is equally as wonderful). I wanted to live in this world and never leave it.\n",
      "18688                                                                                                              All the other comments already said what I was going to say, here goes anyway. I thought this was Italian at first, sorry about that, Italy. I wasn't bored because I kept waiting for something to happen. Who did that song about Dr. Tarr and Professor Feather way back when? Was it Alan Parsons? Saw this on a Brentwood 10 pack and the quality was as expected, terrible. Full of streaks and stuff. The movie was an incoherent mess. Goofy music and clueless characters. The main guy should have known in the first minute that the doctor was nuttier than the patients. I thought the \"doctor\" directing the \"battle\" scene was never going to end. Had some good looking babes though. It seems these dumb ass movies always throw in a naked chick or two and that gets you hooked. I gave it a 2 for the nekkid women. That bird people dance made me want to pull out my own eyeballs. Poe probably did about 3,000 rpms in his grave when this thing came out because it was loosely based on a story of his.\n",
      "20342                                                                                                                                                                                                                                                                                                                                                                                                                                                                                                             Cage plays a drunk and gets high critically praise. Elizabeth Shue Actually has to do a love seen with the most unattractive and overrated piece of dung flesh in Hollywood. I literally vomited while watching this film. Of course I had the flu, but that does not mean this film did not contribute to the vomit in the kamode. <br /><br />Why can't Nick Cage play something he can really pull off like a bad actor. Nick Cage who be brilliant in a role as a bad actor. Heck nobody could do it better.<br /><br />The search begins for Nick's contract with Lucifer or was it Lou Cipher from \"Night Train To Terror\".\n",
      "Name: review, dtype: object\n"
     ]
    }
   ],
   "source": [
    "# Read a few random review samples\n",
    "print(df[\"review\"].sample(5, random_state=45))"
   ]
  },
  {
   "cell_type": "code",
   "execution_count": 11,
   "id": "de6b5f1a",
   "metadata": {},
   "outputs": [],
   "source": [
    "# Initialize lemmatizer\n",
    "lemmatizer = WordNetLemmatizer()\n",
    "stop_words = set(stopwords.words(\"english\"))"
   ]
  },
  {
   "cell_type": "code",
   "execution_count": 12,
   "id": "a83a62dd",
   "metadata": {},
   "outputs": [],
   "source": [
    "# Text cleaning function\n",
    "def clean_text(review):\n",
    "    if not isinstance(review, str):\n",
    "        return \"\"  # Handle missing values\n",
    "    \n",
    "    # 1. Remove HTML tags using a regex pattern\n",
    "    review = re.sub(r\"<.*?>\", \"\", review)  # Remove HTML tags\n",
    "\n",
    "    # 2. Replace URLs with a placeholder \"URL\"\n",
    "    review = re.sub(r'http[s]?://\\S+', 'URL', review)\n",
    "\n",
    "    # 3. Convert to lowercase\n",
    "    review = review.lower()\n",
    "\n",
    "    # 4. Normalize whitespace (remove any leftover <br /> or extra spaces)\n",
    "    review = re.sub(r\"\\s+\", \" \", review).strip()\n",
    "\n",
    "    # 5. Remove special characters, numbers, and punctuation\n",
    "    review = re.sub(r\"[^a-z\\s]\", \"\", review)\n",
    "\n",
    "    # 6. Tokenize the text into words\n",
    "    words = word_tokenize(review)\n",
    "\n",
    "    # 7. Remove stopwords\n",
    "    words = [word for word in words if word not in stop_words]\n",
    "    \n",
    "    # 8. Lemmatize the tokens\n",
    "    lemmatized_words = [lemmatizer.lemmatize(word) for word in words]\n",
    "\n",
    "    # 9. Convert back to string\n",
    "    cleaned_text = \" \".join(lemmatized_words)\n",
    "    \n",
    "    return cleaned_text, lemmatized_words"
   ]
  },
  {
   "cell_type": "code",
   "execution_count": 13,
   "id": "33dba9d0-56cd-4dde-b74b-4646814cc44a",
   "metadata": {},
   "outputs": [],
   "source": [
    "# Select 100 random rows\n",
    "random_sample = df.sample(100, random_state=42)"
   ]
  },
  {
   "cell_type": "code",
   "execution_count": 14,
   "id": "67025b8f",
   "metadata": {
    "scrolled": true
   },
   "outputs": [],
   "source": [
    "# Apply text cleaning\n",
    "random_sample[[\"cleaned_text\", \"tokens\"]] = random_sample[\"review\"].apply(clean_text).apply(pd.Series)"
   ]
  },
  {
   "cell_type": "code",
   "execution_count": 15,
   "id": "dd87b560",
   "metadata": {
    "scrolled": true
   },
   "outputs": [
    {
     "name": "stdout",
     "output_type": "stream",
     "text": [
      "                                                                                                                                                                                                                                                                                                                                                                                                                                                                                                                                                                                                                                                                                                                                                                                                                                                                                                                                                                                                                                                                                                                                                                                                                                                                                                                                                                                                                                                                                                                                                                                                                                                                                                                                                                                                                                                                                                                                                                                                                                                                                                                                       review  \\\n",
      "33553                                                                                                                                                                                                                                                                                                                                                                                                                                                                                                                                                                                                                                                                                                                                                                                                                                                                                                                                                                                     I really liked this Summerslam due to the look of the arena, the curtains and just the look overall was interesting to me for some reason. Anyways, this could have been one of the best Summerslam's ever if the WWF didn't have Lex Luger in the main event against Yokozuna, now for it's time it was ok to have a huge fat man vs a strong man but I'm glad times have changed. It was a terrible main event just like every match Luger is in is terrible. Other matches on the card were Razor Ramon vs Ted Dibiase, Steiner Brothers vs Heavenly Bodies, Shawn Michaels vs Curt Hening, this was the event where Shawn named his big monster of a body guard Diesel, IRS vs 1-2-3 Kid, Bret Hart first takes on Doink then takes on Jerry Lawler and stuff with the Harts and Lawler was always very interesting, then Ludvig Borga destroyed Marty Jannetty, Undertaker took on Giant Gonzalez in another terrible match, The Smoking Gunns and Tatanka took on Bam Bam Bigelow and the Headshrinkers, and Yokozuna defended the world title against Lex Luger this match was boring and it has a terrible ending. However it deserves 8/10   \n",
      "9427   Not many television shows appeal to quite as many different kinds of fans like Farscape does...I know youngsters and 30/40+ years old;fans both Male and Female in as many different countries as you can think of that just adore this T.V miniseries. It has elements that can be found in almost every other show on T.V, character driven drama that could be from an Australian soap opera; yet in the same episode it has science fact & fiction that would give even the hardiest \"Trekkie\" a run for his money in the brainbender stakes! Wormhole theory, Time Travel in true equational form...Magnificent. It embraces cultures from all over the map as the possibilities are endless having multiple stars and therefore thousands of planets to choose from.<br /><br />With such a broad scope; it would be expected that nothing would be able to keep up the illusion for long, but here is where \"Farscape\" really comes into it's own element...It succeeds where all others have failed, especially the likes of Star Trek (a universe with practically zero Kaos element!) They ran out of ideas pretty quickly + kept rehashing them! Over the course of 4 seasons they manage to keep the audience's attention using good continuity and constant character evolution with multiple threads to every episode with unique personal touches to camera that are specific to certain character groups within the whole. This structure allows for an extremely large area of subject matter as loyalties are forged and broken in many ways on many many issues. I happened to see the pilot (Premiere) in passing and just had to keep tuning in after that to see if Crichton would ever \"Get the girl\", after seeing them all on television I was delighted to see them available on DVD & I have to admit that it was the only thing that kept me sane whilst I had to do a 12 hour night shift and developed chronic insomnia...Farscape was the only thing to get me through those extremely long nights...<br /><br />Do yourself a favour; Watch the pilot and see what I mean...<br /><br />Farscape Comet   \n",
      "22949                                                                                                                                                                                                                                                                                                                                                                                                                            Hammerhead is a combination between the mad scientist and killer shark movie genres. In a bit of type-casting, Jeffrey Combs plays the aforementioned mad scientist who develops a human/hammerhead shark creature. Bizarrely, this being is in fact his son, who he has turned into this monster to prevent him dying from cancer. Or something.<br /><br />A group of associates are invited to the scientist's private island. They end up being used as shark bait or shark mate. For some unknown reason the head of IT has been brought along as part of this team. Who knows why? Luckily, he turns out to be a resourceful, if somewhat overweight, Ramboesque hero. I'm working on the assumption that he learnt how to handle an assault rifle as part of his day job working in 1st line support. A normal day for this IT man presumably involves fixing someone's network connection followed by a call to gun down gun-toting evil-doers. Or perhaps a call to fix someone's PC has to be scheduled between physical confrontations with land-based human-shark hybrids? Anyway, he's amazing and saves the day. He even get's the girl.<br /><br />The shark-man is a slightly lame creation but OK, I guess, judging by the effects in general in this film. And the movie moves on at a decent pace. It's complete hokum of course but if you buy a movie called Hammerhead and expect it to be a complex drama about the emotional conflicts experienced by a man turned into a land-based killer fish, then really you have no one to blame but yourself. As it is, there are guns, gore, girls and possibly even an exploding helicopter. It's rubbish but not as bad as some might say.   \n",
      "32207                                                                                                                                                                                                                                                                                                                                                                                                                                                                                                                                                                                                                                                                                                                                                                                                                                                                                                                                                                                                                                                                                                                                                                                                                         May Contain Spoilers.<br /><br />An innocent trailer park or maybe 'Compton' LA white kid witnesses a terrible childhood tragedy relating to drugs and violence. An unprofessional but dedicated police partners try to take down a 'sophisticated' high end club drug ring only to be fired and chewed out by the the drug lords high priced attorneys. The plot thickens as more people come back to seek vengeance and justice with a predictable ending. The only memorable part was a walk-on by Ron Jeremy.<br /><br />If I was in a movie theater I would have asked for a refund. I feel sorry for the poor actors in this movie. It was just awful and painful to watch. The worst part was the cinematography were the director kept flashing back within the same scene so the sound would not quite match. And NO it was not a codec nor DVD problem but an intentional technique. Ughh. Two Stars.   \n",
      "42294                                                                                                                                                                                                                                                                                                                                                                                                                                                                                                                                                                                                                                                                                                                                                                                                                                                                                                                                                                                                                                                                                                                                  This was a popular movie probably because of the humor in it, the fast-moving story, an underdog character who shuts up all the loudmouths, etc. Funny thing is, you probably couldn't make a movie with this title if you substituted anybody but \"white\" as anything else would be deemed racist by the PC police. <br /><br />Nonetheless, Woody Harrleson as the white guy who turns out to be as good if not better than any of the black basketball players, is interesting as is his main counterpart Wesley Snipes.<br /><br />Snipes had a lot of funny put-down lines, providing much of the humor. The bad part of the film - which doesn't bother a lot of people - is the extreme profanity in here and the sleaziness of all the characters. That includes Woody's girlfriend, played by Rosie Perez. There are no really clean, nice people in this movie. For that reason, I can't honestly recommend the film, at least not to friends or those who are offended by a lotof profanity   \n",
      "\n",
      "                                                                                                                                                                                                                                                                                                                                                                                                                                                                                                                                                                                                                                                                                                                                                                                                                                                                                                                                                                                                                                                                                                                                                                                                                                                                                                                                                         cleaned_text  \n",
      "33553                                                                                                                                                                                                                                                                                                                                                                                                                                                                                                                                                                                               really liked summerslam due look arena curtain look overall interesting reason anyways could one best summerslams ever wwf didnt lex luger main event yokozuna time ok huge fat man v strong man im glad time changed terrible main event like every match luger terrible match card razor ramon v ted dibiase steiner brother v heavenly body shawn michael v curt hening event shawn named big monster body guard diesel irs v kid bret hart first take doink take jerry lawler stuff hart lawler always interesting ludvig borga destroyed marty jannetty undertaker took giant gonzalez another terrible match smoking gunns tatanka took bam bam bigelow headshrinkers yokozuna defended world title lex luger match boring terrible ending however deserves  \n",
      "9427   many television show appeal quite many different kind fan like farscape doesi know youngster year oldfans male female many different country think adore tv miniseries element found almost every show tv character driven drama could australian soap opera yet episode science fact fiction would give even hardiest trekkie run money brainbender stake wormhole theory time travel true equational formmagnificent embrace culture map possibility endless multiple star therefore thousand planet choose fromwith broad scope would expected nothing would able keep illusion long farscape really come elementit succeeds others failed especially like star trek universe practically zero kaos element ran idea pretty quickly kept rehashing course season manage keep audience attention using good continuity constant character evolution multiple thread every episode unique personal touch camera specific certain character group within whole structure allows extremely large area subject matter loyalty forged broken many way many many issue happened see pilot premiere passing keep tuning see crichton would ever get girl seeing television delighted see available dvd admit thing kept sane whilst hour night shift developed chronic insomniafarscape thing get extremely long nightsdo favour watch pilot see meanfarscape comet  \n",
      "22949                                                                                                                                                                                                                                                           hammerhead combination mad scientist killer shark movie genre bit typecasting jeffrey comb play aforementioned mad scientist develops humanhammerhead shark creature bizarrely fact son turned monster prevent dying cancer somethinga group associate invited scientist private island end used shark bait shark mate unknown reason head brought along part team know luckily turn resourceful somewhat overweight ramboesque hero im working assumption learnt handle assault rifle part day job working st line support normal day man presumably involves fixing someone network connection followed call gun guntoting evildoer perhaps call fix someone pc scheduled physical confrontation landbased humanshark hybrid anyway he amazing save day even get girlthe sharkman slightly lame creation ok guess judging effect general film movie move decent pace complete hokum course buy movie called hammerhead expect complex drama emotional conflict experienced man turned landbased killer fish really one blame gun gore girl possibly even exploding helicopter rubbish bad might say  \n",
      "32207                                                                                                                                                                                                                                                                                                                                                                                                                                                                                                                                                                                                                                                                                                                                              may contain spoilersan innocent trailer park maybe compton la white kid witness terrible childhood tragedy relating drug violence unprofessional dedicated police partner try take sophisticated high end club drug ring fired chewed drug lord high priced attorney plot thickens people come back seek vengeance justice predictable ending memorable part walkon ron jeremyif movie theater would asked refund feel sorry poor actor movie awful painful watch worst part cinematography director kept flashing back within scene sound would quite match codec dvd problem intentional technique ughh two star  \n",
      "42294                                                                                                                                                                                                                                                                                                                                                                                                                                                                                                                                                                                                                                                                                                                                       popular movie probably humor fastmoving story underdog character shuts loudmouth etc funny thing probably couldnt make movie title substituted anybody white anything else would deemed racist pc police nonetheless woody harrleson white guy turn good better black basketball player interesting main counterpart wesley snipessnipes lot funny putdown line providing much humor bad part film doesnt bother lot people extreme profanity sleaziness character includes woodys girlfriend played rosie perez really clean nice people movie reason cant honestly recommend film least friend offended lotof profanity  \n"
     ]
    }
   ],
   "source": [
    "# Spot-checking\n",
    "spotcheck_sample = random_sample[[\"review\", \"cleaned_text\"]].sample(5, random_state=45)\n",
    "print(spotcheck_sample)"
   ]
  },
  {
   "cell_type": "code",
   "execution_count": 16,
   "id": "262438e7",
   "metadata": {
    "scrolled": true
   },
   "outputs": [
    {
     "name": "stdout",
     "output_type": "stream",
     "text": [
      "                                                                                                                                                                                                                                                                                                                                                                                                                                                                                                                                                                                                                                                                                                                                                                                                                                                                                                                                                                                                                                                                                                                                                                                                                                                                                                                                                                                                                                                                                                                                                                                                                                                                                                             review  \\\n",
      "22949  Hammerhead is a combination between the mad scientist and killer shark movie genres. In a bit of type-casting, Jeffrey Combs plays the aforementioned mad scientist who develops a human/hammerhead shark creature. Bizarrely, this being is in fact his son, who he has turned into this monster to prevent him dying from cancer. Or something.<br /><br />A group of associates are invited to the scientist's private island. They end up being used as shark bait or shark mate. For some unknown reason the head of IT has been brought along as part of this team. Who knows why? Luckily, he turns out to be a resourceful, if somewhat overweight, Ramboesque hero. I'm working on the assumption that he learnt how to handle an assault rifle as part of his day job working in 1st line support. A normal day for this IT man presumably involves fixing someone's network connection followed by a call to gun down gun-toting evil-doers. Or perhaps a call to fix someone's PC has to be scheduled between physical confrontations with land-based human-shark hybrids? Anyway, he's amazing and saves the day. He even get's the girl.<br /><br />The shark-man is a slightly lame creation but OK, I guess, judging by the effects in general in this film. And the movie moves on at a decent pace. It's complete hokum of course but if you buy a movie called Hammerhead and expect it to be a complex drama about the emotional conflicts experienced by a man turned into a land-based killer fish, then really you have no one to blame but yourself. As it is, there are guns, gore, girls and possibly even an exploding helicopter. It's rubbish but not as bad as some might say.   \n",
      "199                                                                                                                                                                                                                                                                                                                                                                                                                                                                                                                                                                                                                                                                                                                                                                                                                                                                                                                                                                                                                                   The film quickly gets to a major chase scene with ever increasing destruction. The first really bad thing is the guy hijacking Steven Seagal would have been beaten to pulp by Seagal's driving, but that probably would have ended the whole premise for the movie.<br /><br />It seems like they decided to make all kinds of changes in the movie plot, so just plan to enjoy the action, and do not expect a coherent plot. Turn any sense of logic you may have, it will reduce your chance of getting a headache.<br /><br />I does give me some hope that Steven Seagal is trying to move back towards the type of characters he portrayed in his more popular movies.   \n",
      "3850                                                                                                                                                                                                                                                                                                                                                                                                                                                                                                                                                                                                                                                                                                                                                                                                                                                                                                                                                                                                                                                                                                                                 Once again Bronson's talent is mostly wasted on this shock value 1984 thriller which (uncut) is far more disturbing than most of what is out even today. The fact that \"The Evil That Men Do\" is very disturbing (in its verbal and visual depictions of torture) is not the problem. It is the shameless gratuity in which it is presented. Interestingly, this film seems to symbolize that latter part of Bronson's career in which he has tortured many of his fans with the same egregiously predictable and uncreative plots. One hopes this fine actor will rise again.   \n",
      "18471                                                                                                                                                                                                                                                                                                                                                                                                                                                                       We can start with the wooden acting but this film is a disaster. Having grown up in NY I can tell you that this film is an insult to anyone who is familiar with the community or the people. I'm not even a defender of the culture in any way and found this to be a Hollywoodized piece of trash to fit its own fictional, ridiculous culture presentation and language that anyone who watches Seinfeld knows is inaccurate. This is a colossal waste of time and, even worse, is not exactly interesting since the outcome is obvious and the scenes of confrontation are laughably bad. Who acts this way? Nobody.<br /><br />The writer's name sounds Israeli or something of that nature but it is clear he doesn't have a clue about the subject he is writing about. Looking at his bio, it is shocking he lived in New York and wonder how much real connection he had with the community. Even mediocre films like \"A Stranger Among Us\" are better and more closer to the truth than this dreck. Reading this guy's credits it's no wonder he has written scripts on all C grade films that somehow feature stars. shocking. Perhaps he knows someone because this script is even below par for a bad Dolph Lundgren film.   \n",
      "24148                                                                                                                                                                                                                                                                                                                                                                                                                                                                                                                                                                                                                                                                                                                                                                                                                                                                                                                                                                                                                         This film, won't win any awards for greatness. But if you have an hour and a half free and fancy a bit of light hearted entertainment then you could do much worse than watch this...<br /><br />The cast are mostly young and pretty, the script has some genuinely funny moments and the soundtrack is pretty cool too. Rupert Penry-Jones as Jake seems to have the most fun, while Laura Fraser as Justine is sweet, likable and funny.<br /><br />I rented it because I like the series 'Spooks' that RPJ is currently starring in. And here he's young and buff and the perfect eye candy for a girls night in.<br /><br />Get some wine and some ice cream and have a chuckle.   \n",
      "\n",
      "                                                                                                                                                                                                                                                                                                                                                                                                                                                                                                                                                                                                                                                                                                                                                                                                                                                                                                                                                                                                                                                                                                cleaned_text  \\\n",
      "22949  hammerhead combination mad scientist killer shark movie genre bit typecasting jeffrey comb play aforementioned mad scientist develops humanhammerhead shark creature bizarrely fact son turned monster prevent dying cancer somethinga group associate invited scientist private island end used shark bait shark mate unknown reason head brought along part team know luckily turn resourceful somewhat overweight ramboesque hero im working assumption learnt handle assault rifle part day job working st line support normal day man presumably involves fixing someone network connection followed call gun guntoting evildoer perhaps call fix someone pc scheduled physical confrontation landbased humanshark hybrid anyway he amazing save day even get girlthe sharkman slightly lame creation ok guess judging effect general film movie move decent pace complete hokum course buy movie called hammerhead expect complex drama emotional conflict experienced man turned landbased killer fish really one blame gun gore girl possibly even exploding helicopter rubbish bad might say   \n",
      "199                                                                                                                                                                                                                                                                                                                                                                                                                                                                                                                                                                                                                                                                        film quickly get major chase scene ever increasing destruction first really bad thing guy hijacking steven seagal would beaten pulp seagals driving probably would ended whole premise movieit seems like decided make kind change movie plot plan enjoy action expect coherent plot turn sense logic may reduce chance getting headachei give hope steven seagal trying move back towards type character portrayed popular movie   \n",
      "3850                                                                                                                                                                                                                                                                                                                                                                                                                                                                                                                                                                                                                                                                                                                                                                      bronsons talent mostly wasted shock value thriller uncut far disturbing even today fact evil men disturbing verbal visual depiction torture problem shameless gratuity presented interestingly film seems symbolize latter part bronsons career tortured many fan egregiously predictable uncreative plot one hope fine actor rise   \n",
      "18471                                                                                                                                                                                                                                                                                                                                         start wooden acting film disaster grown ny tell film insult anyone familiar community people im even defender culture way found hollywoodized piece trash fit fictional ridiculous culture presentation language anyone watch seinfeld know inaccurate colossal waste time even worse exactly interesting since outcome obvious scene confrontation laughably bad act way nobodythe writer name sound israeli something nature clear doesnt clue subject writing looking bio shocking lived new york wonder much real connection community even mediocre film like stranger among u better closer truth dreck reading guy credit wonder written script c grade film somehow feature star shocking perhaps know someone script even par bad dolph lundgren film   \n",
      "24148                                                                                                                                                                                                                                                                                                                                                                                                                                                                                                                                                                                                                                                                                                     film wont win award greatness hour half free fancy bit light hearted entertainment could much worse watch thisthe cast mostly young pretty script genuinely funny moment soundtrack pretty cool rupert penryjones jake seems fun laura fraser justine sweet likable funnyi rented like series spook rpj currently starring he young buff perfect eye candy girl night inget wine ice cream chuckle   \n",
      "\n",
      "                                                                                                                                                                                                                                                                                                                                                                                                                                                                                                                                                                                                                                                                                                                                                                                                                                                                                                                                                                                                                                                                                                                                                                                                                                                                                                                                                                                                                                                                                                                                                                                                                       Bigrams  \\\n",
      "22949  [hammerhead_combination, combination_mad, mad_scientist, scientist_killer, killer_shark, shark_movie, movie_genre, genre_bit, bit_typecasting, typecasting_jeffrey, jeffrey_comb, comb_play, play_aforementioned, aforementioned_mad, mad_scientist, scientist_develops, develops_humanhammerhead, humanhammerhead_shark, shark_creature, creature_bizarrely, bizarrely_fact, fact_son, son_turned, turned_monster, monster_prevent, prevent_dying, dying_cancer, cancer_somethinga, somethinga_group, group_associate, associate_invited, invited_scientist, scientist_private, private_island, island_end, end_used, used_shark, shark_bait, bait_shark, shark_mate, mate_unknown, unknown_reason, reason_head, head_brought, brought_along, along_part, part_team, team_know, know_luckily, luckily_turn, turn_resourceful, resourceful_somewhat, somewhat_overweight, overweight_ramboesque, ramboesque_hero, hero_im, im_working, working_assumption, assumption_learnt, learnt_handle, handle_assault, assault_rifle, rifle_part, part_day, day_job, job_working, working_st, st_line, line_support, support_normal, normal_day, day_man, man_presumably, presumably_involves, involves_fixing, fixing_someone, someone_network, network_connection, connection_followed, followed_call, call_gun, gun_guntoting, guntoting_evildoer, evildoer_perhaps, perhaps_call, call_fix, fix_someone, someone_pc, pc_scheduled, scheduled_physical, physical_confrontation, confrontation_landbased, landbased_humanshark, humanshark_hybrid, hybrid_anyway, anyway_he, he_amazing, amazing_save, save_day, day_even, ...]   \n",
      "199                                                                                                                                                                                                                                                                                                                                                                                                                                                                                                                                                                                                                                                                                                    [film_quickly, quickly_get, get_major, major_chase, chase_scene, scene_ever, ever_increasing, increasing_destruction, destruction_first, first_really, really_bad, bad_thing, thing_guy, guy_hijacking, hijacking_steven, steven_seagal, seagal_would, would_beaten, beaten_pulp, pulp_seagals, seagals_driving, driving_probably, probably_would, would_ended, ended_whole, whole_premise, premise_movieit, movieit_seems, seems_like, like_decided, decided_make, make_kind, kind_change, change_movie, movie_plot, plot_plan, plan_enjoy, enjoy_action, action_expect, expect_coherent, coherent_plot, plot_turn, turn_sense, sense_logic, logic_may, may_reduce, reduce_chance, chance_getting, getting_headachei, headachei_give, give_hope, hope_steven, steven_seagal, seagal_trying, trying_move, move_back, back_towards, towards_type, type_character, character_portrayed, portrayed_popular, popular_movie]   \n",
      "3850                                                                                                                                                                                                                                                                                                                                                                                                                                                                                                                                                                                                                                                                                                                                                                                                                                                                                                                       [bronsons_talent, talent_mostly, mostly_wasted, wasted_shock, shock_value, value_thriller, thriller_uncut, uncut_far, far_disturbing, disturbing_even, even_today, today_fact, fact_evil, evil_men, men_disturbing, disturbing_verbal, verbal_visual, visual_depiction, depiction_torture, torture_problem, problem_shameless, shameless_gratuity, gratuity_presented, presented_interestingly, interestingly_film, film_seems, seems_symbolize, symbolize_latter, latter_part, part_bronsons, bronsons_career, career_tortured, tortured_many, many_fan, fan_egregiously, egregiously_predictable, predictable_uncreative, uncreative_plot, plot_one, one_hope, hope_fine, fine_actor, actor_rise]   \n",
      "18471                                                                 [start_wooden, wooden_acting, acting_film, film_disaster, disaster_grown, grown_ny, ny_tell, tell_film, film_insult, insult_anyone, anyone_familiar, familiar_community, community_people, people_im, im_even, even_defender, defender_culture, culture_way, way_found, found_hollywoodized, hollywoodized_piece, piece_trash, trash_fit, fit_fictional, fictional_ridiculous, ridiculous_culture, culture_presentation, presentation_language, language_anyone, anyone_watch, watch_seinfeld, seinfeld_know, know_inaccurate, inaccurate_colossal, colossal_waste, waste_time, time_even, even_worse, worse_exactly, exactly_interesting, interesting_since, since_outcome, outcome_obvious, obvious_scene, scene_confrontation, confrontation_laughably, laughably_bad, bad_act, act_way, way_nobodythe, nobodythe_writer, writer_name, name_sound, sound_israeli, israeli_something, something_nature, nature_clear, clear_doesnt, doesnt_clue, clue_subject, subject_writing, writing_looking, looking_bio, bio_shocking, shocking_lived, lived_new, new_york, york_wonder, wonder_much, much_real, real_connection, connection_community, community_even, even_mediocre, mediocre_film, film_like, like_stranger, stranger_among, among_u, u_better, better_closer, closer_truth, truth_dreck, dreck_reading, reading_guy, guy_credit, credit_wonder, wonder_written, written_script, script_c, c_grade, grade_film, film_somehow, somehow_feature, feature_star, star_shocking, shocking_perhaps, perhaps_know, know_someone, someone_script, ...]   \n",
      "24148                                                                                                                                                                                                                                                                                                                                                                                                                                                                                                                                                                                                                                                                                                                                                                     [film_wont, wont_win, win_award, award_greatness, greatness_hour, hour_half, half_free, free_fancy, fancy_bit, bit_light, light_hearted, hearted_entertainment, entertainment_could, could_much, much_worse, worse_watch, watch_thisthe, thisthe_cast, cast_mostly, mostly_young, young_pretty, pretty_script, script_genuinely, genuinely_funny, funny_moment, moment_soundtrack, soundtrack_pretty, pretty_cool, cool_rupert, rupert_penryjones, penryjones_jake, jake_seems, seems_fun, fun_laura, laura_fraser, fraser_justine, justine_sweet, sweet_likable, likable_funnyi, funnyi_rented, rented_like, like_series, series_spook, spook_rpj, rpj_currently, currently_starring, starring_he, he_young, young_buff, buff_perfect, perfect_eye, eye_candy, candy_girl, girl_night, night_inget, inget_wine, wine_ice, ice_cream, cream_chuckle]   \n",
      "\n",
      "                                                                                                                                                                                                                                                                                                                                                                                                                                                                                                                                                                                                                                                                                                                                                                                                                                                                                                                                                                                                                                                                                                                                                                                                                                                                                                                                                                                                                                                                                                                                                                                                                                                                                                                                                                                                                                                                                                                                                                                                                                                                                                                                                                                                                                                                                                                                                                  Trigrams  \n",
      "22949  [hammerhead_combination_mad, combination_mad_scientist, mad_scientist_killer, scientist_killer_shark, killer_shark_movie, shark_movie_genre, movie_genre_bit, genre_bit_typecasting, bit_typecasting_jeffrey, typecasting_jeffrey_comb, jeffrey_comb_play, comb_play_aforementioned, play_aforementioned_mad, aforementioned_mad_scientist, mad_scientist_develops, scientist_develops_humanhammerhead, develops_humanhammerhead_shark, humanhammerhead_shark_creature, shark_creature_bizarrely, creature_bizarrely_fact, bizarrely_fact_son, fact_son_turned, son_turned_monster, turned_monster_prevent, monster_prevent_dying, prevent_dying_cancer, dying_cancer_somethinga, cancer_somethinga_group, somethinga_group_associate, group_associate_invited, associate_invited_scientist, invited_scientist_private, scientist_private_island, private_island_end, island_end_used, end_used_shark, used_shark_bait, shark_bait_shark, bait_shark_mate, shark_mate_unknown, mate_unknown_reason, unknown_reason_head, reason_head_brought, head_brought_along, brought_along_part, along_part_team, part_team_know, team_know_luckily, know_luckily_turn, luckily_turn_resourceful, turn_resourceful_somewhat, resourceful_somewhat_overweight, somewhat_overweight_ramboesque, overweight_ramboesque_hero, ramboesque_hero_im, hero_im_working, im_working_assumption, working_assumption_learnt, assumption_learnt_handle, learnt_handle_assault, handle_assault_rifle, assault_rifle_part, rifle_part_day, part_day_job, day_job_working, job_working_st, working_st_line, st_line_support, line_support_normal, support_normal_day, normal_day_man, day_man_presumably, man_presumably_involves, presumably_involves_fixing, involves_fixing_someone, fixing_someone_network, someone_network_connection, network_connection_followed, connection_followed_call, followed_call_gun, call_gun_guntoting, gun_guntoting_evildoer, guntoting_evildoer_perhaps, evildoer_perhaps_call, perhaps_call_fix, call_fix_someone, fix_someone_pc, someone_pc_scheduled, pc_scheduled_physical, scheduled_physical_confrontation, physical_confrontation_landbased, confrontation_landbased_humanshark, landbased_humanshark_hybrid, humanshark_hybrid_anyway, hybrid_anyway_he, anyway_he_amazing, he_amazing_save, amazing_save_day, save_day_even, day_even_get, ...]  \n",
      "199                                                                                                                                                                                                                                                                                                                                                                                                                                                                                                                                                                                                                                                                                                                                                                                                                                                                                                                                                                                                                                          [film_quickly_get, quickly_get_major, get_major_chase, major_chase_scene, chase_scene_ever, scene_ever_increasing, ever_increasing_destruction, increasing_destruction_first, destruction_first_really, first_really_bad, really_bad_thing, bad_thing_guy, thing_guy_hijacking, guy_hijacking_steven, hijacking_steven_seagal, steven_seagal_would, seagal_would_beaten, would_beaten_pulp, beaten_pulp_seagals, pulp_seagals_driving, seagals_driving_probably, driving_probably_would, probably_would_ended, would_ended_whole, ended_whole_premise, whole_premise_movieit, premise_movieit_seems, movieit_seems_like, seems_like_decided, like_decided_make, decided_make_kind, make_kind_change, kind_change_movie, change_movie_plot, movie_plot_plan, plot_plan_enjoy, plan_enjoy_action, enjoy_action_expect, action_expect_coherent, expect_coherent_plot, coherent_plot_turn, plot_turn_sense, turn_sense_logic, sense_logic_may, logic_may_reduce, may_reduce_chance, reduce_chance_getting, chance_getting_headachei, getting_headachei_give, headachei_give_hope, give_hope_steven, hope_steven_seagal, steven_seagal_trying, seagal_trying_move, trying_move_back, move_back_towards, back_towards_type, towards_type_character, type_character_portrayed, character_portrayed_popular, portrayed_popular_movie]  \n",
      "3850                                                                                                                                                                                                                                                                                                                                                                                                                                                                                                                                                                                                                                                                                                                                                                                                                                                                                                                                                                                                                                                                                                                                                                                                                                                                                                                                                            [bronsons_talent_mostly, talent_mostly_wasted, mostly_wasted_shock, wasted_shock_value, shock_value_thriller, value_thriller_uncut, thriller_uncut_far, uncut_far_disturbing, far_disturbing_even, disturbing_even_today, even_today_fact, today_fact_evil, fact_evil_men, evil_men_disturbing, men_disturbing_verbal, disturbing_verbal_visual, verbal_visual_depiction, visual_depiction_torture, depiction_torture_problem, torture_problem_shameless, problem_shameless_gratuity, shameless_gratuity_presented, gratuity_presented_interestingly, presented_interestingly_film, interestingly_film_seems, film_seems_symbolize, seems_symbolize_latter, symbolize_latter_part, latter_part_bronsons, part_bronsons_career, bronsons_career_tortured, career_tortured_many, tortured_many_fan, many_fan_egregiously, fan_egregiously_predictable, egregiously_predictable_uncreative, predictable_uncreative_plot, uncreative_plot_one, plot_one_hope, one_hope_fine, hope_fine_actor, fine_actor_rise]  \n",
      "18471                                                                                       [start_wooden_acting, wooden_acting_film, acting_film_disaster, film_disaster_grown, disaster_grown_ny, grown_ny_tell, ny_tell_film, tell_film_insult, film_insult_anyone, insult_anyone_familiar, anyone_familiar_community, familiar_community_people, community_people_im, people_im_even, im_even_defender, even_defender_culture, defender_culture_way, culture_way_found, way_found_hollywoodized, found_hollywoodized_piece, hollywoodized_piece_trash, piece_trash_fit, trash_fit_fictional, fit_fictional_ridiculous, fictional_ridiculous_culture, ridiculous_culture_presentation, culture_presentation_language, presentation_language_anyone, language_anyone_watch, anyone_watch_seinfeld, watch_seinfeld_know, seinfeld_know_inaccurate, know_inaccurate_colossal, inaccurate_colossal_waste, colossal_waste_time, waste_time_even, time_even_worse, even_worse_exactly, worse_exactly_interesting, exactly_interesting_since, interesting_since_outcome, since_outcome_obvious, outcome_obvious_scene, obvious_scene_confrontation, scene_confrontation_laughably, confrontation_laughably_bad, laughably_bad_act, bad_act_way, act_way_nobodythe, way_nobodythe_writer, nobodythe_writer_name, writer_name_sound, name_sound_israeli, sound_israeli_something, israeli_something_nature, something_nature_clear, nature_clear_doesnt, clear_doesnt_clue, doesnt_clue_subject, clue_subject_writing, subject_writing_looking, writing_looking_bio, looking_bio_shocking, bio_shocking_lived, shocking_lived_new, lived_new_york, new_york_wonder, york_wonder_much, wonder_much_real, much_real_connection, real_connection_community, connection_community_even, community_even_mediocre, even_mediocre_film, mediocre_film_like, film_like_stranger, like_stranger_among, stranger_among_u, among_u_better, u_better_closer, better_closer_truth, closer_truth_dreck, truth_dreck_reading, dreck_reading_guy, reading_guy_credit, guy_credit_wonder, credit_wonder_written, wonder_written_script, written_script_c, script_c_grade, c_grade_film, grade_film_somehow, film_somehow_feature, somehow_feature_star, feature_star_shocking, star_shocking_perhaps, shocking_perhaps_know, perhaps_know_someone, know_someone_script, someone_script_even, ...]  \n",
      "24148                                                                                                                                                                                                                                                                                                                                                                                                                                                                                                                                                                                                                                                                                                                                                                                                                                                                                                                                                                                                                                                                                                                                       [film_wont_win, wont_win_award, win_award_greatness, award_greatness_hour, greatness_hour_half, hour_half_free, half_free_fancy, free_fancy_bit, fancy_bit_light, bit_light_hearted, light_hearted_entertainment, hearted_entertainment_could, entertainment_could_much, could_much_worse, much_worse_watch, worse_watch_thisthe, watch_thisthe_cast, thisthe_cast_mostly, cast_mostly_young, mostly_young_pretty, young_pretty_script, pretty_script_genuinely, script_genuinely_funny, genuinely_funny_moment, funny_moment_soundtrack, moment_soundtrack_pretty, soundtrack_pretty_cool, pretty_cool_rupert, cool_rupert_penryjones, rupert_penryjones_jake, penryjones_jake_seems, jake_seems_fun, seems_fun_laura, fun_laura_fraser, laura_fraser_justine, fraser_justine_sweet, justine_sweet_likable, sweet_likable_funnyi, likable_funnyi_rented, funnyi_rented_like, rented_like_series, like_series_spook, series_spook_rpj, spook_rpj_currently, rpj_currently_starring, currently_starring_he, starring_he_young, he_young_buff, young_buff_perfect, buff_perfect_eye, perfect_eye_candy, eye_candy_girl, candy_girl_night, girl_night_inget, night_inget_wine, inget_wine_ice, wine_ice_cream, ice_cream_chuckle]  \n"
     ]
    }
   ],
   "source": [
    "# Function to generate bigrams and trigrams\n",
    "def generate_ngrams(text, n=2):\n",
    "    tokens = word_tokenize(text.lower())  \n",
    "    n_grams = list(ngrams(tokens, n))  \n",
    "    return [\"_\".join(gram) for gram in n_grams]  \n",
    "\n",
    "# Generate bigrams and trigrams\n",
    "random_sample[\"Bigrams\"] = random_sample[\"cleaned_text\"].apply(lambda x: generate_ngrams(x, 2) if isinstance(x, str) else [])\n",
    "random_sample[\"Trigrams\"] = random_sample[\"cleaned_text\"].apply(lambda x: generate_ngrams(x, 3) if isinstance(x, str) else [])\n",
    "\n",
    "# Check the results\n",
    "print(random_sample[[\"review\", \"cleaned_text\", \"Bigrams\", \"Trigrams\"]].sample(5))"
   ]
  },
  {
   "cell_type": "markdown",
   "id": "7fb14eb0-b67c-4a46-a83f-c567d7f50a7a",
   "metadata": {},
   "source": [
    "## TF-IDF Vectorizer"
   ]
  },
  {
   "cell_type": "code",
   "execution_count": 18,
   "id": "03b7372c",
   "metadata": {},
   "outputs": [
    {
     "name": "stdout",
     "output_type": "stream",
     "text": [
      "Feature matrix shape: (100, 28269)\n"
     ]
    }
   ],
   "source": [
    "from sklearn.feature_extraction.text import TfidfVectorizer\n",
    "\n",
    "# Initialize TfidfVectorizer for unigrams, bigrams, and trigrams\n",
    "tfidf_vectorizer = TfidfVectorizer(ngram_range=(1, 3))\n",
    "\n",
    "# Fit and transform the cleaned text from random_sample to create features\n",
    "X_tfidf = tfidf_vectorizer.fit_transform(random_sample[\"cleaned_text\"])\n",
    "\n",
    "# Display the shape of the feature matrix\n",
    "print(f\"Feature matrix shape: {X_tfidf.shape}\")"
   ]
  },
  {
   "cell_type": "code",
   "execution_count": 19,
   "id": "5185091a",
   "metadata": {},
   "outputs": [
    {
     "name": "stdout",
     "output_type": "stream",
     "text": [
      "Training set size: (80, 28269)\n",
      "Test set size: (20, 28269)\n"
     ]
    }
   ],
   "source": [
    "y = random_sample['sentiment']\n",
    "# Split data into training and testing sets (80% train, 20% test)\n",
    "X_train_tfidf, X_test_tfidf, y_train, y_test = train_test_split(X_tfidf, y, test_size=0.2, random_state=42)\n",
    "\n",
    "print(f\"Training set size: {X_train_tfidf.shape}\")\n",
    "print(f\"Test set size: {X_test_tfidf.shape}\")"
   ]
  },
  {
   "cell_type": "markdown",
   "id": "d5f17932",
   "metadata": {},
   "source": [
    "## Logistic Regression"
   ]
  },
  {
   "cell_type": "code",
   "execution_count": 21,
   "id": "8e0bc41f-4bae-433f-aa31-dd413f439f53",
   "metadata": {},
   "outputs": [
    {
     "name": "stdout",
     "output_type": "stream",
     "text": [
      "Logistic Regression (TF-IDF) Classification Report:\n",
      "              precision    recall  f1-score   support\n",
      "\n",
      "    negative       1.00      0.36      0.53        11\n",
      "    positive       0.56      1.00      0.72         9\n",
      "\n",
      "    accuracy                           0.65        20\n",
      "   macro avg       0.78      0.68      0.63        20\n",
      "weighted avg       0.80      0.65      0.62        20\n",
      "\n"
     ]
    }
   ],
   "source": [
    "# Initialize the Logistic Regression model\n",
    "log_reg_tfidf = LogisticRegression(class_weight='balanced', max_iter=1000)\n",
    "\n",
    "# Train the model\n",
    "log_reg_tfidf.fit(X_train_tfidf, y_train)\n",
    "\n",
    "# Make predictions\n",
    "y_pred_log_reg_tfidf = log_reg_tfidf.predict(X_test_tfidf)\n",
    "\n",
    "# Evaluate the model\n",
    "print(\"Logistic Regression (TF-IDF) Classification Report:\")\n",
    "print(classification_report(y_test, y_pred_log_reg_tfidf))"
   ]
  },
  {
   "cell_type": "code",
   "execution_count": 22,
   "id": "e936246b",
   "metadata": {
    "scrolled": true
   },
   "outputs": [
    {
     "name": "stdout",
     "output_type": "stream",
     "text": [
      "Logistic Regression (TF-IDF) Classification Report:\n",
      "              precision    recall  f1-score   support\n",
      "\n",
      "    negative       0.79      1.00      0.88        11\n",
      "    positive       1.00      0.67      0.80         9\n",
      "\n",
      "    accuracy                           0.85        20\n",
      "   macro avg       0.89      0.83      0.84        20\n",
      "weighted avg       0.88      0.85      0.84        20\n",
      "\n"
     ]
    }
   ],
   "source": [
    "# Initialize the Logistic Regression model\n",
    "log_reg_tfidf = LogisticRegression(class_weight='balanced', C=0.001, solver='lbfgs', max_iter=1000)\n",
    "\n",
    "# Train the model\n",
    "log_reg_tfidf.fit(X_train_tfidf, y_train)\n",
    "\n",
    "# Make predictions\n",
    "y_pred_log_reg_tfidf = log_reg_tfidf.predict(X_test_tfidf)\n",
    "\n",
    "# Evaluate the model\n",
    "print(\"Logistic Regression (TF-IDF) Classification Report:\")\n",
    "print(classification_report(y_test, y_pred_log_reg_tfidf))"
   ]
  },
  {
   "cell_type": "markdown",
   "id": "d3b88ea2",
   "metadata": {},
   "source": [
    "## Naive-Bayes"
   ]
  },
  {
   "cell_type": "code",
   "execution_count": 24,
   "id": "c9b26651",
   "metadata": {
    "scrolled": true
   },
   "outputs": [
    {
     "name": "stdout",
     "output_type": "stream",
     "text": [
      "Naive Bayes (TF-IDF) Classification Report:\n",
      "              precision    recall  f1-score   support\n",
      "\n",
      "    negative       1.00      0.18      0.31        11\n",
      "    positive       0.50      1.00      0.67         9\n",
      "\n",
      "    accuracy                           0.55        20\n",
      "   macro avg       0.75      0.59      0.49        20\n",
      "weighted avg       0.78      0.55      0.47        20\n",
      "\n"
     ]
    }
   ],
   "source": [
    "# Initialize the Naive Bayes model\n",
    "nb_tfidf = MultinomialNB()\n",
    "\n",
    "# Train the model\n",
    "nb_tfidf.fit(X_train_tfidf, y_train)\n",
    "\n",
    "# Make predictions\n",
    "y_pred_nb_tfidf = nb_tfidf.predict(X_test_tfidf)\n",
    "\n",
    "# Evaluate the model\n",
    "print(\"Naive Bayes (TF-IDF) Classification Report:\")\n",
    "print(classification_report(y_test, y_pred_nb_tfidf))\n"
   ]
  },
  {
   "cell_type": "markdown",
   "id": "e03c1cf9-4792-4ffc-9673-adf0078cd0e1",
   "metadata": {},
   "source": [
    "### Hyperparameter Tuning"
   ]
  },
  {
   "cell_type": "code",
   "execution_count": 26,
   "id": "500ab6c3-9177-48bf-9350-9f1dc9bb6ca3",
   "metadata": {},
   "outputs": [
    {
     "name": "stdout",
     "output_type": "stream",
     "text": [
      "Naive Bayes (TF-IDF) Classification Report:\n",
      "              precision    recall  f1-score   support\n",
      "\n",
      "    negative       0.75      0.82      0.78        11\n",
      "    positive       0.75      0.67      0.71         9\n",
      "\n",
      "    accuracy                           0.75        20\n",
      "   macro avg       0.75      0.74      0.74        20\n",
      "weighted avg       0.75      0.75      0.75        20\n",
      "\n"
     ]
    }
   ],
   "source": [
    "# Initialize the Naive Bayes model\n",
    "nb_tfidf = MultinomialNB(alpha=0.2)\n",
    "\n",
    "# Train the model\n",
    "nb_tfidf.fit(X_train_tfidf, y_train)\n",
    "\n",
    "# Make predictions\n",
    "y_pred_nb_tfidf = nb_tfidf.predict(X_test_tfidf)\n",
    "\n",
    "# Evaluate the model\n",
    "print(\"Naive Bayes (TF-IDF) Classification Report:\")\n",
    "print(classification_report(y_test, y_pred_nb_tfidf))"
   ]
  },
  {
   "cell_type": "markdown",
   "id": "3fdddcc8-c995-4cb9-bec6-a5ed9ac28c0f",
   "metadata": {},
   "source": [
    "## Decision Tree"
   ]
  },
  {
   "cell_type": "code",
   "execution_count": 28,
   "id": "f1785cec-84d1-4645-98a2-919986c2ecd4",
   "metadata": {
    "scrolled": true
   },
   "outputs": [
    {
     "name": "stdout",
     "output_type": "stream",
     "text": [
      "Decision Tree (TF-IDF) Classification Report:\n",
      "              precision    recall  f1-score   support\n",
      "\n",
      "    negative       0.67      0.73      0.70        11\n",
      "    positive       0.62      0.56      0.59         9\n",
      "\n",
      "    accuracy                           0.65        20\n",
      "   macro avg       0.65      0.64      0.64        20\n",
      "weighted avg       0.65      0.65      0.65        20\n",
      "\n"
     ]
    }
   ],
   "source": [
    "# Initialize the Decision Tree model\n",
    "dt_tfidf = DecisionTreeClassifier(random_state=42)\n",
    "\n",
    "# Train the model\n",
    "dt_tfidf.fit(X_train_tfidf, y_train)\n",
    "\n",
    "# Make predictions\n",
    "y_pred_dt_tfidf = dt_tfidf.predict(X_test_tfidf)\n",
    "\n",
    "# Evaluate the model\n",
    "print(\"Decision Tree (TF-IDF) Classification Report:\")\n",
    "print(classification_report(y_test, y_pred_dt_tfidf))\n"
   ]
  },
  {
   "cell_type": "markdown",
   "id": "ccf29a5e-651f-48e3-843e-9985ee50b768",
   "metadata": {},
   "source": [
    "### Hyperparameter Tuning"
   ]
  },
  {
   "cell_type": "code",
   "execution_count": 30,
   "id": "0399f918-eb78-4987-a3f9-2d2767191e02",
   "metadata": {},
   "outputs": [
    {
     "name": "stdout",
     "output_type": "stream",
     "text": [
      "Decision Tree (TF-IDF) Classification Report:\n",
      "              precision    recall  f1-score   support\n",
      "\n",
      "    negative       0.88      0.64      0.74        11\n",
      "    positive       0.67      0.89      0.76         9\n",
      "\n",
      "    accuracy                           0.75        20\n",
      "   macro avg       0.77      0.76      0.75        20\n",
      "weighted avg       0.78      0.75      0.75        20\n",
      "\n"
     ]
    }
   ],
   "source": [
    "# Initialize the Decision Tree model\n",
    "dt_tfidf = DecisionTreeClassifier(min_samples_leaf=0.5, random_state=42)\n",
    "\n",
    "# Train the model\n",
    "dt_tfidf.fit(X_train_tfidf, y_train)\n",
    "\n",
    "# Make predictions\n",
    "y_pred_dt_tfidf = dt_tfidf.predict(X_test_tfidf)\n",
    "\n",
    "# Evaluate the model\n",
    "print(\"Decision Tree (TF-IDF) Classification Report:\")\n",
    "print(classification_report(y_test, y_pred_dt_tfidf))"
   ]
  },
  {
   "cell_type": "markdown",
   "id": "f37c5633-c2aa-438f-a603-ae911b9a2d38",
   "metadata": {},
   "source": [
    "## Gradient Boosting (XGBoost)"
   ]
  },
  {
   "cell_type": "code",
   "execution_count": 32,
   "id": "80678e9c-9407-4b8b-a0a8-fd7ce5602ac8",
   "metadata": {
    "scrolled": true
   },
   "outputs": [
    {
     "name": "stdout",
     "output_type": "stream",
     "text": [
      "XGBoost (TF-IDF) Classification Report:\n",
      "              precision    recall  f1-score   support\n",
      "\n",
      "    negative       0.86      0.55      0.67        11\n",
      "    positive       0.62      0.89      0.73         9\n",
      "\n",
      "    accuracy                           0.70        20\n",
      "   macro avg       0.74      0.72      0.70        20\n",
      "weighted avg       0.75      0.70      0.69        20\n",
      "\n"
     ]
    }
   ],
   "source": [
    "# Convert string labels ('negative', 'positive') to numeric (0,1)\n",
    "label_encoder = LabelEncoder()\n",
    "y_train_encoded = label_encoder.fit_transform(y_train)  # Convert y_train\n",
    "y_test_encoded = label_encoder.transform(y_test)        # Convert y_test\n",
    "\n",
    "# Initialize XGBoost model\n",
    "xgb_tfidf = XGBClassifier(eval_metric='logloss')\n",
    "\n",
    "# Train the model\n",
    "xgb_tfidf.fit(X_train_tfidf, y_train_encoded)\n",
    "\n",
    "# Make predictions\n",
    "y_pred_xgb_tfidf = xgb_tfidf.predict(X_test_tfidf)\n",
    "\n",
    "# Convert predictions back to original labels (optional)\n",
    "y_pred_xgb_tfidf_labels = label_encoder.inverse_transform(y_pred_xgb_tfidf)\n",
    "\n",
    "# Evaluate the model\n",
    "print(\"XGBoost (TF-IDF) Classification Report:\")\n",
    "print(classification_report(y_test, y_pred_xgb_tfidf_labels))"
   ]
  },
  {
   "cell_type": "markdown",
   "id": "65d307c0-18b7-47ba-82b5-e9a2d69888e1",
   "metadata": {},
   "source": [
    "### Hyperparameter Tuning"
   ]
  },
  {
   "cell_type": "code",
   "execution_count": 34,
   "id": "0ead7b26-09bd-4107-b2f1-4deb0d52e985",
   "metadata": {},
   "outputs": [
    {
     "name": "stdout",
     "output_type": "stream",
     "text": [
      "XGBoost (TF-IDF) Classification Report:\n",
      "              precision    recall  f1-score   support\n",
      "\n",
      "    negative       0.90      0.82      0.86        11\n",
      "    positive       0.80      0.89      0.84         9\n",
      "\n",
      "    accuracy                           0.85        20\n",
      "   macro avg       0.85      0.85      0.85        20\n",
      "weighted avg       0.86      0.85      0.85        20\n",
      "\n"
     ]
    }
   ],
   "source": [
    "# Initialize XGBoost model\n",
    "xgb_tfidf = XGBClassifier(eval_metric='logloss', n_estimators=500, learning_rate=0.7, gamma=4)\n",
    "\n",
    "# Train the model\n",
    "xgb_tfidf.fit(X_train_tfidf, y_train_encoded)\n",
    "\n",
    "# Make predictions\n",
    "y_pred_xgb_tfidf = xgb_tfidf.predict(X_test_tfidf)\n",
    "\n",
    "# Convert predictions back to original labels (optional)\n",
    "y_pred_xgb_tfidf_labels = label_encoder.inverse_transform(y_pred_xgb_tfidf)\n",
    "\n",
    "# Evaluate the model\n",
    "print(\"XGBoost (TF-IDF) Classification Report:\")\n",
    "print(classification_report(y_test, y_pred_xgb_tfidf_labels))"
   ]
  },
  {
   "cell_type": "markdown",
   "id": "dc44aafa-46c1-42f7-91b3-ebd78d3acd02",
   "metadata": {},
   "source": [
    "## Gradient Boosting (LightGBM)"
   ]
  },
  {
   "cell_type": "code",
   "execution_count": 36,
   "id": "11abc662-f40b-4078-be85-1d328ac55843",
   "metadata": {
    "scrolled": true
   },
   "outputs": [
    {
     "name": "stdout",
     "output_type": "stream",
     "text": [
      "LightGBM (TF-IDF) Classification Report:\n",
      "              precision    recall  f1-score   support\n",
      "\n",
      "    negative       0.86      0.55      0.67        11\n",
      "    positive       0.62      0.89      0.73         9\n",
      "\n",
      "    accuracy                           0.70        20\n",
      "   macro avg       0.74      0.72      0.70        20\n",
      "weighted avg       0.75      0.70      0.69        20\n",
      "\n"
     ]
    }
   ],
   "source": [
    "# Initialize the LightGBM model\n",
    "lgb_tfidf = lgb.LGBMClassifier(verbose=-1)\n",
    "\n",
    "# Train the model\n",
    "lgb_tfidf.fit(X_train_tfidf, y_train_encoded)\n",
    "\n",
    "# Make predictions\n",
    "y_pred_lgb_tfidf = lgb_tfidf.predict(X_test_tfidf)\n",
    "\n",
    "# Convert predictions back to original labels (optional)\n",
    "y_pred_lgb_tfidf_labels = label_encoder.inverse_transform(y_pred_lgb_tfidf)\n",
    "\n",
    "# Evaluate the model\n",
    "print(\"LightGBM (TF-IDF) Classification Report:\")\n",
    "print(classification_report(y_test, y_pred_lgb_tfidf_labels))\n"
   ]
  },
  {
   "cell_type": "markdown",
   "id": "03169a1a-8e56-4a2a-9f2e-b314b04edcbd",
   "metadata": {},
   "source": [
    "### Hyperparameter Tuning"
   ]
  },
  {
   "cell_type": "code",
   "execution_count": 38,
   "id": "d4a6af6e-d676-4dc5-9595-f2274c46dc3d",
   "metadata": {},
   "outputs": [
    {
     "name": "stdout",
     "output_type": "stream",
     "text": [
      "LightGBM (TF-IDF) Classification Report:\n",
      "              precision    recall  f1-score   support\n",
      "\n",
      "    negative       1.00      0.64      0.78        11\n",
      "    positive       0.69      1.00      0.82         9\n",
      "\n",
      "    accuracy                           0.80        20\n",
      "   macro avg       0.85      0.82      0.80        20\n",
      "weighted avg       0.86      0.80      0.80        20\n",
      "\n"
     ]
    }
   ],
   "source": [
    "# Initialize the LightGBM model\n",
    "lgb_tfidf = lgb.LGBMClassifier(n_estimators=1000, learning_rate=0.1, reg_alpha=0.2, )\n",
    "\n",
    "# Train the model\n",
    "lgb_tfidf.fit(X_train_tfidf, y_train_encoded)\n",
    "\n",
    "# Make predictions\n",
    "y_pred_lgb_tfidf = lgb_tfidf.predict(X_test_tfidf)\n",
    "\n",
    "# Convert predictions back to original labels (optional)\n",
    "y_pred_lgb_tfidf_labels = label_encoder.inverse_transform(y_pred_lgb_tfidf)\n",
    "\n",
    "# Evaluate the model\n",
    "print(\"LightGBM (TF-IDF) Classification Report:\")\n",
    "print(classification_report(y_test, y_pred_lgb_tfidf_labels))"
   ]
  },
  {
   "cell_type": "markdown",
   "id": "a236af7b-984c-4940-8dde-b45e71a13b8e",
   "metadata": {},
   "source": [
    "## Random Forest"
   ]
  },
  {
   "cell_type": "code",
   "execution_count": 40,
   "id": "3a234541-c29b-4055-adfd-69e373b66267",
   "metadata": {},
   "outputs": [
    {
     "name": "stdout",
     "output_type": "stream",
     "text": [
      "Random Forest (TF-IDF) Classification Report:\n",
      "              precision    recall  f1-score   support\n",
      "\n",
      "    negative       1.00      0.27      0.43        11\n",
      "    positive       0.53      1.00      0.69         9\n",
      "\n",
      "    accuracy                           0.60        20\n",
      "   macro avg       0.76      0.64      0.56        20\n",
      "weighted avg       0.79      0.60      0.55        20\n",
      "\n"
     ]
    }
   ],
   "source": [
    "# Initialize the Random Forest model\n",
    "rf_tfidf = RandomForestClassifier(random_state=42)\n",
    "\n",
    "# Train the model\n",
    "rf_tfidf.fit(X_train_tfidf, y_train_encoded)\n",
    "\n",
    "# Make predictions\n",
    "y_pred_rf_tfidf = rf_tfidf.predict(X_test_tfidf)\n",
    "\n",
    "# Convert predictions back to original labels (optional)\n",
    "y_pred_rf_tfidf_labels = label_encoder.inverse_transform(y_pred_rf_tfidf)\n",
    "\n",
    "# Evaluate the model\n",
    "print(\"Random Forest (TF-IDF) Classification Report:\")\n",
    "print(classification_report(y_test, y_pred_rf_tfidf_labels))"
   ]
  },
  {
   "cell_type": "markdown",
   "id": "6bdb5716-e549-40ea-9c8f-8b56bad4c87b",
   "metadata": {},
   "source": [
    "### Hyperparameter Tuning"
   ]
  },
  {
   "cell_type": "code",
   "execution_count": 42,
   "id": "5061a69c-3d11-4f27-ada0-156410947cdd",
   "metadata": {},
   "outputs": [
    {
     "name": "stdout",
     "output_type": "stream",
     "text": [
      "Random Forest (TF-IDF) Classification Report:\n",
      "              precision    recall  f1-score   support\n",
      "\n",
      "    negative       1.00      0.45      0.62        11\n",
      "    positive       0.60      1.00      0.75         9\n",
      "\n",
      "    accuracy                           0.70        20\n",
      "   macro avg       0.80      0.73      0.69        20\n",
      "weighted avg       0.82      0.70      0.68        20\n",
      "\n"
     ]
    }
   ],
   "source": [
    "# Initialize the Random Forest model\n",
    "rf_tfidf = RandomForestClassifier(n_estimators=800, bootstrap=False, random_state=42)\n",
    "\n",
    "# Train the model\n",
    "rf_tfidf.fit(X_train_tfidf, y_train_encoded)\n",
    "\n",
    "# Make predictions\n",
    "y_pred_rf_tfidf = rf_tfidf.predict(X_test_tfidf)\n",
    "\n",
    "# Convert predictions back to original labels (optional)\n",
    "y_pred_rf_tfidf_labels = label_encoder.inverse_transform(y_pred_rf_tfidf)\n",
    "\n",
    "# Evaluate the model\n",
    "print(\"Random Forest (TF-IDF) Classification Report:\")\n",
    "print(classification_report(y_test, y_pred_rf_tfidf_labels))"
   ]
  }
 ],
 "metadata": {
  "kernelspec": {
   "display_name": "Python 3 (ipykernel)",
   "language": "python",
   "name": "python3"
  },
  "language_info": {
   "codemirror_mode": {
    "name": "ipython",
    "version": 3
   },
   "file_extension": ".py",
   "mimetype": "text/x-python",
   "name": "python",
   "nbconvert_exporter": "python",
   "pygments_lexer": "ipython3",
   "version": "3.12.4"
  }
 },
 "nbformat": 4,
 "nbformat_minor": 5
}
