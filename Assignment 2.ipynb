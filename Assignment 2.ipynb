{
 "cells": [
  {
   "cell_type": "markdown",
   "id": "3c7dd1c9-17d6-409a-91a9-e2be26f379ac",
   "metadata": {
    "id": "3c7dd1c9-17d6-409a-91a9-e2be26f379ac"
   },
   "source": [
    "# Assignment 2"
   ]
  },
  {
   "cell_type": "markdown",
   "id": "b57c648c-d8e5-4ac8-a0b8-be7e4fac798d",
   "metadata": {
    "id": "b57c648c-d8e5-4ac8-a0b8-be7e4fac798d"
   },
   "source": [
    "Mathia Quimpo, Matthew Chin, Wanqiu Zhang"
   ]
  },
  {
   "cell_type": "markdown",
   "id": "4ec6d23a-c13b-4cf5-85a5-9d127a9bb086",
   "metadata": {
    "id": "4ec6d23a-c13b-4cf5-85a5-9d127a9bb086"
   },
   "source": [
    "## Exploration and Preprocessing"
   ]
  },
  {
   "cell_type": "code",
   "execution_count": 4,
   "id": "b00fc5b3",
   "metadata": {
    "id": "b00fc5b3"
   },
   "outputs": [],
   "source": [
    "import pandas as pd\n",
    "import numpy as np\n",
    "import re\n",
    "import os\n",
    "import requests\n",
    "import string\n",
    "import nltk\n",
    "from bs4 import BeautifulSoup\n",
    "from nltk.corpus import stopwords\n",
    "from nltk.util import ngrams\n",
    "from nltk.tokenize import word_tokenize\n",
    "from sklearn.model_selection import train_test_split\n",
    "from sklearn.feature_extraction.text import TfidfVectorizer\n",
    "from sklearn.linear_model import LogisticRegression\n",
    "from sklearn.metrics import classification_report\n",
    "from sklearn.naive_bayes import MultinomialNB\n",
    "import xgboost as xgb\n",
    "from xgboost import XGBClassifier\n",
    "import lightgbm as lgb\n",
    "from sklearn.preprocessing import LabelEncoder\n",
    "from sklearn.tree import DecisionTreeClassifier\n",
    "from sklearn.ensemble import RandomForestClassifier\n",
    "from nltk.stem import WordNetLemmatizer\n",
    "from sklearn.metrics import accuracy_score\n",
    "from vaderSentiment.vaderSentiment import SentimentIntensityAnalyzer\n",
    "from textblob import TextBlob\n",
    "import matplotlib.pyplot as plt\n",
    "from sklearn.model_selection import GridSearchCV"
   ]
  },
  {
   "cell_type": "code",
   "execution_count": 5,
   "id": "0e314200",
   "metadata": {
    "colab": {
     "base_uri": "https://localhost:8080/"
    },
    "id": "0e314200",
    "outputId": "f5051e0d-59bd-4819-d153-08acd01c4a34"
   },
   "outputs": [
    {
     "name": "stdout",
     "output_type": "stream",
     "text": [
      "                                              review sentiment\n",
      "0  One of the other reviewers has mentioned that ...  positive\n",
      "1  A wonderful little production. <br /><br />The...  positive\n",
      "2  I thought this was a wonderful way to spend ti...  positive\n",
      "3  Basically there's a family where a little boy ...  negative\n",
      "4  Petter Mattei's \"Love in the Time of Money\" is...  positive\n"
     ]
    }
   ],
   "source": [
    "# Load dataset\n",
    "df = pd.read_csv(\"IMDB Dataset.csv\")\n",
    "\n",
    "print(df.head())"
   ]
  },
  {
   "cell_type": "code",
   "execution_count": 6,
   "id": "07dd9dd4",
   "metadata": {
    "colab": {
     "base_uri": "https://localhost:8080/"
    },
    "id": "07dd9dd4",
    "outputId": "ad49d03d-81c8-4893-c86d-497b68b4e3a8"
   },
   "outputs": [
    {
     "name": "stdout",
     "output_type": "stream",
     "text": [
      "Columns in the dataset:\n",
      " Index(['review', 'sentiment'], dtype='object')\n"
     ]
    }
   ],
   "source": [
    "# Display column names\n",
    "print(\"Columns in the dataset:\\n\", df.columns)"
   ]
  },
  {
   "cell_type": "code",
   "execution_count": 7,
   "id": "00480cae",
   "metadata": {
    "colab": {
     "base_uri": "https://localhost:8080/"
    },
    "id": "00480cae",
    "outputId": "aa136b6a-8205-4fca-8648-0e432d19a72d"
   },
   "outputs": [
    {
     "name": "stdout",
     "output_type": "stream",
     "text": [
      "<class 'pandas.core.frame.DataFrame'>\n",
      "RangeIndex: 50000 entries, 0 to 49999\n",
      "Data columns (total 2 columns):\n",
      " #   Column     Non-Null Count  Dtype \n",
      "---  ------     --------------  ----- \n",
      " 0   review     50000 non-null  object\n",
      " 1   sentiment  50000 non-null  object\n",
      "dtypes: object(2)\n",
      "memory usage: 781.4+ KB\n",
      "None\n",
      "                                                   review sentiment\n",
      "count                                               50000     50000\n",
      "unique                                              49582         2\n",
      "top     Loved today's show!!! It was a variety and not...  positive\n",
      "freq                                                    5     25000\n",
      "review       0\n",
      "sentiment    0\n",
      "dtype: int64\n"
     ]
    }
   ],
   "source": [
    "# Get general info\n",
    "print(df.info())\n",
    "\n",
    "# Descriptive statistics\n",
    "print(df.describe())\n",
    "\n",
    "# Check for missing values\n",
    "print(df.isnull().sum())"
   ]
  },
  {
   "cell_type": "code",
   "execution_count": 8,
   "id": "3606380b",
   "metadata": {
    "id": "3606380b"
   },
   "outputs": [],
   "source": [
    "# Display the entire review text\n",
    "pd.set_option('display.max_colwidth', None)"
   ]
  },
  {
   "cell_type": "code",
   "execution_count": 9,
   "id": "6ad5af05",
   "metadata": {
    "colab": {
     "base_uri": "https://localhost:8080/"
    },
    "id": "6ad5af05",
    "outputId": "2149027d-2c7c-4310-9d1b-25b23d2f7053",
    "scrolled": true
   },
   "outputs": [
    {
     "name": "stdout",
     "output_type": "stream",
     "text": [
      "count    50000.000000\n",
      "mean      1309.431020\n",
      "std        989.728014\n",
      "min         32.000000\n",
      "25%        699.000000\n",
      "50%        970.000000\n",
      "75%       1590.250000\n",
      "max      13704.000000\n",
      "Name: Text_Length, dtype: float64\n"
     ]
    }
   ],
   "source": [
    "# Add a new column for text length\n",
    "df[\"Text_Length\"] = df[\"review\"].astype(str).apply(len)\n",
    "\n",
    "# Display descriptive statistics for text length\n",
    "print(df[\"Text_Length\"].describe())"
   ]
  },
  {
   "cell_type": "code",
   "execution_count": 10,
   "id": "244d7ad1",
   "metadata": {
    "colab": {
     "base_uri": "https://localhost:8080/"
    },
    "id": "244d7ad1",
    "outputId": "e5e10bf4-3411-4bd1-ef74-0b32a861fbac",
    "scrolled": true
   },
   "outputs": [
    {
     "name": "stdout",
     "output_type": "stream",
     "text": [
      "42462                                                                                                                                                                                                                                                                                                                                                                                                                                                                                   This movie was an absolute waste of time. It's nothing but a wanna-be gangster movie. It contains a very predictable plot. My feelings are unsympathetic to the characters, and the dialogue is mediocre at best. Half the time you are looking for something else to do, because the movie is that boring, since you already know what's going to happen. The other half of the time you're desperately hoping the protagonist grows a pair of balls or just ends his life by jumping off a bridge or something. Also, the secondary characters are for the most part one- dimensional. There's no depth to any of the characters in this movie! No depth!\n",
      "11769                                                                                                                                                                                                                                                                                                                                                                                                                                                                                                                                                                                                                                                                                                                                                                                                                                     This is definitely the worst movie Adam's ever done but at this point in his life, he was just happy to have a movie. There are 3 or 4 laughs in it but I used the fast forward button through some of it. Don't waste your time. I only saw it because I wanted to see all of his movies, but it sucked.\n",
      "32449    Perhaps not Miyazaki's best work, but I couldn't help but love it to death. A five-year old boy finds what he thinks is a goldfish stuck in a bottle. He saves its life and keeps it in a bucket as a pet, but it really is a magical being, the daughter of a human wizard and a sea goddess. Ponyo, as the boy names her, is taken back to the sea by her father, who tries to discourage her from returning to land and becoming human, but she gets into his magic elixirs and does what she wants to do. The story is simple and cute. Where the film really comes alive, though, is in its tremendous artwork. The drawings are more child-like than in any of Miyazaki's other works, but there's beauty in its simplicity. As with all of his films, Miyazaki creates this world of imagination that I was just so in awe of. Seeing it in the theater brought back memories of what it was like when the opening notes of Jo Hisaishi's score for Princess Mononoke washed over me and gave me goosebumps just short of a decade ago (the score here is equally as wonderful). I wanted to live in this world and never leave it.\n",
      "18688                                                                                                              All the other comments already said what I was going to say, here goes anyway. I thought this was Italian at first, sorry about that, Italy. I wasn't bored because I kept waiting for something to happen. Who did that song about Dr. Tarr and Professor Feather way back when? Was it Alan Parsons? Saw this on a Brentwood 10 pack and the quality was as expected, terrible. Full of streaks and stuff. The movie was an incoherent mess. Goofy music and clueless characters. The main guy should have known in the first minute that the doctor was nuttier than the patients. I thought the \"doctor\" directing the \"battle\" scene was never going to end. Had some good looking babes though. It seems these dumb ass movies always throw in a naked chick or two and that gets you hooked. I gave it a 2 for the nekkid women. That bird people dance made me want to pull out my own eyeballs. Poe probably did about 3,000 rpms in his grave when this thing came out because it was loosely based on a story of his.\n",
      "20342                                                                                                                                                                                                                                                                                                                                                                                                                                                                                                             Cage plays a drunk and gets high critically praise. Elizabeth Shue Actually has to do a love seen with the most unattractive and overrated piece of dung flesh in Hollywood. I literally vomited while watching this film. Of course I had the flu, but that does not mean this film did not contribute to the vomit in the kamode. <br /><br />Why can't Nick Cage play something he can really pull off like a bad actor. Nick Cage who be brilliant in a role as a bad actor. Heck nobody could do it better.<br /><br />The search begins for Nick's contract with Lucifer or was it Lou Cipher from \"Night Train To Terror\".\n",
      "Name: review, dtype: object\n"
     ]
    }
   ],
   "source": [
    "# Read a few random review samples\n",
    "print(df[\"review\"].sample(5, random_state=45))"
   ]
  },
  {
   "cell_type": "code",
   "execution_count": 11,
   "id": "0CNDJW17G5C2",
   "metadata": {
    "colab": {
     "base_uri": "https://localhost:8080/"
    },
    "id": "0CNDJW17G5C2",
    "outputId": "141661b3-54c9-4132-e9f9-f497df5f1197"
   },
   "outputs": [
    {
     "name": "stderr",
     "output_type": "stream",
     "text": [
      "[nltk_data] Downloading package stopwords to\n",
      "[nltk_data]     C:\\Users\\matth\\AppData\\Roaming\\nltk_data...\n",
      "[nltk_data]   Package stopwords is already up-to-date!\n",
      "[nltk_data] Downloading package punkt to\n",
      "[nltk_data]     C:\\Users\\matth\\AppData\\Roaming\\nltk_data...\n",
      "[nltk_data]   Package punkt is already up-to-date!\n",
      "[nltk_data] Downloading package wordnet to\n",
      "[nltk_data]     C:\\Users\\matth\\AppData\\Roaming\\nltk_data...\n",
      "[nltk_data]   Package wordnet is already up-to-date!\n",
      "[nltk_data] Downloading package punkt_tab to\n",
      "[nltk_data]     C:\\Users\\matth\\AppData\\Roaming\\nltk_data...\n",
      "[nltk_data]   Package punkt_tab is already up-to-date!\n"
     ]
    },
    {
     "data": {
      "text/plain": [
       "True"
      ]
     },
     "execution_count": 11,
     "metadata": {},
     "output_type": "execute_result"
    }
   ],
   "source": [
    "import nltk\n",
    "nltk.download('stopwords')\n",
    "nltk.download('punkt')\n",
    "nltk.download('wordnet')\n",
    "nltk.download('punkt_tab')"
   ]
  },
  {
   "cell_type": "code",
   "execution_count": 12,
   "id": "de6b5f1a",
   "metadata": {
    "id": "de6b5f1a"
   },
   "outputs": [],
   "source": [
    "# Initialize lemmatizer\n",
    "lemmatizer = WordNetLemmatizer()\n",
    "stop_words = set(stopwords.words(\"english\"))"
   ]
  },
  {
   "cell_type": "code",
   "execution_count": 13,
   "id": "a83a62dd",
   "metadata": {
    "id": "a83a62dd"
   },
   "outputs": [],
   "source": [
    "# Text cleaning function\n",
    "def clean_text(review):\n",
    "    if not isinstance(review, str):\n",
    "        return \"\"  # Handle missing values\n",
    "\n",
    "    # 1. Remove HTML tags using a regex pattern\n",
    "    review = re.sub(r\"<.*?>\", \"\", review)  # Remove HTML tags\n",
    "\n",
    "    # 2. Replace URLs with a placeholder \"URL\"\n",
    "    review = re.sub(r'http[s]?://\\S+', 'URL', review)\n",
    "\n",
    "    # 3. Convert to lowercase\n",
    "    review = review.lower()\n",
    "\n",
    "    # 4. Normalize whitespace (remove any leftover <br /> or extra spaces)\n",
    "    review = re.sub(r\"\\s+\", \" \", review).strip()\n",
    "\n",
    "    # 5. Remove special characters, numbers, and punctuation\n",
    "    review = re.sub(r\"[^a-z\\s]\", \"\", review)\n",
    "\n",
    "    # 6. Tokenize the text into words\n",
    "    words = word_tokenize(review)\n",
    "\n",
    "    # 7. Remove stopwords\n",
    "    words = [word for word in words if word not in stop_words]\n",
    "\n",
    "    # 8. Lemmatize the tokens\n",
    "    lemmatized_words = [lemmatizer.lemmatize(word) for word in words]\n",
    "\n",
    "    # 9. Convert back to string\n",
    "    cleaned_text = \" \".join(lemmatized_words)\n",
    "\n",
    "    return cleaned_text, lemmatized_words"
   ]
  },
  {
   "cell_type": "code",
   "execution_count": 14,
   "id": "33dba9d0-56cd-4dde-b74b-4646814cc44a",
   "metadata": {
    "id": "33dba9d0-56cd-4dde-b74b-4646814cc44a"
   },
   "outputs": [],
   "source": [
    "random_sample = df"
   ]
  },
  {
   "cell_type": "code",
   "execution_count": 15,
   "id": "67025b8f",
   "metadata": {
    "id": "67025b8f",
    "scrolled": true
   },
   "outputs": [],
   "source": [
    "# Apply text cleaning\n",
    "random_sample[[\"cleaned_text\", \"tokens\"]] = random_sample[\"review\"].apply(clean_text).apply(pd.Series)"
   ]
  },
  {
   "cell_type": "code",
   "execution_count": 16,
   "id": "dd87b560",
   "metadata": {
    "colab": {
     "base_uri": "https://localhost:8080/"
    },
    "id": "dd87b560",
    "outputId": "c1da87fb-a004-40f1-fd08-66749f7a271e"
   },
   "outputs": [
    {
     "name": "stdout",
     "output_type": "stream",
     "text": [
      "                                                                                                                                                                                                                                                                                                                                                                                                                                                                                                                                                                                                                                                                                                                                                                                                                                                                                                                                                                                                                                                                                                                                                                                                                                                                                                                                                                                                                                                                                                                                                                                                                                                                                                                                                                                                                                                                                                                                                                                                                                                                                                                                       review  \\\n",
      "33553                                                                                                                                                                                                                                                                                                                                                                                                                                                                                                                                                                                                                                                                                                                                                                                                                                                                                                                                                                                     I really liked this Summerslam due to the look of the arena, the curtains and just the look overall was interesting to me for some reason. Anyways, this could have been one of the best Summerslam's ever if the WWF didn't have Lex Luger in the main event against Yokozuna, now for it's time it was ok to have a huge fat man vs a strong man but I'm glad times have changed. It was a terrible main event just like every match Luger is in is terrible. Other matches on the card were Razor Ramon vs Ted Dibiase, Steiner Brothers vs Heavenly Bodies, Shawn Michaels vs Curt Hening, this was the event where Shawn named his big monster of a body guard Diesel, IRS vs 1-2-3 Kid, Bret Hart first takes on Doink then takes on Jerry Lawler and stuff with the Harts and Lawler was always very interesting, then Ludvig Borga destroyed Marty Jannetty, Undertaker took on Giant Gonzalez in another terrible match, The Smoking Gunns and Tatanka took on Bam Bam Bigelow and the Headshrinkers, and Yokozuna defended the world title against Lex Luger this match was boring and it has a terrible ending. However it deserves 8/10   \n",
      "9427   Not many television shows appeal to quite as many different kinds of fans like Farscape does...I know youngsters and 30/40+ years old;fans both Male and Female in as many different countries as you can think of that just adore this T.V miniseries. It has elements that can be found in almost every other show on T.V, character driven drama that could be from an Australian soap opera; yet in the same episode it has science fact & fiction that would give even the hardiest \"Trekkie\" a run for his money in the brainbender stakes! Wormhole theory, Time Travel in true equational form...Magnificent. It embraces cultures from all over the map as the possibilities are endless having multiple stars and therefore thousands of planets to choose from.<br /><br />With such a broad scope; it would be expected that nothing would be able to keep up the illusion for long, but here is where \"Farscape\" really comes into it's own element...It succeeds where all others have failed, especially the likes of Star Trek (a universe with practically zero Kaos element!) They ran out of ideas pretty quickly + kept rehashing them! Over the course of 4 seasons they manage to keep the audience's attention using good continuity and constant character evolution with multiple threads to every episode with unique personal touches to camera that are specific to certain character groups within the whole. This structure allows for an extremely large area of subject matter as loyalties are forged and broken in many ways on many many issues. I happened to see the pilot (Premiere) in passing and just had to keep tuning in after that to see if Crichton would ever \"Get the girl\", after seeing them all on television I was delighted to see them available on DVD & I have to admit that it was the only thing that kept me sane whilst I had to do a 12 hour night shift and developed chronic insomnia...Farscape was the only thing to get me through those extremely long nights...<br /><br />Do yourself a favour; Watch the pilot and see what I mean...<br /><br />Farscape Comet   \n",
      "199                                                                                                                                                                                                                                                                                                                                                                                                                                                                                                                                                                                                                                                                                                                                                                                                                                                                                                                                                                                                                                                                                                                                                                                                                                                                                                                                                                                                                                                             The film quickly gets to a major chase scene with ever increasing destruction. The first really bad thing is the guy hijacking Steven Seagal would have been beaten to pulp by Seagal's driving, but that probably would have ended the whole premise for the movie.<br /><br />It seems like they decided to make all kinds of changes in the movie plot, so just plan to enjoy the action, and do not expect a coherent plot. Turn any sense of logic you may have, it will reduce your chance of getting a headache.<br /><br />I does give me some hope that Steven Seagal is trying to move back towards the type of characters he portrayed in his more popular movies.   \n",
      "12447                                                                                                                                                                                                                                                                                                                                                                                                                                                                                                                                                                                                                                                                                                                                                                                                                                                                                                                                                                                                                                                                                                                                                                                                                                                                                                                                                                                                                                                                                Jane Austen would definitely approve of this one!<br /><br />Gwyneth Paltrow does an awesome job capturing the attitude of Emma. She is funny without being excessively silly, yet elegant. She puts on a very convincing British accent (not being British myself, maybe I'm not the best judge, but she fooled me...she was also excellent in \"Sliding Doors\"...I sometimes forget she's American ~!). <br /><br />Also brilliant are Jeremy Northam and Sophie Thompson and Phyllida Law (Emma Thompson's sister and mother) as the Bates women. They nearly steal the show...and Ms. Law doesn't even have any lines!<br /><br />Highly recommended.   \n",
      "39489                                                                                                                                                            Expectations were somewhat high for me when I went to see this movie, after all I thought Steve Carell could do no wrong coming off of great movies like Anchorman, The 40 Year-Old Virgin, and Little Miss Sunshine. Boy, was I wrong.<br /><br />I'll start with what is right with this movie: at certain points Steve Carell is allowed to be Steve Carell. There are a handful of moments in the film that made me laugh, and it's due almost entirely to him being given the wiggle-room to do his thing. He's an undoubtedly talented individual, and it's a shame that he signed on to what turned out to be, in my opinion, a total train-wreck.<br /><br />With that out of the way, I'll discuss what went horrifyingly wrong.<br /><br />The film begins with Dan Burns, a widower with three girls who is being considered for a nationally syndicated advice column. He prepares his girls for a family reunion, where his extended relatives gather for some time with each other.<br /><br />The family is high atop the list of things that make this an awful movie. No family behaves like this. It's almost as if they've been transported from Pleasantville or Leave it to Beaver. They are a caricature of what we think a family is when we're 7. It reaches the point where they become obnoxious and simply frustrating. Touch football, crossword puzzle competitions, family bowling, and talent shows ARE NOT HOW ACTUAL PEOPLE BEHAVE. It's almost sickening.<br /><br />Another big flaw is the woman Carell is supposed to be falling for. Observing her in her first scene with Steve Carell is like watching a stroke victim trying to be rehabilitated. What I imagine is supposed to be unique and original in this woman comes off as mildly retarded.<br /><br />It makes me think that this movie is taking place on another planet. I left the theater wondering what I just saw. After thinking further, I don't think it was much.   \n",
      "\n",
      "                                                                                                                                                                                                                                                                                                                                                                                                                                                                                                                                                                                                                                                                                                                                                                                                                                                                                                                                                                                                                                                                                                                                                                                                                                                                                                                                                         cleaned_text  \n",
      "33553                                                                                                                                                                                                                                                                                                                                                                                                                                                                                                                                                                                               really liked summerslam due look arena curtain look overall interesting reason anyways could one best summerslams ever wwf didnt lex luger main event yokozuna time ok huge fat man v strong man im glad time changed terrible main event like every match luger terrible match card razor ramon v ted dibiase steiner brother v heavenly body shawn michael v curt hening event shawn named big monster body guard diesel irs v kid bret hart first take doink take jerry lawler stuff hart lawler always interesting ludvig borga destroyed marty jannetty undertaker took giant gonzalez another terrible match smoking gunns tatanka took bam bam bigelow headshrinkers yokozuna defended world title lex luger match boring terrible ending however deserves  \n",
      "9427   many television show appeal quite many different kind fan like farscape doesi know youngster year oldfans male female many different country think adore tv miniseries element found almost every show tv character driven drama could australian soap opera yet episode science fact fiction would give even hardiest trekkie run money brainbender stake wormhole theory time travel true equational formmagnificent embrace culture map possibility endless multiple star therefore thousand planet choose fromwith broad scope would expected nothing would able keep illusion long farscape really come elementit succeeds others failed especially like star trek universe practically zero kaos element ran idea pretty quickly kept rehashing course season manage keep audience attention using good continuity constant character evolution multiple thread every episode unique personal touch camera specific certain character group within whole structure allows extremely large area subject matter loyalty forged broken many way many many issue happened see pilot premiere passing keep tuning see crichton would ever get girl seeing television delighted see available dvd admit thing kept sane whilst hour night shift developed chronic insomniafarscape thing get extremely long nightsdo favour watch pilot see meanfarscape comet  \n",
      "199                                                                                                                                                                                                                                                                                                                                                                                                                                                                                                                                                                                                                                                                                                                                                                                                                                                                                                                                 film quickly get major chase scene ever increasing destruction first really bad thing guy hijacking steven seagal would beaten pulp seagals driving probably would ended whole premise movieit seems like decided make kind change movie plot plan enjoy action expect coherent plot turn sense logic may reduce chance getting headachei give hope steven seagal trying move back towards type character portrayed popular movie  \n",
      "12447                                                                                                                                                                                                                                                                                                                                                                                                                                                                                                                                                                                                                                                                                                                                                                                                                                                                                                                   jane austen would definitely approve onegwyneth paltrow awesome job capturing attitude emma funny without excessively silly yet elegant put convincing british accent british maybe im best judge fooled meshe also excellent sliding doorsi sometimes forget shes american also brilliant jeremy northam sophie thompson phyllida law emma thompson sister mother bates woman nearly steal showand m law doesnt even lineshighly recommended  \n",
      "39489                                                                                                                                                    expectation somewhat high went see movie thought steve carell could wrong coming great movie like anchorman yearold virgin little miss sunshine boy wrongill start right movie certain point steve carell allowed steve carell handful moment film made laugh due almost entirely given wiggleroom thing he undoubtedly talented individual shame signed turned opinion total trainwreckwith way ill discus went horrifyingly wrongthe film begin dan burn widower three girl considered nationally syndicated advice column prepares girl family reunion extended relative gather time otherthe family high atop list thing make awful movie family behaves like almost theyve transported pleasantville leave beaver caricature think family reach point become obnoxious simply frustrating touch football crossword puzzle competition family bowling talent show actual people behave almost sickeninganother big flaw woman carell supposed falling observing first scene steve carell like watching stroke victim trying rehabilitated imagine supposed unique original woman come mildly retardedit make think movie taking place another planet left theater wondering saw thinking dont think much  \n"
     ]
    }
   ],
   "source": [
    "# Spot-checking\n",
    "spotcheck_sample = random_sample[[\"review\", \"cleaned_text\"]].sample(5, random_state=42)\n",
    "print(spotcheck_sample)"
   ]
  },
  {
   "cell_type": "code",
   "execution_count": 17,
   "id": "262438e7",
   "metadata": {
    "colab": {
     "base_uri": "https://localhost:8080/"
    },
    "id": "262438e7",
    "outputId": "2bf19671-a2d0-4995-8a60-b4b0ea4ffb1a",
    "scrolled": true
   },
   "outputs": [
    {
     "name": "stdout",
     "output_type": "stream",
     "text": [
      "                                                                                                                                                                                                                                                                                                                                                                                                                                                                                                                                                                                                                                                                                                                                                                                                                                                                                                                                                                                                                                                                                                                                                                                                                                                                                                                                                                                                                                                                                                                                                                                                                                                                                                                                                                                                                                                                                                                                                                                                                                                                                                                                                                                                                                                                                                                                                                                                                                                                                                                                                                                                                                                                                                                                                                                                                                                                                                                                                                                                                                                                                                                                                                                                                         review  \\\n",
      "33886                                                                                                                                                                                                                                                                                                                                                                                                                                                                                                                                                                                                                                                                                                                                                                                                                                                                                                                                                                                                                                                                                                                                                                                                                                                                                                                                                                                                                                                                                                                                                                                                                                                                                                                                                                                                                                                                                                                                                                                                                                                                                                                                                                                                                                                                                                                                                                                                                                                                The Battleship Potemkin was said to have been a favourite of Charlie Chaplin. It presents a dramatised version of the mutiny that occurred in 1905 when the crew of the Russian battleship Potemkin rebelled against their officers of the Tsarist regime.<br /><br />The film is a textbook cinema classic, and a masterpiece of creative editing, especially in the famous Odessa Steps sequence in which innocent civilians are mown down in the bloodshed; the happenings of a minute are drawn into five by frenzied cross-cutting. The film contains 1,300 separate shots, and in 1948 and 1958 was judged the best film ever made by a panel of international critics. The Battleship Potemkin is in the public domain, in some parts of the world.   \n",
      "22743  When John Wayne filmed his Alamo story he had built a complete Alamo set in the town of Brackettsville, Texas which is still there and quite the tourist attraction. As long as that stands, we will have a set for future Alamo interpretations for the screen. One such with Dennis Quaid and Billy Bob Thornton was done in this century.<br /><br />But I would say The Alamo: Thirteen Days To Glory is the best Alamo story filmed I've seen. John Wayne's film is a good one if over-hyped, but it's a John Wayne film with the story redone to fill parameters of screen character of John Wayne. Brian Keith plays Davy Crockett here and gives a fine interpretation of the rollicking frontier character he was.<br /><br />It's a lot closer to Professor Lon Tinkle's book on The Alamo than the Wayne film was and having read the book years ago I can attest to that. Tinkle's book is listed as the source in both films, but Tinkle who was alive back then when the Wayne film was done and he was not pleased with the result.<br /><br />Alec Baldwin was around the right age for young William Barrett Travis, the idealistic freedom fighter who incidentally was a slave owner. Back in the day no one saw the ironic contradiction in that. One thing that was not explored and hasn't been was Travis's hyperactive sex drive. He was the Casanova of the Southwest, he even kept a salacious diary of his libidinal conquests.<br /><br />But the man who always gets the whitewash is Jim Bowie, played here by James Arness. He was a hero at the Alamo to be sure, but his career before the Alamo was that of a scoundrel. He was a smuggler, a slave trader, an all around con man selling land he had questionable title to. But his heroic death certainly redeemed him. No hint of that is in Arness's portrayal nor any others I've seen of Bowie on the screen. And of course he did design the Bowie knife, done to his specifications. That man needed such a weapon.<br /><br />However the main asset that The Alamo: Thirteen Days To Glory has is a full blown portrayal of Antonio De Lopez De Santa Anna, the president of Mexico who comes up personally to put down the rebellion stirred up by the North Americans who've come to settle in Texas at Mexican invitation. Unfortunately those Americans came with some pre-conceived notions about liberty that just hadn't made it that far south, at least liberty for white people. Raul Julia plays Santa Anna who remains an even more controversial figure in Mexican history. He was also quite the scoundrel, but he was the best Mexico produced until a genuine reformer named Benito Juarez came along.<br /><br />This film was the farewell performance of Lorne Greene who appears briefly as General Sam Houston. Greene's not quite my conception of Houston, he really was way too old for the part, Houston was in his early forties in 1836, he was not yet the patriarch of Texas. But within the limits imposed on him, Greene does a fine job.<br /><br />For a romantic telling of The Alamo tale by all means see John Wayne's version, but for historical content I recommend this film highly.   \n",
      "14140                                                                                                                                                                                                                                                                                                                                                                                                                                                                                                                                                                                                                                                                                                                                                                                                                                                                                                                                                                                                                                                                                                                                                                                                                                                            I chose this movie because I was looking for a triangle friendship between a girl & two boys. As I lived this situation and get lost in it, I hope a similar story would inspire me. <br /><br />My major concerns are: - Why (a) & How (b) the triangle forms ? - Why (c) & How (d) the triangle degenerates ?<br /><br />(a) The movie offers a plain answer: \"because it's better !\". <br /><br />(b) here, it's an open triangle: the three share things together. Mine was a closed one: every ones knows the others but never the three are together or speak about the missing one: <br /><br />(c) The movie doesn't offer spoken explanations but rather prefer visual & emotional assumptions: the end comes with sensuality, sexuality coming up in the triangle, or more accurately, when for one member, deep feelings are tied with intimacy, and, as for the latter and the former, they can be divided. I agree with that.<br /><br />(d) In the movie & in my story, silence is the proof that something isn't well.. And in a ironic and painful way, the tool for this sad times, is always the phone: I lived this dreadful planned phone-call: \"Call me back: I wait you\"",
      " and when time comes, the phone is silent",
      ". A variation is also shown, when the line is connected but one refuses to speak",
      " All those scenes were very very hard to see for me.<br /><br />If the movie was a great help in that way, he got also a lot of flaws:<br /><br />- I zapped on the boy's family problems<br /><br />- why the shower scene on the DVD cover is cut on the movie? <br /><br />- how Mickael gets finally into the hotel ? <br /><br />- is Clément always seeing Salomé ? he says \"no\" but has her address; and who is the girl with him in the bar: his girlfriend ? how can she knows about the address ???<br /><br />- what finally happens to Vanessa: the ring at the final shoot is a proof of engagement ??? with whom ?????   \n",
      "42647                                                                                                                                                                                                                                                                                                                                                                                                                                                                                                                                                                                                                                                                                                                                                                                                                                                                                                                                                                                                                                                                                                                                                                                                                                                                                                                                                                                                                                                                                                                                                                                                                                                                                                                                                                                                                                                                                                                                                                                                                                                                                                                                                                                                                                                                                                                                                                                                                                                                                                                                                                                                                                                                                                                                                                THE VAN is a simple teensploitation picture made especially for the drive in that goes out of it's way to make you feel comfortable, providing many opportunities to laugh and cry with your friends. Danny Devito has a small yet plentiful role as the manager of a car wash and almost steals the show! All the leads are well acted, the characters complex and the directing quite competent for this type of picture. A Crown International Release.   \n",
      "24746                                                                                                                                                                                                                                                                                                                                                                                                                                                                                                                                                                                                                                                                                                                                                                                                                                                                                                                                                                                                                                                                                                                                                                                                                                                                                                                                                                                                                                                                                                                                                                                                                                                                                                                                                                                                                                                                                                                                                   I was hugely impressed with this movie, if for nothing else than for the comedy. It might not be the edgiest, wittiest humor at all times, but I found it appropriate to every scene.<br /><br />The flow of the film is certainly a bit jumbled, almost confusing sometimes, but that is how the characters feel. Sometimes, we're watching a bit of slapstick and other scenes revolve around a decisive discourse on relationships. This might be a bit frustrating to certain viewers, but it brought me closer to the characters' dilemmas of irregular chaos.<br /><br />The acting is great from everyone. I'm a huge Andy Richter fan, but I wasn't head over heels for his part like everyone else seems to be. He did very well, but Julianne Nicholson and Lauren Graham stole the show for me, both in their respective ways. Jay Mohr performs as expected, if you've seen him in other films. I've always liked him.<br /><br />Overall, the movie is very funny and offers some nice foundations for a few types of relationships. When it comes to relationship questions and problems, some films try to surprise. There's nothing surprising about the conclusions offered here, but it's entertaining to watch them be revealed throughout the film.   \n",
      "\n",
      "                                                                                                                                                                                                                                                                                                                                                                                                                                                                                                                                                                                                                                                                                                                                                                                                                                                                                                                                                                                                                                                                                                                                                                                                                                                                                                                                                                                                                                                                                                                                                                                                                                                                                                                                                                                                                                                                                                                                                                                                                                                                                    cleaned_text  \\\n",
      "33886                                                                                                                                                                                                                                                                                                                                                                                                                                                                                                                                                                                                                                                                                                                                                                                                                                                                                                                                                                                                                                                                                                                                                                                                                                                                                                                                                                                                                                                                                                                                                                                                       battleship potemkin said favourite charlie chaplin present dramatised version mutiny occurred crew russian battleship potemkin rebelled officer tsarist regimethe film textbook cinema classic masterpiece creative editing especially famous odessa step sequence innocent civilian mown bloodshed happening minute drawn five frenzied crosscutting film contains separate shot judged best film ever made panel international critic battleship potemkin public domain part world   \n",
      "22743  john wayne filmed alamo story built complete alamo set town brackettsville texas still quite tourist attraction long stand set future alamo interpretation screen one dennis quaid billy bob thornton done centurybut would say alamo thirteen day glory best alamo story filmed ive seen john wayne film good one overhyped john wayne film story redone fill parameter screen character john wayne brian keith play davy crockett give fine interpretation rollicking frontier character wasits lot closer professor lon tinkle book alamo wayne film read book year ago attest tinkle book listed source film tinkle alive back wayne film done pleased resultalec baldwin around right age young william barrett travis idealistic freedom fighter incidentally slave owner back day one saw ironic contradiction one thing explored hasnt traviss hyperactive sex drive casanova southwest even kept salacious diary libidinal conquestsbut man always get whitewash jim bowie played james arness hero alamo sure career alamo scoundrel smuggler slave trader around con man selling land questionable title heroic death certainly redeemed hint arnesss portrayal others ive seen bowie screen course design bowie knife done specification man needed weaponhowever main asset alamo thirteen day glory full blown portrayal antonio de lopez de santa anna president mexico come personally put rebellion stirred north american whove come settle texas mexican invitation unfortunately american came preconceived notion liberty hadnt made far south least liberty white people raul julia play santa anna remains even controversial figure mexican history also quite scoundrel best mexico produced genuine reformer named benito juarez came alongthis film farewell performance lorne greene appears briefly general sam houston greene quite conception houston really way old part houston early forty yet patriarch texas within limit imposed greene fine jobfor romantic telling alamo tale mean see john wayne version historical content recommend film highly   \n",
      "14140                                                                                                                                                                                                                                                                                                                                                                                                                                                                                                                                                                                                                                                                                                                                                                                                                                                                                                                                                                                                                                    chose movie looking triangle friendship girl two boy lived situation get lost hope similar story would inspire major concern b triangle form c triangle degenerate movie offer plain answer better b open triangle three share thing together mine closed one every one know others never three together speak missing one c movie doesnt offer spoken explanation rather prefer visual emotional assumption end come sensuality sexuality coming triangle accurately one member deep feeling tied intimacy latter former divided agree thatd movie story silence proof something isnt well ironic painful way tool sad time always phone lived dreadful planned phonecall call back wait time come phone silent variation also shown line connected one refuse speak scene hard see meif movie great help way got also lot flaw zapped boy family problem shower scene dvd cover cut movie mickael get finally hotel clment always seeing salom say address girl bar girlfriend know address finally happens vanessa ring final shoot proof engagement   \n",
      "42647                                                                                                                                                                                                                                                                                                                                                                                                                                                                                                                                                                                                                                                                                                                                                                                                                                                                                                                                                                                                                                                                                                                                                                                                                                                                                                                                                                                                                                                                                                                                                                                                                                                                                                                                                                            van simple teensploitation picture made especially drive go way make feel comfortable providing many opportunity laugh cry friend danny devito small yet plentiful role manager car wash almost steal show lead well acted character complex directing quite competent type picture crown international release   \n",
      "24746                                                                                                                                                                                                                                                                                                                                                                                                                                                                                                                                                                                                                                                                                                                                                                                                                                                                                                                                                                                                                                                                                                                                                                                                                                                                                hugely impressed movie nothing else comedy might edgiest wittiest humor time found appropriate every scenethe flow film certainly bit jumbled almost confusing sometimes character feel sometimes watching bit slapstick scene revolve around decisive discourse relationship might bit frustrating certain viewer brought closer character dilemma irregular chaosthe acting great everyone im huge andy richter fan wasnt head heel part like everyone else seems well julianne nicholson lauren graham stole show respective way jay mohr performs expected youve seen film ive always liked himoverall movie funny offer nice foundation type relationship come relationship question problem film try surprise there nothing surprising conclusion offered entertaining watch revealed throughout film   \n",
      "\n",
      "                                                                                                                                                                                                                                                                                                                                                                                                                                                                                                                                                                                                                                                                                                                                                                                                                                                                                                                                                                                                                                                                                                                                                                                                                                                                                                                                                                                                                                                                                                                                                                                                                          Bigrams  \\\n",
      "33886                                                                                                                                                                                                                                                                                                                                                                                                                                                                                                                                                                                                         [battleship_potemkin, potemkin_said, said_favourite, favourite_charlie, charlie_chaplin, chaplin_present, present_dramatised, dramatised_version, version_mutiny, mutiny_occurred, occurred_crew, crew_russian, russian_battleship, battleship_potemkin, potemkin_rebelled, rebelled_officer, officer_tsarist, tsarist_regimethe, regimethe_film, film_textbook, textbook_cinema, cinema_classic, classic_masterpiece, masterpiece_creative, creative_editing, editing_especially, especially_famous, famous_odessa, odessa_step, step_sequence, sequence_innocent, innocent_civilian, civilian_mown, mown_bloodshed, bloodshed_happening, happening_minute, minute_drawn, drawn_five, five_frenzied, frenzied_crosscutting, crosscutting_film, film_contains, contains_separate, separate_shot, shot_judged, judged_best, best_film, film_ever, ever_made, made_panel, panel_international, international_critic, critic_battleship, battleship_potemkin, potemkin_public, public_domain, domain_part, part_world]   \n",
      "22743                                                                                                                                                     [john_wayne, wayne_filmed, filmed_alamo, alamo_story, story_built, built_complete, complete_alamo, alamo_set, set_town, town_brackettsville, brackettsville_texas, texas_still, still_quite, quite_tourist, tourist_attraction, attraction_long, long_stand, stand_set, set_future, future_alamo, alamo_interpretation, interpretation_screen, screen_one, one_dennis, dennis_quaid, quaid_billy, billy_bob, bob_thornton, thornton_done, done_centurybut, centurybut_would, would_say, say_alamo, alamo_thirteen, thirteen_day, day_glory, glory_best, best_alamo, alamo_story, story_filmed, filmed_ive, ive_seen, seen_john, john_wayne, wayne_film, film_good, good_one, one_overhyped, overhyped_john, john_wayne, wayne_film, film_story, story_redone, redone_fill, fill_parameter, parameter_screen, screen_character, character_john, john_wayne, wayne_brian, brian_keith, keith_play, play_davy, davy_crockett, crockett_give, give_fine, fine_interpretation, interpretation_rollicking, rollicking_frontier, frontier_character, character_wasits, wasits_lot, lot_closer, closer_professor, professor_lon, lon_tinkle, tinkle_book, book_alamo, alamo_wayne, wayne_film, film_read, read_book, book_year, year_ago, ago_attest, attest_tinkle, tinkle_book, book_listed, listed_source, source_film, film_tinkle, tinkle_alive, alive_back, back_wayne, wayne_film, film_done, done_pleased, pleased_resultalec, resultalec_baldwin, baldwin_around, ...]   \n",
      "14140                                                                                                                                          [chose_movie, movie_looking, looking_triangle, triangle_friendship, friendship_girl, girl_two, two_boy, boy_lived, lived_situation, situation_get, get_lost, lost_hope, hope_similar, similar_story, story_would, would_inspire, inspire_major, major_concern, concern_b, b_triangle, triangle_form, form_c, c_triangle, triangle_degenerate, degenerate_movie, movie_offer, offer_plain, plain_answer, answer_better, better_b, b_open, open_triangle, triangle_three, three_share, share_thing, thing_together, together_mine, mine_closed, closed_one, one_every, every_one, one_know, know_others, others_never, never_three, three_together, together_speak, speak_missing, missing_one, one_c, c_movie, movie_doesnt, doesnt_offer, offer_spoken, spoken_explanation, explanation_rather, rather_prefer, prefer_visual, visual_emotional, emotional_assumption, assumption_end, end_come, come_sensuality, sensuality_sexuality, sexuality_coming, coming_triangle, triangle_accurately, accurately_one, one_member, member_deep, deep_feeling, feeling_tied, tied_intimacy, intimacy_latter, latter_former, former_divided, divided_agree, agree_thatd, thatd_movie, movie_story, story_silence, silence_proof, proof_something, something_isnt, isnt_well, well_ironic, ironic_painful, painful_way, way_tool, tool_sad, sad_time, time_always, always_phone, phone_lived, lived_dreadful, dreadful_planned, planned_phonecall, phonecall_call, call_back, back_wait, ...]   \n",
      "42647                                                                                                                                                                                                                                                                                                                                                                                                                                                                                                                                                                                                                                                                                                                                                                                                                                                                                                                                                              [van_simple, simple_teensploitation, teensploitation_picture, picture_made, made_especially, especially_drive, drive_go, go_way, way_make, make_feel, feel_comfortable, comfortable_providing, providing_many, many_opportunity, opportunity_laugh, laugh_cry, cry_friend, friend_danny, danny_devito, devito_small, small_yet, yet_plentiful, plentiful_role, role_manager, manager_car, car_wash, wash_almost, almost_steal, steal_show, show_lead, lead_well, well_acted, acted_character, character_complex, complex_directing, directing_quite, quite_competent, competent_type, type_picture, picture_crown, crown_international, international_release]   \n",
      "24746  [hugely_impressed, impressed_movie, movie_nothing, nothing_else, else_comedy, comedy_might, might_edgiest, edgiest_wittiest, wittiest_humor, humor_time, time_found, found_appropriate, appropriate_every, every_scenethe, scenethe_flow, flow_film, film_certainly, certainly_bit, bit_jumbled, jumbled_almost, almost_confusing, confusing_sometimes, sometimes_character, character_feel, feel_sometimes, sometimes_watching, watching_bit, bit_slapstick, slapstick_scene, scene_revolve, revolve_around, around_decisive, decisive_discourse, discourse_relationship, relationship_might, might_bit, bit_frustrating, frustrating_certain, certain_viewer, viewer_brought, brought_closer, closer_character, character_dilemma, dilemma_irregular, irregular_chaosthe, chaosthe_acting, acting_great, great_everyone, everyone_im, im_huge, huge_andy, andy_richter, richter_fan, fan_wasnt, wasnt_head, head_heel, heel_part, part_like, like_everyone, everyone_else, else_seems, seems_well, well_julianne, julianne_nicholson, nicholson_lauren, lauren_graham, graham_stole, stole_show, show_respective, respective_way, way_jay, jay_mohr, mohr_performs, performs_expected, expected_youve, youve_seen, seen_film, film_ive, ive_always, always_liked, liked_himoverall, himoverall_movie, movie_funny, funny_offer, offer_nice, nice_foundation, foundation_type, type_relationship, relationship_come, come_relationship, relationship_question, question_problem, problem_film, film_try, try_surprise, surprise_there, there_nothing, nothing_surprising, surprising_conclusion, conclusion_offered, ...]   \n",
      "\n",
      "                                                                                                                                                                                                                                                                                                                                                                                                                                                                                                                                                                                                                                                                                                                                                                                                                                                                                                                                                                                                                                                                                                                                                                                                                                                                                                                                                                                                                                                                                                                                                                                                                                                                                                                                                                                                                                                                                                                                                                                                                                                                                                                                                                                                                                                                                                                                                                                     Trigrams  \n",
      "33886                                                                                                                                                                                                                                                                                                                                                                                                                                                                                                                                                                                                                                                                                                                                                                                                                                                                                                                [battleship_potemkin_said, potemkin_said_favourite, said_favourite_charlie, favourite_charlie_chaplin, charlie_chaplin_present, chaplin_present_dramatised, present_dramatised_version, dramatised_version_mutiny, version_mutiny_occurred, mutiny_occurred_crew, occurred_crew_russian, crew_russian_battleship, russian_battleship_potemkin, battleship_potemkin_rebelled, potemkin_rebelled_officer, rebelled_officer_tsarist, officer_tsarist_regimethe, tsarist_regimethe_film, regimethe_film_textbook, film_textbook_cinema, textbook_cinema_classic, cinema_classic_masterpiece, classic_masterpiece_creative, masterpiece_creative_editing, creative_editing_especially, editing_especially_famous, especially_famous_odessa, famous_odessa_step, odessa_step_sequence, step_sequence_innocent, sequence_innocent_civilian, innocent_civilian_mown, civilian_mown_bloodshed, mown_bloodshed_happening, bloodshed_happening_minute, happening_minute_drawn, minute_drawn_five, drawn_five_frenzied, five_frenzied_crosscutting, frenzied_crosscutting_film, crosscutting_film_contains, film_contains_separate, contains_separate_shot, separate_shot_judged, shot_judged_best, judged_best_film, best_film_ever, film_ever_made, ever_made_panel, made_panel_international, panel_international_critic, international_critic_battleship, critic_battleship_potemkin, battleship_potemkin_public, potemkin_public_domain, public_domain_part, domain_part_world]  \n",
      "22743                                                                                                                                                                                                                                 [john_wayne_filmed, wayne_filmed_alamo, filmed_alamo_story, alamo_story_built, story_built_complete, built_complete_alamo, complete_alamo_set, alamo_set_town, set_town_brackettsville, town_brackettsville_texas, brackettsville_texas_still, texas_still_quite, still_quite_tourist, quite_tourist_attraction, tourist_attraction_long, attraction_long_stand, long_stand_set, stand_set_future, set_future_alamo, future_alamo_interpretation, alamo_interpretation_screen, interpretation_screen_one, screen_one_dennis, one_dennis_quaid, dennis_quaid_billy, quaid_billy_bob, billy_bob_thornton, bob_thornton_done, thornton_done_centurybut, done_centurybut_would, centurybut_would_say, would_say_alamo, say_alamo_thirteen, alamo_thirteen_day, thirteen_day_glory, day_glory_best, glory_best_alamo, best_alamo_story, alamo_story_filmed, story_filmed_ive, filmed_ive_seen, ive_seen_john, seen_john_wayne, john_wayne_film, wayne_film_good, film_good_one, good_one_overhyped, one_overhyped_john, overhyped_john_wayne, john_wayne_film, wayne_film_story, film_story_redone, story_redone_fill, redone_fill_parameter, fill_parameter_screen, parameter_screen_character, screen_character_john, character_john_wayne, john_wayne_brian, wayne_brian_keith, brian_keith_play, keith_play_davy, play_davy_crockett, davy_crockett_give, crockett_give_fine, give_fine_interpretation, fine_interpretation_rollicking, interpretation_rollicking_frontier, rollicking_frontier_character, frontier_character_wasits, character_wasits_lot, wasits_lot_closer, lot_closer_professor, closer_professor_lon, professor_lon_tinkle, lon_tinkle_book, tinkle_book_alamo, book_alamo_wayne, alamo_wayne_film, wayne_film_read, film_read_book, read_book_year, book_year_ago, year_ago_attest, ago_attest_tinkle, attest_tinkle_book, tinkle_book_listed, book_listed_source, listed_source_film, source_film_tinkle, film_tinkle_alive, tinkle_alive_back, alive_back_wayne, back_wayne_film, wayne_film_done, film_done_pleased, done_pleased_resultalec, pleased_resultalec_baldwin, resultalec_baldwin_around, baldwin_around_right, ...]  \n",
      "14140                                                                                                                                                                                                                   [chose_movie_looking, movie_looking_triangle, looking_triangle_friendship, triangle_friendship_girl, friendship_girl_two, girl_two_boy, two_boy_lived, boy_lived_situation, lived_situation_get, situation_get_lost, get_lost_hope, lost_hope_similar, hope_similar_story, similar_story_would, story_would_inspire, would_inspire_major, inspire_major_concern, major_concern_b, concern_b_triangle, b_triangle_form, triangle_form_c, form_c_triangle, c_triangle_degenerate, triangle_degenerate_movie, degenerate_movie_offer, movie_offer_plain, offer_plain_answer, plain_answer_better, answer_better_b, better_b_open, b_open_triangle, open_triangle_three, triangle_three_share, three_share_thing, share_thing_together, thing_together_mine, together_mine_closed, mine_closed_one, closed_one_every, one_every_one, every_one_know, one_know_others, know_others_never, others_never_three, never_three_together, three_together_speak, together_speak_missing, speak_missing_one, missing_one_c, one_c_movie, c_movie_doesnt, movie_doesnt_offer, doesnt_offer_spoken, offer_spoken_explanation, spoken_explanation_rather, explanation_rather_prefer, rather_prefer_visual, prefer_visual_emotional, visual_emotional_assumption, emotional_assumption_end, assumption_end_come, end_come_sensuality, come_sensuality_sexuality, sensuality_sexuality_coming, sexuality_coming_triangle, coming_triangle_accurately, triangle_accurately_one, accurately_one_member, one_member_deep, member_deep_feeling, deep_feeling_tied, feeling_tied_intimacy, tied_intimacy_latter, intimacy_latter_former, latter_former_divided, former_divided_agree, divided_agree_thatd, agree_thatd_movie, thatd_movie_story, movie_story_silence, story_silence_proof, silence_proof_something, proof_something_isnt, something_isnt_well, isnt_well_ironic, well_ironic_painful, ironic_painful_way, painful_way_tool, way_tool_sad, tool_sad_time, sad_time_always, time_always_phone, always_phone_lived, phone_lived_dreadful, lived_dreadful_planned, dreadful_planned_phonecall, planned_phonecall_call, phonecall_call_back, call_back_wait, back_wait_time, ...]  \n",
      "42647                                                                                                                                                                                                                                                                                                                                                                                                                                                                                                                                                                                                                                                                                                                                                                                                                                                                                                                                                                                                                                                                                                                                                                                                                                                                                                                                                                                                                                            [van_simple_teensploitation, simple_teensploitation_picture, teensploitation_picture_made, picture_made_especially, made_especially_drive, especially_drive_go, drive_go_way, go_way_make, way_make_feel, make_feel_comfortable, feel_comfortable_providing, comfortable_providing_many, providing_many_opportunity, many_opportunity_laugh, opportunity_laugh_cry, laugh_cry_friend, cry_friend_danny, friend_danny_devito, danny_devito_small, devito_small_yet, small_yet_plentiful, yet_plentiful_role, plentiful_role_manager, role_manager_car, manager_car_wash, car_wash_almost, wash_almost_steal, almost_steal_show, steal_show_lead, show_lead_well, lead_well_acted, well_acted_character, acted_character_complex, character_complex_directing, complex_directing_quite, directing_quite_competent, quite_competent_type, competent_type_picture, type_picture_crown, picture_crown_international, crown_international_release]  \n",
      "24746  [hugely_impressed_movie, impressed_movie_nothing, movie_nothing_else, nothing_else_comedy, else_comedy_might, comedy_might_edgiest, might_edgiest_wittiest, edgiest_wittiest_humor, wittiest_humor_time, humor_time_found, time_found_appropriate, found_appropriate_every, appropriate_every_scenethe, every_scenethe_flow, scenethe_flow_film, flow_film_certainly, film_certainly_bit, certainly_bit_jumbled, bit_jumbled_almost, jumbled_almost_confusing, almost_confusing_sometimes, confusing_sometimes_character, sometimes_character_feel, character_feel_sometimes, feel_sometimes_watching, sometimes_watching_bit, watching_bit_slapstick, bit_slapstick_scene, slapstick_scene_revolve, scene_revolve_around, revolve_around_decisive, around_decisive_discourse, decisive_discourse_relationship, discourse_relationship_might, relationship_might_bit, might_bit_frustrating, bit_frustrating_certain, frustrating_certain_viewer, certain_viewer_brought, viewer_brought_closer, brought_closer_character, closer_character_dilemma, character_dilemma_irregular, dilemma_irregular_chaosthe, irregular_chaosthe_acting, chaosthe_acting_great, acting_great_everyone, great_everyone_im, everyone_im_huge, im_huge_andy, huge_andy_richter, andy_richter_fan, richter_fan_wasnt, fan_wasnt_head, wasnt_head_heel, head_heel_part, heel_part_like, part_like_everyone, like_everyone_else, everyone_else_seems, else_seems_well, seems_well_julianne, well_julianne_nicholson, julianne_nicholson_lauren, nicholson_lauren_graham, lauren_graham_stole, graham_stole_show, stole_show_respective, show_respective_way, respective_way_jay, way_jay_mohr, jay_mohr_performs, mohr_performs_expected, performs_expected_youve, expected_youve_seen, youve_seen_film, seen_film_ive, film_ive_always, ive_always_liked, always_liked_himoverall, liked_himoverall_movie, himoverall_movie_funny, movie_funny_offer, funny_offer_nice, offer_nice_foundation, nice_foundation_type, foundation_type_relationship, type_relationship_come, relationship_come_relationship, come_relationship_question, relationship_question_problem, question_problem_film, problem_film_try, film_try_surprise, try_surprise_there, surprise_there_nothing, there_nothing_surprising, nothing_surprising_conclusion, surprising_conclusion_offered, conclusion_offered_entertaining, ...]  \n"
     ]
    }
   ],
   "source": [
    "# Function to generate bigrams and trigrams\n",
    "def generate_ngrams(text, n=2):\n",
    "    tokens = word_tokenize(text.lower())\n",
    "    n_grams = list(ngrams(tokens, n))\n",
    "    return [\"_\".join(gram) for gram in n_grams]\n",
    "\n",
    "# Generate bigrams and trigrams\n",
    "random_sample[\"Bigrams\"] = random_sample[\"cleaned_text\"].apply(lambda x: generate_ngrams(x, 2) if isinstance(x, str) else [])\n",
    "random_sample[\"Trigrams\"] = random_sample[\"cleaned_text\"].apply(lambda x: generate_ngrams(x, 3) if isinstance(x, str) else [])\n",
    "\n",
    "# Check the results\n",
    "print(random_sample[[\"review\", \"cleaned_text\", \"Bigrams\", \"Trigrams\"]].sample(5))"
   ]
  },
  {
   "cell_type": "markdown",
   "id": "7fb14eb0-b67c-4a46-a83f-c567d7f50a7a",
   "metadata": {
    "id": "7fb14eb0-b67c-4a46-a83f-c567d7f50a7a"
   },
   "source": [
    "## TF-IDF Vectorizer"
   ]
  },
  {
   "cell_type": "code",
   "execution_count": 19,
   "id": "03b7372c",
   "metadata": {
    "colab": {
     "base_uri": "https://localhost:8080/"
    },
    "id": "03b7372c",
    "outputId": "0f1593e0-f03d-4f36-c948-6860e2266450"
   },
   "outputs": [
    {
     "name": "stdout",
     "output_type": "stream",
     "text": [
      "Feature matrix shape: (50000, 8643520)\n"
     ]
    }
   ],
   "source": [
    "from sklearn.feature_extraction.text import TfidfVectorizer\n",
    "\n",
    "# Initialize TfidfVectorizer for unigrams, bigrams, and trigrams\n",
    "tfidf_vectorizer = TfidfVectorizer(ngram_range=(1, 3))\n",
    "\n",
    "# Fit and transform the cleaned text from random_sample to create features\n",
    "X_tfidf = tfidf_vectorizer.fit_transform(random_sample[\"cleaned_text\"])\n",
    "\n",
    "# Display the shape of the feature matrix\n",
    "print(f\"Feature matrix shape: {X_tfidf.shape}\")"
   ]
  },
  {
   "cell_type": "code",
   "execution_count": 20,
   "id": "5185091a",
   "metadata": {
    "colab": {
     "base_uri": "https://localhost:8080/"
    },
    "id": "5185091a",
    "outputId": "2c2ab561-7019-4dc2-f0e2-d3b7702e4c47"
   },
   "outputs": [
    {
     "name": "stdout",
     "output_type": "stream",
     "text": [
      "Training set size: (40000, 8643520)\n",
      "Test set size: (10000, 8643520)\n"
     ]
    }
   ],
   "source": [
    "y = random_sample['sentiment']\n",
    "# Split data into training and testing sets (80% train, 20% test)\n",
    "X_train_tfidf, X_test_tfidf, y_train, y_test = train_test_split(X_tfidf, y, test_size=0.2, random_state=42)\n",
    "\n",
    "print(f\"Training set size: {X_train_tfidf.shape}\")\n",
    "print(f\"Test set size: {X_test_tfidf.shape}\")"
   ]
  },
  {
   "cell_type": "markdown",
   "id": "d5f17932",
   "metadata": {
    "id": "d5f17932"
   },
   "source": [
    "## Logistic Regression"
   ]
  },
  {
   "cell_type": "code",
   "execution_count": 22,
   "id": "8e0bc41f-4bae-433f-aa31-dd413f439f53",
   "metadata": {
    "colab": {
     "base_uri": "https://localhost:8080/"
    },
    "id": "8e0bc41f-4bae-433f-aa31-dd413f439f53",
    "outputId": "bdfac65d-6bd7-45a7-d0fd-eaebb4d433c9"
   },
   "outputs": [
    {
     "name": "stdout",
     "output_type": "stream",
     "text": [
      "Logistic Regression (TF-IDF) Classification Report:\n",
      "              precision    recall  f1-score   support\n",
      "\n",
      "    negative       0.90      0.86      0.88      4961\n",
      "    positive       0.87      0.90      0.88      5039\n",
      "\n",
      "    accuracy                           0.88     10000\n",
      "   macro avg       0.88      0.88      0.88     10000\n",
      "weighted avg       0.88      0.88      0.88     10000\n",
      "\n"
     ]
    }
   ],
   "source": [
    "# Initialize the Logistic Regression model\n",
    "log_reg_tfidf = LogisticRegression(class_weight='balanced', max_iter=1000)\n",
    "\n",
    "# Train the model\n",
    "log_reg_tfidf.fit(X_train_tfidf, y_train)\n",
    "\n",
    "# Make predictions\n",
    "y_pred_log_reg_tfidf = log_reg_tfidf.predict(X_test_tfidf)\n",
    "\n",
    "# Evaluate the model\n",
    "print(\"Logistic Regression (TF-IDF) Classification Report:\")\n",
    "print(classification_report(y_test, y_pred_log_reg_tfidf))"
   ]
  },
  {
   "cell_type": "markdown",
   "id": "1aba8ffc-f414-4cdb-ade1-ce12fdcb144c",
   "metadata": {},
   "source": [
    "### Hyperparameter Tuning"
   ]
  },
  {
   "cell_type": "code",
   "execution_count": 24,
   "id": "cbaa9723-d24f-4893-902b-ad9859685b9f",
   "metadata": {},
   "outputs": [
    {
     "name": "stdout",
     "output_type": "stream",
     "text": [
      "Logistic Regression (TF-IDF) Classification Report:\n",
      "              precision    recall  f1-score   support\n",
      "\n",
      "    negative       0.91      0.88      0.90      4961\n",
      "    positive       0.89      0.92      0.90      5039\n",
      "\n",
      "    accuracy                           0.90     10000\n",
      "   macro avg       0.90      0.90      0.90     10000\n",
      "weighted avg       0.90      0.90      0.90     10000\n",
      "\n"
     ]
    }
   ],
   "source": [
    "# Initialize the Logistic Regression model\n",
    "log_reg_tfidf = LogisticRegression(class_weight='balanced', C=10, max_iter=100)\n",
    "\n",
    "# Train the model\n",
    "log_reg_tfidf.fit(X_train_tfidf, y_train)\n",
    "\n",
    "# Make predictions\n",
    "y_pred_log_reg_tfidf = log_reg_tfidf.predict(X_test_tfidf)\n",
    "\n",
    "# Evaluate the model\n",
    "print(\"Logistic Regression (TF-IDF) Classification Report:\")\n",
    "print(classification_report(y_test, y_pred_log_reg_tfidf))"
   ]
  },
  {
   "cell_type": "markdown",
   "id": "d3b88ea2",
   "metadata": {
    "id": "d3b88ea2"
   },
   "source": [
    "## Naive-Bayes"
   ]
  },
  {
   "cell_type": "code",
   "execution_count": 26,
   "id": "c9b26651",
   "metadata": {
    "colab": {
     "base_uri": "https://localhost:8080/"
    },
    "id": "c9b26651",
    "outputId": "0f47c996-58da-408f-ea9f-6e5e6bad7aaf",
    "scrolled": true
   },
   "outputs": [
    {
     "name": "stdout",
     "output_type": "stream",
     "text": [
      "Naive Bayes (TF-IDF) Classification Report:\n",
      "              precision    recall  f1-score   support\n",
      "\n",
      "    negative       0.88      0.90      0.89      4961\n",
      "    positive       0.90      0.88      0.89      5039\n",
      "\n",
      "    accuracy                           0.89     10000\n",
      "   macro avg       0.89      0.89      0.89     10000\n",
      "weighted avg       0.89      0.89      0.89     10000\n",
      "\n"
     ]
    }
   ],
   "source": [
    "# Initialize the Naive Bayes model\n",
    "nb_tfidf = MultinomialNB()\n",
    "\n",
    "# Train the model\n",
    "nb_tfidf.fit(X_train_tfidf, y_train)\n",
    "\n",
    "# Make predictions\n",
    "y_pred_nb_tfidf = nb_tfidf.predict(X_test_tfidf)\n",
    "\n",
    "# Evaluate the model\n",
    "print(\"Naive Bayes (TF-IDF) Classification Report:\")\n",
    "print(classification_report(y_test, y_pred_nb_tfidf))\n"
   ]
  },
  {
   "cell_type": "markdown",
   "id": "e03c1cf9-4792-4ffc-9673-adf0078cd0e1",
   "metadata": {
    "id": "e03c1cf9-4792-4ffc-9673-adf0078cd0e1"
   },
   "source": [
    "### Hyperparameter Tuning"
   ]
  },
  {
   "cell_type": "code",
   "execution_count": 28,
   "id": "500ab6c3-9177-48bf-9350-9f1dc9bb6ca3",
   "metadata": {
    "colab": {
     "base_uri": "https://localhost:8080/"
    },
    "id": "500ab6c3-9177-48bf-9350-9f1dc9bb6ca3",
    "outputId": "680fe4e4-132f-42cd-e99f-86a90783dc23"
   },
   "outputs": [
    {
     "name": "stdout",
     "output_type": "stream",
     "text": [
      "Naive Bayes (TF-IDF) Classification Report:\n",
      "              precision    recall  f1-score   support\n",
      "\n",
      "    negative       0.89      0.90      0.89      4961\n",
      "    positive       0.90      0.89      0.90      5039\n",
      "\n",
      "    accuracy                           0.90     10000\n",
      "   macro avg       0.90      0.90      0.90     10000\n",
      "weighted avg       0.90      0.90      0.90     10000\n",
      "\n"
     ]
    }
   ],
   "source": [
    "# Initialize the Naive Bayes model\n",
    "nb_tfidf = MultinomialNB(alpha=0.1)\n",
    "\n",
    "# Train the model\n",
    "nb_tfidf.fit(X_train_tfidf, y_train)\n",
    "\n",
    "# Make predictions\n",
    "y_pred_nb_tfidf = nb_tfidf.predict(X_test_tfidf)\n",
    "\n",
    "# Evaluate the model\n",
    "print(\"Naive Bayes (TF-IDF) Classification Report:\")\n",
    "print(classification_report(y_test, y_pred_nb_tfidf))"
   ]
  },
  {
   "cell_type": "markdown",
   "id": "3fdddcc8-c995-4cb9-bec6-a5ed9ac28c0f",
   "metadata": {
    "id": "3fdddcc8-c995-4cb9-bec6-a5ed9ac28c0f"
   },
   "source": [
    "## Decision Tree"
   ]
  },
  {
   "cell_type": "code",
   "execution_count": 30,
   "id": "f1785cec-84d1-4645-98a2-919986c2ecd4",
   "metadata": {
    "id": "f1785cec-84d1-4645-98a2-919986c2ecd4",
    "scrolled": true
   },
   "outputs": [
    {
     "name": "stdout",
     "output_type": "stream",
     "text": [
      "Decision Tree (TF-IDF) Classification Report:\n",
      "              precision    recall  f1-score   support\n",
      "\n",
      "    negative       0.54      0.85      0.66      4961\n",
      "    positive       0.67      0.29      0.41      5039\n",
      "\n",
      "    accuracy                           0.57     10000\n",
      "   macro avg       0.60      0.57      0.53     10000\n",
      "weighted avg       0.60      0.57      0.53     10000\n",
      "\n"
     ]
    }
   ],
   "source": [
    "# Initialize the Decision Tree model\n",
    "dt_tfidf = DecisionTreeClassifier(max_depth=30, min_samples_split=50, min_samples_leaf=20, max_features=\"sqrt\", random_state=42)\n",
    "\n",
    "# Train the model\n",
    "dt_tfidf.fit(X_train_tfidf, y_train)\n",
    "\n",
    "# Make predictions\n",
    "y_pred_dt_tfidf = dt_tfidf.predict(X_test_tfidf)\n",
    "\n",
    "# Evaluate the model\n",
    "print(\"Decision Tree (TF-IDF) Classification Report:\")\n",
    "print(classification_report(y_test, y_pred_dt_tfidf))\n"
   ]
  },
  {
   "cell_type": "markdown",
   "id": "598b1160-1ab6-4496-a995-bf57c4c46197",
   "metadata": {},
   "source": [
    "### Hyperparameter Tuning"
   ]
  },
  {
   "cell_type": "code",
   "execution_count": 35,
   "id": "b8280a93-cbf5-445c-8989-fbb65aae924c",
   "metadata": {},
   "outputs": [
    {
     "name": "stdout",
     "output_type": "stream",
     "text": [
      "Decision Tree (TF-IDF) Classification Report:\n",
      "              precision    recall  f1-score   support\n",
      "\n",
      "    negative       0.68      0.28      0.39      4961\n",
      "    positive       0.55      0.87      0.67      5039\n",
      "\n",
      "    accuracy                           0.58     10000\n",
      "   macro avg       0.61      0.57      0.53     10000\n",
      "weighted avg       0.61      0.58      0.54     10000\n",
      "\n"
     ]
    }
   ],
   "source": [
    "# Initialize the Decision Tree model\n",
    "dt_tfidf = DecisionTreeClassifier(max_depth=45, min_samples_split=10, min_samples_leaf=20, max_features=\"sqrt\", random_state=42)\n",
    "\n",
    "# Train the model\n",
    "dt_tfidf.fit(X_train_tfidf, y_train)\n",
    "\n",
    "# Make predictions\n",
    "y_pred_dt_tfidf = dt_tfidf.predict(X_test_tfidf)\n",
    "\n",
    "# Evaluate the model\n",
    "print(\"Decision Tree (TF-IDF) Classification Report:\")\n",
    "print(classification_report(y_test, y_pred_dt_tfidf))\n"
   ]
  },
  {
   "cell_type": "markdown",
   "id": "a236af7b-984c-4940-8dde-b45e71a13b8e",
   "metadata": {
    "id": "a236af7b-984c-4940-8dde-b45e71a13b8e"
   },
   "source": [
    "## Random Forest"
   ]
  },
  {
   "cell_type": "code",
   "execution_count": 37,
   "id": "c9f1e074-407c-4f96-830a-0be5ff5d18dc",
   "metadata": {},
   "outputs": [],
   "source": [
    "# Encode y_train\n",
    "label_encoder = LabelEncoder()\n",
    "y_train_encoded = label_encoder.fit_transform(y_train)\n",
    "y_test_encoded = label_encoder.transform(y_test)"
   ]
  },
  {
   "cell_type": "code",
   "execution_count": 40,
   "id": "3a234541-c29b-4055-adfd-69e373b66267",
   "metadata": {
    "colab": {
     "base_uri": "https://localhost:8080/"
    },
    "id": "3a234541-c29b-4055-adfd-69e373b66267",
    "outputId": "652e3ff7-b461-4d33-9efa-4cf4ce5f9aff"
   },
   "outputs": [
    {
     "name": "stdout",
     "output_type": "stream",
     "text": [
      "Random Forest (TF-IDF) Classification Report:\n",
      "              precision    recall  f1-score   support\n",
      "\n",
      "    negative       0.71      0.73      0.72      4961\n",
      "    positive       0.73      0.71      0.72      5039\n",
      "\n",
      "    accuracy                           0.72     10000\n",
      "   macro avg       0.72      0.72      0.72     10000\n",
      "weighted avg       0.72      0.72      0.72     10000\n",
      "\n"
     ]
    }
   ],
   "source": [
    "# Initialize the Random Forest model\n",
    "rf_tfidf = RandomForestClassifier(\n",
    "    n_estimators=50, \n",
    "    max_depth=10, \n",
    "    min_samples_split=10, \n",
    "    min_samples_leaf=5, \n",
    "    max_features=\"sqrt\", \n",
    "    bootstrap=True,\n",
    "    random_state=42)\n",
    "\n",
    "# Train the model\n",
    "rf_tfidf.fit(X_train_tfidf, y_train_encoded)\n",
    "\n",
    "# Make predictions\n",
    "y_pred_rf_tfidf = rf_tfidf.predict(X_test_tfidf)\n",
    "\n",
    "# Convert predictions back to original labels (optional)\n",
    "y_pred_rf_tfidf_labels = label_encoder.inverse_transform(y_pred_rf_tfidf)\n",
    "\n",
    "# Evaluate the model\n",
    "print(\"Random Forest (TF-IDF) Classification Report:\")\n",
    "print(classification_report(y_test, y_pred_rf_tfidf_labels))"
   ]
  },
  {
   "cell_type": "markdown",
   "id": "6bdb5716-e549-40ea-9c8f-8b56bad4c87b",
   "metadata": {
    "id": "6bdb5716-e549-40ea-9c8f-8b56bad4c87b"
   },
   "source": [
    "### Hyperparameter Tuning"
   ]
  },
  {
   "cell_type": "code",
   "execution_count": 41,
   "id": "5061a69c-3d11-4f27-ada0-156410947cdd",
   "metadata": {
    "colab": {
     "base_uri": "https://localhost:8080/"
    },
    "id": "5061a69c-3d11-4f27-ada0-156410947cdd",
    "outputId": "253418b2-a35a-45de-ca67-f7cb9b6259b1"
   },
   "outputs": [
    {
     "name": "stdout",
     "output_type": "stream",
     "text": [
      "Random Forest (TF-IDF) Classification Report:\n",
      "              precision    recall  f1-score   support\n",
      "\n",
      "    negative       0.83      0.79      0.81      4961\n",
      "    positive       0.81      0.84      0.82      5039\n",
      "\n",
      "    accuracy                           0.82     10000\n",
      "   macro avg       0.82      0.82      0.82     10000\n",
      "weighted avg       0.82      0.82      0.82     10000\n",
      "\n"
     ]
    }
   ],
   "source": [
    "# Initialize the Random Forest model\n",
    "rf_tfidf = RandomForestClassifier(\n",
    "    n_estimators=100, \n",
    "    max_depth=20, \n",
    "    min_samples_split=10, \n",
    "    min_samples_leaf=5, \n",
    "    max_features=\"sqrt\", \n",
    "    bootstrap=True,\n",
    "    random_state=42)\n",
    "\n",
    "# Train the model\n",
    "rf_tfidf.fit(X_train_tfidf, y_train_encoded)\n",
    "\n",
    "# Make predictions\n",
    "y_pred_rf_tfidf = rf_tfidf.predict(X_test_tfidf)\n",
    "\n",
    "# Convert predictions back to original labels (optional)\n",
    "y_pred_rf_tfidf_labels = label_encoder.inverse_transform(y_pred_rf_tfidf)\n",
    "\n",
    "# Evaluate the model\n",
    "print(\"Random Forest (TF-IDF) Classification Report:\")\n",
    "print(classification_report(y_test, y_pred_rf_tfidf_labels))"
   ]
  },
  {
   "cell_type": "markdown",
   "id": "Us09ocL4WeLc",
   "metadata": {
    "id": "Us09ocL4WeLc"
   },
   "source": [
    "## Evaluation(Naive Bayesian)"
   ]
  },
  {
   "cell_type": "code",
   "execution_count": 42,
   "id": "BJSGdP5CHwyW",
   "metadata": {
    "id": "BJSGdP5CHwyW"
   },
   "outputs": [],
   "source": [
    "sample_df = df.sample(n=100, random_state=42)"
   ]
  },
  {
   "cell_type": "code",
   "execution_count": 43,
   "id": "GO4jjTrHPXV5",
   "metadata": {
    "colab": {
     "base_uri": "https://localhost:8080/"
    },
    "id": "GO4jjTrHPXV5",
    "outputId": "5d6aefff-603e-4ce2-e7bf-232ecdb7ee4e"
   },
   "outputs": [
    {
     "name": "stdout",
     "output_type": "stream",
     "text": [
      "Selected 100 random rows from the dataset:\n",
      "                                                                                                                                                                                                                                                                                                                                                                                                                                                                                                                                                                                                                                                                                                                                                                                                                                                                                                                                                                                                                                                                                                                                                                                                                                                                                                                                                                                                                                                                                                                                                                                                                                                                                                                                                                                                                                                                                                                                                                                                                                                                                                                                       review  \\\n",
      "33553                                                                                                                                                                                                                                                                                                                                                                                                                                                                                                                                                                                                                                                                                                                                                                                                                                                                                                                                                                                     I really liked this Summerslam due to the look of the arena, the curtains and just the look overall was interesting to me for some reason. Anyways, this could have been one of the best Summerslam's ever if the WWF didn't have Lex Luger in the main event against Yokozuna, now for it's time it was ok to have a huge fat man vs a strong man but I'm glad times have changed. It was a terrible main event just like every match Luger is in is terrible. Other matches on the card were Razor Ramon vs Ted Dibiase, Steiner Brothers vs Heavenly Bodies, Shawn Michaels vs Curt Hening, this was the event where Shawn named his big monster of a body guard Diesel, IRS vs 1-2-3 Kid, Bret Hart first takes on Doink then takes on Jerry Lawler and stuff with the Harts and Lawler was always very interesting, then Ludvig Borga destroyed Marty Jannetty, Undertaker took on Giant Gonzalez in another terrible match, The Smoking Gunns and Tatanka took on Bam Bam Bigelow and the Headshrinkers, and Yokozuna defended the world title against Lex Luger this match was boring and it has a terrible ending. However it deserves 8/10   \n",
      "9427   Not many television shows appeal to quite as many different kinds of fans like Farscape does...I know youngsters and 30/40+ years old;fans both Male and Female in as many different countries as you can think of that just adore this T.V miniseries. It has elements that can be found in almost every other show on T.V, character driven drama that could be from an Australian soap opera; yet in the same episode it has science fact & fiction that would give even the hardiest \"Trekkie\" a run for his money in the brainbender stakes! Wormhole theory, Time Travel in true equational form...Magnificent. It embraces cultures from all over the map as the possibilities are endless having multiple stars and therefore thousands of planets to choose from.<br /><br />With such a broad scope; it would be expected that nothing would be able to keep up the illusion for long, but here is where \"Farscape\" really comes into it's own element...It succeeds where all others have failed, especially the likes of Star Trek (a universe with practically zero Kaos element!) They ran out of ideas pretty quickly + kept rehashing them! Over the course of 4 seasons they manage to keep the audience's attention using good continuity and constant character evolution with multiple threads to every episode with unique personal touches to camera that are specific to certain character groups within the whole. This structure allows for an extremely large area of subject matter as loyalties are forged and broken in many ways on many many issues. I happened to see the pilot (Premiere) in passing and just had to keep tuning in after that to see if Crichton would ever \"Get the girl\", after seeing them all on television I was delighted to see them available on DVD & I have to admit that it was the only thing that kept me sane whilst I had to do a 12 hour night shift and developed chronic insomnia...Farscape was the only thing to get me through those extremely long nights...<br /><br />Do yourself a favour; Watch the pilot and see what I mean...<br /><br />Farscape Comet   \n",
      "199                                                                                                                                                                                                                                                                                                                                                                                                                                                                                                                                                                                                                                                                                                                                                                                                                                                                                                                                                                                                                                                                                                                                                                                                                                                                                                                                                                                                                                                             The film quickly gets to a major chase scene with ever increasing destruction. The first really bad thing is the guy hijacking Steven Seagal would have been beaten to pulp by Seagal's driving, but that probably would have ended the whole premise for the movie.<br /><br />It seems like they decided to make all kinds of changes in the movie plot, so just plan to enjoy the action, and do not expect a coherent plot. Turn any sense of logic you may have, it will reduce your chance of getting a headache.<br /><br />I does give me some hope that Steven Seagal is trying to move back towards the type of characters he portrayed in his more popular movies.   \n",
      "12447                                                                                                                                                                                                                                                                                                                                                                                                                                                                                                                                                                                                                                                                                                                                                                                                                                                                                                                                                                                                                                                                                                                                                                                                                                                                                                                                                                                                                                                                                Jane Austen would definitely approve of this one!<br /><br />Gwyneth Paltrow does an awesome job capturing the attitude of Emma. She is funny without being excessively silly, yet elegant. She puts on a very convincing British accent (not being British myself, maybe I'm not the best judge, but she fooled me...she was also excellent in \"Sliding Doors\"...I sometimes forget she's American ~!). <br /><br />Also brilliant are Jeremy Northam and Sophie Thompson and Phyllida Law (Emma Thompson's sister and mother) as the Bates women. They nearly steal the show...and Ms. Law doesn't even have any lines!<br /><br />Highly recommended.   \n",
      "39489                                                                                                                                                            Expectations were somewhat high for me when I went to see this movie, after all I thought Steve Carell could do no wrong coming off of great movies like Anchorman, The 40 Year-Old Virgin, and Little Miss Sunshine. Boy, was I wrong.<br /><br />I'll start with what is right with this movie: at certain points Steve Carell is allowed to be Steve Carell. There are a handful of moments in the film that made me laugh, and it's due almost entirely to him being given the wiggle-room to do his thing. He's an undoubtedly talented individual, and it's a shame that he signed on to what turned out to be, in my opinion, a total train-wreck.<br /><br />With that out of the way, I'll discuss what went horrifyingly wrong.<br /><br />The film begins with Dan Burns, a widower with three girls who is being considered for a nationally syndicated advice column. He prepares his girls for a family reunion, where his extended relatives gather for some time with each other.<br /><br />The family is high atop the list of things that make this an awful movie. No family behaves like this. It's almost as if they've been transported from Pleasantville or Leave it to Beaver. They are a caricature of what we think a family is when we're 7. It reaches the point where they become obnoxious and simply frustrating. Touch football, crossword puzzle competitions, family bowling, and talent shows ARE NOT HOW ACTUAL PEOPLE BEHAVE. It's almost sickening.<br /><br />Another big flaw is the woman Carell is supposed to be falling for. Observing her in her first scene with Steve Carell is like watching a stroke victim trying to be rehabilitated. What I imagine is supposed to be unique and original in this woman comes off as mildly retarded.<br /><br />It makes me think that this movie is taking place on another planet. I left the theater wondering what I just saw. After thinking further, I don't think it was much.   \n",
      "\n",
      "      sentiment  Text_Length  \\\n",
      "33553  positive         1107   \n",
      "9427   positive         2054   \n",
      "199    negative          653   \n",
      "12447  positive          632   \n",
      "39489  negative         1900   \n",
      "\n",
      "                                                                                                                                                                                                                                                                                                                                                                                                                                                                                                                                                                                                                                                                                                                                                                                                                                                                                                                                                                                                                                                                                                                                                                                                                                                                                                                                                         cleaned_text  \\\n",
      "33553                                                                                                                                                                                                                                                                                                                                                                                                                                                                                                                                                                                               really liked summerslam due look arena curtain look overall interesting reason anyways could one best summerslams ever wwf didnt lex luger main event yokozuna time ok huge fat man v strong man im glad time changed terrible main event like every match luger terrible match card razor ramon v ted dibiase steiner brother v heavenly body shawn michael v curt hening event shawn named big monster body guard diesel irs v kid bret hart first take doink take jerry lawler stuff hart lawler always interesting ludvig borga destroyed marty jannetty undertaker took giant gonzalez another terrible match smoking gunns tatanka took bam bam bigelow headshrinkers yokozuna defended world title lex luger match boring terrible ending however deserves   \n",
      "9427   many television show appeal quite many different kind fan like farscape doesi know youngster year oldfans male female many different country think adore tv miniseries element found almost every show tv character driven drama could australian soap opera yet episode science fact fiction would give even hardiest trekkie run money brainbender stake wormhole theory time travel true equational formmagnificent embrace culture map possibility endless multiple star therefore thousand planet choose fromwith broad scope would expected nothing would able keep illusion long farscape really come elementit succeeds others failed especially like star trek universe practically zero kaos element ran idea pretty quickly kept rehashing course season manage keep audience attention using good continuity constant character evolution multiple thread every episode unique personal touch camera specific certain character group within whole structure allows extremely large area subject matter loyalty forged broken many way many many issue happened see pilot premiere passing keep tuning see crichton would ever get girl seeing television delighted see available dvd admit thing kept sane whilst hour night shift developed chronic insomniafarscape thing get extremely long nightsdo favour watch pilot see meanfarscape comet   \n",
      "199                                                                                                                                                                                                                                                                                                                                                                                                                                                                                                                                                                                                                                                                                                                                                                                                                                                                                                                                 film quickly get major chase scene ever increasing destruction first really bad thing guy hijacking steven seagal would beaten pulp seagals driving probably would ended whole premise movieit seems like decided make kind change movie plot plan enjoy action expect coherent plot turn sense logic may reduce chance getting headachei give hope steven seagal trying move back towards type character portrayed popular movie   \n",
      "12447                                                                                                                                                                                                                                                                                                                                                                                                                                                                                                                                                                                                                                                                                                                                                                                                                                                                                                                   jane austen would definitely approve onegwyneth paltrow awesome job capturing attitude emma funny without excessively silly yet elegant put convincing british accent british maybe im best judge fooled meshe also excellent sliding doorsi sometimes forget shes american also brilliant jeremy northam sophie thompson phyllida law emma thompson sister mother bates woman nearly steal showand m law doesnt even lineshighly recommended   \n",
      "39489                                                                                                                                                    expectation somewhat high went see movie thought steve carell could wrong coming great movie like anchorman yearold virgin little miss sunshine boy wrongill start right movie certain point steve carell allowed steve carell handful moment film made laugh due almost entirely given wiggleroom thing he undoubtedly talented individual shame signed turned opinion total trainwreckwith way ill discus went horrifyingly wrongthe film begin dan burn widower three girl considered nationally syndicated advice column prepares girl family reunion extended relative gather time otherthe family high atop list thing make awful movie family behaves like almost theyve transported pleasantville leave beaver caricature think family reach point become obnoxious simply frustrating touch football crossword puzzle competition family bowling talent show actual people behave almost sickeninganother big flaw woman carell supposed falling observing first scene steve carell like watching stroke victim trying rehabilitated imagine supposed unique original woman come mildly retardedit make think movie taking place another planet left theater wondering saw thinking dont think much   \n",
      "\n",
      "                                                                                                                                                                                                                                                                                                                                                                                                                                                                                                                                                                                                                                                                                                                                                                                                                                                  tokens  \\\n",
      "33553                                                                                                 [really, liked, summerslam, due, look, arena, curtain, look, overall, interesting, reason, anyways, could, one, best, summerslams, ever, wwf, didnt, lex, luger, main, event, yokozuna, time, ok, huge, fat, man, v, strong, man, im, glad, time, changed, terrible, main, event, like, every, match, luger, terrible, match, card, razor, ramon, v, ted, dibiase, steiner, brother, v, heavenly, body, shawn, michael, v, curt, hening, event, shawn, named, big, monster, body, guard, diesel, irs, v, kid, bret, hart, first, take, doink, take, jerry, lawler, stuff, hart, lawler, always, interesting, ludvig, borga, destroyed, marty, jannetty, undertaker, took, giant, gonzalez, another, terrible, match, smoking, gunns, tatanka, ...]   \n",
      "9427            [many, television, show, appeal, quite, many, different, kind, fan, like, farscape, doesi, know, youngster, year, oldfans, male, female, many, different, country, think, adore, tv, miniseries, element, found, almost, every, show, tv, character, driven, drama, could, australian, soap, opera, yet, episode, science, fact, fiction, would, give, even, hardiest, trekkie, run, money, brainbender, stake, wormhole, theory, time, travel, true, equational, formmagnificent, embrace, culture, map, possibility, endless, multiple, star, therefore, thousand, planet, choose, fromwith, broad, scope, would, expected, nothing, would, able, keep, illusion, long, farscape, really, come, elementit, succeeds, others, failed, especially, like, star, trek, universe, practically, zero, kaos, element, ran, idea, pretty, ...]   \n",
      "199                                                                                                                                                                                                                                                                                                                                                    [film, quickly, get, major, chase, scene, ever, increasing, destruction, first, really, bad, thing, guy, hijacking, steven, seagal, would, beaten, pulp, seagals, driving, probably, would, ended, whole, premise, movieit, seems, like, decided, make, kind, change, movie, plot, plan, enjoy, action, expect, coherent, plot, turn, sense, logic, may, reduce, chance, getting, headachei, give, hope, steven, seagal, trying, move, back, towards, type, character, portrayed, popular, movie]   \n",
      "12447                                                                                                                                                                                                                                                                                                                                         [jane, austen, would, definitely, approve, onegwyneth, paltrow, awesome, job, capturing, attitude, emma, funny, without, excessively, silly, yet, elegant, put, convincing, british, accent, british, maybe, im, best, judge, fooled, meshe, also, excellent, sliding, doorsi, sometimes, forget, shes, american, also, brilliant, jeremy, northam, sophie, thompson, phyllida, law, emma, thompson, sister, mother, bates, woman, nearly, steal, showand, m, law, doesnt, even, lineshighly, recommended]   \n",
      "39489  [expectation, somewhat, high, went, see, movie, thought, steve, carell, could, wrong, coming, great, movie, like, anchorman, yearold, virgin, little, miss, sunshine, boy, wrongill, start, right, movie, certain, point, steve, carell, allowed, steve, carell, handful, moment, film, made, laugh, due, almost, entirely, given, wiggleroom, thing, he, undoubtedly, talented, individual, shame, signed, turned, opinion, total, trainwreckwith, way, ill, discus, went, horrifyingly, wrongthe, film, begin, dan, burn, widower, three, girl, considered, nationally, syndicated, advice, column, prepares, girl, family, reunion, extended, relative, gather, time, otherthe, family, high, atop, list, thing, make, awful, movie, family, behaves, like, almost, theyve, transported, pleasantville, leave, beaver, caricature, think, ...]   \n",
      "\n",
      "                                                                                                                                                                                                                                                                                                                                                                                                                                                                                                                                                                                                                                                                                                                                                                                                                                                                                                                                                                                                                                                                                                                                                                                                                                                                                                                                                                                                                                                                                                                                                                                    Bigrams  \\\n",
      "33553                                                                                                                                                                                             [really_liked, liked_summerslam, summerslam_due, due_look, look_arena, arena_curtain, curtain_look, look_overall, overall_interesting, interesting_reason, reason_anyways, anyways_could, could_one, one_best, best_summerslams, summerslams_ever, ever_wwf, wwf_didnt, didnt_lex, lex_luger, luger_main, main_event, event_yokozuna, yokozuna_time, time_ok, ok_huge, huge_fat, fat_man, man_v, v_strong, strong_man, man_im, im_glad, glad_time, time_changed, changed_terrible, terrible_main, main_event, event_like, like_every, every_match, match_luger, luger_terrible, terrible_match, match_card, card_razor, razor_ramon, ramon_v, v_ted, ted_dibiase, dibiase_steiner, steiner_brother, brother_v, v_heavenly, heavenly_body, body_shawn, shawn_michael, michael_v, v_curt, curt_hening, hening_event, event_shawn, shawn_named, named_big, big_monster, monster_body, body_guard, guard_diesel, diesel_irs, irs_v, v_kid, kid_bret, bret_hart, hart_first, first_take, take_doink, doink_take, take_jerry, jerry_lawler, lawler_stuff, stuff_hart, hart_lawler, lawler_always, always_interesting, interesting_ludvig, ludvig_borga, borga_destroyed, destroyed_marty, marty_jannetty, jannetty_undertaker, undertaker_took, took_giant, giant_gonzalez, gonzalez_another, another_terrible, terrible_match, match_smoking, smoking_gunns, gunns_tatanka, tatanka_took, ...]   \n",
      "9427             [many_television, television_show, show_appeal, appeal_quite, quite_many, many_different, different_kind, kind_fan, fan_like, like_farscape, farscape_doesi, doesi_know, know_youngster, youngster_year, year_oldfans, oldfans_male, male_female, female_many, many_different, different_country, country_think, think_adore, adore_tv, tv_miniseries, miniseries_element, element_found, found_almost, almost_every, every_show, show_tv, tv_character, character_driven, driven_drama, drama_could, could_australian, australian_soap, soap_opera, opera_yet, yet_episode, episode_science, science_fact, fact_fiction, fiction_would, would_give, give_even, even_hardiest, hardiest_trekkie, trekkie_run, run_money, money_brainbender, brainbender_stake, stake_wormhole, wormhole_theory, theory_time, time_travel, travel_true, true_equational, equational_formmagnificent, formmagnificent_embrace, embrace_culture, culture_map, map_possibility, possibility_endless, endless_multiple, multiple_star, star_therefore, therefore_thousand, thousand_planet, planet_choose, choose_fromwith, fromwith_broad, broad_scope, scope_would, would_expected, expected_nothing, nothing_would, would_able, able_keep, keep_illusion, illusion_long, long_farscape, farscape_really, really_come, come_elementit, elementit_succeeds, succeeds_others, others_failed, failed_especially, especially_like, like_star, star_trek, trek_universe, universe_practically, practically_zero, zero_kaos, kaos_element, element_ran, ran_idea, idea_pretty, pretty_quickly, ...]   \n",
      "199                                                                                                                                                                                                                                                                                                                                                                                                                                                                                                                                                                                                                                                                 [film_quickly, quickly_get, get_major, major_chase, chase_scene, scene_ever, ever_increasing, increasing_destruction, destruction_first, first_really, really_bad, bad_thing, thing_guy, guy_hijacking, hijacking_steven, steven_seagal, seagal_would, would_beaten, beaten_pulp, pulp_seagals, seagals_driving, driving_probably, probably_would, would_ended, ended_whole, whole_premise, premise_movieit, movieit_seems, seems_like, like_decided, decided_make, make_kind, kind_change, change_movie, movie_plot, plot_plan, plan_enjoy, enjoy_action, action_expect, expect_coherent, coherent_plot, plot_turn, turn_sense, sense_logic, logic_may, may_reduce, reduce_chance, chance_getting, getting_headachei, headachei_give, give_hope, hope_steven, steven_seagal, seagal_trying, trying_move, move_back, back_towards, towards_type, type_character, character_portrayed, portrayed_popular, popular_movie]   \n",
      "12447                                                                                                                                                                                                                                                                                                                                                                                                                                                                                                                                                                                                                                                [jane_austen, austen_would, would_definitely, definitely_approve, approve_onegwyneth, onegwyneth_paltrow, paltrow_awesome, awesome_job, job_capturing, capturing_attitude, attitude_emma, emma_funny, funny_without, without_excessively, excessively_silly, silly_yet, yet_elegant, elegant_put, put_convincing, convincing_british, british_accent, accent_british, british_maybe, maybe_im, im_best, best_judge, judge_fooled, fooled_meshe, meshe_also, also_excellent, excellent_sliding, sliding_doorsi, doorsi_sometimes, sometimes_forget, forget_shes, shes_american, american_also, also_brilliant, brilliant_jeremy, jeremy_northam, northam_sophie, sophie_thompson, thompson_phyllida, phyllida_law, law_emma, emma_thompson, thompson_sister, sister_mother, mother_bates, bates_woman, woman_nearly, nearly_steal, steal_showand, showand_m, m_law, law_doesnt, doesnt_even, even_lineshighly, lineshighly_recommended]   \n",
      "39489  [expectation_somewhat, somewhat_high, high_went, went_see, see_movie, movie_thought, thought_steve, steve_carell, carell_could, could_wrong, wrong_coming, coming_great, great_movie, movie_like, like_anchorman, anchorman_yearold, yearold_virgin, virgin_little, little_miss, miss_sunshine, sunshine_boy, boy_wrongill, wrongill_start, start_right, right_movie, movie_certain, certain_point, point_steve, steve_carell, carell_allowed, allowed_steve, steve_carell, carell_handful, handful_moment, moment_film, film_made, made_laugh, laugh_due, due_almost, almost_entirely, entirely_given, given_wiggleroom, wiggleroom_thing, thing_he, he_undoubtedly, undoubtedly_talented, talented_individual, individual_shame, shame_signed, signed_turned, turned_opinion, opinion_total, total_trainwreckwith, trainwreckwith_way, way_ill, ill_discus, discus_went, went_horrifyingly, horrifyingly_wrongthe, wrongthe_film, film_begin, begin_dan, dan_burn, burn_widower, widower_three, three_girl, girl_considered, considered_nationally, nationally_syndicated, syndicated_advice, advice_column, column_prepares, prepares_girl, girl_family, family_reunion, reunion_extended, extended_relative, relative_gather, gather_time, time_otherthe, otherthe_family, family_high, high_atop, atop_list, list_thing, thing_make, make_awful, awful_movie, movie_family, family_behaves, behaves_like, like_almost, almost_theyve, theyve_transported, transported_pleasantville, pleasantville_leave, leave_beaver, beaver_caricature, caricature_think, think_family, ...]   \n",
      "\n",
      "                                                                                                                                                                                                                                                                                                                                                                                                                                                                                                                                                                                                                                                                                                                                                                                                                                                                                                                                                                                                                                                                                                                                                                                                                                                                                                                                                                                                                                                                                                                                                                                                                                                                                                                                                                                                                                                                                                                                                                                                                                                                                                                                                                                                                                                                                                                   Trigrams  \n",
      "33553                                                                                                                                                                                                                                                                                        [really_liked_summerslam, liked_summerslam_due, summerslam_due_look, due_look_arena, look_arena_curtain, arena_curtain_look, curtain_look_overall, look_overall_interesting, overall_interesting_reason, interesting_reason_anyways, reason_anyways_could, anyways_could_one, could_one_best, one_best_summerslams, best_summerslams_ever, summerslams_ever_wwf, ever_wwf_didnt, wwf_didnt_lex, didnt_lex_luger, lex_luger_main, luger_main_event, main_event_yokozuna, event_yokozuna_time, yokozuna_time_ok, time_ok_huge, ok_huge_fat, huge_fat_man, fat_man_v, man_v_strong, v_strong_man, strong_man_im, man_im_glad, im_glad_time, glad_time_changed, time_changed_terrible, changed_terrible_main, terrible_main_event, main_event_like, event_like_every, like_every_match, every_match_luger, match_luger_terrible, luger_terrible_match, terrible_match_card, match_card_razor, card_razor_ramon, razor_ramon_v, ramon_v_ted, v_ted_dibiase, ted_dibiase_steiner, dibiase_steiner_brother, steiner_brother_v, brother_v_heavenly, v_heavenly_body, heavenly_body_shawn, body_shawn_michael, shawn_michael_v, michael_v_curt, v_curt_hening, curt_hening_event, hening_event_shawn, event_shawn_named, shawn_named_big, named_big_monster, big_monster_body, monster_body_guard, body_guard_diesel, guard_diesel_irs, diesel_irs_v, irs_v_kid, v_kid_bret, kid_bret_hart, bret_hart_first, hart_first_take, first_take_doink, take_doink_take, doink_take_jerry, take_jerry_lawler, jerry_lawler_stuff, lawler_stuff_hart, stuff_hart_lawler, hart_lawler_always, lawler_always_interesting, always_interesting_ludvig, interesting_ludvig_borga, ludvig_borga_destroyed, borga_destroyed_marty, destroyed_marty_jannetty, marty_jannetty_undertaker, jannetty_undertaker_took, undertaker_took_giant, took_giant_gonzalez, giant_gonzalez_another, gonzalez_another_terrible, another_terrible_match, terrible_match_smoking, match_smoking_gunns, smoking_gunns_tatanka, gunns_tatanka_took, tatanka_took_bam, ...]  \n",
      "9427                 [many_television_show, television_show_appeal, show_appeal_quite, appeal_quite_many, quite_many_different, many_different_kind, different_kind_fan, kind_fan_like, fan_like_farscape, like_farscape_doesi, farscape_doesi_know, doesi_know_youngster, know_youngster_year, youngster_year_oldfans, year_oldfans_male, oldfans_male_female, male_female_many, female_many_different, many_different_country, different_country_think, country_think_adore, think_adore_tv, adore_tv_miniseries, tv_miniseries_element, miniseries_element_found, element_found_almost, found_almost_every, almost_every_show, every_show_tv, show_tv_character, tv_character_driven, character_driven_drama, driven_drama_could, drama_could_australian, could_australian_soap, australian_soap_opera, soap_opera_yet, opera_yet_episode, yet_episode_science, episode_science_fact, science_fact_fiction, fact_fiction_would, fiction_would_give, would_give_even, give_even_hardiest, even_hardiest_trekkie, hardiest_trekkie_run, trekkie_run_money, run_money_brainbender, money_brainbender_stake, brainbender_stake_wormhole, stake_wormhole_theory, wormhole_theory_time, theory_time_travel, time_travel_true, travel_true_equational, true_equational_formmagnificent, equational_formmagnificent_embrace, formmagnificent_embrace_culture, embrace_culture_map, culture_map_possibility, map_possibility_endless, possibility_endless_multiple, endless_multiple_star, multiple_star_therefore, star_therefore_thousand, therefore_thousand_planet, thousand_planet_choose, planet_choose_fromwith, choose_fromwith_broad, fromwith_broad_scope, broad_scope_would, scope_would_expected, would_expected_nothing, expected_nothing_would, nothing_would_able, would_able_keep, able_keep_illusion, keep_illusion_long, illusion_long_farscape, long_farscape_really, farscape_really_come, really_come_elementit, come_elementit_succeeds, elementit_succeeds_others, succeeds_others_failed, others_failed_especially, failed_especially_like, especially_like_star, like_star_trek, star_trek_universe, trek_universe_practically, universe_practically_zero, practically_zero_kaos, zero_kaos_element, kaos_element_ran, element_ran_idea, ran_idea_pretty, idea_pretty_quickly, pretty_quickly_kept, ...]  \n",
      "199                                                                                                                                                                                                                                                                                                                                                                                                                                                                                                                                                                                                                                                                                                                                                                                                                                                                                                                                                                                           [film_quickly_get, quickly_get_major, get_major_chase, major_chase_scene, chase_scene_ever, scene_ever_increasing, ever_increasing_destruction, increasing_destruction_first, destruction_first_really, first_really_bad, really_bad_thing, bad_thing_guy, thing_guy_hijacking, guy_hijacking_steven, hijacking_steven_seagal, steven_seagal_would, seagal_would_beaten, would_beaten_pulp, beaten_pulp_seagals, pulp_seagals_driving, seagals_driving_probably, driving_probably_would, probably_would_ended, would_ended_whole, ended_whole_premise, whole_premise_movieit, premise_movieit_seems, movieit_seems_like, seems_like_decided, like_decided_make, decided_make_kind, make_kind_change, kind_change_movie, change_movie_plot, movie_plot_plan, plot_plan_enjoy, plan_enjoy_action, enjoy_action_expect, action_expect_coherent, expect_coherent_plot, coherent_plot_turn, plot_turn_sense, turn_sense_logic, sense_logic_may, logic_may_reduce, may_reduce_chance, reduce_chance_getting, chance_getting_headachei, getting_headachei_give, headachei_give_hope, give_hope_steven, hope_steven_seagal, steven_seagal_trying, seagal_trying_move, trying_move_back, move_back_towards, back_towards_type, towards_type_character, type_character_portrayed, character_portrayed_popular, portrayed_popular_movie]  \n",
      "12447                                                                                                                                                                                                                                                                                                                                                                                                                                                                                                                                                                                                                                                                                                                                                                                                                                                                                                                                                                       [jane_austen_would, austen_would_definitely, would_definitely_approve, definitely_approve_onegwyneth, approve_onegwyneth_paltrow, onegwyneth_paltrow_awesome, paltrow_awesome_job, awesome_job_capturing, job_capturing_attitude, capturing_attitude_emma, attitude_emma_funny, emma_funny_without, funny_without_excessively, without_excessively_silly, excessively_silly_yet, silly_yet_elegant, yet_elegant_put, elegant_put_convincing, put_convincing_british, convincing_british_accent, british_accent_british, accent_british_maybe, british_maybe_im, maybe_im_best, im_best_judge, best_judge_fooled, judge_fooled_meshe, fooled_meshe_also, meshe_also_excellent, also_excellent_sliding, excellent_sliding_doorsi, sliding_doorsi_sometimes, doorsi_sometimes_forget, sometimes_forget_shes, forget_shes_american, shes_american_also, american_also_brilliant, also_brilliant_jeremy, brilliant_jeremy_northam, jeremy_northam_sophie, northam_sophie_thompson, sophie_thompson_phyllida, thompson_phyllida_law, phyllida_law_emma, law_emma_thompson, emma_thompson_sister, thompson_sister_mother, sister_mother_bates, mother_bates_woman, bates_woman_nearly, woman_nearly_steal, nearly_steal_showand, steal_showand_m, showand_m_law, m_law_doesnt, law_doesnt_even, doesnt_even_lineshighly, even_lineshighly_recommended]  \n",
      "39489  [expectation_somewhat_high, somewhat_high_went, high_went_see, went_see_movie, see_movie_thought, movie_thought_steve, thought_steve_carell, steve_carell_could, carell_could_wrong, could_wrong_coming, wrong_coming_great, coming_great_movie, great_movie_like, movie_like_anchorman, like_anchorman_yearold, anchorman_yearold_virgin, yearold_virgin_little, virgin_little_miss, little_miss_sunshine, miss_sunshine_boy, sunshine_boy_wrongill, boy_wrongill_start, wrongill_start_right, start_right_movie, right_movie_certain, movie_certain_point, certain_point_steve, point_steve_carell, steve_carell_allowed, carell_allowed_steve, allowed_steve_carell, steve_carell_handful, carell_handful_moment, handful_moment_film, moment_film_made, film_made_laugh, made_laugh_due, laugh_due_almost, due_almost_entirely, almost_entirely_given, entirely_given_wiggleroom, given_wiggleroom_thing, wiggleroom_thing_he, thing_he_undoubtedly, he_undoubtedly_talented, undoubtedly_talented_individual, talented_individual_shame, individual_shame_signed, shame_signed_turned, signed_turned_opinion, turned_opinion_total, opinion_total_trainwreckwith, total_trainwreckwith_way, trainwreckwith_way_ill, way_ill_discus, ill_discus_went, discus_went_horrifyingly, went_horrifyingly_wrongthe, horrifyingly_wrongthe_film, wrongthe_film_begin, film_begin_dan, begin_dan_burn, dan_burn_widower, burn_widower_three, widower_three_girl, three_girl_considered, girl_considered_nationally, considered_nationally_syndicated, nationally_syndicated_advice, syndicated_advice_column, advice_column_prepares, column_prepares_girl, prepares_girl_family, girl_family_reunion, family_reunion_extended, reunion_extended_relative, extended_relative_gather, relative_gather_time, gather_time_otherthe, time_otherthe_family, otherthe_family_high, family_high_atop, high_atop_list, atop_list_thing, list_thing_make, thing_make_awful, make_awful_movie, awful_movie_family, movie_family_behaves, family_behaves_like, behaves_like_almost, like_almost_theyve, almost_theyve_transported, theyve_transported_pleasantville, transported_pleasantville_leave, pleasantville_leave_beaver, leave_beaver_caricature, beaver_caricature_think, caricature_think_family, think_family_reach, ...]  \n"
     ]
    }
   ],
   "source": [
    "print(\"Selected 100 random rows from the dataset:\")\n",
    "print(sample_df.head())"
   ]
  },
  {
   "cell_type": "code",
   "execution_count": 44,
   "id": "c4xCbZ0aUpAR",
   "metadata": {
    "id": "c4xCbZ0aUpAR"
   },
   "outputs": [],
   "source": [
    "# Transform the text data in sample_df using the same TF-IDF vectorizer\n",
    "X_sample_tfidf = tfidf_vectorizer.transform(sample_df[\"cleaned_text\"])\n"
   ]
  },
  {
   "cell_type": "code",
   "execution_count": 45,
   "id": "6ALUVdpGViMc",
   "metadata": {
    "id": "6ALUVdpGViMc"
   },
   "outputs": [],
   "source": [
    "# Predict the labels\n",
    "predictions = nb_tfidf.predict(X_sample_tfidf)\n",
    "\n",
    "# If you need probabilities instead of labels\n",
    "probabilities = nb_tfidf.predict_proba(X_sample_tfidf)\n"
   ]
  },
  {
   "cell_type": "code",
   "execution_count": 46,
   "id": "CsPmwysZVmTG",
   "metadata": {
    "colab": {
     "base_uri": "https://localhost:8080/",
     "height": 2753
    },
    "id": "CsPmwysZVmTG",
    "outputId": "ac9951eb-fdec-4f78-eb28-90372b9e068d"
   },
   "outputs": [
    {
     "data": {
      "text/html": [
       "<div>\n",
       "<style scoped>\n",
       "    .dataframe tbody tr th:only-of-type {\n",
       "        vertical-align: middle;\n",
       "    }\n",
       "\n",
       "    .dataframe tbody tr th {\n",
       "        vertical-align: top;\n",
       "    }\n",
       "\n",
       "    .dataframe thead th {\n",
       "        text-align: right;\n",
       "    }\n",
       "</style>\n",
       "<table border=\"1\" class=\"dataframe\">\n",
       "  <thead>\n",
       "    <tr style=\"text-align: right;\">\n",
       "      <th></th>\n",
       "      <th>predicted_label</th>\n",
       "      <th>sentiment</th>\n",
       "      <th>cleaned_text</th>\n",
       "    </tr>\n",
       "  </thead>\n",
       "  <tbody>\n",
       "    <tr>\n",
       "      <th>33553</th>\n",
       "      <td>positive</td>\n",
       "      <td>positive</td>\n",
       "      <td>really liked summerslam due look arena curtain look overall interesting reason anyways could one best summerslams ever wwf didnt lex luger main event yokozuna time ok huge fat man v strong man im glad time changed terrible main event like every match luger terrible match card razor ramon v ted dibiase steiner brother v heavenly body shawn michael v curt hening event shawn named big monster body guard diesel irs v kid bret hart first take doink take jerry lawler stuff hart lawler always interesting ludvig borga destroyed marty jannetty undertaker took giant gonzalez another terrible match smoking gunns tatanka took bam bam bigelow headshrinkers yokozuna defended world title lex luger match boring terrible ending however deserves</td>\n",
       "    </tr>\n",
       "    <tr>\n",
       "      <th>9427</th>\n",
       "      <td>positive</td>\n",
       "      <td>positive</td>\n",
       "      <td>many television show appeal quite many different kind fan like farscape doesi know youngster year oldfans male female many different country think adore tv miniseries element found almost every show tv character driven drama could australian soap opera yet episode science fact fiction would give even hardiest trekkie run money brainbender stake wormhole theory time travel true equational formmagnificent embrace culture map possibility endless multiple star therefore thousand planet choose fromwith broad scope would expected nothing would able keep illusion long farscape really come elementit succeeds others failed especially like star trek universe practically zero kaos element ran idea pretty quickly kept rehashing course season manage keep audience attention using good continuity constant character evolution multiple thread every episode unique personal touch camera specific certain character group within whole structure allows extremely large area subject matter loyalty forged broken many way many many issue happened see pilot premiere passing keep tuning see crichton would ever get girl seeing television delighted see available dvd admit thing kept sane whilst hour night shift developed chronic insomniafarscape thing get extremely long nightsdo favour watch pilot see meanfarscape comet</td>\n",
       "    </tr>\n",
       "    <tr>\n",
       "      <th>199</th>\n",
       "      <td>negative</td>\n",
       "      <td>negative</td>\n",
       "      <td>film quickly get major chase scene ever increasing destruction first really bad thing guy hijacking steven seagal would beaten pulp seagals driving probably would ended whole premise movieit seems like decided make kind change movie plot plan enjoy action expect coherent plot turn sense logic may reduce chance getting headachei give hope steven seagal trying move back towards type character portrayed popular movie</td>\n",
       "    </tr>\n",
       "    <tr>\n",
       "      <th>12447</th>\n",
       "      <td>positive</td>\n",
       "      <td>positive</td>\n",
       "      <td>jane austen would definitely approve onegwyneth paltrow awesome job capturing attitude emma funny without excessively silly yet elegant put convincing british accent british maybe im best judge fooled meshe also excellent sliding doorsi sometimes forget shes american also brilliant jeremy northam sophie thompson phyllida law emma thompson sister mother bates woman nearly steal showand m law doesnt even lineshighly recommended</td>\n",
       "    </tr>\n",
       "    <tr>\n",
       "      <th>39489</th>\n",
       "      <td>negative</td>\n",
       "      <td>negative</td>\n",
       "      <td>expectation somewhat high went see movie thought steve carell could wrong coming great movie like anchorman yearold virgin little miss sunshine boy wrongill start right movie certain point steve carell allowed steve carell handful moment film made laugh due almost entirely given wiggleroom thing he undoubtedly talented individual shame signed turned opinion total trainwreckwith way ill discus went horrifyingly wrongthe film begin dan burn widower three girl considered nationally syndicated advice column prepares girl family reunion extended relative gather time otherthe family high atop list thing make awful movie family behaves like almost theyve transported pleasantville leave beaver caricature think family reach point become obnoxious simply frustrating touch football crossword puzzle competition family bowling talent show actual people behave almost sickeninganother big flaw woman carell supposed falling observing first scene steve carell like watching stroke victim trying rehabilitated imagine supposed unique original woman come mildly retardedit make think movie taking place another planet left theater wondering saw thinking dont think much</td>\n",
       "    </tr>\n",
       "    <tr>\n",
       "      <th>...</th>\n",
       "      <td>...</td>\n",
       "      <td>...</td>\n",
       "      <td>...</td>\n",
       "    </tr>\n",
       "    <tr>\n",
       "      <th>3928</th>\n",
       "      <td>positive</td>\n",
       "      <td>positive</td>\n",
       "      <td>walked movie theater expectation film witness everything illuminated walked joy barely come feel american film directorial debut actor leiv schreiber film follows man journey past accompanied eccentric group including brakedancing barely englishspeaking punk eukraine grandfather belief blind crazy dog first half film funny smart extremely european flavor usage small wonderful character second half film descends somber story discovery holocaust little movie brings many emotion many color wonderful conclusion story illumination also relationship connection acting incredibly powerful story mysterious interesting artistic appeal cinematography die brilliant absolutely touching scene everything illuminated managed capture heart</td>\n",
       "    </tr>\n",
       "    <tr>\n",
       "      <th>37286</th>\n",
       "      <td>positive</td>\n",
       "      <td>positive</td>\n",
       "      <td>buster keaton arguably enjoyable short minute film dont come ribticklingly funny gem dead pan comic get involved photographic mixup wanted felon lead elaborate evasion several street cop fellow passenger recognise face wanted sign goat chocabloc brilliant site gag opening scene bread queue right wonderful elevator chase end keaton film never feel though silence lacking sound never something needed movie explain wonderful yet incredibly dangerous thing isnt hard see influential really man every bit thoroughly amazing today</td>\n",
       "    </tr>\n",
       "    <tr>\n",
       "      <th>25045</th>\n",
       "      <td>negative</td>\n",
       "      <td>positive</td>\n",
       "      <td>beautiful woman backwoods inbred monster man super sweet monster truck road kill zombie brother friendsone anal retentive overly sensitive nerd foul mouthed adolescent slob throw together dash jeepers creeper texas chainsaw massacre road trip youve got monster man hilarious horrorcomedy outing never set say something simple straight forward laugh fest unpretentious well made horrorcomedy heart buddy flick film offered hilarious sickening set piece highly recommend fright fan looking entertained</td>\n",
       "    </tr>\n",
       "    <tr>\n",
       "      <th>15727</th>\n",
       "      <td>positive</td>\n",
       "      <td>positive</td>\n",
       "      <td>ok even cant stand liza movie truly hilarious scene john gielgud make liza one true romantic comedy classic th century dudley moore make drunk irresponsible look cute amusing damn fun watch oneliners best</td>\n",
       "    </tr>\n",
       "    <tr>\n",
       "      <th>29600</th>\n",
       "      <td>positive</td>\n",
       "      <td>positive</td>\n",
       "      <td>morning one saturday year ago various reason dont remember entire story remains two standout performance central character dom unfortunate lot manipulated literally working rubbish job eugene torn personal aspiration duty towards sibling tom hulce dom doesnt plead sympathy come naturally ray liotta universe away henry hill displaying soft centre must feel thankless positionin many way deal dilemma many young carers face past future turn work two happily coexist thoughtfully handled sensitively played dominick eugene difficult warm</td>\n",
       "    </tr>\n",
       "  </tbody>\n",
       "</table>\n",
       "<p>100 rows × 3 columns</p>\n",
       "</div>"
      ],
      "text/plain": [
       "      predicted_label sentiment  \\\n",
       "33553        positive  positive   \n",
       "9427         positive  positive   \n",
       "199          negative  negative   \n",
       "12447        positive  positive   \n",
       "39489        negative  negative   \n",
       "...               ...       ...   \n",
       "3928         positive  positive   \n",
       "37286        positive  positive   \n",
       "25045        negative  positive   \n",
       "15727        positive  positive   \n",
       "29600        positive  positive   \n",
       "\n",
       "                                                                                                                                                                                                                                                                                                                                                                                                                                                                                                                                                                                                                                                                                                                                                                                                                                                                                                                                                                                                                                                                                                                                                                                                                                                                                                                                                         cleaned_text  \n",
       "33553                                                                                                                                                                                                                                                                                                                                                                                                                                                                                                                                                                                               really liked summerslam due look arena curtain look overall interesting reason anyways could one best summerslams ever wwf didnt lex luger main event yokozuna time ok huge fat man v strong man im glad time changed terrible main event like every match luger terrible match card razor ramon v ted dibiase steiner brother v heavenly body shawn michael v curt hening event shawn named big monster body guard diesel irs v kid bret hart first take doink take jerry lawler stuff hart lawler always interesting ludvig borga destroyed marty jannetty undertaker took giant gonzalez another terrible match smoking gunns tatanka took bam bam bigelow headshrinkers yokozuna defended world title lex luger match boring terrible ending however deserves  \n",
       "9427   many television show appeal quite many different kind fan like farscape doesi know youngster year oldfans male female many different country think adore tv miniseries element found almost every show tv character driven drama could australian soap opera yet episode science fact fiction would give even hardiest trekkie run money brainbender stake wormhole theory time travel true equational formmagnificent embrace culture map possibility endless multiple star therefore thousand planet choose fromwith broad scope would expected nothing would able keep illusion long farscape really come elementit succeeds others failed especially like star trek universe practically zero kaos element ran idea pretty quickly kept rehashing course season manage keep audience attention using good continuity constant character evolution multiple thread every episode unique personal touch camera specific certain character group within whole structure allows extremely large area subject matter loyalty forged broken many way many many issue happened see pilot premiere passing keep tuning see crichton would ever get girl seeing television delighted see available dvd admit thing kept sane whilst hour night shift developed chronic insomniafarscape thing get extremely long nightsdo favour watch pilot see meanfarscape comet  \n",
       "199                                                                                                                                                                                                                                                                                                                                                                                                                                                                                                                                                                                                                                                                                                                                                                                                                                                                                                                                 film quickly get major chase scene ever increasing destruction first really bad thing guy hijacking steven seagal would beaten pulp seagals driving probably would ended whole premise movieit seems like decided make kind change movie plot plan enjoy action expect coherent plot turn sense logic may reduce chance getting headachei give hope steven seagal trying move back towards type character portrayed popular movie  \n",
       "12447                                                                                                                                                                                                                                                                                                                                                                                                                                                                                                                                                                                                                                                                                                                                                                                                                                                                                                                   jane austen would definitely approve onegwyneth paltrow awesome job capturing attitude emma funny without excessively silly yet elegant put convincing british accent british maybe im best judge fooled meshe also excellent sliding doorsi sometimes forget shes american also brilliant jeremy northam sophie thompson phyllida law emma thompson sister mother bates woman nearly steal showand m law doesnt even lineshighly recommended  \n",
       "39489                                                                                                                                                    expectation somewhat high went see movie thought steve carell could wrong coming great movie like anchorman yearold virgin little miss sunshine boy wrongill start right movie certain point steve carell allowed steve carell handful moment film made laugh due almost entirely given wiggleroom thing he undoubtedly talented individual shame signed turned opinion total trainwreckwith way ill discus went horrifyingly wrongthe film begin dan burn widower three girl considered nationally syndicated advice column prepares girl family reunion extended relative gather time otherthe family high atop list thing make awful movie family behaves like almost theyve transported pleasantville leave beaver caricature think family reach point become obnoxious simply frustrating touch football crossword puzzle competition family bowling talent show actual people behave almost sickeninganother big flaw woman carell supposed falling observing first scene steve carell like watching stroke victim trying rehabilitated imagine supposed unique original woman come mildly retardedit make think movie taking place another planet left theater wondering saw thinking dont think much  \n",
       "...                                                                                                                                                                                                                                                                                                                                                                                                                                                                                                                                                                                                                                                                                                                                                                                                                                                                                                                                                                                                                                                                                                                                                                                                                                                                                                                                                               ...  \n",
       "3928                                                                                                                                                                                                                                                                                                                                                                                                                                                                                                                                                                                                     walked movie theater expectation film witness everything illuminated walked joy barely come feel american film directorial debut actor leiv schreiber film follows man journey past accompanied eccentric group including brakedancing barely englishspeaking punk eukraine grandfather belief blind crazy dog first half film funny smart extremely european flavor usage small wonderful character second half film descends somber story discovery holocaust little movie brings many emotion many color wonderful conclusion story illumination also relationship connection acting incredibly powerful story mysterious interesting artistic appeal cinematography die brilliant absolutely touching scene everything illuminated managed capture heart  \n",
       "37286                                                                                                                                                                                                                                                                                                                                                                                                                                                                                                                                                                                                                                                                                                                                                                                                                 buster keaton arguably enjoyable short minute film dont come ribticklingly funny gem dead pan comic get involved photographic mixup wanted felon lead elaborate evasion several street cop fellow passenger recognise face wanted sign goat chocabloc brilliant site gag opening scene bread queue right wonderful elevator chase end keaton film never feel though silence lacking sound never something needed movie explain wonderful yet incredibly dangerous thing isnt hard see influential really man every bit thoroughly amazing today  \n",
       "25045                                                                                                                                                                                                                                                                                                                                                                                                                                                                                                                                                                                                                                                                                                                                                                                                                                             beautiful woman backwoods inbred monster man super sweet monster truck road kill zombie brother friendsone anal retentive overly sensitive nerd foul mouthed adolescent slob throw together dash jeepers creeper texas chainsaw massacre road trip youve got monster man hilarious horrorcomedy outing never set say something simple straight forward laugh fest unpretentious well made horrorcomedy heart buddy flick film offered hilarious sickening set piece highly recommend fright fan looking entertained  \n",
       "15727                                                                                                                                                                                                                                                                                                                                                                                                                                                                                                                                                                                                                                                                                                                                                                                                                                                                                                                                                                                                                                                                                                                                                    ok even cant stand liza movie truly hilarious scene john gielgud make liza one true romantic comedy classic th century dudley moore make drunk irresponsible look cute amusing damn fun watch oneliners best  \n",
       "29600                                                                                                                                                                                                                                                                                                                                                                                                                                                                                                                                                                                                                                                                                                                                                                                                        morning one saturday year ago various reason dont remember entire story remains two standout performance central character dom unfortunate lot manipulated literally working rubbish job eugene torn personal aspiration duty towards sibling tom hulce dom doesnt plead sympathy come naturally ray liotta universe away henry hill displaying soft centre must feel thankless positionin many way deal dilemma many young carers face past future turn work two happily coexist thoughtfully handled sensitively played dominick eugene difficult warm  \n",
       "\n",
       "[100 rows x 3 columns]"
      ]
     },
     "execution_count": 46,
     "metadata": {},
     "output_type": "execute_result"
    }
   ],
   "source": [
    "sample_df[\"predicted_label\"] = predictions\n",
    "sample_df[[\"predicted_label\", \"sentiment\", \"cleaned_text\"]]\n"
   ]
  },
  {
   "cell_type": "markdown",
   "id": "N9hhU590abjF",
   "metadata": {
    "id": "N9hhU590abjF"
   },
   "source": [
    "## Evaluation(logistic Regression)"
   ]
  },
  {
   "cell_type": "code",
   "execution_count": 47,
   "id": "5F_rnn_baDzD",
   "metadata": {
    "id": "5F_rnn_baDzD"
   },
   "outputs": [],
   "source": [
    "# Predict the labels\n",
    "predictions = log_reg_tfidf.predict(X_sample_tfidf)\n",
    "\n",
    "# If you need probabilities instead of labels\n",
    "probabilities = log_reg_tfidf.predict_proba(X_sample_tfidf)"
   ]
  },
  {
   "cell_type": "code",
   "execution_count": 48,
   "id": "mEjaaduEaVRi",
   "metadata": {
    "colab": {
     "base_uri": "https://localhost:8080/",
     "height": 1000
    },
    "id": "mEjaaduEaVRi",
    "outputId": "2f8c5836-6c1b-49ae-f568-49f600875243"
   },
   "outputs": [
    {
     "data": {
      "text/html": [
       "<div>\n",
       "<style scoped>\n",
       "    .dataframe tbody tr th:only-of-type {\n",
       "        vertical-align: middle;\n",
       "    }\n",
       "\n",
       "    .dataframe tbody tr th {\n",
       "        vertical-align: top;\n",
       "    }\n",
       "\n",
       "    .dataframe thead th {\n",
       "        text-align: right;\n",
       "    }\n",
       "</style>\n",
       "<table border=\"1\" class=\"dataframe\">\n",
       "  <thead>\n",
       "    <tr style=\"text-align: right;\">\n",
       "      <th></th>\n",
       "      <th>predicted_loglabel</th>\n",
       "      <th>sentiment</th>\n",
       "      <th>cleaned_text</th>\n",
       "    </tr>\n",
       "  </thead>\n",
       "  <tbody>\n",
       "    <tr>\n",
       "      <th>33553</th>\n",
       "      <td>negative</td>\n",
       "      <td>positive</td>\n",
       "      <td>really liked summerslam due look arena curtain look overall interesting reason anyways could one best summerslams ever wwf didnt lex luger main event yokozuna time ok huge fat man v strong man im glad time changed terrible main event like every match luger terrible match card razor ramon v ted dibiase steiner brother v heavenly body shawn michael v curt hening event shawn named big monster body guard diesel irs v kid bret hart first take doink take jerry lawler stuff hart lawler always interesting ludvig borga destroyed marty jannetty undertaker took giant gonzalez another terrible match smoking gunns tatanka took bam bam bigelow headshrinkers yokozuna defended world title lex luger match boring terrible ending however deserves</td>\n",
       "    </tr>\n",
       "    <tr>\n",
       "      <th>9427</th>\n",
       "      <td>positive</td>\n",
       "      <td>positive</td>\n",
       "      <td>many television show appeal quite many different kind fan like farscape doesi know youngster year oldfans male female many different country think adore tv miniseries element found almost every show tv character driven drama could australian soap opera yet episode science fact fiction would give even hardiest trekkie run money brainbender stake wormhole theory time travel true equational formmagnificent embrace culture map possibility endless multiple star therefore thousand planet choose fromwith broad scope would expected nothing would able keep illusion long farscape really come elementit succeeds others failed especially like star trek universe practically zero kaos element ran idea pretty quickly kept rehashing course season manage keep audience attention using good continuity constant character evolution multiple thread every episode unique personal touch camera specific certain character group within whole structure allows extremely large area subject matter loyalty forged broken many way many many issue happened see pilot premiere passing keep tuning see crichton would ever get girl seeing television delighted see available dvd admit thing kept sane whilst hour night shift developed chronic insomniafarscape thing get extremely long nightsdo favour watch pilot see meanfarscape comet</td>\n",
       "    </tr>\n",
       "    <tr>\n",
       "      <th>199</th>\n",
       "      <td>negative</td>\n",
       "      <td>negative</td>\n",
       "      <td>film quickly get major chase scene ever increasing destruction first really bad thing guy hijacking steven seagal would beaten pulp seagals driving probably would ended whole premise movieit seems like decided make kind change movie plot plan enjoy action expect coherent plot turn sense logic may reduce chance getting headachei give hope steven seagal trying move back towards type character portrayed popular movie</td>\n",
       "    </tr>\n",
       "    <tr>\n",
       "      <th>12447</th>\n",
       "      <td>positive</td>\n",
       "      <td>positive</td>\n",
       "      <td>jane austen would definitely approve onegwyneth paltrow awesome job capturing attitude emma funny without excessively silly yet elegant put convincing british accent british maybe im best judge fooled meshe also excellent sliding doorsi sometimes forget shes american also brilliant jeremy northam sophie thompson phyllida law emma thompson sister mother bates woman nearly steal showand m law doesnt even lineshighly recommended</td>\n",
       "    </tr>\n",
       "    <tr>\n",
       "      <th>39489</th>\n",
       "      <td>negative</td>\n",
       "      <td>negative</td>\n",
       "      <td>expectation somewhat high went see movie thought steve carell could wrong coming great movie like anchorman yearold virgin little miss sunshine boy wrongill start right movie certain point steve carell allowed steve carell handful moment film made laugh due almost entirely given wiggleroom thing he undoubtedly talented individual shame signed turned opinion total trainwreckwith way ill discus went horrifyingly wrongthe film begin dan burn widower three girl considered nationally syndicated advice column prepares girl family reunion extended relative gather time otherthe family high atop list thing make awful movie family behaves like almost theyve transported pleasantville leave beaver caricature think family reach point become obnoxious simply frustrating touch football crossword puzzle competition family bowling talent show actual people behave almost sickeninganother big flaw woman carell supposed falling observing first scene steve carell like watching stroke victim trying rehabilitated imagine supposed unique original woman come mildly retardedit make think movie taking place another planet left theater wondering saw thinking dont think much</td>\n",
       "    </tr>\n",
       "    <tr>\n",
       "      <th>...</th>\n",
       "      <td>...</td>\n",
       "      <td>...</td>\n",
       "      <td>...</td>\n",
       "    </tr>\n",
       "    <tr>\n",
       "      <th>3928</th>\n",
       "      <td>positive</td>\n",
       "      <td>positive</td>\n",
       "      <td>walked movie theater expectation film witness everything illuminated walked joy barely come feel american film directorial debut actor leiv schreiber film follows man journey past accompanied eccentric group including brakedancing barely englishspeaking punk eukraine grandfather belief blind crazy dog first half film funny smart extremely european flavor usage small wonderful character second half film descends somber story discovery holocaust little movie brings many emotion many color wonderful conclusion story illumination also relationship connection acting incredibly powerful story mysterious interesting artistic appeal cinematography die brilliant absolutely touching scene everything illuminated managed capture heart</td>\n",
       "    </tr>\n",
       "    <tr>\n",
       "      <th>37286</th>\n",
       "      <td>positive</td>\n",
       "      <td>positive</td>\n",
       "      <td>buster keaton arguably enjoyable short minute film dont come ribticklingly funny gem dead pan comic get involved photographic mixup wanted felon lead elaborate evasion several street cop fellow passenger recognise face wanted sign goat chocabloc brilliant site gag opening scene bread queue right wonderful elevator chase end keaton film never feel though silence lacking sound never something needed movie explain wonderful yet incredibly dangerous thing isnt hard see influential really man every bit thoroughly amazing today</td>\n",
       "    </tr>\n",
       "    <tr>\n",
       "      <th>25045</th>\n",
       "      <td>positive</td>\n",
       "      <td>positive</td>\n",
       "      <td>beautiful woman backwoods inbred monster man super sweet monster truck road kill zombie brother friendsone anal retentive overly sensitive nerd foul mouthed adolescent slob throw together dash jeepers creeper texas chainsaw massacre road trip youve got monster man hilarious horrorcomedy outing never set say something simple straight forward laugh fest unpretentious well made horrorcomedy heart buddy flick film offered hilarious sickening set piece highly recommend fright fan looking entertained</td>\n",
       "    </tr>\n",
       "    <tr>\n",
       "      <th>15727</th>\n",
       "      <td>positive</td>\n",
       "      <td>positive</td>\n",
       "      <td>ok even cant stand liza movie truly hilarious scene john gielgud make liza one true romantic comedy classic th century dudley moore make drunk irresponsible look cute amusing damn fun watch oneliners best</td>\n",
       "    </tr>\n",
       "    <tr>\n",
       "      <th>29600</th>\n",
       "      <td>positive</td>\n",
       "      <td>positive</td>\n",
       "      <td>morning one saturday year ago various reason dont remember entire story remains two standout performance central character dom unfortunate lot manipulated literally working rubbish job eugene torn personal aspiration duty towards sibling tom hulce dom doesnt plead sympathy come naturally ray liotta universe away henry hill displaying soft centre must feel thankless positionin many way deal dilemma many young carers face past future turn work two happily coexist thoughtfully handled sensitively played dominick eugene difficult warm</td>\n",
       "    </tr>\n",
       "  </tbody>\n",
       "</table>\n",
       "<p>100 rows × 3 columns</p>\n",
       "</div>"
      ],
      "text/plain": [
       "      predicted_loglabel sentiment  \\\n",
       "33553           negative  positive   \n",
       "9427            positive  positive   \n",
       "199             negative  negative   \n",
       "12447           positive  positive   \n",
       "39489           negative  negative   \n",
       "...                  ...       ...   \n",
       "3928            positive  positive   \n",
       "37286           positive  positive   \n",
       "25045           positive  positive   \n",
       "15727           positive  positive   \n",
       "29600           positive  positive   \n",
       "\n",
       "                                                                                                                                                                                                                                                                                                                                                                                                                                                                                                                                                                                                                                                                                                                                                                                                                                                                                                                                                                                                                                                                                                                                                                                                                                                                                                                                                         cleaned_text  \n",
       "33553                                                                                                                                                                                                                                                                                                                                                                                                                                                                                                                                                                                               really liked summerslam due look arena curtain look overall interesting reason anyways could one best summerslams ever wwf didnt lex luger main event yokozuna time ok huge fat man v strong man im glad time changed terrible main event like every match luger terrible match card razor ramon v ted dibiase steiner brother v heavenly body shawn michael v curt hening event shawn named big monster body guard diesel irs v kid bret hart first take doink take jerry lawler stuff hart lawler always interesting ludvig borga destroyed marty jannetty undertaker took giant gonzalez another terrible match smoking gunns tatanka took bam bam bigelow headshrinkers yokozuna defended world title lex luger match boring terrible ending however deserves  \n",
       "9427   many television show appeal quite many different kind fan like farscape doesi know youngster year oldfans male female many different country think adore tv miniseries element found almost every show tv character driven drama could australian soap opera yet episode science fact fiction would give even hardiest trekkie run money brainbender stake wormhole theory time travel true equational formmagnificent embrace culture map possibility endless multiple star therefore thousand planet choose fromwith broad scope would expected nothing would able keep illusion long farscape really come elementit succeeds others failed especially like star trek universe practically zero kaos element ran idea pretty quickly kept rehashing course season manage keep audience attention using good continuity constant character evolution multiple thread every episode unique personal touch camera specific certain character group within whole structure allows extremely large area subject matter loyalty forged broken many way many many issue happened see pilot premiere passing keep tuning see crichton would ever get girl seeing television delighted see available dvd admit thing kept sane whilst hour night shift developed chronic insomniafarscape thing get extremely long nightsdo favour watch pilot see meanfarscape comet  \n",
       "199                                                                                                                                                                                                                                                                                                                                                                                                                                                                                                                                                                                                                                                                                                                                                                                                                                                                                                                                 film quickly get major chase scene ever increasing destruction first really bad thing guy hijacking steven seagal would beaten pulp seagals driving probably would ended whole premise movieit seems like decided make kind change movie plot plan enjoy action expect coherent plot turn sense logic may reduce chance getting headachei give hope steven seagal trying move back towards type character portrayed popular movie  \n",
       "12447                                                                                                                                                                                                                                                                                                                                                                                                                                                                                                                                                                                                                                                                                                                                                                                                                                                                                                                   jane austen would definitely approve onegwyneth paltrow awesome job capturing attitude emma funny without excessively silly yet elegant put convincing british accent british maybe im best judge fooled meshe also excellent sliding doorsi sometimes forget shes american also brilliant jeremy northam sophie thompson phyllida law emma thompson sister mother bates woman nearly steal showand m law doesnt even lineshighly recommended  \n",
       "39489                                                                                                                                                    expectation somewhat high went see movie thought steve carell could wrong coming great movie like anchorman yearold virgin little miss sunshine boy wrongill start right movie certain point steve carell allowed steve carell handful moment film made laugh due almost entirely given wiggleroom thing he undoubtedly talented individual shame signed turned opinion total trainwreckwith way ill discus went horrifyingly wrongthe film begin dan burn widower three girl considered nationally syndicated advice column prepares girl family reunion extended relative gather time otherthe family high atop list thing make awful movie family behaves like almost theyve transported pleasantville leave beaver caricature think family reach point become obnoxious simply frustrating touch football crossword puzzle competition family bowling talent show actual people behave almost sickeninganother big flaw woman carell supposed falling observing first scene steve carell like watching stroke victim trying rehabilitated imagine supposed unique original woman come mildly retardedit make think movie taking place another planet left theater wondering saw thinking dont think much  \n",
       "...                                                                                                                                                                                                                                                                                                                                                                                                                                                                                                                                                                                                                                                                                                                                                                                                                                                                                                                                                                                                                                                                                                                                                                                                                                                                                                                                                               ...  \n",
       "3928                                                                                                                                                                                                                                                                                                                                                                                                                                                                                                                                                                                                     walked movie theater expectation film witness everything illuminated walked joy barely come feel american film directorial debut actor leiv schreiber film follows man journey past accompanied eccentric group including brakedancing barely englishspeaking punk eukraine grandfather belief blind crazy dog first half film funny smart extremely european flavor usage small wonderful character second half film descends somber story discovery holocaust little movie brings many emotion many color wonderful conclusion story illumination also relationship connection acting incredibly powerful story mysterious interesting artistic appeal cinematography die brilliant absolutely touching scene everything illuminated managed capture heart  \n",
       "37286                                                                                                                                                                                                                                                                                                                                                                                                                                                                                                                                                                                                                                                                                                                                                                                                                 buster keaton arguably enjoyable short minute film dont come ribticklingly funny gem dead pan comic get involved photographic mixup wanted felon lead elaborate evasion several street cop fellow passenger recognise face wanted sign goat chocabloc brilliant site gag opening scene bread queue right wonderful elevator chase end keaton film never feel though silence lacking sound never something needed movie explain wonderful yet incredibly dangerous thing isnt hard see influential really man every bit thoroughly amazing today  \n",
       "25045                                                                                                                                                                                                                                                                                                                                                                                                                                                                                                                                                                                                                                                                                                                                                                                                                                             beautiful woman backwoods inbred monster man super sweet monster truck road kill zombie brother friendsone anal retentive overly sensitive nerd foul mouthed adolescent slob throw together dash jeepers creeper texas chainsaw massacre road trip youve got monster man hilarious horrorcomedy outing never set say something simple straight forward laugh fest unpretentious well made horrorcomedy heart buddy flick film offered hilarious sickening set piece highly recommend fright fan looking entertained  \n",
       "15727                                                                                                                                                                                                                                                                                                                                                                                                                                                                                                                                                                                                                                                                                                                                                                                                                                                                                                                                                                                                                                                                                                                                                    ok even cant stand liza movie truly hilarious scene john gielgud make liza one true romantic comedy classic th century dudley moore make drunk irresponsible look cute amusing damn fun watch oneliners best  \n",
       "29600                                                                                                                                                                                                                                                                                                                                                                                                                                                                                                                                                                                                                                                                                                                                                                                                        morning one saturday year ago various reason dont remember entire story remains two standout performance central character dom unfortunate lot manipulated literally working rubbish job eugene torn personal aspiration duty towards sibling tom hulce dom doesnt plead sympathy come naturally ray liotta universe away henry hill displaying soft centre must feel thankless positionin many way deal dilemma many young carers face past future turn work two happily coexist thoughtfully handled sensitively played dominick eugene difficult warm  \n",
       "\n",
       "[100 rows x 3 columns]"
      ]
     },
     "execution_count": 48,
     "metadata": {},
     "output_type": "execute_result"
    }
   ],
   "source": [
    "sample_df[\"predicted_loglabel\"] = predictions\n",
    "sample_df[[\"predicted_loglabel\", \"sentiment\", \"cleaned_text\"]]"
   ]
  }
 ],
 "metadata": {
  "colab": {
   "provenance": []
  },
  "kernelspec": {
   "display_name": "Python 3 (ipykernel)",
   "language": "python",
   "name": "python3"
  },
  "language_info": {
   "codemirror_mode": {
    "name": "ipython",
    "version": 3
   },
   "file_extension": ".py",
   "mimetype": "text/x-python",
   "name": "python",
   "nbconvert_exporter": "python",
   "pygments_lexer": "ipython3",
   "version": "3.12.4"
  }
 },
 "nbformat": 4,
 "nbformat_minor": 5
}
