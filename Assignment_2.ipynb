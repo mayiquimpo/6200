{
 "cells": [
  {
   "cell_type": "markdown",
   "id": "3c7dd1c9-17d6-409a-91a9-e2be26f379ac",
   "metadata": {
    "id": "3c7dd1c9-17d6-409a-91a9-e2be26f379ac"
   },
   "source": [
    "# Assignment 2"
   ]
  },
  {
   "cell_type": "markdown",
   "id": "b57c648c-d8e5-4ac8-a0b8-be7e4fac798d",
   "metadata": {
    "id": "b57c648c-d8e5-4ac8-a0b8-be7e4fac798d"
   },
   "source": [
    "Mathia Quimpo, Matthew Chin, Wanqiu Zhang"
   ]
  },
  {
   "cell_type": "markdown",
   "id": "4ec6d23a-c13b-4cf5-85a5-9d127a9bb086",
   "metadata": {
    "id": "4ec6d23a-c13b-4cf5-85a5-9d127a9bb086"
   },
   "source": [
    "## Exploration and Preprocessing"
   ]
  },
  {
   "cell_type": "code",
   "execution_count": 7,
   "id": "b00fc5b3",
   "metadata": {
    "id": "b00fc5b3"
   },
   "outputs": [],
   "source": [
    "import pandas as pd\n",
    "import numpy as np\n",
    "import re\n",
    "import os\n",
    "import requests\n",
    "import string\n",
    "import nltk\n",
    "import time\n",
    "import matplotlib.pyplot as plt\n",
    "from bs4 import BeautifulSoup\n",
    "from nltk.corpus import stopwords\n",
    "from nltk.util import ngrams\n",
    "from nltk.tokenize import word_tokenize\n",
    "from sklearn.model_selection import train_test_split\n",
    "from sklearn.feature_extraction.text import TfidfVectorizer\n",
    "from sklearn.linear_model import LogisticRegression\n",
    "from sklearn.metrics import classification_report\n",
    "from sklearn.naive_bayes import MultinomialNB\n",
    "from sklearn.preprocessing import LabelEncoder\n",
    "from sklearn.tree import DecisionTreeClassifier\n",
    "from sklearn.ensemble import RandomForestClassifier\n",
    "from nltk.stem import WordNetLemmatizer\n",
    "from sklearn.metrics import accuracy_score\n",
    "from vaderSentiment.vaderSentiment import SentimentIntensityAnalyzer\n",
    "from textblob import TextBlob\n",
    "from sklearn.model_selection import GridSearchCV"
   ]
  },
  {
   "cell_type": "code",
   "execution_count": 8,
   "id": "0e314200",
   "metadata": {
    "colab": {
     "base_uri": "https://localhost:8080/"
    },
    "id": "0e314200",
    "outputId": "02ae492d-1267-46de-b4c4-bcd6a4b3d6ed"
   },
   "outputs": [
    {
     "name": "stdout",
     "output_type": "stream",
     "text": [
      "                                              review sentiment\n",
      "0  One of the other reviewers has mentioned that ...  positive\n",
      "1  A wonderful little production. <br /><br />The...  positive\n",
      "2  I thought this was a wonderful way to spend ti...  positive\n",
      "3  Basically there's a family where a little boy ...  negative\n",
      "4  Petter Mattei's \"Love in the Time of Money\" is...  positive\n"
     ]
    }
   ],
   "source": [
    "# Load dataset\n",
    "file_path = os.path.expanduser(\"~/Desktop/School/6200/Project/IMDB_Dataset.csv\")\n",
    "df = pd.read_csv(file_path)\n",
    "\n",
    "print(df.head())"
   ]
  },
  {
   "cell_type": "code",
   "execution_count": 9,
   "id": "07dd9dd4",
   "metadata": {
    "colab": {
     "base_uri": "https://localhost:8080/"
    },
    "id": "07dd9dd4",
    "outputId": "79ebf891-ce0f-47e2-cbbf-5b7427eee346"
   },
   "outputs": [
    {
     "name": "stdout",
     "output_type": "stream",
     "text": [
      "Columns in the dataset:\n",
      " Index(['review', 'sentiment'], dtype='object')\n"
     ]
    }
   ],
   "source": [
    "# Display column names\n",
    "print(\"Columns in the dataset:\\n\", df.columns)"
   ]
  },
  {
   "cell_type": "code",
   "execution_count": 10,
   "id": "00480cae",
   "metadata": {
    "colab": {
     "base_uri": "https://localhost:8080/"
    },
    "id": "00480cae",
    "outputId": "5bda0f48-094d-40e2-8da7-5878d38a403f"
   },
   "outputs": [
    {
     "name": "stdout",
     "output_type": "stream",
     "text": [
      "<class 'pandas.core.frame.DataFrame'>\n",
      "RangeIndex: 50000 entries, 0 to 49999\n",
      "Data columns (total 2 columns):\n",
      " #   Column     Non-Null Count  Dtype \n",
      "---  ------     --------------  ----- \n",
      " 0   review     50000 non-null  object\n",
      " 1   sentiment  50000 non-null  object\n",
      "dtypes: object(2)\n",
      "memory usage: 781.4+ KB\n",
      "None\n",
      "                                                   review sentiment\n",
      "count                                               50000     50000\n",
      "unique                                              49582         2\n",
      "top     Loved today's show!!! It was a variety and not...  positive\n",
      "freq                                                    5     25000\n",
      "review       0\n",
      "sentiment    0\n",
      "dtype: int64\n"
     ]
    }
   ],
   "source": [
    "# Get general info\n",
    "print(df.info())\n",
    "\n",
    "# Descriptive statistics\n",
    "print(df.describe())\n",
    "\n",
    "# Check for missing values\n",
    "print(df.isnull().sum())"
   ]
  },
  {
   "cell_type": "code",
   "execution_count": 11,
   "id": "3606380b",
   "metadata": {
    "id": "3606380b"
   },
   "outputs": [],
   "source": [
    "# Display the entire review text\n",
    "pd.set_option('display.max_colwidth', None)"
   ]
  },
  {
   "cell_type": "code",
   "execution_count": 12,
   "id": "6ad5af05",
   "metadata": {
    "colab": {
     "base_uri": "https://localhost:8080/"
    },
    "id": "6ad5af05",
    "outputId": "c7f06b72-775b-4e73-e74a-67287c1cc9f0",
    "scrolled": true
   },
   "outputs": [
    {
     "name": "stdout",
     "output_type": "stream",
     "text": [
      "count    50000.000000\n",
      "mean      1309.431020\n",
      "std        989.728014\n",
      "min         32.000000\n",
      "25%        699.000000\n",
      "50%        970.000000\n",
      "75%       1590.250000\n",
      "max      13704.000000\n",
      "Name: Text_Length, dtype: float64\n"
     ]
    }
   ],
   "source": [
    "# Add a new column for text length\n",
    "df[\"Text_Length\"] = df[\"review\"].astype(str).apply(len)\n",
    "\n",
    "# Display descriptive statistics for text length\n",
    "print(df[\"Text_Length\"].describe())"
   ]
  },
  {
   "cell_type": "code",
   "execution_count": 13,
   "id": "244d7ad1",
   "metadata": {
    "colab": {
     "base_uri": "https://localhost:8080/"
    },
    "id": "244d7ad1",
    "outputId": "fd251135-71bc-41a7-87b1-358dbb57730c",
    "scrolled": true
   },
   "outputs": [
    {
     "name": "stdout",
     "output_type": "stream",
     "text": [
      "42462                                                                                                                                                                                                                                                                                                                                                                                                                                                                                   This movie was an absolute waste of time. It's nothing but a wanna-be gangster movie. It contains a very predictable plot. My feelings are unsympathetic to the characters, and the dialogue is mediocre at best. Half the time you are looking for something else to do, because the movie is that boring, since you already know what's going to happen. The other half of the time you're desperately hoping the protagonist grows a pair of balls or just ends his life by jumping off a bridge or something. Also, the secondary characters are for the most part one- dimensional. There's no depth to any of the characters in this movie! No depth!\n",
      "11769                                                                                                                                                                                                                                                                                                                                                                                                                                                                                                                                                                                                                                                                                                                                                                                                                                     This is definitely the worst movie Adam's ever done but at this point in his life, he was just happy to have a movie. There are 3 or 4 laughs in it but I used the fast forward button through some of it. Don't waste your time. I only saw it because I wanted to see all of his movies, but it sucked.\n",
      "32449    Perhaps not Miyazaki's best work, but I couldn't help but love it to death. A five-year old boy finds what he thinks is a goldfish stuck in a bottle. He saves its life and keeps it in a bucket as a pet, but it really is a magical being, the daughter of a human wizard and a sea goddess. Ponyo, as the boy names her, is taken back to the sea by her father, who tries to discourage her from returning to land and becoming human, but she gets into his magic elixirs and does what she wants to do. The story is simple and cute. Where the film really comes alive, though, is in its tremendous artwork. The drawings are more child-like than in any of Miyazaki's other works, but there's beauty in its simplicity. As with all of his films, Miyazaki creates this world of imagination that I was just so in awe of. Seeing it in the theater brought back memories of what it was like when the opening notes of Jo Hisaishi's score for Princess Mononoke washed over me and gave me goosebumps just short of a decade ago (the score here is equally as wonderful). I wanted to live in this world and never leave it.\n",
      "18688                                                                                                              All the other comments already said what I was going to say, here goes anyway. I thought this was Italian at first, sorry about that, Italy. I wasn't bored because I kept waiting for something to happen. Who did that song about Dr. Tarr and Professor Feather way back when? Was it Alan Parsons? Saw this on a Brentwood 10 pack and the quality was as expected, terrible. Full of streaks and stuff. The movie was an incoherent mess. Goofy music and clueless characters. The main guy should have known in the first minute that the doctor was nuttier than the patients. I thought the \"doctor\" directing the \"battle\" scene was never going to end. Had some good looking babes though. It seems these dumb ass movies always throw in a naked chick or two and that gets you hooked. I gave it a 2 for the nekkid women. That bird people dance made me want to pull out my own eyeballs. Poe probably did about 3,000 rpms in his grave when this thing came out because it was loosely based on a story of his.\n",
      "20342                                                                                                                                                                                                                                                                                                                                                                                                                                                                                                             Cage plays a drunk and gets high critically praise. Elizabeth Shue Actually has to do a love seen with the most unattractive and overrated piece of dung flesh in Hollywood. I literally vomited while watching this film. Of course I had the flu, but that does not mean this film did not contribute to the vomit in the kamode. <br /><br />Why can't Nick Cage play something he can really pull off like a bad actor. Nick Cage who be brilliant in a role as a bad actor. Heck nobody could do it better.<br /><br />The search begins for Nick's contract with Lucifer or was it Lou Cipher from \"Night Train To Terror\".\n",
      "Name: review, dtype: object\n"
     ]
    }
   ],
   "source": [
    "# Read a few random review samples\n",
    "print(df[\"review\"].sample(5, random_state=45))"
   ]
  },
  {
   "cell_type": "code",
   "execution_count": 10,
   "id": "0CNDJW17G5C2",
   "metadata": {
    "colab": {
     "base_uri": "https://localhost:8080/"
    },
    "id": "0CNDJW17G5C2",
    "outputId": "c189b897-0c8d-4e2f-c7e2-8793459f692a"
   },
   "outputs": [
    {
     "name": "stderr",
     "output_type": "stream",
     "text": [
      "[nltk_data] Downloading package stopwords to /root/nltk_data...\n",
      "[nltk_data]   Unzipping corpora/stopwords.zip.\n",
      "[nltk_data] Downloading package punkt to /root/nltk_data...\n",
      "[nltk_data]   Unzipping tokenizers/punkt.zip.\n",
      "[nltk_data] Downloading package wordnet to /root/nltk_data...\n",
      "[nltk_data] Downloading package punkt_tab to /root/nltk_data...\n",
      "[nltk_data]   Unzipping tokenizers/punkt_tab.zip.\n"
     ]
    },
    {
     "data": {
      "text/plain": [
       "True"
      ]
     },
     "execution_count": 10,
     "metadata": {},
     "output_type": "execute_result"
    }
   ],
   "source": [
    "import nltk\n",
    "nltk.download('stopwords')\n",
    "nltk.download('punkt')\n",
    "nltk.download('wordnet')\n",
    "nltk.download('punkt_tab')"
   ]
  },
  {
   "cell_type": "code",
   "execution_count": 14,
   "id": "de6b5f1a",
   "metadata": {
    "id": "de6b5f1a"
   },
   "outputs": [],
   "source": [
    "# Initialize lemmatizer\n",
    "lemmatizer = WordNetLemmatizer()\n",
    "stop_words = set(stopwords.words(\"english\"))"
   ]
  },
  {
   "cell_type": "code",
   "execution_count": 15,
   "id": "a83a62dd",
   "metadata": {
    "id": "a83a62dd"
   },
   "outputs": [],
   "source": [
    "# Text cleaning function\n",
    "def clean_text(review):\n",
    "    if not isinstance(review, str):\n",
    "        return \"\"  # Handle missing values\n",
    "\n",
    "    # 1. Remove HTML tags using a regex pattern\n",
    "    review = re.sub(r\"<.*?>\", \"\", review)  # Remove HTML tags\n",
    "\n",
    "    # 2. Replace URLs with a placeholder \"URL\"\n",
    "    review = re.sub(r'http[s]?://\\S+', 'URL', review)\n",
    "\n",
    "    # 3. Convert to lowercase\n",
    "    review = review.lower()\n",
    "\n",
    "    # 4. Normalize whitespace (remove any leftover <br /> or extra spaces)\n",
    "    review = re.sub(r\"\\s+\", \" \", review).strip()\n",
    "\n",
    "    # 5. Remove special characters, numbers, and punctuation\n",
    "    review = re.sub(r\"[^a-z\\s]\", \"\", review)\n",
    "\n",
    "    # 6. Tokenize the text into words\n",
    "    words = word_tokenize(review)\n",
    "\n",
    "    # 7. Remove stopwords\n",
    "    words = [word for word in words if word not in stop_words]\n",
    "\n",
    "    # 8. Lemmatize the tokens\n",
    "    lemmatized_words = [lemmatizer.lemmatize(word) for word in words]\n",
    "\n",
    "    # 9. Convert back to string\n",
    "    cleaned_text = \" \".join(lemmatized_words)\n",
    "\n",
    "    return cleaned_text, lemmatized_words"
   ]
  },
  {
   "cell_type": "code",
   "execution_count": 16,
   "id": "33dba9d0-56cd-4dde-b74b-4646814cc44a",
   "metadata": {
    "id": "33dba9d0-56cd-4dde-b74b-4646814cc44a"
   },
   "outputs": [],
   "source": [
    "random_sample = df"
   ]
  },
  {
   "cell_type": "code",
   "execution_count": 17,
   "id": "67025b8f",
   "metadata": {
    "id": "67025b8f",
    "scrolled": true
   },
   "outputs": [],
   "source": [
    "# Apply text cleaning\n",
    "random_sample[[\"cleaned_text\", \"tokens\"]] = random_sample[\"review\"].apply(clean_text).apply(pd.Series)"
   ]
  },
  {
   "cell_type": "code",
   "execution_count": 18,
   "id": "dd87b560",
   "metadata": {
    "colab": {
     "base_uri": "https://localhost:8080/"
    },
    "id": "dd87b560",
    "outputId": "48aff3be-d71a-4f74-8bb0-6038979b6801"
   },
   "outputs": [
    {
     "name": "stdout",
     "output_type": "stream",
     "text": [
      "                                                                                                                                                                                                                                                                                                                                                                                                                                                                                                                                                                                                                                                                                                                                                                                                                                                                                                                                                                                                                                                                                                                                                                                                                                                                                                                                                                                                                                                                                                                                                                                                                                                                                                                                                                                                                                                                                                                                                                                                                                                                                                                                       review  \\\n",
      "33553                                                                                                                                                                                                                                                                                                                                                                                                                                                                                                                                                                                                                                                                                                                                                                                                                                                                                                                                                                                     I really liked this Summerslam due to the look of the arena, the curtains and just the look overall was interesting to me for some reason. Anyways, this could have been one of the best Summerslam's ever if the WWF didn't have Lex Luger in the main event against Yokozuna, now for it's time it was ok to have a huge fat man vs a strong man but I'm glad times have changed. It was a terrible main event just like every match Luger is in is terrible. Other matches on the card were Razor Ramon vs Ted Dibiase, Steiner Brothers vs Heavenly Bodies, Shawn Michaels vs Curt Hening, this was the event where Shawn named his big monster of a body guard Diesel, IRS vs 1-2-3 Kid, Bret Hart first takes on Doink then takes on Jerry Lawler and stuff with the Harts and Lawler was always very interesting, then Ludvig Borga destroyed Marty Jannetty, Undertaker took on Giant Gonzalez in another terrible match, The Smoking Gunns and Tatanka took on Bam Bam Bigelow and the Headshrinkers, and Yokozuna defended the world title against Lex Luger this match was boring and it has a terrible ending. However it deserves 8/10   \n",
      "9427   Not many television shows appeal to quite as many different kinds of fans like Farscape does...I know youngsters and 30/40+ years old;fans both Male and Female in as many different countries as you can think of that just adore this T.V miniseries. It has elements that can be found in almost every other show on T.V, character driven drama that could be from an Australian soap opera; yet in the same episode it has science fact & fiction that would give even the hardiest \"Trekkie\" a run for his money in the brainbender stakes! Wormhole theory, Time Travel in true equational form...Magnificent. It embraces cultures from all over the map as the possibilities are endless having multiple stars and therefore thousands of planets to choose from.<br /><br />With such a broad scope; it would be expected that nothing would be able to keep up the illusion for long, but here is where \"Farscape\" really comes into it's own element...It succeeds where all others have failed, especially the likes of Star Trek (a universe with practically zero Kaos element!) They ran out of ideas pretty quickly + kept rehashing them! Over the course of 4 seasons they manage to keep the audience's attention using good continuity and constant character evolution with multiple threads to every episode with unique personal touches to camera that are specific to certain character groups within the whole. This structure allows for an extremely large area of subject matter as loyalties are forged and broken in many ways on many many issues. I happened to see the pilot (Premiere) in passing and just had to keep tuning in after that to see if Crichton would ever \"Get the girl\", after seeing them all on television I was delighted to see them available on DVD & I have to admit that it was the only thing that kept me sane whilst I had to do a 12 hour night shift and developed chronic insomnia...Farscape was the only thing to get me through those extremely long nights...<br /><br />Do yourself a favour; Watch the pilot and see what I mean...<br /><br />Farscape Comet   \n",
      "199                                                                                                                                                                                                                                                                                                                                                                                                                                                                                                                                                                                                                                                                                                                                                                                                                                                                                                                                                                                                                                                                                                                                                                                                                                                                                                                                                                                                                                                             The film quickly gets to a major chase scene with ever increasing destruction. The first really bad thing is the guy hijacking Steven Seagal would have been beaten to pulp by Seagal's driving, but that probably would have ended the whole premise for the movie.<br /><br />It seems like they decided to make all kinds of changes in the movie plot, so just plan to enjoy the action, and do not expect a coherent plot. Turn any sense of logic you may have, it will reduce your chance of getting a headache.<br /><br />I does give me some hope that Steven Seagal is trying to move back towards the type of characters he portrayed in his more popular movies.   \n",
      "12447                                                                                                                                                                                                                                                                                                                                                                                                                                                                                                                                                                                                                                                                                                                                                                                                                                                                                                                                                                                                                                                                                                                                                                                                                                                                                                                                                                                                                                                                                Jane Austen would definitely approve of this one!<br /><br />Gwyneth Paltrow does an awesome job capturing the attitude of Emma. She is funny without being excessively silly, yet elegant. She puts on a very convincing British accent (not being British myself, maybe I'm not the best judge, but she fooled me...she was also excellent in \"Sliding Doors\"...I sometimes forget she's American ~!). <br /><br />Also brilliant are Jeremy Northam and Sophie Thompson and Phyllida Law (Emma Thompson's sister and mother) as the Bates women. They nearly steal the show...and Ms. Law doesn't even have any lines!<br /><br />Highly recommended.   \n",
      "39489                                                                                                                                                            Expectations were somewhat high for me when I went to see this movie, after all I thought Steve Carell could do no wrong coming off of great movies like Anchorman, The 40 Year-Old Virgin, and Little Miss Sunshine. Boy, was I wrong.<br /><br />I'll start with what is right with this movie: at certain points Steve Carell is allowed to be Steve Carell. There are a handful of moments in the film that made me laugh, and it's due almost entirely to him being given the wiggle-room to do his thing. He's an undoubtedly talented individual, and it's a shame that he signed on to what turned out to be, in my opinion, a total train-wreck.<br /><br />With that out of the way, I'll discuss what went horrifyingly wrong.<br /><br />The film begins with Dan Burns, a widower with three girls who is being considered for a nationally syndicated advice column. He prepares his girls for a family reunion, where his extended relatives gather for some time with each other.<br /><br />The family is high atop the list of things that make this an awful movie. No family behaves like this. It's almost as if they've been transported from Pleasantville or Leave it to Beaver. They are a caricature of what we think a family is when we're 7. It reaches the point where they become obnoxious and simply frustrating. Touch football, crossword puzzle competitions, family bowling, and talent shows ARE NOT HOW ACTUAL PEOPLE BEHAVE. It's almost sickening.<br /><br />Another big flaw is the woman Carell is supposed to be falling for. Observing her in her first scene with Steve Carell is like watching a stroke victim trying to be rehabilitated. What I imagine is supposed to be unique and original in this woman comes off as mildly retarded.<br /><br />It makes me think that this movie is taking place on another planet. I left the theater wondering what I just saw. After thinking further, I don't think it was much.   \n",
      "\n",
      "                                                                                                                                                                                                                                                                                                                                                                                                                                                                                                                                                                                                                                                                                                                                                                                                                                                                                                                                                                                                                                                                                                                                                                                                                                                                                                                                                         cleaned_text  \n",
      "33553                                                                                                                                                                                                                                                                                                                                                                                                                                                                                                                                                                                               really liked summerslam due look arena curtain look overall interesting reason anyways could one best summerslams ever wwf didnt lex luger main event yokozuna time ok huge fat man v strong man im glad time changed terrible main event like every match luger terrible match card razor ramon v ted dibiase steiner brother v heavenly body shawn michael v curt hening event shawn named big monster body guard diesel irs v kid bret hart first take doink take jerry lawler stuff hart lawler always interesting ludvig borga destroyed marty jannetty undertaker took giant gonzalez another terrible match smoking gunns tatanka took bam bam bigelow headshrinkers yokozuna defended world title lex luger match boring terrible ending however deserves  \n",
      "9427   many television show appeal quite many different kind fan like farscape doesi know youngster year oldfans male female many different country think adore tv miniseries element found almost every show tv character driven drama could australian soap opera yet episode science fact fiction would give even hardiest trekkie run money brainbender stake wormhole theory time travel true equational formmagnificent embrace culture map possibility endless multiple star therefore thousand planet choose fromwith broad scope would expected nothing would able keep illusion long farscape really come elementit succeeds others failed especially like star trek universe practically zero kaos element ran idea pretty quickly kept rehashing course season manage keep audience attention using good continuity constant character evolution multiple thread every episode unique personal touch camera specific certain character group within whole structure allows extremely large area subject matter loyalty forged broken many way many many issue happened see pilot premiere passing keep tuning see crichton would ever get girl seeing television delighted see available dvd admit thing kept sane whilst hour night shift developed chronic insomniafarscape thing get extremely long nightsdo favour watch pilot see meanfarscape comet  \n",
      "199                                                                                                                                                                                                                                                                                                                                                                                                                                                                                                                                                                                                                                                                                                                                                                                                                                                                                                                                 film quickly get major chase scene ever increasing destruction first really bad thing guy hijacking steven seagal would beaten pulp seagals driving probably would ended whole premise movieit seems like decided make kind change movie plot plan enjoy action expect coherent plot turn sense logic may reduce chance getting headachei give hope steven seagal trying move back towards type character portrayed popular movie  \n",
      "12447                                                                                                                                                                                                                                                                                                                                                                                                                                                                                                                                                                                                                                                                                                                                                                                                                                                                                                                   jane austen would definitely approve onegwyneth paltrow awesome job capturing attitude emma funny without excessively silly yet elegant put convincing british accent british maybe im best judge fooled meshe also excellent sliding doorsi sometimes forget shes american also brilliant jeremy northam sophie thompson phyllida law emma thompson sister mother bates woman nearly steal showand m law doesnt even lineshighly recommended  \n",
      "39489                                                                                                                                                    expectation somewhat high went see movie thought steve carell could wrong coming great movie like anchorman yearold virgin little miss sunshine boy wrongill start right movie certain point steve carell allowed steve carell handful moment film made laugh due almost entirely given wiggleroom thing he undoubtedly talented individual shame signed turned opinion total trainwreckwith way ill discus went horrifyingly wrongthe film begin dan burn widower three girl considered nationally syndicated advice column prepares girl family reunion extended relative gather time otherthe family high atop list thing make awful movie family behaves like almost theyve transported pleasantville leave beaver caricature think family reach point become obnoxious simply frustrating touch football crossword puzzle competition family bowling talent show actual people behave almost sickeninganother big flaw woman carell supposed falling observing first scene steve carell like watching stroke victim trying rehabilitated imagine supposed unique original woman come mildly retardedit make think movie taking place another planet left theater wondering saw thinking dont think much  \n"
     ]
    }
   ],
   "source": [
    "# Spot-checking\n",
    "spotcheck_sample = random_sample[[\"review\", \"cleaned_text\"]].sample(5, random_state=42)\n",
    "print(spotcheck_sample)"
   ]
  },
  {
   "cell_type": "code",
   "execution_count": 19,
   "id": "262438e7",
   "metadata": {
    "colab": {
     "base_uri": "https://localhost:8080/"
    },
    "id": "262438e7",
    "outputId": "95a046b1-a226-4f2b-cb52-9b41541f1898",
    "scrolled": true
   },
   "outputs": [
    {
     "name": "stdout",
     "output_type": "stream",
     "text": [
      "                                                                                                                                                                                                                                                                                                                                                                                                                                                                                                                                                                                                                                                                                                                                                                                                                                                                                                                                                                                                                                                                                                                                                                                                                                                                                                                                                          review  \\\n",
      "5289                                                                                                                                                                                                                                                                                                                                                                                                                                                                            This is one of the few films where I consider the film rendition to be an improvement on the original book. The story is clear, accessible, amusing and interesting and the musical numbers are without a doubt exceptional. I adored the cyclical rendition of 'The old home guard' and the charming 'Portobello Road', a great combination of early animation + real actors techniques which, though dated do not detract from the charm of the piece. The background of the Second World War worked well and was not omitted as the film got under way, which so often happens in 'evacuee' stories.<br /><br />An often far too underrated film, it produces no end to enjoyment for people of all ages. The performances from the actors are exceptionally well done and the entire text is neatly tied together and well designed. Guaranteed to put a smile on your face!   \n",
      "5197                                                                                                                                                                                                                                                                                                                                                                                                                                                                                                                                                                                          Well, the movie was no terrible, but whomever created the screen play did not do a good job of even creating the essence of unger. This movie was slightly below average and did not tell the story correctly on one of the most interesting persons ever born. I suggest reading the book \"one of a Kind\" the real unger story. They left out huge parts of his life. They also at times did not understand the real caractor that he was. The actual facts of his life were at times out of order. And in the end they really did not portray the actual personality that he did have. So please don't watch the movie; read the book. By the way I'm not just some prick who feels you have to stay 100% to the real story, but they did not even come close!!!   \n",
      "47115                                                                                                                                                                                                                                                                                                                                                                                                                                                                                                                                                                                                                                     This film differentiates itself from the run-of-the-mill \"wonder of the human body\" documentaries by bravely, if bizarrely, opting to elicit disgust in the viewer. In one scene, the camera closes in on a gigantic 50-foot zit as a teenager squeezes pus and fluid out of it. In another, the camera is semisubmerged in a swamp of half digested food and stomach acid as parts of a pasta salad drop in from the esophagus and plop into the goo. In a final tour de force, the camera takes the viewer on a harrowing ride through a forest of...teenage armpit hair. Unfortunately, I'm not making any of this up. See this film if you must, but: bring your vomit bag, and don't have pasta salad beforehand.   \n",
      "12675                                                                                                                                                                                                                                                                                                                                                                                                                                                                                                                                                                                                                                                                                                                                     I thought the racism and prejudice against Carl Brashear was grossly overdramatized for Hollywood effect. I do not believe the U. S. Navy was ever that overtly racist. I cannot imagine a full Captain, the Commanding Officer, ever telling his Chief to intentionally flunk anyone. Certainly not at the risk of his life. And there has never been a Chief Petty Officer as unabashedly prejudice against everybody but WASPs as DeNiro's character. No Chief as slovenly and drunken as he was played would have ever risen to Master Chief in the first place. Cuba Gooding saved an otherwise badly done movie.   \n",
      "7097   Undoubtedly, the least among the Spaghetti Westerns I've been watching lately: basically a low-brow rip-off of Leone's THE GOOD, THE BAD AND THE UGLY (1966) with three disparate characters outwitting one another (and occasionally forming shaky alliances) in their search for hidden gold. Leonard Maltin rated it a BOMB; while it's harmless enough, it's also totally routine and, fatally, the three main roles are stereotypes, that is to say, uninteresting: Eddie Byrnes is a bank employee with ideas regarding his consignment being transported by train; Gilbert Roland is the \"legendary\" but ageing Mexican bandit (his frequent lapses into Spanish when excited are quite corny!) who, apparently, is still irresistible to women; George Hilton as an enigmatic bounty hunter tries too hard to emulate Clint Eastwood's Man With No Name figure. Director Castellari - whom I saw at the Italian B-movie retrospective held during the 2004 Venice Film Festival, where he came off as the most pompous of the cult movie directors present! - shows little genuine feeling for the Western (on the strength of two above-average Franco Nero efforts in the genre, I ordered his collaboration with Castellari KEOMA [1976]...I'm keeping my fingers crossed now!) and the film's tongue-in-cheek approach is equally lamentable.   \n",
      "\n",
      "                                                                                                                                                                                                                                                                                                                                                                                                                                                                                                                                                                                                                                                                                                                                                                                                                                                                                                                                                             cleaned_text  \\\n",
      "5289                                                                                                                                                                                                                                                                                                                                                                                  one film consider film rendition improvement original book story clear accessible amusing interesting musical number without doubt exceptional adored cyclical rendition old home guard charming portobello road great combination early animation real actor technique though dated detract charm piece background second world war worked well omitted film got way often happens evacuee storiesan often far underrated film produce end enjoyment people age performance actor exceptionally well done entire text neatly tied together well designed guaranteed put smile face   \n",
      "5197                                                                                                                                                                                                                                                                                                                                                                                                                                                                                                                                       well movie terrible whomever created screen play good job even creating essence unger movie slightly average tell story correctly one interesting person ever born suggest reading book one kind real unger story left huge part life also time understand real caractor actual fact life time order end really portray actual personality please dont watch movie read book way im prick feel stay real story even come close   \n",
      "47115                                                                                                                                                                                                                                                                                                                                                                                                                                                                                                   film differentiates runofthemill wonder human body documentary bravely bizarrely opting elicit disgust viewer one scene camera close gigantic foot zit teenager squeeze pu fluid another camera semisubmerged swamp half digested food stomach acid part pasta salad drop esophagus plop goo final tour de force camera take viewer harrowing ride forest ofteenage armpit hair unfortunately im making see film must bring vomit bag dont pasta salad beforehand   \n",
      "12675                                                                                                                                                                                                                                                                                                                                                                                                                                                                                                                                  thought racism prejudice carl brashear grossly overdramatized hollywood effect believe u navy ever overtly racist imagine full captain commanding officer ever telling chief intentionally flunk anyone certainly risk life never chief petty officer unabashedly prejudice everybody wasp deniros character chief slovenly drunken played would ever risen master chief first place cuba gooding saved otherwise badly done movie   \n",
      "7097   undoubtedly least among spaghetti western ive watching lately basically lowbrow ripoff leone good bad ugly three disparate character outwitting one another occasionally forming shaky alliance search hidden gold leonard maltin rated bomb harmless enough also totally routine fatally three main role stereotype say uninteresting eddie byrnes bank employee idea regarding consignment transported train gilbert roland legendary ageing mexican bandit frequent lapse spanish excited quite corny apparently still irresistible woman george hilton enigmatic bounty hunter try hard emulate clint eastwoods man name figure director castellari saw italian bmovie retrospective held venice film festival came pompous cult movie director present show little genuine feeling western strength two aboveaverage franco nero effort genre ordered collaboration castellari keoma im keeping finger crossed film tongueincheek approach equally lamentable   \n",
      "\n",
      "                                                                                                                                                                                                                                                                                                                                                                                                                                                                                                                                                                                                                                                                                                                                                                                                                                                                                                                                                                                                                                                                                                                                                                                                                                                                                                                                                                                                                                                                                                                                                                                                                                                     Bigrams  \\\n",
      "5289                                                                                                                                                                                                                                                                                                                                                                                                            [one_film, film_consider, consider_film, film_rendition, rendition_improvement, improvement_original, original_book, book_story, story_clear, clear_accessible, accessible_amusing, amusing_interesting, interesting_musical, musical_number, number_without, without_doubt, doubt_exceptional, exceptional_adored, adored_cyclical, cyclical_rendition, rendition_old, old_home, home_guard, guard_charming, charming_portobello, portobello_road, road_great, great_combination, combination_early, early_animation, animation_real, real_actor, actor_technique, technique_though, though_dated, dated_detract, detract_charm, charm_piece, piece_background, background_second, second_world, world_war, war_worked, worked_well, well_omitted, omitted_film, film_got, got_way, way_often, often_happens, happens_evacuee, evacuee_storiesan, storiesan_often, often_far, far_underrated, underrated_film, film_produce, produce_end, end_enjoyment, enjoyment_people, people_age, age_performance, performance_actor, actor_exceptionally, exceptionally_well, well_done, done_entire, entire_text, text_neatly, neatly_tied, tied_together, together_well, well_designed, designed_guaranteed, guaranteed_put, put_smile, smile_face]   \n",
      "5197                                                                                                                                                                                                                                                                                                                                                                                                                                                                                                                                                                                                                                                                                                                                   [well_movie, movie_terrible, terrible_whomever, whomever_created, created_screen, screen_play, play_good, good_job, job_even, even_creating, creating_essence, essence_unger, unger_movie, movie_slightly, slightly_average, average_tell, tell_story, story_correctly, correctly_one, one_interesting, interesting_person, person_ever, ever_born, born_suggest, suggest_reading, reading_book, book_one, one_kind, kind_real, real_unger, unger_story, story_left, left_huge, huge_part, part_life, life_also, also_time, time_understand, understand_real, real_caractor, caractor_actual, actual_fact, fact_life, life_time, time_order, order_end, end_really, really_portray, portray_actual, actual_personality, personality_please, please_dont, dont_watch, watch_movie, movie_read, read_book, book_way, way_im, im_prick, prick_feel, feel_stay, stay_real, real_story, story_even, even_come, come_close]   \n",
      "47115                                                                                                                                                                                                                                                                                                                                                                                                                                                                                                                                                                                                                                                                  [film_differentiates, differentiates_runofthemill, runofthemill_wonder, wonder_human, human_body, body_documentary, documentary_bravely, bravely_bizarrely, bizarrely_opting, opting_elicit, elicit_disgust, disgust_viewer, viewer_one, one_scene, scene_camera, camera_close, close_gigantic, gigantic_foot, foot_zit, zit_teenager, teenager_squeeze, squeeze_pu, pu_fluid, fluid_another, another_camera, camera_semisubmerged, semisubmerged_swamp, swamp_half, half_digested, digested_food, food_stomach, stomach_acid, acid_part, part_pasta, pasta_salad, salad_drop, drop_esophagus, esophagus_plop, plop_goo, goo_final, final_tour, tour_de, de_force, force_camera, camera_take, take_viewer, viewer_harrowing, harrowing_ride, ride_forest, forest_ofteenage, ofteenage_armpit, armpit_hair, hair_unfortunately, unfortunately_im, im_making, making_see, see_film, film_must, must_bring, bring_vomit, vomit_bag, bag_dont, dont_pasta, pasta_salad, salad_beforehand]   \n",
      "12675                                                                                                                                                                                                                                                                                                                                                                                                                                                                                                                                                                                                                                                                                                                                       [thought_racism, racism_prejudice, prejudice_carl, carl_brashear, brashear_grossly, grossly_overdramatized, overdramatized_hollywood, hollywood_effect, effect_believe, believe_u, u_navy, navy_ever, ever_overtly, overtly_racist, racist_imagine, imagine_full, full_captain, captain_commanding, commanding_officer, officer_ever, ever_telling, telling_chief, chief_intentionally, intentionally_flunk, flunk_anyone, anyone_certainly, certainly_risk, risk_life, life_never, never_chief, chief_petty, petty_officer, officer_unabashedly, unabashedly_prejudice, prejudice_everybody, everybody_wasp, wasp_deniros, deniros_character, character_chief, chief_slovenly, slovenly_drunken, drunken_played, played_would, would_ever, ever_risen, risen_master, master_chief, chief_first, first_place, place_cuba, cuba_gooding, gooding_saved, saved_otherwise, otherwise_badly, badly_done, done_movie]   \n",
      "7097   [undoubtedly_least, least_among, among_spaghetti, spaghetti_western, western_ive, ive_watching, watching_lately, lately_basically, basically_lowbrow, lowbrow_ripoff, ripoff_leone, leone_good, good_bad, bad_ugly, ugly_three, three_disparate, disparate_character, character_outwitting, outwitting_one, one_another, another_occasionally, occasionally_forming, forming_shaky, shaky_alliance, alliance_search, search_hidden, hidden_gold, gold_leonard, leonard_maltin, maltin_rated, rated_bomb, bomb_harmless, harmless_enough, enough_also, also_totally, totally_routine, routine_fatally, fatally_three, three_main, main_role, role_stereotype, stereotype_say, say_uninteresting, uninteresting_eddie, eddie_byrnes, byrnes_bank, bank_employee, employee_idea, idea_regarding, regarding_consignment, consignment_transported, transported_train, train_gilbert, gilbert_roland, roland_legendary, legendary_ageing, ageing_mexican, mexican_bandit, bandit_frequent, frequent_lapse, lapse_spanish, spanish_excited, excited_quite, quite_corny, corny_apparently, apparently_still, still_irresistible, irresistible_woman, woman_george, george_hilton, hilton_enigmatic, enigmatic_bounty, bounty_hunter, hunter_try, try_hard, hard_emulate, emulate_clint, clint_eastwoods, eastwoods_man, man_name, name_figure, figure_director, director_castellari, castellari_saw, saw_italian, italian_bmovie, bmovie_retrospective, retrospective_held, held_venice, venice_film, film_festival, festival_came, came_pompous, pompous_cult, cult_movie, movie_director, director_present, present_show, show_little, little_genuine, ...]   \n",
      "\n",
      "                                                                                                                                                                                                                                                                                                                                                                                                                                                                                                                                                                                                                                                                                                                                                                                                                                                                                                                                                                                                                                                                                                                                                                                                                                                                                                                                                                                                                                                                                                                                                                                                                                                                                                                                                                                                                                                                                                                                                                                                                                                                                                                                                                                                                                                                                                                                                                                                                          Trigrams  \n",
      "5289                                                                                                                                                                                                                                                                                                                                                                                                                                                                                                                                                                                                                   [one_film_consider, film_consider_film, consider_film_rendition, film_rendition_improvement, rendition_improvement_original, improvement_original_book, original_book_story, book_story_clear, story_clear_accessible, clear_accessible_amusing, accessible_amusing_interesting, amusing_interesting_musical, interesting_musical_number, musical_number_without, number_without_doubt, without_doubt_exceptional, doubt_exceptional_adored, exceptional_adored_cyclical, adored_cyclical_rendition, cyclical_rendition_old, rendition_old_home, old_home_guard, home_guard_charming, guard_charming_portobello, charming_portobello_road, portobello_road_great, road_great_combination, great_combination_early, combination_early_animation, early_animation_real, animation_real_actor, real_actor_technique, actor_technique_though, technique_though_dated, though_dated_detract, dated_detract_charm, detract_charm_piece, charm_piece_background, piece_background_second, background_second_world, second_world_war, world_war_worked, war_worked_well, worked_well_omitted, well_omitted_film, omitted_film_got, film_got_way, got_way_often, way_often_happens, often_happens_evacuee, happens_evacuee_storiesan, evacuee_storiesan_often, storiesan_often_far, often_far_underrated, far_underrated_film, underrated_film_produce, film_produce_end, produce_end_enjoyment, end_enjoyment_people, enjoyment_people_age, people_age_performance, age_performance_actor, performance_actor_exceptionally, actor_exceptionally_well, exceptionally_well_done, well_done_entire, done_entire_text, entire_text_neatly, text_neatly_tied, neatly_tied_together, tied_together_well, together_well_designed, well_designed_guaranteed, designed_guaranteed_put, guaranteed_put_smile, put_smile_face]  \n",
      "5197                                                                                                                                                                                                                                                                                                                                                                                                                                                                                                                                                                                                                                                                                                                                                                                                                                                                                                                                                                                                                                                                                                 [well_movie_terrible, movie_terrible_whomever, terrible_whomever_created, whomever_created_screen, created_screen_play, screen_play_good, play_good_job, good_job_even, job_even_creating, even_creating_essence, creating_essence_unger, essence_unger_movie, unger_movie_slightly, movie_slightly_average, slightly_average_tell, average_tell_story, tell_story_correctly, story_correctly_one, correctly_one_interesting, one_interesting_person, interesting_person_ever, person_ever_born, ever_born_suggest, born_suggest_reading, suggest_reading_book, reading_book_one, book_one_kind, one_kind_real, kind_real_unger, real_unger_story, unger_story_left, story_left_huge, left_huge_part, huge_part_life, part_life_also, life_also_time, also_time_understand, time_understand_real, understand_real_caractor, real_caractor_actual, caractor_actual_fact, actual_fact_life, fact_life_time, life_time_order, time_order_end, order_end_really, end_really_portray, really_portray_actual, portray_actual_personality, actual_personality_please, personality_please_dont, please_dont_watch, dont_watch_movie, watch_movie_read, movie_read_book, read_book_way, book_way_im, way_im_prick, im_prick_feel, prick_feel_stay, feel_stay_real, stay_real_story, real_story_even, story_even_come, even_come_close]  \n",
      "47115                                                                                                                                                                                                                                                                                                                                                                                                                                                                                                                                                                                                                                                                                                                                                                                                                                                                                                                                                                                                            [film_differentiates_runofthemill, differentiates_runofthemill_wonder, runofthemill_wonder_human, wonder_human_body, human_body_documentary, body_documentary_bravely, documentary_bravely_bizarrely, bravely_bizarrely_opting, bizarrely_opting_elicit, opting_elicit_disgust, elicit_disgust_viewer, disgust_viewer_one, viewer_one_scene, one_scene_camera, scene_camera_close, camera_close_gigantic, close_gigantic_foot, gigantic_foot_zit, foot_zit_teenager, zit_teenager_squeeze, teenager_squeeze_pu, squeeze_pu_fluid, pu_fluid_another, fluid_another_camera, another_camera_semisubmerged, camera_semisubmerged_swamp, semisubmerged_swamp_half, swamp_half_digested, half_digested_food, digested_food_stomach, food_stomach_acid, stomach_acid_part, acid_part_pasta, part_pasta_salad, pasta_salad_drop, salad_drop_esophagus, drop_esophagus_plop, esophagus_plop_goo, plop_goo_final, goo_final_tour, final_tour_de, tour_de_force, de_force_camera, force_camera_take, camera_take_viewer, take_viewer_harrowing, viewer_harrowing_ride, harrowing_ride_forest, ride_forest_ofteenage, forest_ofteenage_armpit, ofteenage_armpit_hair, armpit_hair_unfortunately, hair_unfortunately_im, unfortunately_im_making, im_making_see, making_see_film, see_film_must, film_must_bring, must_bring_vomit, bring_vomit_bag, vomit_bag_dont, bag_dont_pasta, dont_pasta_salad, pasta_salad_beforehand]  \n",
      "12675                                                                                                                                                                                                                                                                                                                                                                                                                                                                                                                                                                                                                                                                                                                                                                                                                                                                                                                                                                                                                                                                                                     [thought_racism_prejudice, racism_prejudice_carl, prejudice_carl_brashear, carl_brashear_grossly, brashear_grossly_overdramatized, grossly_overdramatized_hollywood, overdramatized_hollywood_effect, hollywood_effect_believe, effect_believe_u, believe_u_navy, u_navy_ever, navy_ever_overtly, ever_overtly_racist, overtly_racist_imagine, racist_imagine_full, imagine_full_captain, full_captain_commanding, captain_commanding_officer, commanding_officer_ever, officer_ever_telling, ever_telling_chief, telling_chief_intentionally, chief_intentionally_flunk, intentionally_flunk_anyone, flunk_anyone_certainly, anyone_certainly_risk, certainly_risk_life, risk_life_never, life_never_chief, never_chief_petty, chief_petty_officer, petty_officer_unabashedly, officer_unabashedly_prejudice, unabashedly_prejudice_everybody, prejudice_everybody_wasp, everybody_wasp_deniros, wasp_deniros_character, deniros_character_chief, character_chief_slovenly, chief_slovenly_drunken, slovenly_drunken_played, drunken_played_would, played_would_ever, would_ever_risen, ever_risen_master, risen_master_chief, master_chief_first, chief_first_place, first_place_cuba, place_cuba_gooding, cuba_gooding_saved, gooding_saved_otherwise, saved_otherwise_badly, otherwise_badly_done, badly_done_movie]  \n",
      "7097   [undoubtedly_least_among, least_among_spaghetti, among_spaghetti_western, spaghetti_western_ive, western_ive_watching, ive_watching_lately, watching_lately_basically, lately_basically_lowbrow, basically_lowbrow_ripoff, lowbrow_ripoff_leone, ripoff_leone_good, leone_good_bad, good_bad_ugly, bad_ugly_three, ugly_three_disparate, three_disparate_character, disparate_character_outwitting, character_outwitting_one, outwitting_one_another, one_another_occasionally, another_occasionally_forming, occasionally_forming_shaky, forming_shaky_alliance, shaky_alliance_search, alliance_search_hidden, search_hidden_gold, hidden_gold_leonard, gold_leonard_maltin, leonard_maltin_rated, maltin_rated_bomb, rated_bomb_harmless, bomb_harmless_enough, harmless_enough_also, enough_also_totally, also_totally_routine, totally_routine_fatally, routine_fatally_three, fatally_three_main, three_main_role, main_role_stereotype, role_stereotype_say, stereotype_say_uninteresting, say_uninteresting_eddie, uninteresting_eddie_byrnes, eddie_byrnes_bank, byrnes_bank_employee, bank_employee_idea, employee_idea_regarding, idea_regarding_consignment, regarding_consignment_transported, consignment_transported_train, transported_train_gilbert, train_gilbert_roland, gilbert_roland_legendary, roland_legendary_ageing, legendary_ageing_mexican, ageing_mexican_bandit, mexican_bandit_frequent, bandit_frequent_lapse, frequent_lapse_spanish, lapse_spanish_excited, spanish_excited_quite, excited_quite_corny, quite_corny_apparently, corny_apparently_still, apparently_still_irresistible, still_irresistible_woman, irresistible_woman_george, woman_george_hilton, george_hilton_enigmatic, hilton_enigmatic_bounty, enigmatic_bounty_hunter, bounty_hunter_try, hunter_try_hard, try_hard_emulate, hard_emulate_clint, emulate_clint_eastwoods, clint_eastwoods_man, eastwoods_man_name, man_name_figure, name_figure_director, figure_director_castellari, director_castellari_saw, castellari_saw_italian, saw_italian_bmovie, italian_bmovie_retrospective, bmovie_retrospective_held, retrospective_held_venice, held_venice_film, venice_film_festival, film_festival_came, festival_came_pompous, came_pompous_cult, pompous_cult_movie, cult_movie_director, movie_director_present, director_present_show, present_show_little, show_little_genuine, little_genuine_feeling, ...]  \n"
     ]
    }
   ],
   "source": [
    "# Function to generate bigrams and trigrams\n",
    "def generate_ngrams(text, n=2):\n",
    "    tokens = word_tokenize(text.lower())\n",
    "    n_grams = list(ngrams(tokens, n))\n",
    "    return [\"_\".join(gram) for gram in n_grams]\n",
    "\n",
    "# Generate bigrams and trigrams\n",
    "random_sample[\"Bigrams\"] = random_sample[\"cleaned_text\"].apply(lambda x: generate_ngrams(x, 2) if isinstance(x, str) else [])\n",
    "random_sample[\"Trigrams\"] = random_sample[\"cleaned_text\"].apply(lambda x: generate_ngrams(x, 3) if isinstance(x, str) else [])\n",
    "\n",
    "# Check the results\n",
    "print(random_sample[[\"review\", \"cleaned_text\", \"Bigrams\", \"Trigrams\"]].sample(5))"
   ]
  },
  {
   "cell_type": "markdown",
   "id": "7fb14eb0-b67c-4a46-a83f-c567d7f50a7a",
   "metadata": {
    "id": "7fb14eb0-b67c-4a46-a83f-c567d7f50a7a"
   },
   "source": [
    "## TF-IDF Vectorizer"
   ]
  },
  {
   "cell_type": "code",
   "execution_count": 21,
   "id": "03b7372c",
   "metadata": {
    "colab": {
     "base_uri": "https://localhost:8080/"
    },
    "id": "03b7372c",
    "outputId": "5e2cb78f-8f72-4b31-b28b-af7612d8cb63"
   },
   "outputs": [
    {
     "name": "stdout",
     "output_type": "stream",
     "text": [
      "Feature matrix shape: (50000, 8642892)\n"
     ]
    }
   ],
   "source": [
    "from sklearn.feature_extraction.text import TfidfVectorizer\n",
    "\n",
    "# Initialize TfidfVectorizer for unigrams, bigrams, and trigrams\n",
    "tfidf_vectorizer = TfidfVectorizer(ngram_range=(1, 3))\n",
    "\n",
    "# Fit and transform the cleaned text from random_sample to create features\n",
    "X_tfidf = tfidf_vectorizer.fit_transform(random_sample[\"cleaned_text\"])\n",
    "\n",
    "# Display the shape of the feature matrix\n",
    "print(f\"Feature matrix shape: {X_tfidf.shape}\")"
   ]
  },
  {
   "cell_type": "code",
   "execution_count": 22,
   "id": "5185091a",
   "metadata": {
    "colab": {
     "base_uri": "https://localhost:8080/"
    },
    "id": "5185091a",
    "outputId": "24cabcf1-cb25-4f48-ab59-f1a0cb3c18f8"
   },
   "outputs": [
    {
     "name": "stdout",
     "output_type": "stream",
     "text": [
      "Training set size: (40000, 8642892)\n",
      "Test set size: (10000, 8642892)\n"
     ]
    }
   ],
   "source": [
    "y = random_sample['sentiment']\n",
    "# Split data into training and testing sets (80% train, 20% test)\n",
    "X_train_tfidf, X_test_tfidf, y_train, y_test = train_test_split(X_tfidf, y, test_size=0.2, random_state=42)\n",
    "\n",
    "print(f\"Training set size: {X_train_tfidf.shape}\")\n",
    "print(f\"Test set size: {X_test_tfidf.shape}\")"
   ]
  },
  {
   "cell_type": "markdown",
   "id": "d5f17932",
   "metadata": {
    "id": "d5f17932"
   },
   "source": [
    "## Logistic Regression"
   ]
  },
  {
   "cell_type": "code",
   "execution_count": 23,
   "id": "8e0bc41f-4bae-433f-aa31-dd413f439f53",
   "metadata": {
    "colab": {
     "base_uri": "https://localhost:8080/"
    },
    "id": "8e0bc41f-4bae-433f-aa31-dd413f439f53",
    "outputId": "48d5e952-e369-4c92-f3fd-aa55046fa293"
   },
   "outputs": [
    {
     "name": "stdout",
     "output_type": "stream",
     "text": [
      "Logistic Regression (TF-IDF) Classification Report:\n",
      "              precision    recall  f1-score   support\n",
      "\n",
      "    negative       0.90      0.86      0.88      4961\n",
      "    positive       0.87      0.90      0.88      5039\n",
      "\n",
      "    accuracy                           0.88     10000\n",
      "   macro avg       0.88      0.88      0.88     10000\n",
      "weighted avg       0.88      0.88      0.88     10000\n",
      "\n"
     ]
    }
   ],
   "source": [
    "# Initialize the Logistic Regression model\n",
    "log_reg_tfidf = LogisticRegression(class_weight='balanced', max_iter=1000)\n",
    "\n",
    "# Train the model\n",
    "log_reg_tfidf.fit(X_train_tfidf, y_train)\n",
    "\n",
    "# Make predictions\n",
    "y_pred_log_reg_tfidf = log_reg_tfidf.predict(X_test_tfidf)\n",
    "\n",
    "# Evaluate the model\n",
    "print(\"Logistic Regression (TF-IDF) Classification Report:\")\n",
    "print(classification_report(y_test, y_pred_log_reg_tfidf))"
   ]
  },
  {
   "cell_type": "markdown",
   "id": "1aba8ffc-f414-4cdb-ade1-ce12fdcb144c",
   "metadata": {
    "id": "1aba8ffc-f414-4cdb-ade1-ce12fdcb144c"
   },
   "source": [
    "### Hyperparameter Tuning"
   ]
  },
  {
   "cell_type": "code",
   "execution_count": 24,
   "id": "cbaa9723-d24f-4893-902b-ad9859685b9f",
   "metadata": {
    "colab": {
     "base_uri": "https://localhost:8080/"
    },
    "id": "cbaa9723-d24f-4893-902b-ad9859685b9f",
    "outputId": "8581dc3f-e4d9-4e34-b647-3ad0ab5847ee"
   },
   "outputs": [
    {
     "name": "stdout",
     "output_type": "stream",
     "text": [
      "Logistic Regression (TF-IDF) Classification Report:\n",
      "              precision    recall  f1-score   support\n",
      "\n",
      "    negative       0.91      0.88      0.89      4961\n",
      "    positive       0.89      0.91      0.90      5039\n",
      "\n",
      "    accuracy                           0.90     10000\n",
      "   macro avg       0.90      0.90      0.90     10000\n",
      "weighted avg       0.90      0.90      0.90     10000\n",
      "\n"
     ]
    }
   ],
   "source": [
    "# Initialize the Logistic Regression model\n",
    "log_reg_tfidf = LogisticRegression(class_weight='balanced', C=10, max_iter=100)\n",
    "\n",
    "# Train the model\n",
    "log_reg_tfidf.fit(X_train_tfidf, y_train)\n",
    "\n",
    "# Make predictions\n",
    "y_pred_log_reg_tfidf = log_reg_tfidf.predict(X_test_tfidf)\n",
    "\n",
    "# Evaluate the model\n",
    "print(\"Logistic Regression (TF-IDF) Classification Report:\")\n",
    "print(classification_report(y_test, y_pred_log_reg_tfidf))"
   ]
  },
  {
   "cell_type": "markdown",
   "id": "d3b88ea2",
   "metadata": {
    "id": "d3b88ea2"
   },
   "source": [
    "## Naive-Bayes"
   ]
  },
  {
   "cell_type": "code",
   "execution_count": 25,
   "id": "c9b26651",
   "metadata": {
    "colab": {
     "base_uri": "https://localhost:8080/"
    },
    "id": "c9b26651",
    "outputId": "0bdf3047-32cd-46a4-b9fd-809d8889d2bf",
    "scrolled": true
   },
   "outputs": [
    {
     "name": "stdout",
     "output_type": "stream",
     "text": [
      "Naive Bayes (TF-IDF) Classification Report:\n",
      "              precision    recall  f1-score   support\n",
      "\n",
      "    negative       0.88      0.90      0.89      4961\n",
      "    positive       0.90      0.88      0.89      5039\n",
      "\n",
      "    accuracy                           0.89     10000\n",
      "   macro avg       0.89      0.89      0.89     10000\n",
      "weighted avg       0.89      0.89      0.89     10000\n",
      "\n"
     ]
    }
   ],
   "source": [
    "# Initialize the Naive Bayes model\n",
    "nb_tfidf = MultinomialNB()\n",
    "\n",
    "# Train the model\n",
    "nb_tfidf.fit(X_train_tfidf, y_train)\n",
    "\n",
    "# Make predictions\n",
    "y_pred_nb_tfidf = nb_tfidf.predict(X_test_tfidf)\n",
    "\n",
    "# Evaluate the model\n",
    "print(\"Naive Bayes (TF-IDF) Classification Report:\")\n",
    "print(classification_report(y_test, y_pred_nb_tfidf))\n"
   ]
  },
  {
   "cell_type": "markdown",
   "id": "e03c1cf9-4792-4ffc-9673-adf0078cd0e1",
   "metadata": {
    "id": "e03c1cf9-4792-4ffc-9673-adf0078cd0e1"
   },
   "source": [
    "### Hyperparameter Tuning"
   ]
  },
  {
   "cell_type": "code",
   "execution_count": 26,
   "id": "500ab6c3-9177-48bf-9350-9f1dc9bb6ca3",
   "metadata": {
    "colab": {
     "base_uri": "https://localhost:8080/"
    },
    "id": "500ab6c3-9177-48bf-9350-9f1dc9bb6ca3",
    "outputId": "ca78a54f-450e-44e9-bd9c-d6f25d3dfae3"
   },
   "outputs": [
    {
     "name": "stdout",
     "output_type": "stream",
     "text": [
      "Naive Bayes (TF-IDF) Classification Report:\n",
      "              precision    recall  f1-score   support\n",
      "\n",
      "    negative       0.89      0.90      0.89      4961\n",
      "    positive       0.90      0.89      0.90      5039\n",
      "\n",
      "    accuracy                           0.90     10000\n",
      "   macro avg       0.90      0.90      0.90     10000\n",
      "weighted avg       0.90      0.90      0.90     10000\n",
      "\n"
     ]
    }
   ],
   "source": [
    "# Initialize the Naive Bayes model\n",
    "nb_tfidf = MultinomialNB(alpha=0.1)\n",
    "\n",
    "# Train the model\n",
    "nb_tfidf.fit(X_train_tfidf, y_train)\n",
    "\n",
    "# Make predictions\n",
    "y_pred_nb_tfidf = nb_tfidf.predict(X_test_tfidf)\n",
    "\n",
    "# Evaluate the model\n",
    "print(\"Naive Bayes (TF-IDF) Classification Report:\")\n",
    "print(classification_report(y_test, y_pred_nb_tfidf))"
   ]
  },
  {
   "cell_type": "markdown",
   "id": "3fdddcc8-c995-4cb9-bec6-a5ed9ac28c0f",
   "metadata": {
    "id": "3fdddcc8-c995-4cb9-bec6-a5ed9ac28c0f"
   },
   "source": [
    "## Decision Tree"
   ]
  },
  {
   "cell_type": "code",
   "execution_count": 27,
   "id": "f1785cec-84d1-4645-98a2-919986c2ecd4",
   "metadata": {
    "id": "f1785cec-84d1-4645-98a2-919986c2ecd4",
    "outputId": "59687920-e65d-4b26-904a-0b3b4fe9071d",
    "scrolled": true
   },
   "outputs": [
    {
     "name": "stdout",
     "output_type": "stream",
     "text": [
      "Decision Tree (TF-IDF) Classification Report:\n",
      "              precision    recall  f1-score   support\n",
      "\n",
      "    negative       0.59      0.58      0.58      4961\n",
      "    positive       0.59      0.59      0.59      5039\n",
      "\n",
      "    accuracy                           0.59     10000\n",
      "   macro avg       0.59      0.59      0.59     10000\n",
      "weighted avg       0.59      0.59      0.59     10000\n",
      "\n"
     ]
    }
   ],
   "source": [
    "# Initialize the Decision Tree model\n",
    "dt_tfidf = DecisionTreeClassifier(max_depth=30, min_samples_split=50, min_samples_leaf=20, max_features=\"sqrt\", random_state=42)\n",
    "\n",
    "# Train the model\n",
    "dt_tfidf.fit(X_train_tfidf, y_train)\n",
    "\n",
    "# Make predictions\n",
    "y_pred_dt_tfidf = dt_tfidf.predict(X_test_tfidf)\n",
    "\n",
    "# Evaluate the model\n",
    "print(\"Decision Tree (TF-IDF) Classification Report:\")\n",
    "print(classification_report(y_test, y_pred_dt_tfidf))\n"
   ]
  },
  {
   "cell_type": "markdown",
   "id": "598b1160-1ab6-4496-a995-bf57c4c46197",
   "metadata": {
    "id": "598b1160-1ab6-4496-a995-bf57c4c46197"
   },
   "source": [
    "### Hyperparameter Tuning"
   ]
  },
  {
   "cell_type": "code",
   "execution_count": 28,
   "id": "b8280a93-cbf5-445c-8989-fbb65aae924c",
   "metadata": {
    "id": "b8280a93-cbf5-445c-8989-fbb65aae924c",
    "outputId": "96b7b314-7978-444a-992d-04a3f38de5c3"
   },
   "outputs": [
    {
     "name": "stdout",
     "output_type": "stream",
     "text": [
      "Decision Tree (TF-IDF) Classification Report:\n",
      "              precision    recall  f1-score   support\n",
      "\n",
      "    negative       0.60      0.57      0.58      4961\n",
      "    positive       0.60      0.63      0.61      5039\n",
      "\n",
      "    accuracy                           0.60     10000\n",
      "   macro avg       0.60      0.60      0.60     10000\n",
      "weighted avg       0.60      0.60      0.60     10000\n",
      "\n"
     ]
    }
   ],
   "source": [
    "# Initialize the Decision Tree model\n",
    "dt_tfidf = DecisionTreeClassifier(max_depth=45, min_samples_split=10, min_samples_leaf=20, max_features=\"sqrt\", random_state=42)\n",
    "\n",
    "# Train the model\n",
    "dt_tfidf.fit(X_train_tfidf, y_train)\n",
    "\n",
    "# Make predictions\n",
    "y_pred_dt_tfidf = dt_tfidf.predict(X_test_tfidf)\n",
    "\n",
    "# Evaluate the model\n",
    "print(\"Decision Tree (TF-IDF) Classification Report:\")\n",
    "print(classification_report(y_test, y_pred_dt_tfidf))\n"
   ]
  },
  {
   "cell_type": "markdown",
   "id": "a236af7b-984c-4940-8dde-b45e71a13b8e",
   "metadata": {
    "id": "a236af7b-984c-4940-8dde-b45e71a13b8e"
   },
   "source": [
    "## Random Forest"
   ]
  },
  {
   "cell_type": "code",
   "execution_count": 29,
   "id": "c9f1e074-407c-4f96-830a-0be5ff5d18dc",
   "metadata": {
    "id": "c9f1e074-407c-4f96-830a-0be5ff5d18dc"
   },
   "outputs": [],
   "source": [
    "# Encode y_train\n",
    "label_encoder = LabelEncoder()\n",
    "y_train_encoded = label_encoder.fit_transform(y_train)\n",
    "y_test_encoded = label_encoder.transform(y_test)"
   ]
  },
  {
   "cell_type": "code",
   "execution_count": 30,
   "id": "3a234541-c29b-4055-adfd-69e373b66267",
   "metadata": {
    "colab": {
     "base_uri": "https://localhost:8080/"
    },
    "id": "3a234541-c29b-4055-adfd-69e373b66267",
    "outputId": "652e3ff7-b461-4d33-9efa-4cf4ce5f9aff"
   },
   "outputs": [
    {
     "name": "stdout",
     "output_type": "stream",
     "text": [
      "Random Forest (TF-IDF) Classification Report:\n",
      "              precision    recall  f1-score   support\n",
      "\n",
      "    negative       0.73      0.75      0.74      4961\n",
      "    positive       0.75      0.72      0.73      5039\n",
      "\n",
      "    accuracy                           0.74     10000\n",
      "   macro avg       0.74      0.74      0.74     10000\n",
      "weighted avg       0.74      0.74      0.74     10000\n",
      "\n"
     ]
    }
   ],
   "source": [
    "# Initialize the Random Forest model\n",
    "rf_tfidf = RandomForestClassifier(\n",
    "    n_estimators=50,\n",
    "    max_depth=10,\n",
    "    min_samples_split=10,\n",
    "    min_samples_leaf=5,\n",
    "    max_features=\"sqrt\",\n",
    "    bootstrap=True,\n",
    "    random_state=42)\n",
    "\n",
    "# Train the model\n",
    "rf_tfidf.fit(X_train_tfidf, y_train_encoded)\n",
    "\n",
    "# Make predictions\n",
    "y_pred_rf_tfidf = rf_tfidf.predict(X_test_tfidf)\n",
    "\n",
    "# Convert predictions back to original labels (optional)\n",
    "y_pred_rf_tfidf_labels = label_encoder.inverse_transform(y_pred_rf_tfidf)\n",
    "\n",
    "# Evaluate the model\n",
    "print(\"Random Forest (TF-IDF) Classification Report:\")\n",
    "print(classification_report(y_test, y_pred_rf_tfidf_labels))"
   ]
  },
  {
   "cell_type": "markdown",
   "id": "6bdb5716-e549-40ea-9c8f-8b56bad4c87b",
   "metadata": {
    "id": "6bdb5716-e549-40ea-9c8f-8b56bad4c87b"
   },
   "source": [
    "### Hyperparameter Tuning"
   ]
  },
  {
   "cell_type": "code",
   "execution_count": 31,
   "id": "5061a69c-3d11-4f27-ada0-156410947cdd",
   "metadata": {
    "colab": {
     "base_uri": "https://localhost:8080/"
    },
    "id": "5061a69c-3d11-4f27-ada0-156410947cdd",
    "outputId": "253418b2-a35a-45de-ca67-f7cb9b6259b1"
   },
   "outputs": [
    {
     "name": "stdout",
     "output_type": "stream",
     "text": [
      "Random Forest (TF-IDF) Classification Report:\n",
      "              precision    recall  f1-score   support\n",
      "\n",
      "    negative       0.83      0.79      0.81      4961\n",
      "    positive       0.80      0.84      0.82      5039\n",
      "\n",
      "    accuracy                           0.82     10000\n",
      "   macro avg       0.82      0.82      0.82     10000\n",
      "weighted avg       0.82      0.82      0.82     10000\n",
      "\n"
     ]
    }
   ],
   "source": [
    "# Initialize the Random Forest model\n",
    "rf_tfidf = RandomForestClassifier(\n",
    "    n_estimators=100,\n",
    "    max_depth=20,\n",
    "    min_samples_split=10,\n",
    "    min_samples_leaf=5,\n",
    "    max_features=\"sqrt\",\n",
    "    bootstrap=True,\n",
    "    random_state=42)\n",
    "\n",
    "# Train the model\n",
    "rf_tfidf.fit(X_train_tfidf, y_train_encoded)\n",
    "\n",
    "# Make predictions\n",
    "y_pred_rf_tfidf = rf_tfidf.predict(X_test_tfidf)\n",
    "\n",
    "# Convert predictions back to original labels (optional)\n",
    "y_pred_rf_tfidf_labels = label_encoder.inverse_transform(y_pred_rf_tfidf)\n",
    "\n",
    "# Evaluate the model\n",
    "print(\"Random Forest (TF-IDF) Classification Report:\")\n",
    "print(classification_report(y_test, y_pred_rf_tfidf_labels))"
   ]
  },
  {
   "cell_type": "markdown",
   "id": "Us09ocL4WeLc",
   "metadata": {
    "id": "Us09ocL4WeLc"
   },
   "source": [
    "## Evaluation(Naive Bayesian)"
   ]
  },
  {
   "cell_type": "code",
   "execution_count": 34,
   "id": "BJSGdP5CHwyW",
   "metadata": {
    "id": "BJSGdP5CHwyW"
   },
   "outputs": [
    {
     "name": "stdout",
     "output_type": "stream",
     "text": [
      "Selected 100 random rows from the dataset:\n",
      "                                                                                                                                                                                                                                                                                                                                                                                                                                                                                                                                                                                                                                                                                                                                                                                                                                                                                                                                                                                                                                                                                                                                                                                                                                                                                                                                                                                                                                                                                                                                                                                                                                                                                                                                                                                                                                                                                                                                                                                                                                                                                                                                       review  \\\n",
      "33553                                                                                                                                                                                                                                                                                                                                                                                                                                                                                                                                                                                                                                                                                                                                                                                                                                                                                                                                                                                     I really liked this Summerslam due to the look of the arena, the curtains and just the look overall was interesting to me for some reason. Anyways, this could have been one of the best Summerslam's ever if the WWF didn't have Lex Luger in the main event against Yokozuna, now for it's time it was ok to have a huge fat man vs a strong man but I'm glad times have changed. It was a terrible main event just like every match Luger is in is terrible. Other matches on the card were Razor Ramon vs Ted Dibiase, Steiner Brothers vs Heavenly Bodies, Shawn Michaels vs Curt Hening, this was the event where Shawn named his big monster of a body guard Diesel, IRS vs 1-2-3 Kid, Bret Hart first takes on Doink then takes on Jerry Lawler and stuff with the Harts and Lawler was always very interesting, then Ludvig Borga destroyed Marty Jannetty, Undertaker took on Giant Gonzalez in another terrible match, The Smoking Gunns and Tatanka took on Bam Bam Bigelow and the Headshrinkers, and Yokozuna defended the world title against Lex Luger this match was boring and it has a terrible ending. However it deserves 8/10   \n",
      "9427   Not many television shows appeal to quite as many different kinds of fans like Farscape does...I know youngsters and 30/40+ years old;fans both Male and Female in as many different countries as you can think of that just adore this T.V miniseries. It has elements that can be found in almost every other show on T.V, character driven drama that could be from an Australian soap opera; yet in the same episode it has science fact & fiction that would give even the hardiest \"Trekkie\" a run for his money in the brainbender stakes! Wormhole theory, Time Travel in true equational form...Magnificent. It embraces cultures from all over the map as the possibilities are endless having multiple stars and therefore thousands of planets to choose from.<br /><br />With such a broad scope; it would be expected that nothing would be able to keep up the illusion for long, but here is where \"Farscape\" really comes into it's own element...It succeeds where all others have failed, especially the likes of Star Trek (a universe with practically zero Kaos element!) They ran out of ideas pretty quickly + kept rehashing them! Over the course of 4 seasons they manage to keep the audience's attention using good continuity and constant character evolution with multiple threads to every episode with unique personal touches to camera that are specific to certain character groups within the whole. This structure allows for an extremely large area of subject matter as loyalties are forged and broken in many ways on many many issues. I happened to see the pilot (Premiere) in passing and just had to keep tuning in after that to see if Crichton would ever \"Get the girl\", after seeing them all on television I was delighted to see them available on DVD & I have to admit that it was the only thing that kept me sane whilst I had to do a 12 hour night shift and developed chronic insomnia...Farscape was the only thing to get me through those extremely long nights...<br /><br />Do yourself a favour; Watch the pilot and see what I mean...<br /><br />Farscape Comet   \n",
      "199                                                                                                                                                                                                                                                                                                                                                                                                                                                                                                                                                                                                                                                                                                                                                                                                                                                                                                                                                                                                                                                                                                                                                                                                                                                                                                                                                                                                                                                             The film quickly gets to a major chase scene with ever increasing destruction. The first really bad thing is the guy hijacking Steven Seagal would have been beaten to pulp by Seagal's driving, but that probably would have ended the whole premise for the movie.<br /><br />It seems like they decided to make all kinds of changes in the movie plot, so just plan to enjoy the action, and do not expect a coherent plot. Turn any sense of logic you may have, it will reduce your chance of getting a headache.<br /><br />I does give me some hope that Steven Seagal is trying to move back towards the type of characters he portrayed in his more popular movies.   \n",
      "12447                                                                                                                                                                                                                                                                                                                                                                                                                                                                                                                                                                                                                                                                                                                                                                                                                                                                                                                                                                                                                                                                                                                                                                                                                                                                                                                                                                                                                                                                                Jane Austen would definitely approve of this one!<br /><br />Gwyneth Paltrow does an awesome job capturing the attitude of Emma. She is funny without being excessively silly, yet elegant. She puts on a very convincing British accent (not being British myself, maybe I'm not the best judge, but she fooled me...she was also excellent in \"Sliding Doors\"...I sometimes forget she's American ~!). <br /><br />Also brilliant are Jeremy Northam and Sophie Thompson and Phyllida Law (Emma Thompson's sister and mother) as the Bates women. They nearly steal the show...and Ms. Law doesn't even have any lines!<br /><br />Highly recommended.   \n",
      "39489                                                                                                                                                            Expectations were somewhat high for me when I went to see this movie, after all I thought Steve Carell could do no wrong coming off of great movies like Anchorman, The 40 Year-Old Virgin, and Little Miss Sunshine. Boy, was I wrong.<br /><br />I'll start with what is right with this movie: at certain points Steve Carell is allowed to be Steve Carell. There are a handful of moments in the film that made me laugh, and it's due almost entirely to him being given the wiggle-room to do his thing. He's an undoubtedly talented individual, and it's a shame that he signed on to what turned out to be, in my opinion, a total train-wreck.<br /><br />With that out of the way, I'll discuss what went horrifyingly wrong.<br /><br />The film begins with Dan Burns, a widower with three girls who is being considered for a nationally syndicated advice column. He prepares his girls for a family reunion, where his extended relatives gather for some time with each other.<br /><br />The family is high atop the list of things that make this an awful movie. No family behaves like this. It's almost as if they've been transported from Pleasantville or Leave it to Beaver. They are a caricature of what we think a family is when we're 7. It reaches the point where they become obnoxious and simply frustrating. Touch football, crossword puzzle competitions, family bowling, and talent shows ARE NOT HOW ACTUAL PEOPLE BEHAVE. It's almost sickening.<br /><br />Another big flaw is the woman Carell is supposed to be falling for. Observing her in her first scene with Steve Carell is like watching a stroke victim trying to be rehabilitated. What I imagine is supposed to be unique and original in this woman comes off as mildly retarded.<br /><br />It makes me think that this movie is taking place on another planet. I left the theater wondering what I just saw. After thinking further, I don't think it was much.   \n",
      "\n",
      "      sentiment  Text_Length  \\\n",
      "33553  positive         1107   \n",
      "9427   positive         2054   \n",
      "199    negative          653   \n",
      "12447  positive          632   \n",
      "39489  negative         1900   \n",
      "\n",
      "                                                                                                                                                                                                                                                                                                                                                                                                                                                                                                                                                                                                                                                                                                                                                                                                                                                                                                                                                                                                                                                                                                                                                                                                                                                                                                                                                         cleaned_text  \\\n",
      "33553                                                                                                                                                                                                                                                                                                                                                                                                                                                                                                                                                                                               really liked summerslam due look arena curtain look overall interesting reason anyways could one best summerslams ever wwf didnt lex luger main event yokozuna time ok huge fat man v strong man im glad time changed terrible main event like every match luger terrible match card razor ramon v ted dibiase steiner brother v heavenly body shawn michael v curt hening event shawn named big monster body guard diesel irs v kid bret hart first take doink take jerry lawler stuff hart lawler always interesting ludvig borga destroyed marty jannetty undertaker took giant gonzalez another terrible match smoking gunns tatanka took bam bam bigelow headshrinkers yokozuna defended world title lex luger match boring terrible ending however deserves   \n",
      "9427   many television show appeal quite many different kind fan like farscape doesi know youngster year oldfans male female many different country think adore tv miniseries element found almost every show tv character driven drama could australian soap opera yet episode science fact fiction would give even hardiest trekkie run money brainbender stake wormhole theory time travel true equational formmagnificent embrace culture map possibility endless multiple star therefore thousand planet choose fromwith broad scope would expected nothing would able keep illusion long farscape really come elementit succeeds others failed especially like star trek universe practically zero kaos element ran idea pretty quickly kept rehashing course season manage keep audience attention using good continuity constant character evolution multiple thread every episode unique personal touch camera specific certain character group within whole structure allows extremely large area subject matter loyalty forged broken many way many many issue happened see pilot premiere passing keep tuning see crichton would ever get girl seeing television delighted see available dvd admit thing kept sane whilst hour night shift developed chronic insomniafarscape thing get extremely long nightsdo favour watch pilot see meanfarscape comet   \n",
      "199                                                                                                                                                                                                                                                                                                                                                                                                                                                                                                                                                                                                                                                                                                                                                                                                                                                                                                                                 film quickly get major chase scene ever increasing destruction first really bad thing guy hijacking steven seagal would beaten pulp seagals driving probably would ended whole premise movieit seems like decided make kind change movie plot plan enjoy action expect coherent plot turn sense logic may reduce chance getting headachei give hope steven seagal trying move back towards type character portrayed popular movie   \n",
      "12447                                                                                                                                                                                                                                                                                                                                                                                                                                                                                                                                                                                                                                                                                                                                                                                                                                                                                                                   jane austen would definitely approve onegwyneth paltrow awesome job capturing attitude emma funny without excessively silly yet elegant put convincing british accent british maybe im best judge fooled meshe also excellent sliding doorsi sometimes forget shes american also brilliant jeremy northam sophie thompson phyllida law emma thompson sister mother bates woman nearly steal showand m law doesnt even lineshighly recommended   \n",
      "39489                                                                                                                                                    expectation somewhat high went see movie thought steve carell could wrong coming great movie like anchorman yearold virgin little miss sunshine boy wrongill start right movie certain point steve carell allowed steve carell handful moment film made laugh due almost entirely given wiggleroom thing he undoubtedly talented individual shame signed turned opinion total trainwreckwith way ill discus went horrifyingly wrongthe film begin dan burn widower three girl considered nationally syndicated advice column prepares girl family reunion extended relative gather time otherthe family high atop list thing make awful movie family behaves like almost theyve transported pleasantville leave beaver caricature think family reach point become obnoxious simply frustrating touch football crossword puzzle competition family bowling talent show actual people behave almost sickeninganother big flaw woman carell supposed falling observing first scene steve carell like watching stroke victim trying rehabilitated imagine supposed unique original woman come mildly retardedit make think movie taking place another planet left theater wondering saw thinking dont think much   \n",
      "\n",
      "                                                                                                                                                                                                                                                                                                                                                                                                                                                                                                                                                                                                                                                                                                                                                                                                                                                  tokens  \\\n",
      "33553                                                                                                 [really, liked, summerslam, due, look, arena, curtain, look, overall, interesting, reason, anyways, could, one, best, summerslams, ever, wwf, didnt, lex, luger, main, event, yokozuna, time, ok, huge, fat, man, v, strong, man, im, glad, time, changed, terrible, main, event, like, every, match, luger, terrible, match, card, razor, ramon, v, ted, dibiase, steiner, brother, v, heavenly, body, shawn, michael, v, curt, hening, event, shawn, named, big, monster, body, guard, diesel, irs, v, kid, bret, hart, first, take, doink, take, jerry, lawler, stuff, hart, lawler, always, interesting, ludvig, borga, destroyed, marty, jannetty, undertaker, took, giant, gonzalez, another, terrible, match, smoking, gunns, tatanka, ...]   \n",
      "9427            [many, television, show, appeal, quite, many, different, kind, fan, like, farscape, doesi, know, youngster, year, oldfans, male, female, many, different, country, think, adore, tv, miniseries, element, found, almost, every, show, tv, character, driven, drama, could, australian, soap, opera, yet, episode, science, fact, fiction, would, give, even, hardiest, trekkie, run, money, brainbender, stake, wormhole, theory, time, travel, true, equational, formmagnificent, embrace, culture, map, possibility, endless, multiple, star, therefore, thousand, planet, choose, fromwith, broad, scope, would, expected, nothing, would, able, keep, illusion, long, farscape, really, come, elementit, succeeds, others, failed, especially, like, star, trek, universe, practically, zero, kaos, element, ran, idea, pretty, ...]   \n",
      "199                                                                                                                                                                                                                                                                                                                                                    [film, quickly, get, major, chase, scene, ever, increasing, destruction, first, really, bad, thing, guy, hijacking, steven, seagal, would, beaten, pulp, seagals, driving, probably, would, ended, whole, premise, movieit, seems, like, decided, make, kind, change, movie, plot, plan, enjoy, action, expect, coherent, plot, turn, sense, logic, may, reduce, chance, getting, headachei, give, hope, steven, seagal, trying, move, back, towards, type, character, portrayed, popular, movie]   \n",
      "12447                                                                                                                                                                                                                                                                                                                                         [jane, austen, would, definitely, approve, onegwyneth, paltrow, awesome, job, capturing, attitude, emma, funny, without, excessively, silly, yet, elegant, put, convincing, british, accent, british, maybe, im, best, judge, fooled, meshe, also, excellent, sliding, doorsi, sometimes, forget, shes, american, also, brilliant, jeremy, northam, sophie, thompson, phyllida, law, emma, thompson, sister, mother, bates, woman, nearly, steal, showand, m, law, doesnt, even, lineshighly, recommended]   \n",
      "39489  [expectation, somewhat, high, went, see, movie, thought, steve, carell, could, wrong, coming, great, movie, like, anchorman, yearold, virgin, little, miss, sunshine, boy, wrongill, start, right, movie, certain, point, steve, carell, allowed, steve, carell, handful, moment, film, made, laugh, due, almost, entirely, given, wiggleroom, thing, he, undoubtedly, talented, individual, shame, signed, turned, opinion, total, trainwreckwith, way, ill, discus, went, horrifyingly, wrongthe, film, begin, dan, burn, widower, three, girl, considered, nationally, syndicated, advice, column, prepares, girl, family, reunion, extended, relative, gather, time, otherthe, family, high, atop, list, thing, make, awful, movie, family, behaves, like, almost, theyve, transported, pleasantville, leave, beaver, caricature, think, ...]   \n",
      "\n",
      "                                                                                                                                                                                                                                                                                                                                                                                                                                                                                                                                                                                                                                                                                                                                                                                                                                                                                                                                                                                                                                                                                                                                                                                                                                                                                                                                                                                                                                                                                                                                                                                    Bigrams  \\\n",
      "33553                                                                                                                                                                                             [really_liked, liked_summerslam, summerslam_due, due_look, look_arena, arena_curtain, curtain_look, look_overall, overall_interesting, interesting_reason, reason_anyways, anyways_could, could_one, one_best, best_summerslams, summerslams_ever, ever_wwf, wwf_didnt, didnt_lex, lex_luger, luger_main, main_event, event_yokozuna, yokozuna_time, time_ok, ok_huge, huge_fat, fat_man, man_v, v_strong, strong_man, man_im, im_glad, glad_time, time_changed, changed_terrible, terrible_main, main_event, event_like, like_every, every_match, match_luger, luger_terrible, terrible_match, match_card, card_razor, razor_ramon, ramon_v, v_ted, ted_dibiase, dibiase_steiner, steiner_brother, brother_v, v_heavenly, heavenly_body, body_shawn, shawn_michael, michael_v, v_curt, curt_hening, hening_event, event_shawn, shawn_named, named_big, big_monster, monster_body, body_guard, guard_diesel, diesel_irs, irs_v, v_kid, kid_bret, bret_hart, hart_first, first_take, take_doink, doink_take, take_jerry, jerry_lawler, lawler_stuff, stuff_hart, hart_lawler, lawler_always, always_interesting, interesting_ludvig, ludvig_borga, borga_destroyed, destroyed_marty, marty_jannetty, jannetty_undertaker, undertaker_took, took_giant, giant_gonzalez, gonzalez_another, another_terrible, terrible_match, match_smoking, smoking_gunns, gunns_tatanka, tatanka_took, ...]   \n",
      "9427             [many_television, television_show, show_appeal, appeal_quite, quite_many, many_different, different_kind, kind_fan, fan_like, like_farscape, farscape_doesi, doesi_know, know_youngster, youngster_year, year_oldfans, oldfans_male, male_female, female_many, many_different, different_country, country_think, think_adore, adore_tv, tv_miniseries, miniseries_element, element_found, found_almost, almost_every, every_show, show_tv, tv_character, character_driven, driven_drama, drama_could, could_australian, australian_soap, soap_opera, opera_yet, yet_episode, episode_science, science_fact, fact_fiction, fiction_would, would_give, give_even, even_hardiest, hardiest_trekkie, trekkie_run, run_money, money_brainbender, brainbender_stake, stake_wormhole, wormhole_theory, theory_time, time_travel, travel_true, true_equational, equational_formmagnificent, formmagnificent_embrace, embrace_culture, culture_map, map_possibility, possibility_endless, endless_multiple, multiple_star, star_therefore, therefore_thousand, thousand_planet, planet_choose, choose_fromwith, fromwith_broad, broad_scope, scope_would, would_expected, expected_nothing, nothing_would, would_able, able_keep, keep_illusion, illusion_long, long_farscape, farscape_really, really_come, come_elementit, elementit_succeeds, succeeds_others, others_failed, failed_especially, especially_like, like_star, star_trek, trek_universe, universe_practically, practically_zero, zero_kaos, kaos_element, element_ran, ran_idea, idea_pretty, pretty_quickly, ...]   \n",
      "199                                                                                                                                                                                                                                                                                                                                                                                                                                                                                                                                                                                                                                                                 [film_quickly, quickly_get, get_major, major_chase, chase_scene, scene_ever, ever_increasing, increasing_destruction, destruction_first, first_really, really_bad, bad_thing, thing_guy, guy_hijacking, hijacking_steven, steven_seagal, seagal_would, would_beaten, beaten_pulp, pulp_seagals, seagals_driving, driving_probably, probably_would, would_ended, ended_whole, whole_premise, premise_movieit, movieit_seems, seems_like, like_decided, decided_make, make_kind, kind_change, change_movie, movie_plot, plot_plan, plan_enjoy, enjoy_action, action_expect, expect_coherent, coherent_plot, plot_turn, turn_sense, sense_logic, logic_may, may_reduce, reduce_chance, chance_getting, getting_headachei, headachei_give, give_hope, hope_steven, steven_seagal, seagal_trying, trying_move, move_back, back_towards, towards_type, type_character, character_portrayed, portrayed_popular, popular_movie]   \n",
      "12447                                                                                                                                                                                                                                                                                                                                                                                                                                                                                                                                                                                                                                                [jane_austen, austen_would, would_definitely, definitely_approve, approve_onegwyneth, onegwyneth_paltrow, paltrow_awesome, awesome_job, job_capturing, capturing_attitude, attitude_emma, emma_funny, funny_without, without_excessively, excessively_silly, silly_yet, yet_elegant, elegant_put, put_convincing, convincing_british, british_accent, accent_british, british_maybe, maybe_im, im_best, best_judge, judge_fooled, fooled_meshe, meshe_also, also_excellent, excellent_sliding, sliding_doorsi, doorsi_sometimes, sometimes_forget, forget_shes, shes_american, american_also, also_brilliant, brilliant_jeremy, jeremy_northam, northam_sophie, sophie_thompson, thompson_phyllida, phyllida_law, law_emma, emma_thompson, thompson_sister, sister_mother, mother_bates, bates_woman, woman_nearly, nearly_steal, steal_showand, showand_m, m_law, law_doesnt, doesnt_even, even_lineshighly, lineshighly_recommended]   \n",
      "39489  [expectation_somewhat, somewhat_high, high_went, went_see, see_movie, movie_thought, thought_steve, steve_carell, carell_could, could_wrong, wrong_coming, coming_great, great_movie, movie_like, like_anchorman, anchorman_yearold, yearold_virgin, virgin_little, little_miss, miss_sunshine, sunshine_boy, boy_wrongill, wrongill_start, start_right, right_movie, movie_certain, certain_point, point_steve, steve_carell, carell_allowed, allowed_steve, steve_carell, carell_handful, handful_moment, moment_film, film_made, made_laugh, laugh_due, due_almost, almost_entirely, entirely_given, given_wiggleroom, wiggleroom_thing, thing_he, he_undoubtedly, undoubtedly_talented, talented_individual, individual_shame, shame_signed, signed_turned, turned_opinion, opinion_total, total_trainwreckwith, trainwreckwith_way, way_ill, ill_discus, discus_went, went_horrifyingly, horrifyingly_wrongthe, wrongthe_film, film_begin, begin_dan, dan_burn, burn_widower, widower_three, three_girl, girl_considered, considered_nationally, nationally_syndicated, syndicated_advice, advice_column, column_prepares, prepares_girl, girl_family, family_reunion, reunion_extended, extended_relative, relative_gather, gather_time, time_otherthe, otherthe_family, family_high, high_atop, atop_list, list_thing, thing_make, make_awful, awful_movie, movie_family, family_behaves, behaves_like, like_almost, almost_theyve, theyve_transported, transported_pleasantville, pleasantville_leave, leave_beaver, beaver_caricature, caricature_think, think_family, ...]   \n",
      "\n",
      "                                                                                                                                                                                                                                                                                                                                                                                                                                                                                                                                                                                                                                                                                                                                                                                                                                                                                                                                                                                                                                                                                                                                                                                                                                                                                                                                                                                                                                                                                                                                                                                                                                                                                                                                                                                                                                                                                                                                                                                                                                                                                                                                                                                                                                                                                                                   Trigrams  \n",
      "33553                                                                                                                                                                                                                                                                                        [really_liked_summerslam, liked_summerslam_due, summerslam_due_look, due_look_arena, look_arena_curtain, arena_curtain_look, curtain_look_overall, look_overall_interesting, overall_interesting_reason, interesting_reason_anyways, reason_anyways_could, anyways_could_one, could_one_best, one_best_summerslams, best_summerslams_ever, summerslams_ever_wwf, ever_wwf_didnt, wwf_didnt_lex, didnt_lex_luger, lex_luger_main, luger_main_event, main_event_yokozuna, event_yokozuna_time, yokozuna_time_ok, time_ok_huge, ok_huge_fat, huge_fat_man, fat_man_v, man_v_strong, v_strong_man, strong_man_im, man_im_glad, im_glad_time, glad_time_changed, time_changed_terrible, changed_terrible_main, terrible_main_event, main_event_like, event_like_every, like_every_match, every_match_luger, match_luger_terrible, luger_terrible_match, terrible_match_card, match_card_razor, card_razor_ramon, razor_ramon_v, ramon_v_ted, v_ted_dibiase, ted_dibiase_steiner, dibiase_steiner_brother, steiner_brother_v, brother_v_heavenly, v_heavenly_body, heavenly_body_shawn, body_shawn_michael, shawn_michael_v, michael_v_curt, v_curt_hening, curt_hening_event, hening_event_shawn, event_shawn_named, shawn_named_big, named_big_monster, big_monster_body, monster_body_guard, body_guard_diesel, guard_diesel_irs, diesel_irs_v, irs_v_kid, v_kid_bret, kid_bret_hart, bret_hart_first, hart_first_take, first_take_doink, take_doink_take, doink_take_jerry, take_jerry_lawler, jerry_lawler_stuff, lawler_stuff_hart, stuff_hart_lawler, hart_lawler_always, lawler_always_interesting, always_interesting_ludvig, interesting_ludvig_borga, ludvig_borga_destroyed, borga_destroyed_marty, destroyed_marty_jannetty, marty_jannetty_undertaker, jannetty_undertaker_took, undertaker_took_giant, took_giant_gonzalez, giant_gonzalez_another, gonzalez_another_terrible, another_terrible_match, terrible_match_smoking, match_smoking_gunns, smoking_gunns_tatanka, gunns_tatanka_took, tatanka_took_bam, ...]  \n",
      "9427                 [many_television_show, television_show_appeal, show_appeal_quite, appeal_quite_many, quite_many_different, many_different_kind, different_kind_fan, kind_fan_like, fan_like_farscape, like_farscape_doesi, farscape_doesi_know, doesi_know_youngster, know_youngster_year, youngster_year_oldfans, year_oldfans_male, oldfans_male_female, male_female_many, female_many_different, many_different_country, different_country_think, country_think_adore, think_adore_tv, adore_tv_miniseries, tv_miniseries_element, miniseries_element_found, element_found_almost, found_almost_every, almost_every_show, every_show_tv, show_tv_character, tv_character_driven, character_driven_drama, driven_drama_could, drama_could_australian, could_australian_soap, australian_soap_opera, soap_opera_yet, opera_yet_episode, yet_episode_science, episode_science_fact, science_fact_fiction, fact_fiction_would, fiction_would_give, would_give_even, give_even_hardiest, even_hardiest_trekkie, hardiest_trekkie_run, trekkie_run_money, run_money_brainbender, money_brainbender_stake, brainbender_stake_wormhole, stake_wormhole_theory, wormhole_theory_time, theory_time_travel, time_travel_true, travel_true_equational, true_equational_formmagnificent, equational_formmagnificent_embrace, formmagnificent_embrace_culture, embrace_culture_map, culture_map_possibility, map_possibility_endless, possibility_endless_multiple, endless_multiple_star, multiple_star_therefore, star_therefore_thousand, therefore_thousand_planet, thousand_planet_choose, planet_choose_fromwith, choose_fromwith_broad, fromwith_broad_scope, broad_scope_would, scope_would_expected, would_expected_nothing, expected_nothing_would, nothing_would_able, would_able_keep, able_keep_illusion, keep_illusion_long, illusion_long_farscape, long_farscape_really, farscape_really_come, really_come_elementit, come_elementit_succeeds, elementit_succeeds_others, succeeds_others_failed, others_failed_especially, failed_especially_like, especially_like_star, like_star_trek, star_trek_universe, trek_universe_practically, universe_practically_zero, practically_zero_kaos, zero_kaos_element, kaos_element_ran, element_ran_idea, ran_idea_pretty, idea_pretty_quickly, pretty_quickly_kept, ...]  \n",
      "199                                                                                                                                                                                                                                                                                                                                                                                                                                                                                                                                                                                                                                                                                                                                                                                                                                                                                                                                                                                           [film_quickly_get, quickly_get_major, get_major_chase, major_chase_scene, chase_scene_ever, scene_ever_increasing, ever_increasing_destruction, increasing_destruction_first, destruction_first_really, first_really_bad, really_bad_thing, bad_thing_guy, thing_guy_hijacking, guy_hijacking_steven, hijacking_steven_seagal, steven_seagal_would, seagal_would_beaten, would_beaten_pulp, beaten_pulp_seagals, pulp_seagals_driving, seagals_driving_probably, driving_probably_would, probably_would_ended, would_ended_whole, ended_whole_premise, whole_premise_movieit, premise_movieit_seems, movieit_seems_like, seems_like_decided, like_decided_make, decided_make_kind, make_kind_change, kind_change_movie, change_movie_plot, movie_plot_plan, plot_plan_enjoy, plan_enjoy_action, enjoy_action_expect, action_expect_coherent, expect_coherent_plot, coherent_plot_turn, plot_turn_sense, turn_sense_logic, sense_logic_may, logic_may_reduce, may_reduce_chance, reduce_chance_getting, chance_getting_headachei, getting_headachei_give, headachei_give_hope, give_hope_steven, hope_steven_seagal, steven_seagal_trying, seagal_trying_move, trying_move_back, move_back_towards, back_towards_type, towards_type_character, type_character_portrayed, character_portrayed_popular, portrayed_popular_movie]  \n",
      "12447                                                                                                                                                                                                                                                                                                                                                                                                                                                                                                                                                                                                                                                                                                                                                                                                                                                                                                                                                                       [jane_austen_would, austen_would_definitely, would_definitely_approve, definitely_approve_onegwyneth, approve_onegwyneth_paltrow, onegwyneth_paltrow_awesome, paltrow_awesome_job, awesome_job_capturing, job_capturing_attitude, capturing_attitude_emma, attitude_emma_funny, emma_funny_without, funny_without_excessively, without_excessively_silly, excessively_silly_yet, silly_yet_elegant, yet_elegant_put, elegant_put_convincing, put_convincing_british, convincing_british_accent, british_accent_british, accent_british_maybe, british_maybe_im, maybe_im_best, im_best_judge, best_judge_fooled, judge_fooled_meshe, fooled_meshe_also, meshe_also_excellent, also_excellent_sliding, excellent_sliding_doorsi, sliding_doorsi_sometimes, doorsi_sometimes_forget, sometimes_forget_shes, forget_shes_american, shes_american_also, american_also_brilliant, also_brilliant_jeremy, brilliant_jeremy_northam, jeremy_northam_sophie, northam_sophie_thompson, sophie_thompson_phyllida, thompson_phyllida_law, phyllida_law_emma, law_emma_thompson, emma_thompson_sister, thompson_sister_mother, sister_mother_bates, mother_bates_woman, bates_woman_nearly, woman_nearly_steal, nearly_steal_showand, steal_showand_m, showand_m_law, m_law_doesnt, law_doesnt_even, doesnt_even_lineshighly, even_lineshighly_recommended]  \n",
      "39489  [expectation_somewhat_high, somewhat_high_went, high_went_see, went_see_movie, see_movie_thought, movie_thought_steve, thought_steve_carell, steve_carell_could, carell_could_wrong, could_wrong_coming, wrong_coming_great, coming_great_movie, great_movie_like, movie_like_anchorman, like_anchorman_yearold, anchorman_yearold_virgin, yearold_virgin_little, virgin_little_miss, little_miss_sunshine, miss_sunshine_boy, sunshine_boy_wrongill, boy_wrongill_start, wrongill_start_right, start_right_movie, right_movie_certain, movie_certain_point, certain_point_steve, point_steve_carell, steve_carell_allowed, carell_allowed_steve, allowed_steve_carell, steve_carell_handful, carell_handful_moment, handful_moment_film, moment_film_made, film_made_laugh, made_laugh_due, laugh_due_almost, due_almost_entirely, almost_entirely_given, entirely_given_wiggleroom, given_wiggleroom_thing, wiggleroom_thing_he, thing_he_undoubtedly, he_undoubtedly_talented, undoubtedly_talented_individual, talented_individual_shame, individual_shame_signed, shame_signed_turned, signed_turned_opinion, turned_opinion_total, opinion_total_trainwreckwith, total_trainwreckwith_way, trainwreckwith_way_ill, way_ill_discus, ill_discus_went, discus_went_horrifyingly, went_horrifyingly_wrongthe, horrifyingly_wrongthe_film, wrongthe_film_begin, film_begin_dan, begin_dan_burn, dan_burn_widower, burn_widower_three, widower_three_girl, three_girl_considered, girl_considered_nationally, considered_nationally_syndicated, nationally_syndicated_advice, syndicated_advice_column, advice_column_prepares, column_prepares_girl, prepares_girl_family, girl_family_reunion, family_reunion_extended, reunion_extended_relative, extended_relative_gather, relative_gather_time, gather_time_otherthe, time_otherthe_family, otherthe_family_high, family_high_atop, high_atop_list, atop_list_thing, list_thing_make, thing_make_awful, make_awful_movie, awful_movie_family, movie_family_behaves, family_behaves_like, behaves_like_almost, like_almost_theyve, almost_theyve_transported, theyve_transported_pleasantville, transported_pleasantville_leave, pleasantville_leave_beaver, leave_beaver_caricature, beaver_caricature_think, caricature_think_family, think_family_reach, ...]  \n"
     ]
    }
   ],
   "source": [
    "sample_df = df.sample(n=100, random_state=42)\n",
    "print(\"Selected 100 random rows from the dataset:\")\n",
    "print(sample_df.head())"
   ]
  },
  {
   "cell_type": "code",
   "execution_count": 35,
   "id": "c4xCbZ0aUpAR",
   "metadata": {
    "id": "c4xCbZ0aUpAR"
   },
   "outputs": [],
   "source": [
    "# Transform the text data in sample_df using the same TF-IDF vectorizer\n",
    "X_sample_tfidf = tfidf_vectorizer.transform(sample_df[\"cleaned_text\"])"
   ]
  },
  {
   "cell_type": "code",
   "execution_count": 36,
   "id": "6ALUVdpGViMc",
   "metadata": {
    "id": "6ALUVdpGViMc"
   },
   "outputs": [],
   "source": [
    "# Predict the labels\n",
    "predictions = nb_tfidf.predict(X_sample_tfidf)\n",
    "probabilities = nb_tfidf.predict_proba(X_sample_tfidf)"
   ]
  },
  {
   "cell_type": "code",
   "execution_count": 37,
   "id": "CsPmwysZVmTG",
   "metadata": {
    "colab": {
     "base_uri": "https://localhost:8080/",
     "height": 1000
    },
    "id": "CsPmwysZVmTG",
    "outputId": "5f04a59a-8fe3-4279-9c3c-421702b112cf"
   },
   "outputs": [
    {
     "data": {
      "text/html": [
       "<div>\n",
       "<style scoped>\n",
       "    .dataframe tbody tr th:only-of-type {\n",
       "        vertical-align: middle;\n",
       "    }\n",
       "\n",
       "    .dataframe tbody tr th {\n",
       "        vertical-align: top;\n",
       "    }\n",
       "\n",
       "    .dataframe thead th {\n",
       "        text-align: right;\n",
       "    }\n",
       "</style>\n",
       "<table border=\"1\" class=\"dataframe\">\n",
       "  <thead>\n",
       "    <tr style=\"text-align: right;\">\n",
       "      <th></th>\n",
       "      <th>predicted_label</th>\n",
       "      <th>sentiment</th>\n",
       "      <th>cleaned_text</th>\n",
       "    </tr>\n",
       "  </thead>\n",
       "  <tbody>\n",
       "    <tr>\n",
       "      <th>33553</th>\n",
       "      <td>positive</td>\n",
       "      <td>positive</td>\n",
       "      <td>really liked summerslam due look arena curtain look overall interesting reason anyways could one best summerslams ever wwf didnt lex luger main event yokozuna time ok huge fat man v strong man im glad time changed terrible main event like every match luger terrible match card razor ramon v ted dibiase steiner brother v heavenly body shawn michael v curt hening event shawn named big monster body guard diesel irs v kid bret hart first take doink take jerry lawler stuff hart lawler always interesting ludvig borga destroyed marty jannetty undertaker took giant gonzalez another terrible match smoking gunns tatanka took bam bam bigelow headshrinkers yokozuna defended world title lex luger match boring terrible ending however deserves</td>\n",
       "    </tr>\n",
       "    <tr>\n",
       "      <th>9427</th>\n",
       "      <td>positive</td>\n",
       "      <td>positive</td>\n",
       "      <td>many television show appeal quite many different kind fan like farscape doesi know youngster year oldfans male female many different country think adore tv miniseries element found almost every show tv character driven drama could australian soap opera yet episode science fact fiction would give even hardiest trekkie run money brainbender stake wormhole theory time travel true equational formmagnificent embrace culture map possibility endless multiple star therefore thousand planet choose fromwith broad scope would expected nothing would able keep illusion long farscape really come elementit succeeds others failed especially like star trek universe practically zero kaos element ran idea pretty quickly kept rehashing course season manage keep audience attention using good continuity constant character evolution multiple thread every episode unique personal touch camera specific certain character group within whole structure allows extremely large area subject matter loyalty forged broken many way many many issue happened see pilot premiere passing keep tuning see crichton would ever get girl seeing television delighted see available dvd admit thing kept sane whilst hour night shift developed chronic insomniafarscape thing get extremely long nightsdo favour watch pilot see meanfarscape comet</td>\n",
       "    </tr>\n",
       "    <tr>\n",
       "      <th>199</th>\n",
       "      <td>negative</td>\n",
       "      <td>negative</td>\n",
       "      <td>film quickly get major chase scene ever increasing destruction first really bad thing guy hijacking steven seagal would beaten pulp seagals driving probably would ended whole premise movieit seems like decided make kind change movie plot plan enjoy action expect coherent plot turn sense logic may reduce chance getting headachei give hope steven seagal trying move back towards type character portrayed popular movie</td>\n",
       "    </tr>\n",
       "    <tr>\n",
       "      <th>12447</th>\n",
       "      <td>positive</td>\n",
       "      <td>positive</td>\n",
       "      <td>jane austen would definitely approve onegwyneth paltrow awesome job capturing attitude emma funny without excessively silly yet elegant put convincing british accent british maybe im best judge fooled meshe also excellent sliding doorsi sometimes forget shes american also brilliant jeremy northam sophie thompson phyllida law emma thompson sister mother bates woman nearly steal showand m law doesnt even lineshighly recommended</td>\n",
       "    </tr>\n",
       "    <tr>\n",
       "      <th>39489</th>\n",
       "      <td>negative</td>\n",
       "      <td>negative</td>\n",
       "      <td>expectation somewhat high went see movie thought steve carell could wrong coming great movie like anchorman yearold virgin little miss sunshine boy wrongill start right movie certain point steve carell allowed steve carell handful moment film made laugh due almost entirely given wiggleroom thing he undoubtedly talented individual shame signed turned opinion total trainwreckwith way ill discus went horrifyingly wrongthe film begin dan burn widower three girl considered nationally syndicated advice column prepares girl family reunion extended relative gather time otherthe family high atop list thing make awful movie family behaves like almost theyve transported pleasantville leave beaver caricature think family reach point become obnoxious simply frustrating touch football crossword puzzle competition family bowling talent show actual people behave almost sickeninganother big flaw woman carell supposed falling observing first scene steve carell like watching stroke victim trying rehabilitated imagine supposed unique original woman come mildly retardedit make think movie taking place another planet left theater wondering saw thinking dont think much</td>\n",
       "    </tr>\n",
       "    <tr>\n",
       "      <th>...</th>\n",
       "      <td>...</td>\n",
       "      <td>...</td>\n",
       "      <td>...</td>\n",
       "    </tr>\n",
       "    <tr>\n",
       "      <th>3928</th>\n",
       "      <td>positive</td>\n",
       "      <td>positive</td>\n",
       "      <td>walked movie theater expectation film witness everything illuminated walked joy barely come feel american film directorial debut actor leiv schreiber film follows man journey past accompanied eccentric group including brakedancing barely englishspeaking punk eukraine grandfather belief blind crazy dog first half film funny smart extremely european flavor usage small wonderful character second half film descends somber story discovery holocaust little movie brings many emotion many color wonderful conclusion story illumination also relationship connection acting incredibly powerful story mysterious interesting artistic appeal cinematography die brilliant absolutely touching scene everything illuminated managed capture heart</td>\n",
       "    </tr>\n",
       "    <tr>\n",
       "      <th>37286</th>\n",
       "      <td>positive</td>\n",
       "      <td>positive</td>\n",
       "      <td>buster keaton arguably enjoyable short minute film dont come ribticklingly funny gem dead pan comic get involved photographic mixup wanted felon lead elaborate evasion several street cop fellow passenger recognise face wanted sign goat chocabloc brilliant site gag opening scene bread queue right wonderful elevator chase end keaton film never feel though silence lacking sound never something needed movie explain wonderful yet incredibly dangerous thing isnt hard see influential really man every bit thoroughly amazing today</td>\n",
       "    </tr>\n",
       "    <tr>\n",
       "      <th>25045</th>\n",
       "      <td>negative</td>\n",
       "      <td>positive</td>\n",
       "      <td>beautiful woman backwoods inbred monster man super sweet monster truck road kill zombie brother friendsone anal retentive overly sensitive nerd foul mouthed adolescent slob throw together dash jeepers creeper texas chainsaw massacre road trip youve got monster man hilarious horrorcomedy outing never set say something simple straight forward laugh fest unpretentious well made horrorcomedy heart buddy flick film offered hilarious sickening set piece highly recommend fright fan looking entertained</td>\n",
       "    </tr>\n",
       "    <tr>\n",
       "      <th>15727</th>\n",
       "      <td>positive</td>\n",
       "      <td>positive</td>\n",
       "      <td>ok even cant stand liza movie truly hilarious scene john gielgud make liza one true romantic comedy classic th century dudley moore make drunk irresponsible look cute amusing damn fun watch oneliners best</td>\n",
       "    </tr>\n",
       "    <tr>\n",
       "      <th>29600</th>\n",
       "      <td>positive</td>\n",
       "      <td>positive</td>\n",
       "      <td>morning one saturday year ago various reason dont remember entire story remains two standout performance central character dom unfortunate lot manipulated literally working rubbish job eugene torn personal aspiration duty towards sibling tom hulce dom doesnt plead sympathy come naturally ray liotta universe away henry hill displaying soft centre must feel thankless positionin many way deal dilemma many young carers face past future turn work two happily coexist thoughtfully handled sensitively played dominick eugene difficult warm</td>\n",
       "    </tr>\n",
       "  </tbody>\n",
       "</table>\n",
       "<p>100 rows × 3 columns</p>\n",
       "</div>"
      ],
      "text/plain": [
       "      predicted_label sentiment  \\\n",
       "33553        positive  positive   \n",
       "9427         positive  positive   \n",
       "199          negative  negative   \n",
       "12447        positive  positive   \n",
       "39489        negative  negative   \n",
       "...               ...       ...   \n",
       "3928         positive  positive   \n",
       "37286        positive  positive   \n",
       "25045        negative  positive   \n",
       "15727        positive  positive   \n",
       "29600        positive  positive   \n",
       "\n",
       "                                                                                                                                                                                                                                                                                                                                                                                                                                                                                                                                                                                                                                                                                                                                                                                                                                                                                                                                                                                                                                                                                                                                                                                                                                                                                                                                                         cleaned_text  \n",
       "33553                                                                                                                                                                                                                                                                                                                                                                                                                                                                                                                                                                                               really liked summerslam due look arena curtain look overall interesting reason anyways could one best summerslams ever wwf didnt lex luger main event yokozuna time ok huge fat man v strong man im glad time changed terrible main event like every match luger terrible match card razor ramon v ted dibiase steiner brother v heavenly body shawn michael v curt hening event shawn named big monster body guard diesel irs v kid bret hart first take doink take jerry lawler stuff hart lawler always interesting ludvig borga destroyed marty jannetty undertaker took giant gonzalez another terrible match smoking gunns tatanka took bam bam bigelow headshrinkers yokozuna defended world title lex luger match boring terrible ending however deserves  \n",
       "9427   many television show appeal quite many different kind fan like farscape doesi know youngster year oldfans male female many different country think adore tv miniseries element found almost every show tv character driven drama could australian soap opera yet episode science fact fiction would give even hardiest trekkie run money brainbender stake wormhole theory time travel true equational formmagnificent embrace culture map possibility endless multiple star therefore thousand planet choose fromwith broad scope would expected nothing would able keep illusion long farscape really come elementit succeeds others failed especially like star trek universe practically zero kaos element ran idea pretty quickly kept rehashing course season manage keep audience attention using good continuity constant character evolution multiple thread every episode unique personal touch camera specific certain character group within whole structure allows extremely large area subject matter loyalty forged broken many way many many issue happened see pilot premiere passing keep tuning see crichton would ever get girl seeing television delighted see available dvd admit thing kept sane whilst hour night shift developed chronic insomniafarscape thing get extremely long nightsdo favour watch pilot see meanfarscape comet  \n",
       "199                                                                                                                                                                                                                                                                                                                                                                                                                                                                                                                                                                                                                                                                                                                                                                                                                                                                                                                                 film quickly get major chase scene ever increasing destruction first really bad thing guy hijacking steven seagal would beaten pulp seagals driving probably would ended whole premise movieit seems like decided make kind change movie plot plan enjoy action expect coherent plot turn sense logic may reduce chance getting headachei give hope steven seagal trying move back towards type character portrayed popular movie  \n",
       "12447                                                                                                                                                                                                                                                                                                                                                                                                                                                                                                                                                                                                                                                                                                                                                                                                                                                                                                                   jane austen would definitely approve onegwyneth paltrow awesome job capturing attitude emma funny without excessively silly yet elegant put convincing british accent british maybe im best judge fooled meshe also excellent sliding doorsi sometimes forget shes american also brilliant jeremy northam sophie thompson phyllida law emma thompson sister mother bates woman nearly steal showand m law doesnt even lineshighly recommended  \n",
       "39489                                                                                                                                                    expectation somewhat high went see movie thought steve carell could wrong coming great movie like anchorman yearold virgin little miss sunshine boy wrongill start right movie certain point steve carell allowed steve carell handful moment film made laugh due almost entirely given wiggleroom thing he undoubtedly talented individual shame signed turned opinion total trainwreckwith way ill discus went horrifyingly wrongthe film begin dan burn widower three girl considered nationally syndicated advice column prepares girl family reunion extended relative gather time otherthe family high atop list thing make awful movie family behaves like almost theyve transported pleasantville leave beaver caricature think family reach point become obnoxious simply frustrating touch football crossword puzzle competition family bowling talent show actual people behave almost sickeninganother big flaw woman carell supposed falling observing first scene steve carell like watching stroke victim trying rehabilitated imagine supposed unique original woman come mildly retardedit make think movie taking place another planet left theater wondering saw thinking dont think much  \n",
       "...                                                                                                                                                                                                                                                                                                                                                                                                                                                                                                                                                                                                                                                                                                                                                                                                                                                                                                                                                                                                                                                                                                                                                                                                                                                                                                                                                               ...  \n",
       "3928                                                                                                                                                                                                                                                                                                                                                                                                                                                                                                                                                                                                     walked movie theater expectation film witness everything illuminated walked joy barely come feel american film directorial debut actor leiv schreiber film follows man journey past accompanied eccentric group including brakedancing barely englishspeaking punk eukraine grandfather belief blind crazy dog first half film funny smart extremely european flavor usage small wonderful character second half film descends somber story discovery holocaust little movie brings many emotion many color wonderful conclusion story illumination also relationship connection acting incredibly powerful story mysterious interesting artistic appeal cinematography die brilliant absolutely touching scene everything illuminated managed capture heart  \n",
       "37286                                                                                                                                                                                                                                                                                                                                                                                                                                                                                                                                                                                                                                                                                                                                                                                                                 buster keaton arguably enjoyable short minute film dont come ribticklingly funny gem dead pan comic get involved photographic mixup wanted felon lead elaborate evasion several street cop fellow passenger recognise face wanted sign goat chocabloc brilliant site gag opening scene bread queue right wonderful elevator chase end keaton film never feel though silence lacking sound never something needed movie explain wonderful yet incredibly dangerous thing isnt hard see influential really man every bit thoroughly amazing today  \n",
       "25045                                                                                                                                                                                                                                                                                                                                                                                                                                                                                                                                                                                                                                                                                                                                                                                                                                             beautiful woman backwoods inbred monster man super sweet monster truck road kill zombie brother friendsone anal retentive overly sensitive nerd foul mouthed adolescent slob throw together dash jeepers creeper texas chainsaw massacre road trip youve got monster man hilarious horrorcomedy outing never set say something simple straight forward laugh fest unpretentious well made horrorcomedy heart buddy flick film offered hilarious sickening set piece highly recommend fright fan looking entertained  \n",
       "15727                                                                                                                                                                                                                                                                                                                                                                                                                                                                                                                                                                                                                                                                                                                                                                                                                                                                                                                                                                                                                                                                                                                                                    ok even cant stand liza movie truly hilarious scene john gielgud make liza one true romantic comedy classic th century dudley moore make drunk irresponsible look cute amusing damn fun watch oneliners best  \n",
       "29600                                                                                                                                                                                                                                                                                                                                                                                                                                                                                                                                                                                                                                                                                                                                                                                                        morning one saturday year ago various reason dont remember entire story remains two standout performance central character dom unfortunate lot manipulated literally working rubbish job eugene torn personal aspiration duty towards sibling tom hulce dom doesnt plead sympathy come naturally ray liotta universe away henry hill displaying soft centre must feel thankless positionin many way deal dilemma many young carers face past future turn work two happily coexist thoughtfully handled sensitively played dominick eugene difficult warm  \n",
       "\n",
       "[100 rows x 3 columns]"
      ]
     },
     "execution_count": 37,
     "metadata": {},
     "output_type": "execute_result"
    }
   ],
   "source": [
    "sample_df[\"predicted_label\"] = predictions\n",
    "sample_df[[\"predicted_label\", \"sentiment\",\"cleaned_text\"]]"
   ]
  },
  {
   "cell_type": "markdown",
   "id": "N9hhU590abjF",
   "metadata": {
    "id": "N9hhU590abjF"
   },
   "source": [
    "## Evaluation(logistic Regression)"
   ]
  },
  {
   "cell_type": "code",
   "execution_count": 38,
   "id": "5F_rnn_baDzD",
   "metadata": {
    "id": "5F_rnn_baDzD"
   },
   "outputs": [],
   "source": [
    "# Predict the labels\n",
    "predictions = log_reg_tfidf.predict(X_sample_tfidf)\n",
    "probabilities = log_reg_tfidf.predict_proba(X_sample_tfidf)"
   ]
  },
  {
   "cell_type": "code",
   "execution_count": 39,
   "id": "mEjaaduEaVRi",
   "metadata": {
    "colab": {
     "base_uri": "https://localhost:8080/",
     "height": 2456
    },
    "id": "mEjaaduEaVRi",
    "outputId": "b3e453a3-b129-4eb5-a7bf-35da1ef773cc"
   },
   "outputs": [
    {
     "data": {
      "text/html": [
       "<div>\n",
       "<style scoped>\n",
       "    .dataframe tbody tr th:only-of-type {\n",
       "        vertical-align: middle;\n",
       "    }\n",
       "\n",
       "    .dataframe tbody tr th {\n",
       "        vertical-align: top;\n",
       "    }\n",
       "\n",
       "    .dataframe thead th {\n",
       "        text-align: right;\n",
       "    }\n",
       "</style>\n",
       "<table border=\"1\" class=\"dataframe\">\n",
       "  <thead>\n",
       "    <tr style=\"text-align: right;\">\n",
       "      <th></th>\n",
       "      <th>predicted_loglabel</th>\n",
       "      <th>sentiment</th>\n",
       "      <th>cleaned_text</th>\n",
       "    </tr>\n",
       "  </thead>\n",
       "  <tbody>\n",
       "    <tr>\n",
       "      <th>33553</th>\n",
       "      <td>negative</td>\n",
       "      <td>positive</td>\n",
       "      <td>really liked summerslam due look arena curtain look overall interesting reason anyways could one best summerslams ever wwf didnt lex luger main event yokozuna time ok huge fat man v strong man im glad time changed terrible main event like every match luger terrible match card razor ramon v ted dibiase steiner brother v heavenly body shawn michael v curt hening event shawn named big monster body guard diesel irs v kid bret hart first take doink take jerry lawler stuff hart lawler always interesting ludvig borga destroyed marty jannetty undertaker took giant gonzalez another terrible match smoking gunns tatanka took bam bam bigelow headshrinkers yokozuna defended world title lex luger match boring terrible ending however deserves</td>\n",
       "    </tr>\n",
       "    <tr>\n",
       "      <th>9427</th>\n",
       "      <td>positive</td>\n",
       "      <td>positive</td>\n",
       "      <td>many television show appeal quite many different kind fan like farscape doesi know youngster year oldfans male female many different country think adore tv miniseries element found almost every show tv character driven drama could australian soap opera yet episode science fact fiction would give even hardiest trekkie run money brainbender stake wormhole theory time travel true equational formmagnificent embrace culture map possibility endless multiple star therefore thousand planet choose fromwith broad scope would expected nothing would able keep illusion long farscape really come elementit succeeds others failed especially like star trek universe practically zero kaos element ran idea pretty quickly kept rehashing course season manage keep audience attention using good continuity constant character evolution multiple thread every episode unique personal touch camera specific certain character group within whole structure allows extremely large area subject matter loyalty forged broken many way many many issue happened see pilot premiere passing keep tuning see crichton would ever get girl seeing television delighted see available dvd admit thing kept sane whilst hour night shift developed chronic insomniafarscape thing get extremely long nightsdo favour watch pilot see meanfarscape comet</td>\n",
       "    </tr>\n",
       "    <tr>\n",
       "      <th>199</th>\n",
       "      <td>negative</td>\n",
       "      <td>negative</td>\n",
       "      <td>film quickly get major chase scene ever increasing destruction first really bad thing guy hijacking steven seagal would beaten pulp seagals driving probably would ended whole premise movieit seems like decided make kind change movie plot plan enjoy action expect coherent plot turn sense logic may reduce chance getting headachei give hope steven seagal trying move back towards type character portrayed popular movie</td>\n",
       "    </tr>\n",
       "    <tr>\n",
       "      <th>12447</th>\n",
       "      <td>positive</td>\n",
       "      <td>positive</td>\n",
       "      <td>jane austen would definitely approve onegwyneth paltrow awesome job capturing attitude emma funny without excessively silly yet elegant put convincing british accent british maybe im best judge fooled meshe also excellent sliding doorsi sometimes forget shes american also brilliant jeremy northam sophie thompson phyllida law emma thompson sister mother bates woman nearly steal showand m law doesnt even lineshighly recommended</td>\n",
       "    </tr>\n",
       "    <tr>\n",
       "      <th>39489</th>\n",
       "      <td>negative</td>\n",
       "      <td>negative</td>\n",
       "      <td>expectation somewhat high went see movie thought steve carell could wrong coming great movie like anchorman yearold virgin little miss sunshine boy wrongill start right movie certain point steve carell allowed steve carell handful moment film made laugh due almost entirely given wiggleroom thing he undoubtedly talented individual shame signed turned opinion total trainwreckwith way ill discus went horrifyingly wrongthe film begin dan burn widower three girl considered nationally syndicated advice column prepares girl family reunion extended relative gather time otherthe family high atop list thing make awful movie family behaves like almost theyve transported pleasantville leave beaver caricature think family reach point become obnoxious simply frustrating touch football crossword puzzle competition family bowling talent show actual people behave almost sickeninganother big flaw woman carell supposed falling observing first scene steve carell like watching stroke victim trying rehabilitated imagine supposed unique original woman come mildly retardedit make think movie taking place another planet left theater wondering saw thinking dont think much</td>\n",
       "    </tr>\n",
       "    <tr>\n",
       "      <th>...</th>\n",
       "      <td>...</td>\n",
       "      <td>...</td>\n",
       "      <td>...</td>\n",
       "    </tr>\n",
       "    <tr>\n",
       "      <th>3928</th>\n",
       "      <td>positive</td>\n",
       "      <td>positive</td>\n",
       "      <td>walked movie theater expectation film witness everything illuminated walked joy barely come feel american film directorial debut actor leiv schreiber film follows man journey past accompanied eccentric group including brakedancing barely englishspeaking punk eukraine grandfather belief blind crazy dog first half film funny smart extremely european flavor usage small wonderful character second half film descends somber story discovery holocaust little movie brings many emotion many color wonderful conclusion story illumination also relationship connection acting incredibly powerful story mysterious interesting artistic appeal cinematography die brilliant absolutely touching scene everything illuminated managed capture heart</td>\n",
       "    </tr>\n",
       "    <tr>\n",
       "      <th>37286</th>\n",
       "      <td>positive</td>\n",
       "      <td>positive</td>\n",
       "      <td>buster keaton arguably enjoyable short minute film dont come ribticklingly funny gem dead pan comic get involved photographic mixup wanted felon lead elaborate evasion several street cop fellow passenger recognise face wanted sign goat chocabloc brilliant site gag opening scene bread queue right wonderful elevator chase end keaton film never feel though silence lacking sound never something needed movie explain wonderful yet incredibly dangerous thing isnt hard see influential really man every bit thoroughly amazing today</td>\n",
       "    </tr>\n",
       "    <tr>\n",
       "      <th>25045</th>\n",
       "      <td>positive</td>\n",
       "      <td>positive</td>\n",
       "      <td>beautiful woman backwoods inbred monster man super sweet monster truck road kill zombie brother friendsone anal retentive overly sensitive nerd foul mouthed adolescent slob throw together dash jeepers creeper texas chainsaw massacre road trip youve got monster man hilarious horrorcomedy outing never set say something simple straight forward laugh fest unpretentious well made horrorcomedy heart buddy flick film offered hilarious sickening set piece highly recommend fright fan looking entertained</td>\n",
       "    </tr>\n",
       "    <tr>\n",
       "      <th>15727</th>\n",
       "      <td>positive</td>\n",
       "      <td>positive</td>\n",
       "      <td>ok even cant stand liza movie truly hilarious scene john gielgud make liza one true romantic comedy classic th century dudley moore make drunk irresponsible look cute amusing damn fun watch oneliners best</td>\n",
       "    </tr>\n",
       "    <tr>\n",
       "      <th>29600</th>\n",
       "      <td>positive</td>\n",
       "      <td>positive</td>\n",
       "      <td>morning one saturday year ago various reason dont remember entire story remains two standout performance central character dom unfortunate lot manipulated literally working rubbish job eugene torn personal aspiration duty towards sibling tom hulce dom doesnt plead sympathy come naturally ray liotta universe away henry hill displaying soft centre must feel thankless positionin many way deal dilemma many young carers face past future turn work two happily coexist thoughtfully handled sensitively played dominick eugene difficult warm</td>\n",
       "    </tr>\n",
       "  </tbody>\n",
       "</table>\n",
       "<p>100 rows × 3 columns</p>\n",
       "</div>"
      ],
      "text/plain": [
       "      predicted_loglabel sentiment  \\\n",
       "33553           negative  positive   \n",
       "9427            positive  positive   \n",
       "199             negative  negative   \n",
       "12447           positive  positive   \n",
       "39489           negative  negative   \n",
       "...                  ...       ...   \n",
       "3928            positive  positive   \n",
       "37286           positive  positive   \n",
       "25045           positive  positive   \n",
       "15727           positive  positive   \n",
       "29600           positive  positive   \n",
       "\n",
       "                                                                                                                                                                                                                                                                                                                                                                                                                                                                                                                                                                                                                                                                                                                                                                                                                                                                                                                                                                                                                                                                                                                                                                                                                                                                                                                                                         cleaned_text  \n",
       "33553                                                                                                                                                                                                                                                                                                                                                                                                                                                                                                                                                                                               really liked summerslam due look arena curtain look overall interesting reason anyways could one best summerslams ever wwf didnt lex luger main event yokozuna time ok huge fat man v strong man im glad time changed terrible main event like every match luger terrible match card razor ramon v ted dibiase steiner brother v heavenly body shawn michael v curt hening event shawn named big monster body guard diesel irs v kid bret hart first take doink take jerry lawler stuff hart lawler always interesting ludvig borga destroyed marty jannetty undertaker took giant gonzalez another terrible match smoking gunns tatanka took bam bam bigelow headshrinkers yokozuna defended world title lex luger match boring terrible ending however deserves  \n",
       "9427   many television show appeal quite many different kind fan like farscape doesi know youngster year oldfans male female many different country think adore tv miniseries element found almost every show tv character driven drama could australian soap opera yet episode science fact fiction would give even hardiest trekkie run money brainbender stake wormhole theory time travel true equational formmagnificent embrace culture map possibility endless multiple star therefore thousand planet choose fromwith broad scope would expected nothing would able keep illusion long farscape really come elementit succeeds others failed especially like star trek universe practically zero kaos element ran idea pretty quickly kept rehashing course season manage keep audience attention using good continuity constant character evolution multiple thread every episode unique personal touch camera specific certain character group within whole structure allows extremely large area subject matter loyalty forged broken many way many many issue happened see pilot premiere passing keep tuning see crichton would ever get girl seeing television delighted see available dvd admit thing kept sane whilst hour night shift developed chronic insomniafarscape thing get extremely long nightsdo favour watch pilot see meanfarscape comet  \n",
       "199                                                                                                                                                                                                                                                                                                                                                                                                                                                                                                                                                                                                                                                                                                                                                                                                                                                                                                                                 film quickly get major chase scene ever increasing destruction first really bad thing guy hijacking steven seagal would beaten pulp seagals driving probably would ended whole premise movieit seems like decided make kind change movie plot plan enjoy action expect coherent plot turn sense logic may reduce chance getting headachei give hope steven seagal trying move back towards type character portrayed popular movie  \n",
       "12447                                                                                                                                                                                                                                                                                                                                                                                                                                                                                                                                                                                                                                                                                                                                                                                                                                                                                                                   jane austen would definitely approve onegwyneth paltrow awesome job capturing attitude emma funny without excessively silly yet elegant put convincing british accent british maybe im best judge fooled meshe also excellent sliding doorsi sometimes forget shes american also brilliant jeremy northam sophie thompson phyllida law emma thompson sister mother bates woman nearly steal showand m law doesnt even lineshighly recommended  \n",
       "39489                                                                                                                                                    expectation somewhat high went see movie thought steve carell could wrong coming great movie like anchorman yearold virgin little miss sunshine boy wrongill start right movie certain point steve carell allowed steve carell handful moment film made laugh due almost entirely given wiggleroom thing he undoubtedly talented individual shame signed turned opinion total trainwreckwith way ill discus went horrifyingly wrongthe film begin dan burn widower three girl considered nationally syndicated advice column prepares girl family reunion extended relative gather time otherthe family high atop list thing make awful movie family behaves like almost theyve transported pleasantville leave beaver caricature think family reach point become obnoxious simply frustrating touch football crossword puzzle competition family bowling talent show actual people behave almost sickeninganother big flaw woman carell supposed falling observing first scene steve carell like watching stroke victim trying rehabilitated imagine supposed unique original woman come mildly retardedit make think movie taking place another planet left theater wondering saw thinking dont think much  \n",
       "...                                                                                                                                                                                                                                                                                                                                                                                                                                                                                                                                                                                                                                                                                                                                                                                                                                                                                                                                                                                                                                                                                                                                                                                                                                                                                                                                                               ...  \n",
       "3928                                                                                                                                                                                                                                                                                                                                                                                                                                                                                                                                                                                                     walked movie theater expectation film witness everything illuminated walked joy barely come feel american film directorial debut actor leiv schreiber film follows man journey past accompanied eccentric group including brakedancing barely englishspeaking punk eukraine grandfather belief blind crazy dog first half film funny smart extremely european flavor usage small wonderful character second half film descends somber story discovery holocaust little movie brings many emotion many color wonderful conclusion story illumination also relationship connection acting incredibly powerful story mysterious interesting artistic appeal cinematography die brilliant absolutely touching scene everything illuminated managed capture heart  \n",
       "37286                                                                                                                                                                                                                                                                                                                                                                                                                                                                                                                                                                                                                                                                                                                                                                                                                 buster keaton arguably enjoyable short minute film dont come ribticklingly funny gem dead pan comic get involved photographic mixup wanted felon lead elaborate evasion several street cop fellow passenger recognise face wanted sign goat chocabloc brilliant site gag opening scene bread queue right wonderful elevator chase end keaton film never feel though silence lacking sound never something needed movie explain wonderful yet incredibly dangerous thing isnt hard see influential really man every bit thoroughly amazing today  \n",
       "25045                                                                                                                                                                                                                                                                                                                                                                                                                                                                                                                                                                                                                                                                                                                                                                                                                                             beautiful woman backwoods inbred monster man super sweet monster truck road kill zombie brother friendsone anal retentive overly sensitive nerd foul mouthed adolescent slob throw together dash jeepers creeper texas chainsaw massacre road trip youve got monster man hilarious horrorcomedy outing never set say something simple straight forward laugh fest unpretentious well made horrorcomedy heart buddy flick film offered hilarious sickening set piece highly recommend fright fan looking entertained  \n",
       "15727                                                                                                                                                                                                                                                                                                                                                                                                                                                                                                                                                                                                                                                                                                                                                                                                                                                                                                                                                                                                                                                                                                                                                    ok even cant stand liza movie truly hilarious scene john gielgud make liza one true romantic comedy classic th century dudley moore make drunk irresponsible look cute amusing damn fun watch oneliners best  \n",
       "29600                                                                                                                                                                                                                                                                                                                                                                                                                                                                                                                                                                                                                                                                                                                                                                                                        morning one saturday year ago various reason dont remember entire story remains two standout performance central character dom unfortunate lot manipulated literally working rubbish job eugene torn personal aspiration duty towards sibling tom hulce dom doesnt plead sympathy come naturally ray liotta universe away henry hill displaying soft centre must feel thankless positionin many way deal dilemma many young carers face past future turn work two happily coexist thoughtfully handled sensitively played dominick eugene difficult warm  \n",
       "\n",
       "[100 rows x 3 columns]"
      ]
     },
     "execution_count": 39,
     "metadata": {},
     "output_type": "execute_result"
    }
   ],
   "source": [
    "sample_df[\"predicted_loglabel\"] = predictions\n",
    "sample_df[[\"predicted_loglabel\", \"sentiment\",\"cleaned_text\"]]"
   ]
  },
  {
   "cell_type": "code",
   "execution_count": 40,
   "id": "X068C8kFJR7l",
   "metadata": {
    "colab": {
     "base_uri": "https://localhost:8080/"
    },
    "id": "X068C8kFJR7l",
    "outputId": "b894bf24-e16c-4951-9ebe-62401a05e2a9"
   },
   "outputs": [
    {
     "name": "stdout",
     "output_type": "stream",
     "text": [
      "                 Criteria Naïve Bayes Logistic Regression\n",
      "0                   Speed  0.2780 sec          0.0227 sec\n",
      "1                Accuracy      89.53%              89.71%\n",
      "2        Interpretability        High              Medium\n",
      "3  Ease of Implementation        Easy            Moderate\n"
     ]
    }
   ],
   "source": [
    "# Import the time module\n",
    "import time\n",
    "\n",
    "# Time and evaluate Naive Bayes\n",
    "start_time = time.time()\n",
    "y_pred_nb = nb_tfidf.predict(X_test_tfidf)\n",
    "nb_time = time.time() - start_time\n",
    "nb_accuracy = accuracy_score(y_test, y_pred_nb)\n",
    "\n",
    "# Time and evaluate Logistic Regression\n",
    "start_time = time.time()\n",
    "y_pred_lr = log_reg_tfidf.predict(X_test_tfidf)\n",
    "lr_time = time.time() - start_time\n",
    "lr_accuracy = accuracy_score(y_test, y_pred_lr)\n",
    "\n",
    "# Define the comparison metrics\n",
    "comparison_dict = {\n",
    "    \"Criteria\": [\"Speed\", \"Accuracy\", \"Interpretability\", \"Ease of Implementation\"],\n",
    "    \"Naïve Bayes\": [f\"{nb_time:.4f} sec\", f\"{nb_accuracy:.2%}\", \"High\", \"Easy\"],\n",
    "    \"Logistic Regression\": [f\"{lr_time:.4f} sec\", f\"{lr_accuracy:.2%}\", \"Medium\", \"Moderate\"]\n",
    "}\n",
    "\n",
    "# Convert to a DataFrame\n",
    "comparison_df = pd.DataFrame(comparison_dict)\n",
    "\n",
    "# Display the table\n",
    "print(comparison_df)"
   ]
  }
 ],
 "metadata": {
  "colab": {
   "provenance": []
  },
  "kernelspec": {
   "display_name": "Python 3 (ipykernel)",
   "language": "python",
   "name": "python3"
  },
  "language_info": {
   "codemirror_mode": {
    "name": "ipython",
    "version": 3
   },
   "file_extension": ".py",
   "mimetype": "text/x-python",
   "name": "python",
   "nbconvert_exporter": "python",
   "pygments_lexer": "ipython3",
   "version": "3.11.5"
  }
 },
 "nbformat": 4,
 "nbformat_minor": 5
}
