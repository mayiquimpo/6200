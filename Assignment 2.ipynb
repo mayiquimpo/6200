{
 "cells": [
  {
   "cell_type": "markdown",
   "id": "3c7dd1c9-17d6-409a-91a9-e2be26f379ac",
   "metadata": {},
   "source": [
    "# Assignment 2"
   ]
  },
  {
   "cell_type": "markdown",
   "id": "b57c648c-d8e5-4ac8-a0b8-be7e4fac798d",
   "metadata": {},
   "source": [
    "Mathia Quimpo, Matthew Chin, Wanqiu Zhang"
   ]
  },
  {
   "cell_type": "markdown",
   "id": "4ec6d23a-c13b-4cf5-85a5-9d127a9bb086",
   "metadata": {},
   "source": [
    "## Exploration and Preprocessing"
   ]
  },
  {
   "cell_type": "code",
   "execution_count": 51,
   "id": "b00fc5b3",
   "metadata": {},
   "outputs": [],
   "source": [
    "import pandas as pd\n",
    "import numpy as np\n",
    "import re\n",
    "import os\n",
    "import requests\n",
    "import string\n",
    "import nltk\n",
    "from bs4 import BeautifulSoup\n",
    "from nltk.corpus import stopwords\n",
    "from nltk.util import ngrams\n",
    "from nltk.tokenize import word_tokenize\n",
    "from sklearn.model_selection import train_test_split\n",
    "from sklearn.feature_extraction.text import TfidfVectorizer\n",
    "from sklearn.linear_model import LogisticRegression\n",
    "from sklearn.metrics import classification_report\n",
    "from sklearn.naive_bayes import MultinomialNB\n",
    "from xgboost import XGBClassifier\n",
    "import lightgbm as lgb\n",
    "from sklearn.preprocessing import LabelEncoder\n",
    "from sklearn.tree import DecisionTreeClassifier\n",
    "from nltk.stem import WordNetLemmatizer\n",
    "from sklearn.metrics import accuracy_score\n",
    "from vaderSentiment.vaderSentiment import SentimentIntensityAnalyzer\n",
    "from textblob import TextBlob\n",
    "import matplotlib.pyplot as plt"
   ]
  },
  {
   "cell_type": "code",
   "execution_count": 5,
   "id": "0e314200",
   "metadata": {},
   "outputs": [
    {
     "name": "stdout",
     "output_type": "stream",
     "text": [
      "                                              review sentiment\n",
      "0  One of the other reviewers has mentioned that ...  positive\n",
      "1  A wonderful little production. <br /><br />The...  positive\n",
      "2  I thought this was a wonderful way to spend ti...  positive\n",
      "3  Basically there's a family where a little boy ...  negative\n",
      "4  Petter Mattei's \"Love in the Time of Money\" is...  positive\n"
     ]
    }
   ],
   "source": [
    "# Load dataset\n",
    "df = pd.read_csv(r\"C:\\Users\\matth\\Desktop\\MSBA\\BSAN 6200\\Assignments\\Assignment 2\\IMDB Dataset.csv\")\n",
    "\n",
    "print(df.head())"
   ]
  },
  {
   "cell_type": "code",
   "execution_count": 6,
   "id": "07dd9dd4",
   "metadata": {},
   "outputs": [
    {
     "name": "stdout",
     "output_type": "stream",
     "text": [
      "Columns in the dataset:\n",
      " Index(['review', 'sentiment'], dtype='object')\n"
     ]
    }
   ],
   "source": [
    "# Display column names\n",
    "print(\"Columns in the dataset:\\n\", df.columns)"
   ]
  },
  {
   "cell_type": "code",
   "execution_count": 7,
   "id": "00480cae",
   "metadata": {},
   "outputs": [
    {
     "name": "stdout",
     "output_type": "stream",
     "text": [
      "<class 'pandas.core.frame.DataFrame'>\n",
      "RangeIndex: 50000 entries, 0 to 49999\n",
      "Data columns (total 2 columns):\n",
      " #   Column     Non-Null Count  Dtype \n",
      "---  ------     --------------  ----- \n",
      " 0   review     50000 non-null  object\n",
      " 1   sentiment  50000 non-null  object\n",
      "dtypes: object(2)\n",
      "memory usage: 781.4+ KB\n",
      "None\n",
      "                                                   review sentiment\n",
      "count                                               50000     50000\n",
      "unique                                              49582         2\n",
      "top     Loved today's show!!! It was a variety and not...  positive\n",
      "freq                                                    5     25000\n",
      "review       0\n",
      "sentiment    0\n",
      "dtype: int64\n"
     ]
    }
   ],
   "source": [
    "# Get general info\n",
    "print(df.info())\n",
    "\n",
    "# Descriptive statistics\n",
    "print(df.describe())\n",
    "\n",
    "# Check for missing values\n",
    "print(df.isnull().sum())"
   ]
  },
  {
   "cell_type": "code",
   "execution_count": 8,
   "id": "3606380b",
   "metadata": {},
   "outputs": [],
   "source": [
    "# Display the entire review text \n",
    "pd.set_option('display.max_colwidth', None)"
   ]
  },
  {
   "cell_type": "code",
   "execution_count": 9,
   "id": "6ad5af05",
   "metadata": {
    "scrolled": true
   },
   "outputs": [
    {
     "name": "stdout",
     "output_type": "stream",
     "text": [
      "count    50000.000000\n",
      "mean      1309.431020\n",
      "std        989.728014\n",
      "min         32.000000\n",
      "25%        699.000000\n",
      "50%        970.000000\n",
      "75%       1590.250000\n",
      "max      13704.000000\n",
      "Name: Text_Length, dtype: float64\n"
     ]
    }
   ],
   "source": [
    "# Add a new column for text length\n",
    "df[\"Text_Length\"] = df[\"review\"].astype(str).apply(len)\n",
    "\n",
    "# Display descriptive statistics for text length\n",
    "print(df[\"Text_Length\"].describe())"
   ]
  },
  {
   "cell_type": "code",
   "execution_count": 10,
   "id": "244d7ad1",
   "metadata": {
    "scrolled": true
   },
   "outputs": [
    {
     "name": "stdout",
     "output_type": "stream",
     "text": [
      "42462                                                                                                                                                                                                                                                                                                                                                                                                                                                                                   This movie was an absolute waste of time. It's nothing but a wanna-be gangster movie. It contains a very predictable plot. My feelings are unsympathetic to the characters, and the dialogue is mediocre at best. Half the time you are looking for something else to do, because the movie is that boring, since you already know what's going to happen. The other half of the time you're desperately hoping the protagonist grows a pair of balls or just ends his life by jumping off a bridge or something. Also, the secondary characters are for the most part one- dimensional. There's no depth to any of the characters in this movie! No depth!\n",
      "11769                                                                                                                                                                                                                                                                                                                                                                                                                                                                                                                                                                                                                                                                                                                                                                                                                                     This is definitely the worst movie Adam's ever done but at this point in his life, he was just happy to have a movie. There are 3 or 4 laughs in it but I used the fast forward button through some of it. Don't waste your time. I only saw it because I wanted to see all of his movies, but it sucked.\n",
      "32449    Perhaps not Miyazaki's best work, but I couldn't help but love it to death. A five-year old boy finds what he thinks is a goldfish stuck in a bottle. He saves its life and keeps it in a bucket as a pet, but it really is a magical being, the daughter of a human wizard and a sea goddess. Ponyo, as the boy names her, is taken back to the sea by her father, who tries to discourage her from returning to land and becoming human, but she gets into his magic elixirs and does what she wants to do. The story is simple and cute. Where the film really comes alive, though, is in its tremendous artwork. The drawings are more child-like than in any of Miyazaki's other works, but there's beauty in its simplicity. As with all of his films, Miyazaki creates this world of imagination that I was just so in awe of. Seeing it in the theater brought back memories of what it was like when the opening notes of Jo Hisaishi's score for Princess Mononoke washed over me and gave me goosebumps just short of a decade ago (the score here is equally as wonderful). I wanted to live in this world and never leave it.\n",
      "18688                                                                                                              All the other comments already said what I was going to say, here goes anyway. I thought this was Italian at first, sorry about that, Italy. I wasn't bored because I kept waiting for something to happen. Who did that song about Dr. Tarr and Professor Feather way back when? Was it Alan Parsons? Saw this on a Brentwood 10 pack and the quality was as expected, terrible. Full of streaks and stuff. The movie was an incoherent mess. Goofy music and clueless characters. The main guy should have known in the first minute that the doctor was nuttier than the patients. I thought the \"doctor\" directing the \"battle\" scene was never going to end. Had some good looking babes though. It seems these dumb ass movies always throw in a naked chick or two and that gets you hooked. I gave it a 2 for the nekkid women. That bird people dance made me want to pull out my own eyeballs. Poe probably did about 3,000 rpms in his grave when this thing came out because it was loosely based on a story of his.\n",
      "20342                                                                                                                                                                                                                                                                                                                                                                                                                                                                                                             Cage plays a drunk and gets high critically praise. Elizabeth Shue Actually has to do a love seen with the most unattractive and overrated piece of dung flesh in Hollywood. I literally vomited while watching this film. Of course I had the flu, but that does not mean this film did not contribute to the vomit in the kamode. <br /><br />Why can't Nick Cage play something he can really pull off like a bad actor. Nick Cage who be brilliant in a role as a bad actor. Heck nobody could do it better.<br /><br />The search begins for Nick's contract with Lucifer or was it Lou Cipher from \"Night Train To Terror\".\n",
      "Name: review, dtype: object\n"
     ]
    }
   ],
   "source": [
    "# Read a few random review samples\n",
    "print(df[\"review\"].sample(5, random_state=45))"
   ]
  },
  {
   "cell_type": "code",
   "execution_count": 11,
   "id": "de6b5f1a",
   "metadata": {},
   "outputs": [],
   "source": [
    "# Initialize lemmatizer\n",
    "lemmatizer = WordNetLemmatizer()\n",
    "stop_words = set(stopwords.words(\"english\"))"
   ]
  },
  {
   "cell_type": "code",
   "execution_count": 12,
   "id": "a83a62dd",
   "metadata": {},
   "outputs": [],
   "source": [
    "# Text cleaning function\n",
    "def clean_text(review):\n",
    "    if not isinstance(review, str):\n",
    "        return \"\"  # Handle missing values\n",
    "    \n",
    "    # 1. Remove HTML tags using a regex pattern\n",
    "    review = re.sub(r\"<.*?>\", \"\", review)  # Remove HTML tags\n",
    "\n",
    "    # 2. Replace URLs with a placeholder \"URL\"\n",
    "    review = re.sub(r'http[s]?://\\S+', 'URL', review)\n",
    "\n",
    "    # 3. Convert to lowercase\n",
    "    review = review.lower()\n",
    "\n",
    "    # 4. Normalize whitespace (remove any leftover <br /> or extra spaces)\n",
    "    review = re.sub(r\"\\s+\", \" \", review).strip()\n",
    "\n",
    "    # 5. Remove special characters, numbers, and punctuation\n",
    "    review = re.sub(r\"[^a-z\\s]\", \"\", review)\n",
    "\n",
    "    # 6. Tokenize the text into words\n",
    "    words = word_tokenize(review)\n",
    "\n",
    "    # 7. Remove stopwords\n",
    "    words = [word for word in words if word not in stop_words]\n",
    "    \n",
    "    # 8. Lemmatize the tokens\n",
    "    lemmatized_words = [lemmatizer.lemmatize(word) for word in words]\n",
    "\n",
    "    # 9. Convert back to string\n",
    "    cleaned_text = \" \".join(lemmatized_words)\n",
    "    \n",
    "    return cleaned_text, lemmatized_words"
   ]
  },
  {
   "cell_type": "code",
   "execution_count": 13,
   "id": "33dba9d0-56cd-4dde-b74b-4646814cc44a",
   "metadata": {},
   "outputs": [],
   "source": [
    "# Select 100 random rows\n",
    "random_sample = df.sample(100)"
   ]
  },
  {
   "cell_type": "code",
   "execution_count": 14,
   "id": "67025b8f",
   "metadata": {
    "scrolled": true
   },
   "outputs": [],
   "source": [
    "# Apply text cleaning\n",
    "random_sample[[\"cleaned_text\", \"tokens\"]] = random_sample[\"review\"].apply(clean_text).apply(pd.Series)"
   ]
  },
  {
   "cell_type": "code",
   "execution_count": 15,
   "id": "dd87b560",
   "metadata": {
    "scrolled": true
   },
   "outputs": [
    {
     "name": "stdout",
     "output_type": "stream",
     "text": [
      "                                                                                                                                                                                                                                                                                                                                                                                                                                                                                                                                                                                                                                                                                                                                                                                                                                                                                                                                                                                                                                                                                                                                                                                                                                                                                                                                                                                                                                                                                                                                                                                                                                                                                                                                                                                                                         review  \\\n",
      "16680                                                                                                                                                                                                                                                                                                                                                                                                                                                                                                                                                                                                                                                                                                                                                                                                                                                                                                                                                                                                                         This is a 100% improvement over the dross of a third movie and it's one hell of a good time. This is a John Hughes movie meets The Devil's Rejects. I really enjoyed this movie and it really stands out as the savior of the series. I thought Jennifer Tilly played Tiffany really well and Brad Dourif in Chucky's shoes once again really makes this movie shine. Actually they're the only good parts of the movie. I got rather bored with Katherine Heigl and Nick Stable's scenes. It's as if they were thrown in there as a sidetrack and someone to save the day. But Chucky and Tiffany were great to watch and I really liked the black humor to it. I thought it made the movie stand out more. If you want one hell of a good time then be sure to check this out.<br /><br />7/10.   \n",
      "43954                                                                                                                                                                                                                                                                                                                                                                                                                                                                                                                                                                                                                                                                                                                                                                                                                                                                       A very intelligent and exciting thriller that doesn't rely on action but on situation, which is all to rare these days. I would compare this film to The Day of the Jackal, another film about the pursuit of a dangerous international criminal. The acting across the board is superlative - Aidan Quinn has a tricky double role as the vicious terrorist Carlos and as the Navy man who impersonates him. Donald Sutherland plays the amoral CIA agent who hires him. Ben Kingsley plays the Israeli officer who assists in the plan. This is a very tense and effective film, and it's remarkable considering just how little action there is in it. The first half of the film is all set-up, as the Navy man prepares to impersonate Carlos. The second half is a breathless actioner, the action coming out of the characters and their situations, thus making it all the more gripping. A really tight film that shouldn't be overlooked.   \n",
      "19385                                                                                                                                                                                                                                                                                                                                                                                                                                                                                                                                                                                                                                                                                                                                                                                                                                                                                                                                                                                                                                                                                                                                                                                                                                                                                                                                                                                                                                                                                                                 My wife did not realize what a gem this movie was when she picked it up. It is a story that shows real world success through hard work and determination.<br /><br />That is so refreshing in a world of violent movies not that I dis-like them), but you have to love a movie that succeeds without it.   \n",
      "17333                                                                                                                                                                                                                                                       What a poor excuse for New Zealnd Movie making. I'm ashamed to call myself a New Zealander when this movie exists and is currently playing on New Zealand satellite TV (Aug 2006). The cast is made up of a large number of local soap stars. The ship, in real life, is one of the inter-island ferries that travel daily between the two main islands and even has the company's logo (a dolphin) still all over the set including on the ship's funnel. The ship is supposed to be a cruise ship/ferry between the USA and Mexico. It has obvious signs of rust and old age all over the place yet is supposed to be a luxury ship on it's maiden voyage. One of the scenes shows the snow capped peaks of New Zealand's South island in the background for God's sake! Must have been a very cold time on the USA/Mexico area! The story is weak, the acting is weaker and the new Zealand/American accents just don't work. I expect the New Zealand tax payer contributed to the production cost of this movie and that was a waste of money better spent on a real production. I know high school kids in New Zealand who could make better movies with their cell phones. Goof: There is a truck in the hold with tagging on it and they stuck a Taco Company sign on the door of the truck, presumably to make it look like it was American. But some of the sign is over the top of the tagging - you'd think they would have noticed that in the props department before attaching it. I'd love to go on but it just isn't worth the trouble in any way.   \n",
      "30731  The thing viewers will remember most is the bad headache the movie has given them due to the overly flashy, shaky, camera-work and the fast, confusing cutting. I am not against those kind of stylistic devices if they are done right like Oliver Stone and Steven Soderbergh proof with most of their movies, but in this case there was WAY too much. It seems like the jump-cuts and light flashes that accompanied every flight over Mexico city and every important scene were there to distract you from realizing that the story is quite thin and the whole thing was very predictable. The biggest disappointment lies in the fact that you can easily figure out how the whole thing is going to end. For a movie that pretends to be violent, ruthless and morally corrupt it is inexcusable that it's story has been told so many times and with a lot more depth and character development. That is another disappointing aspect of the movie. If I want to watch an over the top action flick I do not need any justification, but this movie tried to justify the killing spree of Denzel Washington's character and poorly failed in delivering any believable performances. The first half hour or so nothing much happens except that dumb archetypes and clichés are portrayed and when the action machine starts rolling it is so quickly cut that you do not know what really happens. So the movie does not work either on the level of a believable drama/thriller , nor as a pure action movie. Of course the movie is not as bad as some oft the totally messed up blockbusters of the last years, but I absolutely cannot understand why so many people claim this movie to be something fresh and so cool. For a video clip it is way too long and for a movie it has too little substance.   \n",
      "\n",
      "                                                                                                                                                                                                                                                                                                                                                                                                                                                                                                                                                                                                                                                                                                                                                                                                                                                                                                                                                                                                                                                                                                                                 cleaned_text  \n",
      "16680                                                                                                                                                                                                                                                                                                                                                                                                                                                                                                                                                                                                                                                            improvement dross third movie one hell good time john hughes movie meet devil reject really enjoyed movie really stand savior series thought jennifer tilly played tiffany really well brad dourif chuckys shoe really make movie shine actually theyre good part movie got rather bored katherine heigl nick stable scene thrown sidetrack someone save day chucky tiffany great watch really liked black humor thought made movie stand want one hell good time sure check  \n",
      "43954                                                                                                                                                                                                                                                                                                                                                                                                                                                                                                                      intelligent exciting thriller doesnt rely action situation rare day would compare film day jackal another film pursuit dangerous international criminal acting across board superlative aidan quinn tricky double role vicious terrorist carlos navy man impersonates donald sutherland play amoral cia agent hire ben kingsley play israeli officer assist plan tense effective film remarkable considering little action first half film setup navy man prepares impersonate carlos second half breathless actioner action coming character situation thus making gripping really tight film shouldnt overlooked  \n",
      "19385                                                                                                                                                                                                                                                                                                                                                                                                                                                                                                                                                                                                                                                                                                                                                                                                                                                                                                                                                                              wife realize gem movie picked story show real world success hard work determinationthat refreshing world violent movie dislike love movie succeeds without  \n",
      "17333                                                                                                                                                              poor excuse new zealnd movie making im ashamed call new zealander movie exists currently playing new zealand satellite tv aug cast made large number local soap star ship real life one interisland ferry travel daily two main island even company logo dolphin still set including ship funnel ship supposed cruise shipferry usa mexico obvious sign rust old age place yet supposed luxury ship maiden voyage one scene show snow capped peak new zealand south island background god sake must cold time usamexico area story weak acting weaker new zealandamerican accent dont work expect new zealand tax payer contributed production cost movie waste money better spent real production know high school kid new zealand could make better movie cell phone goof truck hold tagging stuck taco company sign door truck presumably make look like american sign top tagging youd think would noticed prop department attaching id love go isnt worth trouble way  \n",
      "30731  thing viewer remember bad headache movie given due overly flashy shaky camerawork fast confusing cutting kind stylistic device done right like oliver stone steven soderbergh proof movie case way much seems like jumpcuts light flash accompanied every flight mexico city every important scene distract realizing story quite thin whole thing predictable biggest disappointment lie fact easily figure whole thing going end movie pretend violent ruthless morally corrupt inexcusable story told many time lot depth character development another disappointing aspect movie want watch top action flick need justification movie tried justify killing spree denzel washington character poorly failed delivering believable performance first half hour nothing much happens except dumb archetype clichs portrayed action machine start rolling quickly cut know really happens movie work either level believable dramathriller pure action movie course movie bad oft totally messed blockbuster last year absolutely understand many people claim movie something fresh cool video clip way long movie little substance  \n"
     ]
    }
   ],
   "source": [
    "# Spot-checking\n",
    "spotcheck_sample = random_sample[[\"review\", \"cleaned_text\"]].sample(5, random_state=45)\n",
    "print(spotcheck_sample)"
   ]
  },
  {
   "cell_type": "code",
   "execution_count": 16,
   "id": "262438e7",
   "metadata": {
    "scrolled": true
   },
   "outputs": [
    {
     "name": "stdout",
     "output_type": "stream",
     "text": [
      "                                                                                                                                                                                                                                                                                                                                                                                                                                                                                                                                                                                                                                                                                                                                                                                                                                                                                                                                                                                                                                                                                                                                                                                                                                                                                                                                                                                                                                                                                                                                                                                                                                                                                                                                                                                                                                                                                                                                                                                                                                                                                                                                                                                              review  \\\n",
      "16933  Man with the Screaming Brain is a story of greed, betrayal and revenge in the a small Bulgarian town. William Cole, wealthy industrialist, winds up with part of his brain replaced by that of a Russian cab driver Yegor. The two couldn't be more different, but they share one thing - both were killed by the same woman. Brought back to life by a mad scientist, William and Yegor form an unlikely partnership to track down their common nemesis.<br /><br />Bruce Campbell returns to the B horror movie genre that gave him his cult status, this time not only in front of the screen, but behind the lens. Unfortunately for this time around, the laughs don't deliver and Campbell has to resort to what he does best to try and fill the gap in this film.<br /><br />As a fan of Campbell, who has the movies, the books and the action figures, I was hoping for another hit to add to my collection. Although, after seeing this film before the purchase, I am glad that I don't have the \"pleasure\" of adding it.<br /><br />The film first goes wrong in the story, which at first sight, seems like harmless fun but turns out to be boring drawn out dribble. Which is a sad thing to say because it was written by Mr. Campbell himself. The comedy never really hits, it only makes us scratch our heads. It seems that Campbell ran out of things that are funny and resulted in giving the audience what we've already seen...him fighting himself.<br /><br />Ted Raimi, the brother of Evil Dead director Sam Raimi, is undoubtedly the highlight of the film. He brings a freshness to it and an entertaining time when the film really needs it. It helps if you are a fan and have been following these stooges from Evil Dead to Xena, which is why I felt compelled to like this film.<br /><br />Campbell's experience as a director, from directing episodes of the TV series Hercules is apparent. Campbell makes the film work well enough, even with the low-budget. In the end, there aren't as many things going for this as one would hope for, but the fans of Campbell will stick behind it no matter what, unfortunately for this fan...I won't.   \n",
      "49137                                                                                                                                                                                                                                                                                                                                                                                                                                                                                                                                                                                                                                                                                                                                                                                                                                                                                                                                                                                                                                                                                                              I saw this film about twenty years ago on the late show. I still vividly remember the film, especially the performance of Robert Taylor. I always thought Taylor was underrated as an actor as most critics saw him as solid, almost dull leading man type, and women simply loved to watch his films because of his looks. This film, however, proved what an interesting actor he could be. He did not get enough roles like this during his long career. This is his best performance. He is totally believable in a truly villainous role. From what I have read, he was a very hardworking and easy going guy in real life and never fought enough for these kind of roles. He basically would just do what MGM gave him. This film proves that he could have handled more diverse and difficult roles. The other thing I remember about this film is how annoying Lloyd Nolan's character was. Nolan was a great actor, but this character really aggravated me. The last scene of the film has stuck with me for all of these years. This film is definitely worth a look.   \n",
      "17220                                                                                                                                                                                                                                                                                                                                                                                                                                                                                                                                                                                                                                                                                                                                                                                                                                                                                                                                                                                                                                                                                                                                                                                                                                                                                                                                                                                                                    Wow, what a bad film. Not frightening in the least, and barely comprehensible. The plot doesn't hang together at all, and the acting is absolutely appalling. What's that line from a famous critic? \"She runs the emotional gamut from A to B.\" Yup. That about sums it up. Not even good for camp value! I wasn't expecting Oscar material, but this? And gosh, her friend's a ghost? You'd have to have the IQ of particularly stupid mollusk not to see that one coming.<br /><br />This film (and I use that word loosely) is an insult to the movie-going public. If only someone involved with it knew how to string together narrative! This gets a 1 out of 10, simply because there's nothing lower. On the bright side--at least it's not a full two hours long.   \n",
      "40062                                                                                                             Comedy Central has a habit of putting on great programs at times-Chappelle's Show, The Daily Show, Colbert Report, and then there are those that some people love or hate-Stella, Dr. Katz. Then there are some shows that have their defenders but are just plain awful- Mencia, and now, Sarah Silverman.<br /><br />This show is based on the fact Silverman is self-Centered, which can be funny (Colbert Report) but can be horrible (Mind of Mencia). It should shock no one that I believe the latter is the case. This show is a parody of a sitcom and society, a program so absurd it loses itself in its absurdity and it simply isn't funny. A woman farting has been done in comedy many many times because its not something that's common. We don't need 25 minutes of it. When a criminal is disarmed by a queef, it simply loses its appeal-we saw it in Jay and Silent Bob Strike back, except the women were hotter, and the whole scene was more absurd, making it better. But the best comparison of this show is to Stella, except Stella was more subtle, which is what made the absurdist comedy funny. It had better acting, and I suppose, a bit more of a fantastical realist view.<br /><br />Perhaps the fact some reviews are so negative (I'm very skeptical of the critical acclaim but do not dispute fan reaction) to this show is the amount of advertising on it, very obnoxious ads through many programs far outdo advertising on for other programs. Many people are wondering why Sarah Silverman has a career, and others are still bitter when better shows have been canceled. This show should've never made it past the unaired pilot stage. Back to Norm showed far more promise, yet this show makes it further. And as far as critics being correct, many things have been universally panned have seen their status rise immensely. Last I checked, Britney Spears gets good reviews too also. Take that comparison however you want because someone will no doubt accuse me of being psychotic on IMDb for not liking this show.   \n",
      "12282                                                                                                                                                                                                                                                                                                                                                                                                                                                                                                                                                                                                                                                                                                                                                                                                                                                                                                                                                                                                       The movie starts out with three people on a play it by ear holiday who decide to first visit a crocodile farm and then go on to a little lighter activity, a \"fishing\" tour.<br /><br />You pick up some interesting information about crocodiles during their visit to the farm and the information adds just enough to increase the suspense later during the movie as you recall what was told earlier on.<br /><br />The action in the movie is well timed and not over done. Suspense is built through the \"what ifs\", the \"unknown\", and the sometimes gut wrenching decisions the characters make in the movie.<br /><br />I found myself wondering what I would do if I was in the same boat, no pun intended.<br /><br />The film quality was really good and the effects where realistic, believable and not over the top or cartoon looking and out of place, the way you sometimes get with CGI.<br /><br />As a horror movie buff I watch just about every horror movie I can get my hands on, in just about every genre, and this is one of the best \"crocodile\" horror movies, if not the best I have seen.<br /><br />Watch this movie and you will not be disappointed.   \n",
      "\n",
      "                                                                                                                                                                                                                                                                                                                                                                                                                                                                                                                                                                                                                                                                                                                                                                                                                                                                                                                                                                                                                                                                                                                                                                                                                                                                                                                              cleaned_text  \\\n",
      "16933  man screaming brain story greed betrayal revenge small bulgarian town william cole wealthy industrialist wind part brain replaced russian cab driver yegor two couldnt different share one thing killed woman brought back life mad scientist william yegor form unlikely partnership track common nemesisbruce campbell return b horror movie genre gave cult status time front screen behind lens unfortunately time around laugh dont deliver campbell resort best try fill gap filmas fan campbell movie book action figure hoping another hit add collection although seeing film purchase glad dont pleasure adding itthe film first go wrong story first sight seems like harmless fun turn boring drawn dribble sad thing say written mr campbell comedy never really hit make u scratch head seems campbell ran thing funny resulted giving audience weve already seenhim fighting himselfted raimi brother evil dead director sam raimi undoubtedly highlight film brings freshness entertaining time film really need help fan following stooge evil dead xena felt compelled like filmcampbells experience director directing episode tv series hercules apparent campbell make film work well enough even lowbudget end arent many thing going one would hope fan campbell stick behind matter unfortunately fani wont   \n",
      "49137                                                                                                                                                                                                                                                                                                                                                                                                                                                                                                                                                                                                                                                           saw film twenty year ago late show still vividly remember film especially performance robert taylor always thought taylor underrated actor critic saw solid almost dull leading man type woman simply loved watch film look film however proved interesting actor could get enough role like long career best performance totally believable truly villainous role read hardworking easy going guy real life never fought enough kind role basically would mgm gave film prof could handled diverse difficult role thing remember film annoying lloyd nolans character nolan great actor character really aggravated last scene film stuck year film definitely worth look   \n",
      "17220                                                                                                                                                                                                                                                                                                                                                                                                                                                                                                                                                                                                                                                                                                                                                                                                                                                                  wow bad film frightening least barely comprehensible plot doesnt hang together acting absolutely appalling whats line famous critic run emotional gamut b yup sum even good camp value wasnt expecting oscar material gosh friend ghost youd iq particularly stupid mollusk see one comingthis film use word loosely insult moviegoing public someone involved knew string together narrative get simply there nothing lower bright sideat least full two hour long   \n",
      "40062                                               comedy central habit putting great program timeschappelles show daily show colbert report people love hatestella dr katz show defender plain awful mencia sarah silvermanthis show based fact silverman selfcentered funny colbert report horrible mind mencia shock one believe latter case show parody sitcom society program absurd loses absurdity simply isnt funny woman farting done comedy many many time something thats common dont need minute criminal disarmed queef simply loses appealwe saw jay silent bob strike back except woman hotter whole scene absurd making better best comparison show stella except stella subtle made absurdist comedy funny better acting suppose bit fantastical realist viewperhaps fact review negative im skeptical critical acclaim dispute fan reaction show amount advertising obnoxious ad many program far outdo advertising program many people wondering sarah silverman career others still bitter better show canceled show shouldve never made past unaired pilot stage back norm showed far promise yet show make far critic correct many thing universally panned seen status rise immensely last checked britney spear get good review also take comparison however want someone doubt accuse psychotic imdb liking show   \n",
      "12282                                                                                                                                                                                                                                                                                                                                                                                                                                                                                                                                                                                                                                                                           movie start three people play ear holiday decide first visit crocodile farm go little lighter activity fishing touryou pick interesting information crocodile visit farm information add enough increase suspense later movie recall told earlier onthe action movie well timed done suspense built ifs unknown sometimes gut wrenching decision character make moviei found wondering would boat pun intendedthe film quality really good effect realistic believable top cartoon looking place way sometimes get cgias horror movie buff watch every horror movie get hand every genre one best crocodile horror movie best seenwatch movie disappointed   \n",
      "\n",
      "                                                                                                                                                                                                                                                                                                                                                                                                                                                                                                                                                                                                                                                                                                                                                                                                                                                                                                                                                                                                                                                                                                                                                                                                                                                                                                                                                                                                                                                                                                                                        Bigrams  \\\n",
      "16933                                             [man_screaming, screaming_brain, brain_story, story_greed, greed_betrayal, betrayal_revenge, revenge_small, small_bulgarian, bulgarian_town, town_william, william_cole, cole_wealthy, wealthy_industrialist, industrialist_wind, wind_part, part_brain, brain_replaced, replaced_russian, russian_cab, cab_driver, driver_yegor, yegor_two, two_couldnt, couldnt_different, different_share, share_one, one_thing, thing_killed, killed_woman, woman_brought, brought_back, back_life, life_mad, mad_scientist, scientist_william, william_yegor, yegor_form, form_unlikely, unlikely_partnership, partnership_track, track_common, common_nemesisbruce, nemesisbruce_campbell, campbell_return, return_b, b_horror, horror_movie, movie_genre, genre_gave, gave_cult, cult_status, status_time, time_front, front_screen, screen_behind, behind_lens, lens_unfortunately, unfortunately_time, time_around, around_laugh, laugh_dont, dont_deliver, deliver_campbell, campbell_resort, resort_best, best_try, try_fill, fill_gap, gap_filmas, filmas_fan, fan_campbell, campbell_movie, movie_book, book_action, action_figure, figure_hoping, hoping_another, another_hit, hit_add, add_collection, collection_although, although_seeing, seeing_film, film_purchase, purchase_glad, glad_dont, dont_pleasure, pleasure_adding, adding_itthe, itthe_film, film_first, first_go, go_wrong, wrong_story, story_first, first_sight, sight_seems, seems_like, like_harmless, harmless_fun, ...]   \n",
      "49137                                                                                            [saw_film, film_twenty, twenty_year, year_ago, ago_late, late_show, show_still, still_vividly, vividly_remember, remember_film, film_especially, especially_performance, performance_robert, robert_taylor, taylor_always, always_thought, thought_taylor, taylor_underrated, underrated_actor, actor_critic, critic_saw, saw_solid, solid_almost, almost_dull, dull_leading, leading_man, man_type, type_woman, woman_simply, simply_loved, loved_watch, watch_film, film_look, look_film, film_however, however_proved, proved_interesting, interesting_actor, actor_could, could_get, get_enough, enough_role, role_like, like_long, long_career, career_best, best_performance, performance_totally, totally_believable, believable_truly, truly_villainous, villainous_role, role_read, read_hardworking, hardworking_easy, easy_going, going_guy, guy_real, real_life, life_never, never_fought, fought_enough, enough_kind, kind_role, role_basically, basically_would, would_mgm, mgm_gave, gave_film, film_prof, prof_could, could_handled, handled_diverse, diverse_difficult, difficult_role, role_thing, thing_remember, remember_film, film_annoying, annoying_lloyd, lloyd_nolans, nolans_character, character_nolan, nolan_great, great_actor, actor_character, character_really, really_aggravated, aggravated_last, last_scene, scene_film, film_stuck, stuck_year, year_film, film_definitely, definitely_worth, worth_look]   \n",
      "17220                                                                                                                                                                                                                                                                                                                                                                                                                                                                                                                                        [wow_bad, bad_film, film_frightening, frightening_least, least_barely, barely_comprehensible, comprehensible_plot, plot_doesnt, doesnt_hang, hang_together, together_acting, acting_absolutely, absolutely_appalling, appalling_whats, whats_line, line_famous, famous_critic, critic_run, run_emotional, emotional_gamut, gamut_b, b_yup, yup_sum, sum_even, even_good, good_camp, camp_value, value_wasnt, wasnt_expecting, expecting_oscar, oscar_material, material_gosh, gosh_friend, friend_ghost, ghost_youd, youd_iq, iq_particularly, particularly_stupid, stupid_mollusk, mollusk_see, see_one, one_comingthis, comingthis_film, film_use, use_word, word_loosely, loosely_insult, insult_moviegoing, moviegoing_public, public_someone, someone_involved, involved_knew, knew_string, string_together, together_narrative, narrative_get, get_simply, simply_there, there_nothing, nothing_lower, lower_bright, bright_sideat, sideat_least, least_full, full_two, two_hour, hour_long]   \n",
      "40062  [comedy_central, central_habit, habit_putting, putting_great, great_program, program_timeschappelles, timeschappelles_show, show_daily, daily_show, show_colbert, colbert_report, report_people, people_love, love_hatestella, hatestella_dr, dr_katz, katz_show, show_defender, defender_plain, plain_awful, awful_mencia, mencia_sarah, sarah_silvermanthis, silvermanthis_show, show_based, based_fact, fact_silverman, silverman_selfcentered, selfcentered_funny, funny_colbert, colbert_report, report_horrible, horrible_mind, mind_mencia, mencia_shock, shock_one, one_believe, believe_latter, latter_case, case_show, show_parody, parody_sitcom, sitcom_society, society_program, program_absurd, absurd_loses, loses_absurdity, absurdity_simply, simply_isnt, isnt_funny, funny_woman, woman_farting, farting_done, done_comedy, comedy_many, many_many, many_time, time_something, something_thats, thats_common, common_dont, dont_need, need_minute, minute_criminal, criminal_disarmed, disarmed_queef, queef_simply, simply_loses, loses_appealwe, appealwe_saw, saw_jay, jay_silent, silent_bob, bob_strike, strike_back, back_except, except_woman, woman_hotter, hotter_whole, whole_scene, scene_absurd, absurd_making, making_better, better_best, best_comparison, comparison_show, show_stella, stella_except, except_stella, stella_subtle, subtle_made, made_absurdist, absurdist_comedy, comedy_funny, funny_better, better_acting, acting_suppose, suppose_bit, bit_fantastical, fantastical_realist, ...]   \n",
      "12282                                                                                                                                            [movie_start, start_three, three_people, people_play, play_ear, ear_holiday, holiday_decide, decide_first, first_visit, visit_crocodile, crocodile_farm, farm_go, go_little, little_lighter, lighter_activity, activity_fishing, fishing_touryou, touryou_pick, pick_interesting, interesting_information, information_crocodile, crocodile_visit, visit_farm, farm_information, information_add, add_enough, enough_increase, increase_suspense, suspense_later, later_movie, movie_recall, recall_told, told_earlier, earlier_onthe, onthe_action, action_movie, movie_well, well_timed, timed_done, done_suspense, suspense_built, built_ifs, ifs_unknown, unknown_sometimes, sometimes_gut, gut_wrenching, wrenching_decision, decision_character, character_make, make_moviei, moviei_found, found_wondering, wondering_would, would_boat, boat_pun, pun_intendedthe, intendedthe_film, film_quality, quality_really, really_good, good_effect, effect_realistic, realistic_believable, believable_top, top_cartoon, cartoon_looking, looking_place, place_way, way_sometimes, sometimes_get, get_cgias, cgias_horror, horror_movie, movie_buff, buff_watch, watch_every, every_horror, horror_movie, movie_get, get_hand, hand_every, every_genre, genre_one, one_best, best_crocodile, crocodile_horror, horror_movie, movie_best, best_seenwatch, seenwatch_movie, movie_disappointed]   \n",
      "\n",
      "                                                                                                                                                                                                                                                                                                                                                                                                                                                                                                                                                                                                                                                                                                                                                                                                                                                                                                                                                                                                                                                                                                                                                                                                                                                                                                                                                                                                                                                                                                                                                                                                                                                                                                                                                                                                                                                                                                                                                                                                                                                                                                                                                                                                                                                           Trigrams  \n",
      "16933                                                                            [man_screaming_brain, screaming_brain_story, brain_story_greed, story_greed_betrayal, greed_betrayal_revenge, betrayal_revenge_small, revenge_small_bulgarian, small_bulgarian_town, bulgarian_town_william, town_william_cole, william_cole_wealthy, cole_wealthy_industrialist, wealthy_industrialist_wind, industrialist_wind_part, wind_part_brain, part_brain_replaced, brain_replaced_russian, replaced_russian_cab, russian_cab_driver, cab_driver_yegor, driver_yegor_two, yegor_two_couldnt, two_couldnt_different, couldnt_different_share, different_share_one, share_one_thing, one_thing_killed, thing_killed_woman, killed_woman_brought, woman_brought_back, brought_back_life, back_life_mad, life_mad_scientist, mad_scientist_william, scientist_william_yegor, william_yegor_form, yegor_form_unlikely, form_unlikely_partnership, unlikely_partnership_track, partnership_track_common, track_common_nemesisbruce, common_nemesisbruce_campbell, nemesisbruce_campbell_return, campbell_return_b, return_b_horror, b_horror_movie, horror_movie_genre, movie_genre_gave, genre_gave_cult, gave_cult_status, cult_status_time, status_time_front, time_front_screen, front_screen_behind, screen_behind_lens, behind_lens_unfortunately, lens_unfortunately_time, unfortunately_time_around, time_around_laugh, around_laugh_dont, laugh_dont_deliver, dont_deliver_campbell, deliver_campbell_resort, campbell_resort_best, resort_best_try, best_try_fill, try_fill_gap, fill_gap_filmas, gap_filmas_fan, filmas_fan_campbell, fan_campbell_movie, campbell_movie_book, movie_book_action, book_action_figure, action_figure_hoping, figure_hoping_another, hoping_another_hit, another_hit_add, hit_add_collection, add_collection_although, collection_although_seeing, although_seeing_film, seeing_film_purchase, film_purchase_glad, purchase_glad_dont, glad_dont_pleasure, dont_pleasure_adding, pleasure_adding_itthe, adding_itthe_film, itthe_film_first, film_first_go, first_go_wrong, go_wrong_story, wrong_story_first, story_first_sight, first_sight_seems, sight_seems_like, seems_like_harmless, like_harmless_fun, harmless_fun_turn, ...]  \n",
      "49137                                                                                                                                                          [saw_film_twenty, film_twenty_year, twenty_year_ago, year_ago_late, ago_late_show, late_show_still, show_still_vividly, still_vividly_remember, vividly_remember_film, remember_film_especially, film_especially_performance, especially_performance_robert, performance_robert_taylor, robert_taylor_always, taylor_always_thought, always_thought_taylor, thought_taylor_underrated, taylor_underrated_actor, underrated_actor_critic, actor_critic_saw, critic_saw_solid, saw_solid_almost, solid_almost_dull, almost_dull_leading, dull_leading_man, leading_man_type, man_type_woman, type_woman_simply, woman_simply_loved, simply_loved_watch, loved_watch_film, watch_film_look, film_look_film, look_film_however, film_however_proved, however_proved_interesting, proved_interesting_actor, interesting_actor_could, actor_could_get, could_get_enough, get_enough_role, enough_role_like, role_like_long, like_long_career, long_career_best, career_best_performance, best_performance_totally, performance_totally_believable, totally_believable_truly, believable_truly_villainous, truly_villainous_role, villainous_role_read, role_read_hardworking, read_hardworking_easy, hardworking_easy_going, easy_going_guy, going_guy_real, guy_real_life, real_life_never, life_never_fought, never_fought_enough, fought_enough_kind, enough_kind_role, kind_role_basically, role_basically_would, basically_would_mgm, would_mgm_gave, mgm_gave_film, gave_film_prof, film_prof_could, prof_could_handled, could_handled_diverse, handled_diverse_difficult, diverse_difficult_role, difficult_role_thing, role_thing_remember, thing_remember_film, remember_film_annoying, film_annoying_lloyd, annoying_lloyd_nolans, lloyd_nolans_character, nolans_character_nolan, character_nolan_great, nolan_great_actor, great_actor_character, actor_character_really, character_really_aggravated, really_aggravated_last, aggravated_last_scene, last_scene_film, scene_film_stuck, film_stuck_year, stuck_year_film, year_film_definitely, film_definitely_worth, definitely_worth_look]  \n",
      "17220                                                                                                                                                                                                                                                                                                                                                                                                                                                                                                                                                                                                                                                                                                                                                                                                           [wow_bad_film, bad_film_frightening, film_frightening_least, frightening_least_barely, least_barely_comprehensible, barely_comprehensible_plot, comprehensible_plot_doesnt, plot_doesnt_hang, doesnt_hang_together, hang_together_acting, together_acting_absolutely, acting_absolutely_appalling, absolutely_appalling_whats, appalling_whats_line, whats_line_famous, line_famous_critic, famous_critic_run, critic_run_emotional, run_emotional_gamut, emotional_gamut_b, gamut_b_yup, b_yup_sum, yup_sum_even, sum_even_good, even_good_camp, good_camp_value, camp_value_wasnt, value_wasnt_expecting, wasnt_expecting_oscar, expecting_oscar_material, oscar_material_gosh, material_gosh_friend, gosh_friend_ghost, friend_ghost_youd, ghost_youd_iq, youd_iq_particularly, iq_particularly_stupid, particularly_stupid_mollusk, stupid_mollusk_see, mollusk_see_one, see_one_comingthis, one_comingthis_film, comingthis_film_use, film_use_word, use_word_loosely, word_loosely_insult, loosely_insult_moviegoing, insult_moviegoing_public, moviegoing_public_someone, public_someone_involved, someone_involved_knew, involved_knew_string, knew_string_together, string_together_narrative, together_narrative_get, narrative_get_simply, get_simply_there, simply_there_nothing, there_nothing_lower, nothing_lower_bright, lower_bright_sideat, bright_sideat_least, sideat_least_full, least_full_two, full_two_hour, two_hour_long]  \n",
      "40062  [comedy_central_habit, central_habit_putting, habit_putting_great, putting_great_program, great_program_timeschappelles, program_timeschappelles_show, timeschappelles_show_daily, show_daily_show, daily_show_colbert, show_colbert_report, colbert_report_people, report_people_love, people_love_hatestella, love_hatestella_dr, hatestella_dr_katz, dr_katz_show, katz_show_defender, show_defender_plain, defender_plain_awful, plain_awful_mencia, awful_mencia_sarah, mencia_sarah_silvermanthis, sarah_silvermanthis_show, silvermanthis_show_based, show_based_fact, based_fact_silverman, fact_silverman_selfcentered, silverman_selfcentered_funny, selfcentered_funny_colbert, funny_colbert_report, colbert_report_horrible, report_horrible_mind, horrible_mind_mencia, mind_mencia_shock, mencia_shock_one, shock_one_believe, one_believe_latter, believe_latter_case, latter_case_show, case_show_parody, show_parody_sitcom, parody_sitcom_society, sitcom_society_program, society_program_absurd, program_absurd_loses, absurd_loses_absurdity, loses_absurdity_simply, absurdity_simply_isnt, simply_isnt_funny, isnt_funny_woman, funny_woman_farting, woman_farting_done, farting_done_comedy, done_comedy_many, comedy_many_many, many_many_time, many_time_something, time_something_thats, something_thats_common, thats_common_dont, common_dont_need, dont_need_minute, need_minute_criminal, minute_criminal_disarmed, criminal_disarmed_queef, disarmed_queef_simply, queef_simply_loses, simply_loses_appealwe, loses_appealwe_saw, appealwe_saw_jay, saw_jay_silent, jay_silent_bob, silent_bob_strike, bob_strike_back, strike_back_except, back_except_woman, except_woman_hotter, woman_hotter_whole, hotter_whole_scene, whole_scene_absurd, scene_absurd_making, absurd_making_better, making_better_best, better_best_comparison, best_comparison_show, comparison_show_stella, show_stella_except, stella_except_stella, except_stella_subtle, stella_subtle_made, subtle_made_absurdist, made_absurdist_comedy, absurdist_comedy_funny, comedy_funny_better, funny_better_acting, better_acting_suppose, acting_suppose_bit, suppose_bit_fantastical, bit_fantastical_realist, fantastical_realist_viewperhaps, ...]  \n",
      "12282                                                                                                                                                                                                                                     [movie_start_three, start_three_people, three_people_play, people_play_ear, play_ear_holiday, ear_holiday_decide, holiday_decide_first, decide_first_visit, first_visit_crocodile, visit_crocodile_farm, crocodile_farm_go, farm_go_little, go_little_lighter, little_lighter_activity, lighter_activity_fishing, activity_fishing_touryou, fishing_touryou_pick, touryou_pick_interesting, pick_interesting_information, interesting_information_crocodile, information_crocodile_visit, crocodile_visit_farm, visit_farm_information, farm_information_add, information_add_enough, add_enough_increase, enough_increase_suspense, increase_suspense_later, suspense_later_movie, later_movie_recall, movie_recall_told, recall_told_earlier, told_earlier_onthe, earlier_onthe_action, onthe_action_movie, action_movie_well, movie_well_timed, well_timed_done, timed_done_suspense, done_suspense_built, suspense_built_ifs, built_ifs_unknown, ifs_unknown_sometimes, unknown_sometimes_gut, sometimes_gut_wrenching, gut_wrenching_decision, wrenching_decision_character, decision_character_make, character_make_moviei, make_moviei_found, moviei_found_wondering, found_wondering_would, wondering_would_boat, would_boat_pun, boat_pun_intendedthe, pun_intendedthe_film, intendedthe_film_quality, film_quality_really, quality_really_good, really_good_effect, good_effect_realistic, effect_realistic_believable, realistic_believable_top, believable_top_cartoon, top_cartoon_looking, cartoon_looking_place, looking_place_way, place_way_sometimes, way_sometimes_get, sometimes_get_cgias, get_cgias_horror, cgias_horror_movie, horror_movie_buff, movie_buff_watch, buff_watch_every, watch_every_horror, every_horror_movie, horror_movie_get, movie_get_hand, get_hand_every, hand_every_genre, every_genre_one, genre_one_best, one_best_crocodile, best_crocodile_horror, crocodile_horror_movie, horror_movie_best, movie_best_seenwatch, best_seenwatch_movie, seenwatch_movie_disappointed]  \n"
     ]
    }
   ],
   "source": [
    "# Function to generate bigrams and trigrams\n",
    "def generate_ngrams(text, n=2):\n",
    "    tokens = word_tokenize(text.lower())  \n",
    "    n_grams = list(ngrams(tokens, n))  \n",
    "    return [\"_\".join(gram) for gram in n_grams]  \n",
    "\n",
    "# Generate bigrams and trigrams\n",
    "random_sample[\"Bigrams\"] = random_sample[\"cleaned_text\"].apply(lambda x: generate_ngrams(x, 2) if isinstance(x, str) else [])\n",
    "random_sample[\"Trigrams\"] = random_sample[\"cleaned_text\"].apply(lambda x: generate_ngrams(x, 3) if isinstance(x, str) else [])\n",
    "\n",
    "# Check the results\n",
    "print(random_sample[[\"review\", \"cleaned_text\", \"Bigrams\", \"Trigrams\"]].sample(5))"
   ]
  },
  {
   "cell_type": "markdown",
   "id": "7fb14eb0-b67c-4a46-a83f-c567d7f50a7a",
   "metadata": {},
   "source": [
    "## TF-IDF Vectorizer"
   ]
  },
  {
   "cell_type": "code",
   "execution_count": 18,
   "id": "03b7372c",
   "metadata": {},
   "outputs": [
    {
     "name": "stdout",
     "output_type": "stream",
     "text": [
      "Feature matrix shape: (100, 29340)\n"
     ]
    }
   ],
   "source": [
    "from sklearn.feature_extraction.text import TfidfVectorizer\n",
    "\n",
    "# Initialize TfidfVectorizer for unigrams, bigrams, and trigrams\n",
    "tfidf_vectorizer = TfidfVectorizer(ngram_range=(1, 3))\n",
    "\n",
    "# Fit and transform the cleaned text from random_sample to create features\n",
    "X_tfidf = tfidf_vectorizer.fit_transform(random_sample[\"cleaned_text\"])\n",
    "\n",
    "# Display the shape of the feature matrix\n",
    "print(f\"Feature matrix shape: {X_tfidf.shape}\")"
   ]
  },
  {
   "cell_type": "code",
   "execution_count": 19,
   "id": "5185091a",
   "metadata": {},
   "outputs": [
    {
     "name": "stdout",
     "output_type": "stream",
     "text": [
      "Training set size: (80, 29340)\n",
      "Test set size: (20, 29340)\n"
     ]
    }
   ],
   "source": [
    "y = random_sample['sentiment']\n",
    "# Split data into training and testing sets (80% train, 20% test)\n",
    "X_train_tfidf, X_test_tfidf, y_train, y_test = train_test_split(X_tfidf, y, test_size=0.2, random_state=42)\n",
    "\n",
    "print(f\"Training set size: {X_train_tfidf.shape}\")\n",
    "print(f\"Test set size: {X_test_tfidf.shape}\")"
   ]
  },
  {
   "cell_type": "markdown",
   "id": "d5f17932",
   "metadata": {},
   "source": [
    "## Logistic Regression"
   ]
  },
  {
   "cell_type": "code",
   "execution_count": 21,
   "id": "e936246b",
   "metadata": {
    "scrolled": true
   },
   "outputs": [
    {
     "name": "stdout",
     "output_type": "stream",
     "text": [
      "Logistic Regression (TF-IDF) Classification Report:\n",
      "              precision    recall  f1-score   support\n",
      "\n",
      "    negative       0.45      1.00      0.62         9\n",
      "    positive       0.00      0.00      0.00        11\n",
      "\n",
      "    accuracy                           0.45        20\n",
      "   macro avg       0.23      0.50      0.31        20\n",
      "weighted avg       0.20      0.45      0.28        20\n",
      "\n"
     ]
    },
    {
     "name": "stderr",
     "output_type": "stream",
     "text": [
      "C:\\Users\\matth\\anaconda3\\Lib\\site-packages\\sklearn\\metrics\\_classification.py:1509: UndefinedMetricWarning: Precision is ill-defined and being set to 0.0 in labels with no predicted samples. Use `zero_division` parameter to control this behavior.\n",
      "  _warn_prf(average, modifier, f\"{metric.capitalize()} is\", len(result))\n",
      "C:\\Users\\matth\\anaconda3\\Lib\\site-packages\\sklearn\\metrics\\_classification.py:1509: UndefinedMetricWarning: Precision is ill-defined and being set to 0.0 in labels with no predicted samples. Use `zero_division` parameter to control this behavior.\n",
      "  _warn_prf(average, modifier, f\"{metric.capitalize()} is\", len(result))\n",
      "C:\\Users\\matth\\anaconda3\\Lib\\site-packages\\sklearn\\metrics\\_classification.py:1509: UndefinedMetricWarning: Precision is ill-defined and being set to 0.0 in labels with no predicted samples. Use `zero_division` parameter to control this behavior.\n",
      "  _warn_prf(average, modifier, f\"{metric.capitalize()} is\", len(result))\n"
     ]
    }
   ],
   "source": [
    "# Initialize the Logistic Regression model\n",
    "log_reg_tfidf = LogisticRegression(max_iter=1000)\n",
    "\n",
    "# Train the model\n",
    "log_reg_tfidf.fit(X_train_tfidf, y_train)\n",
    "\n",
    "# Make predictions\n",
    "y_pred_log_reg_tfidf = log_reg_tfidf.predict(X_test_tfidf)\n",
    "\n",
    "# Evaluate the model\n",
    "print(\"Logistic Regression (TF-IDF) Classification Report:\")\n",
    "print(classification_report(y_test, y_pred_log_reg_tfidf))"
   ]
  },
  {
   "cell_type": "markdown",
   "id": "d3b88ea2",
   "metadata": {},
   "source": [
    "## Naive-Bayes"
   ]
  },
  {
   "cell_type": "code",
   "execution_count": 23,
   "id": "c9b26651",
   "metadata": {},
   "outputs": [
    {
     "name": "stdout",
     "output_type": "stream",
     "text": [
      "Naive Bayes (TF-IDF) Classification Report:\n",
      "              precision    recall  f1-score   support\n",
      "\n",
      "    negative       0.45      1.00      0.62         9\n",
      "    positive       0.00      0.00      0.00        11\n",
      "\n",
      "    accuracy                           0.45        20\n",
      "   macro avg       0.23      0.50      0.31        20\n",
      "weighted avg       0.20      0.45      0.28        20\n",
      "\n"
     ]
    },
    {
     "name": "stderr",
     "output_type": "stream",
     "text": [
      "C:\\Users\\matth\\anaconda3\\Lib\\site-packages\\sklearn\\metrics\\_classification.py:1509: UndefinedMetricWarning: Precision is ill-defined and being set to 0.0 in labels with no predicted samples. Use `zero_division` parameter to control this behavior.\n",
      "  _warn_prf(average, modifier, f\"{metric.capitalize()} is\", len(result))\n",
      "C:\\Users\\matth\\anaconda3\\Lib\\site-packages\\sklearn\\metrics\\_classification.py:1509: UndefinedMetricWarning: Precision is ill-defined and being set to 0.0 in labels with no predicted samples. Use `zero_division` parameter to control this behavior.\n",
      "  _warn_prf(average, modifier, f\"{metric.capitalize()} is\", len(result))\n",
      "C:\\Users\\matth\\anaconda3\\Lib\\site-packages\\sklearn\\metrics\\_classification.py:1509: UndefinedMetricWarning: Precision is ill-defined and being set to 0.0 in labels with no predicted samples. Use `zero_division` parameter to control this behavior.\n",
      "  _warn_prf(average, modifier, f\"{metric.capitalize()} is\", len(result))\n"
     ]
    }
   ],
   "source": [
    "# Initialize the Naive Bayes model\n",
    "nb_tfidf = MultinomialNB()\n",
    "\n",
    "# Train the model\n",
    "nb_tfidf.fit(X_train_tfidf, y_train)\n",
    "\n",
    "# Make predictions\n",
    "y_pred_nb_tfidf = nb_tfidf.predict(X_test_tfidf)\n",
    "\n",
    "# Evaluate the model\n",
    "print(\"Naive Bayes (TF-IDF) Classification Report:\")\n",
    "print(classification_report(y_test, y_pred_nb_tfidf))\n"
   ]
  },
  {
   "cell_type": "markdown",
   "id": "3fdddcc8-c995-4cb9-bec6-a5ed9ac28c0f",
   "metadata": {},
   "source": [
    "## Decision Tree"
   ]
  },
  {
   "cell_type": "code",
   "execution_count": 25,
   "id": "f1785cec-84d1-4645-98a2-919986c2ecd4",
   "metadata": {
    "scrolled": true
   },
   "outputs": [
    {
     "name": "stdout",
     "output_type": "stream",
     "text": [
      "Decision Tree (TF-IDF) Classification Report:\n",
      "              precision    recall  f1-score   support\n",
      "\n",
      "    negative       0.55      0.67      0.60         9\n",
      "    positive       0.67      0.55      0.60        11\n",
      "\n",
      "    accuracy                           0.60        20\n",
      "   macro avg       0.61      0.61      0.60        20\n",
      "weighted avg       0.61      0.60      0.60        20\n",
      "\n"
     ]
    }
   ],
   "source": [
    "# Initialize the Decision Tree model\n",
    "dt_tfidf = DecisionTreeClassifier()\n",
    "\n",
    "# Train the model\n",
    "dt_tfidf.fit(X_train_tfidf, y_train)\n",
    "\n",
    "# Make predictions\n",
    "y_pred_dt_tfidf = dt_tfidf.predict(X_test_tfidf)\n",
    "\n",
    "# Evaluate the model\n",
    "print(\"Decision Tree (TF-IDF) Classification Report:\")\n",
    "print(classification_report(y_test, y_pred_dt_tfidf))\n"
   ]
  },
  {
   "cell_type": "markdown",
   "id": "f37c5633-c2aa-438f-a603-ae911b9a2d38",
   "metadata": {},
   "source": [
    "## Gradient Boosting (XGBoost)"
   ]
  },
  {
   "cell_type": "code",
   "execution_count": 26,
   "id": "80678e9c-9407-4b8b-a0a8-fd7ce5602ac8",
   "metadata": {},
   "outputs": [
    {
     "name": "stdout",
     "output_type": "stream",
     "text": [
      "XGBoost (TF-IDF) Classification Report:\n",
      "              precision    recall  f1-score   support\n",
      "\n",
      "    negative       0.67      0.44      0.53         9\n",
      "    positive       0.64      0.82      0.72        11\n",
      "\n",
      "    accuracy                           0.65        20\n",
      "   macro avg       0.65      0.63      0.63        20\n",
      "weighted avg       0.65      0.65      0.64        20\n",
      "\n"
     ]
    }
   ],
   "source": [
    "# Convert string labels ('negative', 'positive') to numeric (0,1)\n",
    "label_encoder = LabelEncoder()\n",
    "y_train_encoded = label_encoder.fit_transform(y_train)  # Convert y_train\n",
    "y_test_encoded = label_encoder.transform(y_test)        # Convert y_test\n",
    "\n",
    "# Initialize XGBoost model\n",
    "xgb_tfidf = XGBClassifier(eval_metric='logloss', random_state=42)\n",
    "\n",
    "# Train the model\n",
    "xgb_tfidf.fit(X_train_tfidf, y_train_encoded)\n",
    "\n",
    "# Make predictions\n",
    "y_pred_xgb_tfidf = xgb_tfidf.predict(X_test_tfidf)\n",
    "\n",
    "# Convert predictions back to original labels (optional)\n",
    "y_pred_xgb_tfidf_labels = label_encoder.inverse_transform(y_pred_xgb_tfidf)\n",
    "\n",
    "# Evaluate the model\n",
    "print(\"XGBoost (TF-IDF) Classification Report:\")\n",
    "print(classification_report(y_test, y_pred_xgb_tfidf_labels))"
   ]
  },
  {
   "cell_type": "markdown",
   "id": "dc44aafa-46c1-42f7-91b3-ebd78d3acd02",
   "metadata": {},
   "source": [
    "## Gradient Boosting (LightGBM)"
   ]
  },
  {
   "cell_type": "code",
   "execution_count": 59,
   "id": "11abc662-f40b-4078-be85-1d328ac55843",
   "metadata": {
    "scrolled": true
   },
   "outputs": [
    {
     "name": "stdout",
     "output_type": "stream",
     "text": [
      "LightGBM (TF-IDF) Classification Report:\n",
      "              precision    recall  f1-score   support\n",
      "\n",
      "    negative       0.67      0.67      0.67         9\n",
      "    positive       0.73      0.73      0.73        11\n",
      "\n",
      "    accuracy                           0.70        20\n",
      "   macro avg       0.70      0.70      0.70        20\n",
      "weighted avg       0.70      0.70      0.70        20\n",
      "\n"
     ]
    }
   ],
   "source": [
    "# Initialize the LightGBM model\n",
    "lgb_tfidf = lgb.LGBMClassifier(verbose=-1)\n",
    "\n",
    "# Train the model\n",
    "lgb_tfidf.fit(X_train_tfidf, y_train_encoded)\n",
    "\n",
    "# Make predictions\n",
    "y_pred_lgb_tfidf = lgb_tfidf.predict(X_test_tfidf)\n",
    "\n",
    "# Convert predictions back to original labels (optional)\n",
    "y_pred_lgb_tfidf_labels = label_encoder.inverse_transform(y_pred_lgb_tfidf)\n",
    "\n",
    "# Evaluate the model\n",
    "print(\"LightGBM (TF-IDF) Classification Report:\")\n",
    "print(classification_report(y_test, y_pred_lgb_tfidf_labels))\n"
   ]
  },
  {
   "cell_type": "markdown",
   "id": "a236af7b-984c-4940-8dde-b45e71a13b8e",
   "metadata": {},
   "source": [
    "## Random Forest"
   ]
  },
  {
   "cell_type": "code",
   "execution_count": 68,
   "id": "3a234541-c29b-4055-adfd-69e373b66267",
   "metadata": {},
   "outputs": [
    {
     "name": "stdout",
     "output_type": "stream",
     "text": [
      "Random Forest (TF-IDF) Classification Report:\n",
      "              precision    recall  f1-score   support\n",
      "\n",
      "    negative       0.45      1.00      0.62         9\n",
      "    positive       0.00      0.00      0.00        11\n",
      "\n",
      "    accuracy                           0.45        20\n",
      "   macro avg       0.23      0.50      0.31        20\n",
      "weighted avg       0.20      0.45      0.28        20\n",
      "\n"
     ]
    },
    {
     "name": "stderr",
     "output_type": "stream",
     "text": [
      "C:\\Users\\matth\\anaconda3\\Lib\\site-packages\\sklearn\\metrics\\_classification.py:1509: UndefinedMetricWarning: Precision is ill-defined and being set to 0.0 in labels with no predicted samples. Use `zero_division` parameter to control this behavior.\n",
      "  _warn_prf(average, modifier, f\"{metric.capitalize()} is\", len(result))\n",
      "C:\\Users\\matth\\anaconda3\\Lib\\site-packages\\sklearn\\metrics\\_classification.py:1509: UndefinedMetricWarning: Precision is ill-defined and being set to 0.0 in labels with no predicted samples. Use `zero_division` parameter to control this behavior.\n",
      "  _warn_prf(average, modifier, f\"{metric.capitalize()} is\", len(result))\n",
      "C:\\Users\\matth\\anaconda3\\Lib\\site-packages\\sklearn\\metrics\\_classification.py:1509: UndefinedMetricWarning: Precision is ill-defined and being set to 0.0 in labels with no predicted samples. Use `zero_division` parameter to control this behavior.\n",
      "  _warn_prf(average, modifier, f\"{metric.capitalize()} is\", len(result))\n"
     ]
    }
   ],
   "source": [
    "from sklearn.ensemble import RandomForestClassifier\n",
    "\n",
    "# Initialize the Random Forest model\n",
    "rf_tfidf = RandomForestClassifier(n_estimators=100, random_state=42)\n",
    "\n",
    "# Train the model\n",
    "rf_tfidf.fit(X_train_tfidf, y_train_encoded)\n",
    "\n",
    "# Make predictions\n",
    "y_pred_rf_tfidf = rf_tfidf.predict(X_test_tfidf)\n",
    "\n",
    "# Convert predictions back to original labels (optional)\n",
    "y_pred_rf_tfidf_labels = label_encoder.inverse_transform(y_pred_rf_tfidf)\n",
    "\n",
    "# Evaluate the model\n",
    "print(\"Random Forest (TF-IDF) Classification Report:\")\n",
    "print(classification_report(y_test, y_pred_rf_tfidf_labels))\n"
   ]
  }
 ],
 "metadata": {
  "kernelspec": {
   "display_name": "Python 3 (ipykernel)",
   "language": "python",
   "name": "python3"
  },
  "language_info": {
   "codemirror_mode": {
    "name": "ipython",
    "version": 3
   },
   "file_extension": ".py",
   "mimetype": "text/x-python",
   "name": "python",
   "nbconvert_exporter": "python",
   "pygments_lexer": "ipython3",
   "version": "3.12.4"
  }
 },
 "nbformat": 4,
 "nbformat_minor": 5
}
