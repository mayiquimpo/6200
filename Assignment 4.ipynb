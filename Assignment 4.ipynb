{
 "cells": [
  {
   "cell_type": "markdown",
   "id": "91af00fa-f4b2-4b19-b1fe-9a01e2963117",
   "metadata": {},
   "source": [
    "# Assignment 4"
   ]
  },
  {
   "cell_type": "code",
   "execution_count": 19,
   "id": "6888d093-d9a2-442a-8ec8-b6964ed318b1",
   "metadata": {},
   "outputs": [],
   "source": [
    "import numpy as np\n",
    "import pandas as pd\n",
    "import spacy\n",
    "from spacy import displacy\n",
    "from spacy.tokens import Doc\n",
    "nlp_core = spacy.load(\"en_core_web_sm\")\n",
    "nlp = spacy.load(\"en_core_web_sm\")\n",
    "import json\n",
    "from datasets import load_dataset"
   ]
  },
  {
   "cell_type": "code",
   "execution_count": 3,
   "id": "3902eede-4fd6-4658-994f-5d3ae2b49763",
   "metadata": {},
   "outputs": [
    {
     "name": "stdout",
     "output_type": "stream",
     "text": [
      "DatasetDict({\n",
      "    train: Dataset({\n",
      "        features: ['doc_id', 'sent_num', 'sentence', 'doc_title', 'score', 'entity_type', 'entity_text', 'start_char', 'end_char', 'tokens', 'raw_tags', 'ner_tags'],\n",
      "        num_rows: 3515149\n",
      "    })\n",
      "})\n"
     ]
    }
   ],
   "source": [
    "dataset = load_dataset(\"imvladikon/english_news_weak_ner\", \"entities\")\n",
    "print(dataset)"
   ]
  },
  {
   "cell_type": "code",
   "execution_count": 4,
   "id": "33569914-e3dd-4310-8f34-9449c3ea9c09",
   "metadata": {},
   "outputs": [],
   "source": [
    "# Retrieve the entity label names from the dataset\n",
    "labels = dataset[\"train\"].features[\"ner_tags\"].feature.names\n",
    "\n",
    "# Function to convert numerical NER tags into human-readable labels\n",
    "def decode_ner_tags(example):\n",
    "    example[\"ner_labels\"] = [labels[tag] for tag in example[\"ner_tags\"]]\n",
    "    return example\n",
    "\n",
    "# Apply the function to all data splits\n",
    "dataset = dataset.map(decode_ner_tags)"
   ]
  },
  {
   "cell_type": "code",
   "execution_count": 11,
   "id": "2d16a190-0b23-49c6-96da-37b01738f4cb",
   "metadata": {},
   "outputs": [],
   "source": [
    "train_dataset = dataset[\"train\"]\n",
    "df = train_dataset.to_pandas()"
   ]
  },
  {
   "cell_type": "code",
   "execution_count": 15,
   "id": "34189ffd-5060-43f3-b390-72ed0ec0ee45",
   "metadata": {},
   "outputs": [
    {
     "name": "stdout",
     "output_type": "stream",
     "text": [
      "Number of unique documents: 309897\n"
     ]
    }
   ],
   "source": [
    "# Count unique document IDs\n",
    "num_documents = df[\"doc_id\"].nunique()\n",
    "print(f\"Number of unique documents: {num_documents}\")"
   ]
  },
  {
   "cell_type": "code",
   "execution_count": 37,
   "id": "8702860e-6d96-44c9-8881-1bbe47e614b6",
   "metadata": {},
   "outputs": [
    {
     "data": {
      "text/html": [
       "<span class=\"tex2jax_ignore\"><div class=\"entities\" style=\"line-height: 2.5; direction: ltr\">Net income probably declined to 1.08 billion euros ($1.6<br>billion) from 1.24 billion euros a year earlier, according to<br>the average estimate in a Bloomberg survey of \n",
       "<mark class=\"entity\" style=\"background: #ddd; padding: 0.45em 0.6em; margin: 0 0.25em; line-height: 1; border-radius: 0.35em;\">\n",
       "    six analysts\n",
       "    <span style=\"font-size: 0.8em; font-weight: bold; line-height: 1; border-radius: 0.35em; vertical-align: middle; margin-left: 0.5rem\">B-QTY</span>\n",
       "</mark>\n",
       ".</div></span>"
      ],
      "text/plain": [
       "<IPython.core.display.HTML object>"
      ]
     },
     "metadata": {},
     "output_type": "display_data"
    }
   ],
   "source": [
    "import spacy\n",
    "from spacy.tokens import Doc\n",
    "from spacy import displacy\n",
    "\n",
    "# Load a blank spaCy model\n",
    "nlp = spacy.blank(\"en\")\n",
    "\n",
    "# Function to visualize Named Entities\n",
    "def visualize_ner(example):\n",
    "    tokens = example[\"tokens\"]\n",
    "    labels = example[\"ner_labels\"]\n",
    "    start_chars = example[\"start_char\"]\n",
    "    end_chars = example[\"end_char\"]\n",
    "\n",
    "    # Convert entity positions into spaCy's expected format\n",
    "    ents = []\n",
    "    for start, end, label in zip(start_chars, end_chars, labels):\n",
    "        if label != \"O\":  # Ignore \"O\" (Outside) labels\n",
    "            ents.append(nlp.make_doc(example[\"sentence\"]).char_span(start, end, label=label))\n",
    "\n",
    "    # Create a spaCy Doc object\n",
    "    doc = nlp.make_doc(example[\"sentence\"])\n",
    "\n",
    "    # Assign named entities (filter out None values)\n",
    "    doc.ents = [ent for ent in ents if ent is not None]\n",
    "\n",
    "    # Render visualization in Jupyter Notebook\n",
    "    displacy.render(doc, style=\"ent\", jupyter=True)\n",
    "\n",
    "# Display the first example with highlighted named entities\n",
    "visualize_ner(dataset[\"train\"][1])"
   ]
  }
 ],
 "metadata": {
  "kernelspec": {
   "display_name": "Python [conda env:base] *",
   "language": "python",
   "name": "conda-base-py"
  },
  "language_info": {
   "codemirror_mode": {
    "name": "ipython",
    "version": 3
   },
   "file_extension": ".py",
   "mimetype": "text/x-python",
   "name": "python",
   "nbconvert_exporter": "python",
   "pygments_lexer": "ipython3",
   "version": "3.12.4"
  }
 },
 "nbformat": 4,
 "nbformat_minor": 5
}
