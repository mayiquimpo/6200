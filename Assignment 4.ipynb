{
 "cells": [
  {
   "cell_type": "markdown",
   "id": "91af00fa-f4b2-4b19-b1fe-9a01e2963117",
   "metadata": {},
   "source": [
    "# Assignment 4"
   ]
  },
  {
   "cell_type": "code",
   "execution_count": 1,
   "id": "6888d093-d9a2-442a-8ec8-b6964ed318b1",
   "metadata": {
    "scrolled": true
   },
   "outputs": [],
   "source": [
    "import numpy as np\n",
    "import pandas as pd\n",
    "import spacy\n",
    "from spacy import displacy\n",
    "from spacy.tokens import Doc\n",
    "nlp_core = spacy.load(\"en_core_web_sm\")\n",
    "nlp = spacy.load(\"en_core_web_sm\")\n",
    "import json\n",
    "from datasets import load_dataset"
   ]
  },
  {
   "cell_type": "code",
   "execution_count": 2,
   "id": "3902eede-4fd6-4658-994f-5d3ae2b49763",
   "metadata": {},
   "outputs": [
    {
     "data": {
      "application/vnd.jupyter.widget-view+json": {
       "model_id": "3a525e07e39f41969acbb0feea899c43",
       "version_major": 2,
       "version_minor": 0
      },
      "text/plain": [
       "README.md:   0%|          | 0.00/39.4k [00:00<?, ?B/s]"
      ]
     },
     "metadata": {},
     "output_type": "display_data"
    },
    {
     "data": {
      "application/vnd.jupyter.widget-view+json": {
       "model_id": "e9d336454d6448488907901627cf4948",
       "version_major": 2,
       "version_minor": 0
      },
      "text/plain": [
       "(…)-00000-of-00008-9031817eeadfc5f6.parquet:   0%|          | 0.00/127M [00:00<?, ?B/s]"
      ]
     },
     "metadata": {},
     "output_type": "display_data"
    },
    {
     "data": {
      "application/vnd.jupyter.widget-view+json": {
       "model_id": "95c270f9ac1b41cd9cdda69d093be197",
       "version_major": 2,
       "version_minor": 0
      },
      "text/plain": [
       "(…)-00001-of-00008-af757022b3465153.parquet:   0%|          | 0.00/123M [00:00<?, ?B/s]"
      ]
     },
     "metadata": {},
     "output_type": "display_data"
    },
    {
     "data": {
      "application/vnd.jupyter.widget-view+json": {
       "model_id": "1f93874f905f4018b6cb5294eb9d8aaa",
       "version_major": 2,
       "version_minor": 0
      },
      "text/plain": [
       "(…)-00002-of-00008-1c04f721edf1ff32.parquet:   0%|          | 0.00/120M [00:00<?, ?B/s]"
      ]
     },
     "metadata": {},
     "output_type": "display_data"
    },
    {
     "data": {
      "application/vnd.jupyter.widget-view+json": {
       "model_id": "53da6047b3424468be8b28b795ace576",
       "version_major": 2,
       "version_minor": 0
      },
      "text/plain": [
       "(…)-00003-of-00008-df1f9a25e858e6b6.parquet:   0%|          | 0.00/120M [00:00<?, ?B/s]"
      ]
     },
     "metadata": {},
     "output_type": "display_data"
    },
    {
     "data": {
      "application/vnd.jupyter.widget-view+json": {
       "model_id": "774469dd977547789327a62f58d3b71c",
       "version_major": 2,
       "version_minor": 0
      },
      "text/plain": [
       "(…)-00004-of-00008-cf4cd100553d61c0.parquet:   0%|          | 0.00/119M [00:00<?, ?B/s]"
      ]
     },
     "metadata": {},
     "output_type": "display_data"
    },
    {
     "data": {
      "application/vnd.jupyter.widget-view+json": {
       "model_id": "99343e17f2524544888390f84c93c3a6",
       "version_major": 2,
       "version_minor": 0
      },
      "text/plain": [
       "(…)-00005-of-00008-d5b0ed5913b0d71b.parquet:   0%|          | 0.00/121M [00:00<?, ?B/s]"
      ]
     },
     "metadata": {},
     "output_type": "display_data"
    },
    {
     "data": {
      "application/vnd.jupyter.widget-view+json": {
       "model_id": "8de3ebba7a3149f1abbea8c9847ec601",
       "version_major": 2,
       "version_minor": 0
      },
      "text/plain": [
       "(…)-00006-of-00008-ed0ad4a0c990443d.parquet:   0%|          | 0.00/114M [00:00<?, ?B/s]"
      ]
     },
     "metadata": {},
     "output_type": "display_data"
    },
    {
     "data": {
      "application/vnd.jupyter.widget-view+json": {
       "model_id": "0178987d3fab4cc097101ad3455d7d28",
       "version_major": 2,
       "version_minor": 0
      },
      "text/plain": [
       "(…)-00007-of-00008-dac1325602e80645.parquet:   0%|          | 0.00/122M [00:00<?, ?B/s]"
      ]
     },
     "metadata": {},
     "output_type": "display_data"
    },
    {
     "data": {
      "application/vnd.jupyter.widget-view+json": {
       "model_id": "289db6c8c8a041b7b0cc70ff40c11b79",
       "version_major": 2,
       "version_minor": 0
      },
      "text/plain": [
       "Generating train split:   0%|          | 0/3515149 [00:00<?, ? examples/s]"
      ]
     },
     "metadata": {},
     "output_type": "display_data"
    },
    {
     "name": "stdout",
     "output_type": "stream",
     "text": [
      "DatasetDict({\n",
      "    train: Dataset({\n",
      "        features: ['doc_id', 'sent_num', 'sentence', 'doc_title', 'score', 'entity_type', 'entity_text', 'start_char', 'end_char', 'tokens', 'raw_tags', 'ner_tags'],\n",
      "        num_rows: 3515149\n",
      "    })\n",
      "})\n"
     ]
    }
   ],
   "source": [
    "dataset = load_dataset(\"imvladikon/english_news_weak_ner\", \"entities\")\n",
    "print(dataset)"
   ]
  },
  {
   "cell_type": "code",
   "execution_count": 3,
   "id": "33569914-e3dd-4310-8f34-9449c3ea9c09",
   "metadata": {},
   "outputs": [
    {
     "data": {
      "application/vnd.jupyter.widget-view+json": {
       "model_id": "30f4096f10f24efe82bd0268fdee9fc4",
       "version_major": 2,
       "version_minor": 0
      },
      "text/plain": [
       "Map:   0%|          | 0/3515149 [00:00<?, ? examples/s]"
      ]
     },
     "metadata": {},
     "output_type": "display_data"
    }
   ],
   "source": [
    "# Retrieve the entity label names from the dataset\n",
    "labels = dataset[\"train\"].features[\"ner_tags\"].feature.names\n",
    "\n",
    "# Function to convert numerical NER tags into human-readable labels\n",
    "def decode_ner_tags(example):\n",
    "    example[\"ner_labels\"] = [labels[tag] for tag in example[\"ner_tags\"]]\n",
    "    return example\n",
    "\n",
    "# Apply the function to all data splits\n",
    "dataset = dataset.map(decode_ner_tags)"
   ]
  },
  {
   "cell_type": "code",
   "execution_count": 7,
   "id": "d5544208",
   "metadata": {},
   "outputs": [
    {
     "name": "stdout",
     "output_type": "stream",
     "text": [
      "Entity Types in the Dataset: ['B-DATE', 'I-DATE', 'L-DATE', 'U-DATE', 'B-DUC', 'I-DUC', 'L-DUC', 'U-DUC', 'B-EVE', 'I-EVE', 'L-EVE', 'U-EVE', 'B-LOC', 'I-LOC', 'L-LOC', 'U-LOC', 'B-MISC', 'I-MISC', 'L-MISC', 'U-MISC', 'B-ORG', 'I-ORG', 'L-ORG', 'U-ORG', 'B-PER', 'I-PER', 'L-PER', 'U-PER', 'B-QTY', 'I-QTY', 'L-QTY', 'U-QTY', 'B-TTL', 'I-TTL', 'L-TTL', 'U-TTL', 'O']\n"
     ]
    }
   ],
   "source": [
    "print(\"Entity Types in the Dataset:\", labels)\n"
   ]
  },
  {
   "cell_type": "code",
   "execution_count": 4,
   "id": "2d16a190-0b23-49c6-96da-37b01738f4cb",
   "metadata": {},
   "outputs": [],
   "source": [
    "train_dataset = dataset[\"train\"]\n",
    "df = train_dataset.to_pandas()"
   ]
  },
  {
   "cell_type": "code",
   "execution_count": 5,
   "id": "34189ffd-5060-43f3-b390-72ed0ec0ee45",
   "metadata": {},
   "outputs": [
    {
     "name": "stdout",
     "output_type": "stream",
     "text": [
      "Number of unique documents: 309897\n"
     ]
    }
   ],
   "source": [
    "# Count unique document IDs\n",
    "num_documents = df[\"doc_id\"].nunique()\n",
    "print(f\"Number of unique documents: {num_documents}\")"
   ]
  },
  {
   "cell_type": "code",
   "execution_count": 6,
   "id": "8702860e-6d96-44c9-8881-1bbe47e614b6",
   "metadata": {
    "scrolled": true
   },
   "outputs": [
    {
     "data": {
      "text/html": [
       "<span class=\"tex2jax_ignore\"><div class=\"entities\" style=\"line-height: 2.5; direction: ltr\">Net income probably declined to 1.08 billion euros ($1.6<br>billion) from 1.24 billion euros a year earlier, according to<br>the average estimate in a Bloomberg survey of \n",
       "<mark class=\"entity\" style=\"background: #ddd; padding: 0.45em 0.6em; margin: 0 0.25em; line-height: 1; border-radius: 0.35em;\">\n",
       "    six analysts\n",
       "    <span style=\"font-size: 0.8em; font-weight: bold; line-height: 1; border-radius: 0.35em; vertical-align: middle; margin-left: 0.5rem\">B-QTY</span>\n",
       "</mark>\n",
       ".</div></span>"
      ],
      "text/plain": [
       "<IPython.core.display.HTML object>"
      ]
     },
     "metadata": {},
     "output_type": "display_data"
    }
   ],
   "source": [
    "import spacy\n",
    "from spacy.tokens import Doc\n",
    "from spacy import displacy\n",
    "\n",
    "# Load a blank spaCy model\n",
    "nlp = spacy.blank(\"en\")\n",
    "\n",
    "# Function to visualize Named Entities\n",
    "def visualize_ner(example):\n",
    "    tokens = example[\"tokens\"]\n",
    "    labels = example[\"ner_labels\"]\n",
    "    start_chars = example[\"start_char\"]\n",
    "    end_chars = example[\"end_char\"]\n",
    "\n",
    "    # Convert entity positions into spaCy's expected format\n",
    "    ents = []\n",
    "    for start, end, label in zip(start_chars, end_chars, labels):\n",
    "        if label != \"O\":  # Ignore \"O\" (Outside) labels\n",
    "            ents.append(nlp.make_doc(example[\"sentence\"]).char_span(start, end, label=label))\n",
    "\n",
    "    # Create a spaCy Doc object\n",
    "    doc = nlp.make_doc(example[\"sentence\"])\n",
    "\n",
    "    # Assign named entities (filter out None values)\n",
    "    doc.ents = [ent for ent in ents if ent is not None]\n",
    "\n",
    "    # Render visualization in Jupyter Notebook\n",
    "    displacy.render(doc, style=\"ent\", jupyter=True)\n",
    "\n",
    "# Display the first example with highlighted named entities\n",
    "visualize_ner(dataset[\"train\"][1])"
   ]
  },
  {
   "cell_type": "code",
   "execution_count": 10,
   "id": "e1ff8c28",
   "metadata": {},
   "outputs": [
    {
     "name": "stdout",
     "output_type": "stream",
     "text": [
      "             Text Span Model Prediction Expected Label\n",
      "0                   \\n              N/A          I-QTY\n",
      "1                   \\n              N/A              O\n",
      "2                    $              N/A          B-QTY\n",
      "3        $1.6\\nbillion            MONEY            N/A\n",
      "4                    (              N/A              O\n",
      "5                    )              N/A              O\n",
      "6                    ,              N/A              O\n",
      "7                    .              N/A              O\n",
      "8                 1.08              N/A          B-QTY\n",
      "9   1.08 billion euros            MONEY            N/A\n",
      "10                1.24              N/A          B-QTY\n",
      "11        1.24 billion            MONEY            N/A\n",
      "12                 1.6              N/A          I-QTY\n",
      "13           Bloomberg              GPE          U-ORG\n",
      "14                 Net              N/A              O\n",
      "15                   a              N/A         B-DATE\n",
      "16                   a              N/A              O\n",
      "17      a year earlier             DATE            N/A\n",
      "18           according              N/A              O\n",
      "19            analysts              N/A          L-QTY\n",
      "20             average              N/A              O\n",
      "21             billion              N/A          I-QTY\n",
      "22             billion              N/A          L-QTY\n",
      "23             billion              N/A          I-QTY\n",
      "24            declined              N/A              O\n",
      "25             earlier              N/A         L-DATE\n",
      "26            estimate              N/A              O\n",
      "27               euros              N/A          L-QTY\n",
      "28               euros              N/A          L-QTY\n",
      "29                from              N/A              O\n",
      "30                  in              N/A              O\n",
      "31              income              N/A              O\n",
      "32                  of              N/A              O\n",
      "33            probably              N/A              O\n",
      "34                 six         CARDINAL          B-QTY\n",
      "35              survey              N/A              O\n",
      "36                 the              N/A              O\n",
      "37                  to              N/A              O\n",
      "38                  to              N/A              O\n",
      "39                year              N/A         I-DATE\n"
     ]
    }
   ],
   "source": [
    "# Function to apply the pretrained model and display structured results\n",
    "def evaluate_ner_predictions(example):\n",
    "    text = example[\"sentence\"]\n",
    "    doc = nlp_core(text)  # Use pretrained model\n",
    "    predictions = [(ent.text, ent.label_) for ent in doc.ents]  # Extract model-predicted entities\n",
    "\n",
    "    # Compare with dataset labels\n",
    "    expected_entities = list(zip(example[\"tokens\"], example[\"ner_labels\"]))\n",
    "\n",
    "    # Convert to DataFrame for better readability\n",
    "    df_results = pd.DataFrame(predictions, columns=[\"Text Span\", \"Model Prediction\"])\n",
    "    df_expected = pd.DataFrame(expected_entities, columns=[\"Text Span\", \"Expected Label\"])\n",
    "\n",
    "    # Merge for side-by-side comparison\n",
    "    results_df = df_results.merge(df_expected, on=\"Text Span\", how=\"outer\").fillna(\"N/A\")\n",
    "\n",
    "    print(results_df)\n",
    "\n",
    "# Test on a sample\n",
    "evaluate_ner_predictions(dataset[\"train\"][1])"
   ]
  },
  {
   "cell_type": "code",
   "execution_count": 16,
   "id": "7d467824",
   "metadata": {
    "scrolled": false
   },
   "outputs": [
    {
     "name": "stdout",
     "output_type": "stream",
     "text": [
      "                                                text  \\\n",
      "0  -- \\n2011-05-04T07:24:07Z\\n\\n-- http://www.blo...   \n",
      "1  Net income probably declined to 1.08 billion e...   \n",
      "2  The\\nBilbao, Spain-based lender is scheduled t...   \n",
      "3  Spanish banks have been hurt by weakening cred...   \n",
      "4  BBVA, led by Chairman  Francisco Gonzalez ,\\nc...   \n",
      "5  “The news from Spain won’t be good, but there ...   \n",
      "6  “All the big Spanish companies, and that\\nincl...   \n",
      "7  Banco Santander SA (SAN) , Spain’s\\nlargest ba...   \n",
      "8  Mexican Gains  Profit from BBVA’s Spain-domina...   \n",
      "9  Spain and Portugal together accounted for 45\\n...   \n",
      "\n",
      "                                        manual_label  \\\n",
      "0                                                 []   \n",
      "1  [(Net income, MONEY), (euros, MONEY), (Bloombe...   \n",
      "2                      [(Bilbao, GPE), (Spain, GPE)]   \n",
      "3                             [(Spanish banks, ORG)]   \n",
      "4  [(BBVA, ORG), (Francisco Gonzalez, PERSON), ($...   \n",
      "5  [(Spain, GPE), (Mexico, GPE), (Pablo Garcia, P...   \n",
      "6  [(Spanish companies, ORG), (BBVA, ORG), (Spain...   \n",
      "7  [(Banco Santander SA (SAN), ORG), (Spain, GPE)...   \n",
      "8  [(BBVA, ORG), (Spain, GPE), (Iberian business,...   \n",
      "9      [(Spain, GPE), (Portugal, GPE), (2010, TIME)]   \n",
      "\n",
      "                                    model_prediction  \n",
      "0  [(2011-05-04T07:24:07Z, DATE), (Banco Bilbao V...  \n",
      "1  [(1.08 billion euros, MONEY), ($1.6\\nbillion, ...  \n",
      "2  [(Bilbao, GPE), (Spain, GPE), (first-quarter, ...  \n",
      "3                                  [(Spanish, NORP)]  \n",
      "4  [(BBVA, ORG), (Francisco Gonzalez, PERSON), ($...  \n",
      "5  [(Spain, GPE), (Mexico, GPE), (Pablo Garcia, P...  \n",
      "6  [(Spanish, NORP), (BBVA, ORG), (Spain, GPE), (...  \n",
      "7  [(Banco Santander SA, ORG), (Spain, GPE), (Apr...  \n",
      "8  [(Mexican, NORP), (BBVA, ORG), (Spain, GPE), (...  \n",
      "9  [(Spain, GPE), (Portugal, GPE), (45\\npercent, ...  \n"
     ]
    }
   ],
   "source": [
    "# Function to process text and extract entities\n",
    "def get_entities_from_text(text):\n",
    "    # Process the text with spaCy model\n",
    "    doc = nlp(text)\n",
    "    # Return a list of tuples with entity text and label\n",
    "    return [(ent.text, ent.label_) for ent in doc.ents]\n",
    "\n",
    "# Manually annotated sentences\n",
    "manual_annotations = [\n",
    "    (\"2011-05-04T07:24:07Z -- http://www.bloomberg.com/news/2011-05-04/bbva-is-said-to-announce-falling-profit-on-thursday.html\", []),\n",
    "    (\"Net income probably declined to 1.08 billion euros ($1.6 billion) from 1.24 billion euros a year earlier, according to the average estimate in a Bloomberg survey of six analysts.\", [(\"Net income\", \"MONEY\"), (\"euros\", \"MONEY\"), (\"Bloomberg\", \"ORG\"), (\"six analysts\", \"ORG\")]),\n",
    "    (\"The Bilbao, Spain-based lender is scheduled to report first-quarter results tomorrow before the stock market opens in Spain.\", [(\"Bilbao\", \"GPE\"), (\"Spain\", \"GPE\")]),\n",
    "    (\"Spanish banks have been hurt by weakening credit demand and souring loans in a domestic economy that’s still struggling to emerge from recession.\", [(\"Spanish banks\", \"ORG\")]),\n",
    "    (\"BBVA, led by Chairman Francisco Gonzalez, completed its $5.8 billion purchase of a 24.9 percent stake in Turkiye Garanti Bankasi AS (GARAN) in March as it expands outside Spain, adding Turkey to other emerging markets such as Mexico.\", [(\"BBVA\", \"ORG\"), (\"Francisco Gonzalez\", \"PERSON\"), (\"$5.8 billion\", \"MONEY\"), (\"Turkiye Garanti Bankasi AS (GARAN)\", \"ORG\"), (\"March\", \"TIME\"), (\"Spain\", \"GPE\"), (\"Turkey\", \"GPE\"), (\"Mexico\", \"GPE\")]),\n",
    "    (\"“The news from Spain won’t be good, but there probably won’t be nasty surprises while Mexico is showing interesting growth,” said Pablo Garcia, head of equities at Oddo Sociedad de Valores in Madrid.\", [(\"Spain\", \"GPE\"), (\"Mexico\", \"GPE\"), (\"Pablo Garcia\", \"PERSON\"), (\"Oddo Sociedad de Valores\", \"ORG\"), (\"Madrid\", \"GPE\")]),\n",
    "    (\"“All the big Spanish companies, and that includes BBVA, are at pains now to show that Spain is a diminishing part of their business.” BBVA shares have gained 14 percent this year, compared with a 2.9 percent advance in the 48-member Bloomberg Europe Banks and Financial Services Index.\", [(\"Spanish companies\", \"ORG\"), (\"BBVA\", \"ORG\"), (\"Spain\", \"GPE\"), (\"BBVA\", \"ORG\"), (\"Bloomberg\", \"ORG\"), (\"Europe\", \"GPE\")]),\n",
    "    (\"Banco Santander SA (SAN), Spain’s largest bank, which on April 28 reported a 5 percent drop in first-quarter profit, has risen 5.3 percent in 2011.\", [(\"Banco Santander SA (SAN)\", \"ORG\"), (\"Spain\", \"GPE\"), (\"April 28\", \"TIME\"), (\"2011\", \"TIME\")]),\n",
    "    (\"Mexican Gains Profit from BBVA’s Spain-dominated Iberian business may have dropped 33 percent from a year earlier to 394 million euros, according to estimates by Banco BPI SA (BPI) analyst Carlos Joaquim Peixoto.\", [(\"BBVA\", \"ORG\"), (\"Spain\", \"GPE\"), (\"Iberian business\", \"ORG\"), (\"Banco BPI SA (BPI)\", \"ORG\"), (\"Carlos Joaquim Peixoto\", \"PERSON\")]),\n",
    "    (\"Spain and Portugal together accounted for 45 percent of group profit in 2010.\", [(\"Spain\", \"GPE\"), (\"Portugal\", \"GPE\"), (\"2010\", \"TIME\")])\n",
    "]\n",
    "\n",
    "# Retrieve 10 random samples from the dataset\n",
    "sample_data = dataset[\"train\"].select(range(10))\n",
    "\n",
    "# Store annotations and predictions\n",
    "annotations = []\n",
    "\n",
    "for i, example in enumerate(sample_data):\n",
    "    text = example[\"sentence\"]\n",
    "    \n",
    "    # Get the manual annotations for the text\n",
    "    manual_annotation = manual_annotations[i][1]\n",
    "    \n",
    "    # Get the model's predictions\n",
    "    model_prediction = get_entities_from_text(text)\n",
    "    \n",
    "    # Store both manual annotations and model predictions\n",
    "    annotations.append({\n",
    "        \"text\": text,\n",
    "        \"manual_label\": manual_annotation,\n",
    "        \"model_prediction\": model_prediction\n",
    "    })\n",
    "\n",
    "# Convert to DataFrame for easy viewing\n",
    "df_manual = pd.DataFrame(annotations)\n",
    "print(df_manual)"
   ]
  }
 ],
 "metadata": {
  "kernelspec": {
   "display_name": "Python 3 (ipykernel)",
   "language": "python",
   "name": "python3"
  },
  "language_info": {
   "codemirror_mode": {
    "name": "ipython",
    "version": 3
   },
   "file_extension": ".py",
   "mimetype": "text/x-python",
   "name": "python",
   "nbconvert_exporter": "python",
   "pygments_lexer": "ipython3",
   "version": "3.11.5"
  }
 },
 "nbformat": 4,
 "nbformat_minor": 5
}
